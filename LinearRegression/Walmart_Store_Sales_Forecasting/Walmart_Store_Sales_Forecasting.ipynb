{
  "nbformat": 4,
  "nbformat_minor": 0,
  "metadata": {
    "colab": {
      "name": "Walmart Store Sales Forecasting - Colab.ipynb",
      "provenance": [],
      "collapsed_sections": [
        "4kDs9nHfNBob",
        "QTHSNVWsOtv7",
        "fx47kOPdsrqU",
        "V7joHq04aWTy"
      ],
      "toc_visible": true
    },
    "kernelspec": {
      "name": "python3",
      "display_name": "Python 3"
    }
  },
  "cells": [
    {
      "cell_type": "code",
      "metadata": {
        "id": "L3nBvU000W6P",
        "colab_type": "code",
        "outputId": "7f75664b-0a64-44da-bb50-60e61132a08c",
        "colab": {
          "base_uri": "https://localhost:8080/",
          "height": 74
        }
      },
      "source": [
        "import pandas as pd\n",
        "import numpy as np\n",
        "import pandas_profiling\n",
        "import seaborn as sns\n",
        "from sklearn import metrics\n",
        "from sklearn.model_selection import train_test_split\n",
        "from sklearn.ensemble import RandomForestRegressor\n",
        "from sklearn.metrics import mean_squared_error\n",
        "from datetime import datetime as dt\n",
        "from sklearn import metrics\n",
        "%matplotlib inline"
      ],
      "execution_count": 0,
      "outputs": [
        {
          "output_type": "stream",
          "text": [
            "/usr/local/lib/python3.6/dist-packages/statsmodels/tools/_testing.py:19: FutureWarning: pandas.util.testing is deprecated. Use the functions in the public API at pandas.testing instead.\n",
            "  import pandas.util.testing as tm\n"
          ],
          "name": "stderr"
        }
      ]
    },
    {
      "cell_type": "code",
      "metadata": {
        "id": "tMoSs-8B6v6t",
        "colab_type": "code",
        "outputId": "a107111a-0451-47a3-ea4d-307406e9dc82",
        "colab": {
          "base_uri": "https://localhost:8080/",
          "height": 128
        }
      },
      "source": [
        "from google.colab import drive\n",
        "drive.mount('/content/gdrive')"
      ],
      "execution_count": 0,
      "outputs": [
        {
          "output_type": "stream",
          "text": [
            "Go to this URL in a browser: https://accounts.google.com/o/oauth2/auth?client_id=947318989803-6bn6qk8qdgf4n4g3pfee6491hc0brc4i.apps.googleusercontent.com&redirect_uri=urn%3aietf%3awg%3aoauth%3a2.0%3aoob&response_type=code&scope=email%20https%3a%2f%2fwww.googleapis.com%2fauth%2fdocs.test%20https%3a%2f%2fwww.googleapis.com%2fauth%2fdrive%20https%3a%2f%2fwww.googleapis.com%2fauth%2fdrive.photos.readonly%20https%3a%2f%2fwww.googleapis.com%2fauth%2fpeopleapi.readonly\n",
            "\n",
            "Enter your authorization code:\n",
            "··········\n",
            "Mounted at /content/gdrive\n"
          ],
          "name": "stdout"
        }
      ]
    },
    {
      "cell_type": "code",
      "metadata": {
        "id": "IsOGo9aJPJkw",
        "colab_type": "code",
        "outputId": "01e91462-d18f-47a0-cd07-0f63932f0f44",
        "colab": {
          "base_uri": "https://localhost:8080/",
          "height": 35
        }
      },
      "source": [
        "%cd /content/gdrive/My Drive/Colab Notebooks/Walmart Store Sales Forecasting/data"
      ],
      "execution_count": 0,
      "outputs": [
        {
          "output_type": "stream",
          "text": [
            "/content/gdrive/My Drive/Colab Notebooks/Walmart Store Sales Forecasting/data\n"
          ],
          "name": "stdout"
        }
      ]
    },
    {
      "cell_type": "markdown",
      "metadata": {
        "id": "4kDs9nHfNBob",
        "colab_type": "text"
      },
      "source": [
        "# Reading and Pre-Processing Data"
      ]
    },
    {
      "cell_type": "code",
      "metadata": {
        "id": "pkW9bpa66xxx",
        "colab_type": "code",
        "colab": {}
      },
      "source": [
        "train_data = pd.read_csv('train.csv')\n",
        "features_data = pd.read_csv('features.csv')\n",
        "stores_data = pd.read_csv('stores.csv')\n",
        "test_data = pd.read_csv('test.csv')"
      ],
      "execution_count": 0,
      "outputs": []
    },
    {
      "cell_type": "code",
      "metadata": {
        "id": "lQx7mGiM67VB",
        "colab_type": "code",
        "outputId": "1d2349eb-61ee-431c-ed29-75070855beaf",
        "colab": {
          "base_uri": "https://localhost:8080/",
          "height": 198
        }
      },
      "source": [
        "train_data.head()"
      ],
      "execution_count": 0,
      "outputs": [
        {
          "output_type": "execute_result",
          "data": {
            "text/html": [
              "<div>\n",
              "<style scoped>\n",
              "    .dataframe tbody tr th:only-of-type {\n",
              "        vertical-align: middle;\n",
              "    }\n",
              "\n",
              "    .dataframe tbody tr th {\n",
              "        vertical-align: top;\n",
              "    }\n",
              "\n",
              "    .dataframe thead th {\n",
              "        text-align: right;\n",
              "    }\n",
              "</style>\n",
              "<table border=\"1\" class=\"dataframe\">\n",
              "  <thead>\n",
              "    <tr style=\"text-align: right;\">\n",
              "      <th></th>\n",
              "      <th>Store</th>\n",
              "      <th>Dept</th>\n",
              "      <th>Date</th>\n",
              "      <th>Weekly_Sales</th>\n",
              "      <th>IsHoliday</th>\n",
              "    </tr>\n",
              "  </thead>\n",
              "  <tbody>\n",
              "    <tr>\n",
              "      <th>0</th>\n",
              "      <td>1</td>\n",
              "      <td>1</td>\n",
              "      <td>2010-02-05</td>\n",
              "      <td>24924.50</td>\n",
              "      <td>False</td>\n",
              "    </tr>\n",
              "    <tr>\n",
              "      <th>1</th>\n",
              "      <td>1</td>\n",
              "      <td>1</td>\n",
              "      <td>2010-02-12</td>\n",
              "      <td>46039.49</td>\n",
              "      <td>True</td>\n",
              "    </tr>\n",
              "    <tr>\n",
              "      <th>2</th>\n",
              "      <td>1</td>\n",
              "      <td>1</td>\n",
              "      <td>2010-02-19</td>\n",
              "      <td>41595.55</td>\n",
              "      <td>False</td>\n",
              "    </tr>\n",
              "    <tr>\n",
              "      <th>3</th>\n",
              "      <td>1</td>\n",
              "      <td>1</td>\n",
              "      <td>2010-02-26</td>\n",
              "      <td>19403.54</td>\n",
              "      <td>False</td>\n",
              "    </tr>\n",
              "    <tr>\n",
              "      <th>4</th>\n",
              "      <td>1</td>\n",
              "      <td>1</td>\n",
              "      <td>2010-03-05</td>\n",
              "      <td>21827.90</td>\n",
              "      <td>False</td>\n",
              "    </tr>\n",
              "  </tbody>\n",
              "</table>\n",
              "</div>"
            ],
            "text/plain": [
              "   Store  Dept        Date  Weekly_Sales  IsHoliday\n",
              "0      1     1  2010-02-05      24924.50      False\n",
              "1      1     1  2010-02-12      46039.49       True\n",
              "2      1     1  2010-02-19      41595.55      False\n",
              "3      1     1  2010-02-26      19403.54      False\n",
              "4      1     1  2010-03-05      21827.90      False"
            ]
          },
          "metadata": {
            "tags": []
          },
          "execution_count": 5
        }
      ]
    },
    {
      "cell_type": "code",
      "metadata": {
        "id": "eaTlBQMyB05f",
        "colab_type": "code",
        "outputId": "9bc006a8-e7c9-4549-f0c2-90840ba8fb62",
        "colab": {
          "base_uri": "https://localhost:8080/",
          "height": 35
        }
      },
      "source": [
        "train_data.shape"
      ],
      "execution_count": 0,
      "outputs": [
        {
          "output_type": "execute_result",
          "data": {
            "text/plain": [
              "(421570, 5)"
            ]
          },
          "metadata": {
            "tags": []
          },
          "execution_count": 154
        }
      ]
    },
    {
      "cell_type": "code",
      "metadata": {
        "id": "qD89Z7RA6-n7",
        "colab_type": "code",
        "outputId": "cae5eba0-3297-4680-abed-c8865c6b543d",
        "colab": {
          "base_uri": "https://localhost:8080/",
          "height": 285
        }
      },
      "source": [
        "features_data.head()"
      ],
      "execution_count": 0,
      "outputs": [
        {
          "output_type": "execute_result",
          "data": {
            "text/html": [
              "<div>\n",
              "<style scoped>\n",
              "    .dataframe tbody tr th:only-of-type {\n",
              "        vertical-align: middle;\n",
              "    }\n",
              "\n",
              "    .dataframe tbody tr th {\n",
              "        vertical-align: top;\n",
              "    }\n",
              "\n",
              "    .dataframe thead th {\n",
              "        text-align: right;\n",
              "    }\n",
              "</style>\n",
              "<table border=\"1\" class=\"dataframe\">\n",
              "  <thead>\n",
              "    <tr style=\"text-align: right;\">\n",
              "      <th></th>\n",
              "      <th>Store</th>\n",
              "      <th>Date</th>\n",
              "      <th>Temperature</th>\n",
              "      <th>Fuel_Price</th>\n",
              "      <th>MarkDown1</th>\n",
              "      <th>MarkDown2</th>\n",
              "      <th>MarkDown3</th>\n",
              "      <th>MarkDown4</th>\n",
              "      <th>MarkDown5</th>\n",
              "      <th>CPI</th>\n",
              "      <th>Unemployment</th>\n",
              "      <th>IsHoliday</th>\n",
              "    </tr>\n",
              "  </thead>\n",
              "  <tbody>\n",
              "    <tr>\n",
              "      <th>0</th>\n",
              "      <td>1</td>\n",
              "      <td>2010-02-05</td>\n",
              "      <td>42.31</td>\n",
              "      <td>2.572</td>\n",
              "      <td>NaN</td>\n",
              "      <td>NaN</td>\n",
              "      <td>NaN</td>\n",
              "      <td>NaN</td>\n",
              "      <td>NaN</td>\n",
              "      <td>211.096358</td>\n",
              "      <td>8.106</td>\n",
              "      <td>False</td>\n",
              "    </tr>\n",
              "    <tr>\n",
              "      <th>1</th>\n",
              "      <td>1</td>\n",
              "      <td>2010-02-12</td>\n",
              "      <td>38.51</td>\n",
              "      <td>2.548</td>\n",
              "      <td>NaN</td>\n",
              "      <td>NaN</td>\n",
              "      <td>NaN</td>\n",
              "      <td>NaN</td>\n",
              "      <td>NaN</td>\n",
              "      <td>211.242170</td>\n",
              "      <td>8.106</td>\n",
              "      <td>True</td>\n",
              "    </tr>\n",
              "    <tr>\n",
              "      <th>2</th>\n",
              "      <td>1</td>\n",
              "      <td>2010-02-19</td>\n",
              "      <td>39.93</td>\n",
              "      <td>2.514</td>\n",
              "      <td>NaN</td>\n",
              "      <td>NaN</td>\n",
              "      <td>NaN</td>\n",
              "      <td>NaN</td>\n",
              "      <td>NaN</td>\n",
              "      <td>211.289143</td>\n",
              "      <td>8.106</td>\n",
              "      <td>False</td>\n",
              "    </tr>\n",
              "    <tr>\n",
              "      <th>3</th>\n",
              "      <td>1</td>\n",
              "      <td>2010-02-26</td>\n",
              "      <td>46.63</td>\n",
              "      <td>2.561</td>\n",
              "      <td>NaN</td>\n",
              "      <td>NaN</td>\n",
              "      <td>NaN</td>\n",
              "      <td>NaN</td>\n",
              "      <td>NaN</td>\n",
              "      <td>211.319643</td>\n",
              "      <td>8.106</td>\n",
              "      <td>False</td>\n",
              "    </tr>\n",
              "    <tr>\n",
              "      <th>4</th>\n",
              "      <td>1</td>\n",
              "      <td>2010-03-05</td>\n",
              "      <td>46.50</td>\n",
              "      <td>2.625</td>\n",
              "      <td>NaN</td>\n",
              "      <td>NaN</td>\n",
              "      <td>NaN</td>\n",
              "      <td>NaN</td>\n",
              "      <td>NaN</td>\n",
              "      <td>211.350143</td>\n",
              "      <td>8.106</td>\n",
              "      <td>False</td>\n",
              "    </tr>\n",
              "  </tbody>\n",
              "</table>\n",
              "</div>"
            ],
            "text/plain": [
              "   Store        Date  Temperature  ...         CPI  Unemployment  IsHoliday\n",
              "0      1  2010-02-05        42.31  ...  211.096358         8.106      False\n",
              "1      1  2010-02-12        38.51  ...  211.242170         8.106       True\n",
              "2      1  2010-02-19        39.93  ...  211.289143         8.106      False\n",
              "3      1  2010-02-26        46.63  ...  211.319643         8.106      False\n",
              "4      1  2010-03-05        46.50  ...  211.350143         8.106      False\n",
              "\n",
              "[5 rows x 12 columns]"
            ]
          },
          "metadata": {
            "tags": []
          },
          "execution_count": 7
        }
      ]
    },
    {
      "cell_type": "code",
      "metadata": {
        "id": "hrokgQ_uB6m1",
        "colab_type": "code",
        "outputId": "7b0c412d-8417-48c4-c15f-16e2c4274ec8",
        "colab": {
          "base_uri": "https://localhost:8080/",
          "height": 35
        }
      },
      "source": [
        "features_data.shape"
      ],
      "execution_count": 0,
      "outputs": [
        {
          "output_type": "execute_result",
          "data": {
            "text/plain": [
              "(8190, 12)"
            ]
          },
          "metadata": {
            "tags": []
          },
          "execution_count": 8
        }
      ]
    },
    {
      "cell_type": "code",
      "metadata": {
        "id": "qDcThQ9l7AV8",
        "colab_type": "code",
        "outputId": "7c61da69-8c13-44a2-8849-dadc8ae6eb57",
        "colab": {
          "base_uri": "https://localhost:8080/",
          "height": 198
        }
      },
      "source": [
        "stores_data.head()"
      ],
      "execution_count": 0,
      "outputs": [
        {
          "output_type": "execute_result",
          "data": {
            "text/html": [
              "<div>\n",
              "<style scoped>\n",
              "    .dataframe tbody tr th:only-of-type {\n",
              "        vertical-align: middle;\n",
              "    }\n",
              "\n",
              "    .dataframe tbody tr th {\n",
              "        vertical-align: top;\n",
              "    }\n",
              "\n",
              "    .dataframe thead th {\n",
              "        text-align: right;\n",
              "    }\n",
              "</style>\n",
              "<table border=\"1\" class=\"dataframe\">\n",
              "  <thead>\n",
              "    <tr style=\"text-align: right;\">\n",
              "      <th></th>\n",
              "      <th>Store</th>\n",
              "      <th>Type</th>\n",
              "      <th>Size</th>\n",
              "    </tr>\n",
              "  </thead>\n",
              "  <tbody>\n",
              "    <tr>\n",
              "      <th>0</th>\n",
              "      <td>1</td>\n",
              "      <td>A</td>\n",
              "      <td>151315</td>\n",
              "    </tr>\n",
              "    <tr>\n",
              "      <th>1</th>\n",
              "      <td>2</td>\n",
              "      <td>A</td>\n",
              "      <td>202307</td>\n",
              "    </tr>\n",
              "    <tr>\n",
              "      <th>2</th>\n",
              "      <td>3</td>\n",
              "      <td>B</td>\n",
              "      <td>37392</td>\n",
              "    </tr>\n",
              "    <tr>\n",
              "      <th>3</th>\n",
              "      <td>4</td>\n",
              "      <td>A</td>\n",
              "      <td>205863</td>\n",
              "    </tr>\n",
              "    <tr>\n",
              "      <th>4</th>\n",
              "      <td>5</td>\n",
              "      <td>B</td>\n",
              "      <td>34875</td>\n",
              "    </tr>\n",
              "  </tbody>\n",
              "</table>\n",
              "</div>"
            ],
            "text/plain": [
              "   Store Type    Size\n",
              "0      1    A  151315\n",
              "1      2    A  202307\n",
              "2      3    B   37392\n",
              "3      4    A  205863\n",
              "4      5    B   34875"
            ]
          },
          "metadata": {
            "tags": []
          },
          "execution_count": 9
        }
      ]
    },
    {
      "cell_type": "code",
      "metadata": {
        "id": "zWOXp0xL7CRc",
        "colab_type": "code",
        "outputId": "62373762-64ae-41c9-a4dc-4b6ea73bab90",
        "colab": {
          "base_uri": "https://localhost:8080/",
          "height": 35
        }
      },
      "source": [
        "stores_data.shape"
      ],
      "execution_count": 0,
      "outputs": [
        {
          "output_type": "execute_result",
          "data": {
            "text/plain": [
              "(45, 3)"
            ]
          },
          "metadata": {
            "tags": []
          },
          "execution_count": 10
        }
      ]
    },
    {
      "cell_type": "markdown",
      "metadata": {
        "id": "BhVLfDsfCL8-",
        "colab_type": "text"
      },
      "source": [
        "## Merging the train, features and stores data"
      ]
    },
    {
      "cell_type": "code",
      "metadata": {
        "id": "UqVrjMFgCBpb",
        "colab_type": "code",
        "colab": {}
      },
      "source": [
        "train_stores_merged_data = train_data.merge(stores_data, how='left', on=['Store'])"
      ],
      "execution_count": 0,
      "outputs": []
    },
    {
      "cell_type": "code",
      "metadata": {
        "id": "pM_zd126CXyK",
        "colab_type": "code",
        "colab": {}
      },
      "source": [
        "train_merged_data = train_stores_merged_data.merge(features_data, how='left', on=['Store','Date','IsHoliday']).fillna(0)"
      ],
      "execution_count": 0,
      "outputs": []
    },
    {
      "cell_type": "code",
      "metadata": {
        "id": "qdXMZKaECmXw",
        "colab_type": "code",
        "outputId": "219c3bf0-e768-4af4-bd28-112b5ef3feee",
        "colab": {
          "base_uri": "https://localhost:8080/",
          "height": 305
        }
      },
      "source": [
        "train_merged_data.head()"
      ],
      "execution_count": 0,
      "outputs": [
        {
          "output_type": "execute_result",
          "data": {
            "text/html": [
              "<div>\n",
              "<style scoped>\n",
              "    .dataframe tbody tr th:only-of-type {\n",
              "        vertical-align: middle;\n",
              "    }\n",
              "\n",
              "    .dataframe tbody tr th {\n",
              "        vertical-align: top;\n",
              "    }\n",
              "\n",
              "    .dataframe thead th {\n",
              "        text-align: right;\n",
              "    }\n",
              "</style>\n",
              "<table border=\"1\" class=\"dataframe\">\n",
              "  <thead>\n",
              "    <tr style=\"text-align: right;\">\n",
              "      <th></th>\n",
              "      <th>Store</th>\n",
              "      <th>Dept</th>\n",
              "      <th>Date</th>\n",
              "      <th>Weekly_Sales</th>\n",
              "      <th>IsHoliday</th>\n",
              "      <th>Type</th>\n",
              "      <th>Size</th>\n",
              "      <th>Temperature</th>\n",
              "      <th>Fuel_Price</th>\n",
              "      <th>MarkDown1</th>\n",
              "      <th>MarkDown2</th>\n",
              "      <th>MarkDown3</th>\n",
              "      <th>MarkDown4</th>\n",
              "      <th>MarkDown5</th>\n",
              "      <th>CPI</th>\n",
              "      <th>Unemployment</th>\n",
              "    </tr>\n",
              "  </thead>\n",
              "  <tbody>\n",
              "    <tr>\n",
              "      <th>0</th>\n",
              "      <td>1</td>\n",
              "      <td>1</td>\n",
              "      <td>2010-02-05</td>\n",
              "      <td>24924.50</td>\n",
              "      <td>False</td>\n",
              "      <td>A</td>\n",
              "      <td>151315</td>\n",
              "      <td>42.31</td>\n",
              "      <td>2.572</td>\n",
              "      <td>0.0</td>\n",
              "      <td>0.0</td>\n",
              "      <td>0.0</td>\n",
              "      <td>0.0</td>\n",
              "      <td>0.0</td>\n",
              "      <td>211.096358</td>\n",
              "      <td>8.106</td>\n",
              "    </tr>\n",
              "    <tr>\n",
              "      <th>1</th>\n",
              "      <td>1</td>\n",
              "      <td>1</td>\n",
              "      <td>2010-02-12</td>\n",
              "      <td>46039.49</td>\n",
              "      <td>True</td>\n",
              "      <td>A</td>\n",
              "      <td>151315</td>\n",
              "      <td>38.51</td>\n",
              "      <td>2.548</td>\n",
              "      <td>0.0</td>\n",
              "      <td>0.0</td>\n",
              "      <td>0.0</td>\n",
              "      <td>0.0</td>\n",
              "      <td>0.0</td>\n",
              "      <td>211.242170</td>\n",
              "      <td>8.106</td>\n",
              "    </tr>\n",
              "    <tr>\n",
              "      <th>2</th>\n",
              "      <td>1</td>\n",
              "      <td>1</td>\n",
              "      <td>2010-02-19</td>\n",
              "      <td>41595.55</td>\n",
              "      <td>False</td>\n",
              "      <td>A</td>\n",
              "      <td>151315</td>\n",
              "      <td>39.93</td>\n",
              "      <td>2.514</td>\n",
              "      <td>0.0</td>\n",
              "      <td>0.0</td>\n",
              "      <td>0.0</td>\n",
              "      <td>0.0</td>\n",
              "      <td>0.0</td>\n",
              "      <td>211.289143</td>\n",
              "      <td>8.106</td>\n",
              "    </tr>\n",
              "    <tr>\n",
              "      <th>3</th>\n",
              "      <td>1</td>\n",
              "      <td>1</td>\n",
              "      <td>2010-02-26</td>\n",
              "      <td>19403.54</td>\n",
              "      <td>False</td>\n",
              "      <td>A</td>\n",
              "      <td>151315</td>\n",
              "      <td>46.63</td>\n",
              "      <td>2.561</td>\n",
              "      <td>0.0</td>\n",
              "      <td>0.0</td>\n",
              "      <td>0.0</td>\n",
              "      <td>0.0</td>\n",
              "      <td>0.0</td>\n",
              "      <td>211.319643</td>\n",
              "      <td>8.106</td>\n",
              "    </tr>\n",
              "    <tr>\n",
              "      <th>4</th>\n",
              "      <td>1</td>\n",
              "      <td>1</td>\n",
              "      <td>2010-03-05</td>\n",
              "      <td>21827.90</td>\n",
              "      <td>False</td>\n",
              "      <td>A</td>\n",
              "      <td>151315</td>\n",
              "      <td>46.50</td>\n",
              "      <td>2.625</td>\n",
              "      <td>0.0</td>\n",
              "      <td>0.0</td>\n",
              "      <td>0.0</td>\n",
              "      <td>0.0</td>\n",
              "      <td>0.0</td>\n",
              "      <td>211.350143</td>\n",
              "      <td>8.106</td>\n",
              "    </tr>\n",
              "  </tbody>\n",
              "</table>\n",
              "</div>"
            ],
            "text/plain": [
              "   Store  Dept        Date  ...  MarkDown5         CPI Unemployment\n",
              "0      1     1  2010-02-05  ...        0.0  211.096358        8.106\n",
              "1      1     1  2010-02-12  ...        0.0  211.242170        8.106\n",
              "2      1     1  2010-02-19  ...        0.0  211.289143        8.106\n",
              "3      1     1  2010-02-26  ...        0.0  211.319643        8.106\n",
              "4      1     1  2010-03-05  ...        0.0  211.350143        8.106\n",
              "\n",
              "[5 rows x 16 columns]"
            ]
          },
          "metadata": {
            "tags": []
          },
          "execution_count": 13
        }
      ]
    },
    {
      "cell_type": "code",
      "metadata": {
        "id": "k__o1nNbCvz-",
        "colab_type": "code",
        "outputId": "d9ba98af-cb4a-45cf-f0ae-b6de4c7d35b7",
        "colab": {
          "base_uri": "https://localhost:8080/",
          "height": 35
        }
      },
      "source": [
        "train_merged_data.shape"
      ],
      "execution_count": 0,
      "outputs": [
        {
          "output_type": "execute_result",
          "data": {
            "text/plain": [
              "(421570, 16)"
            ]
          },
          "metadata": {
            "tags": []
          },
          "execution_count": 14
        }
      ]
    },
    {
      "cell_type": "code",
      "metadata": {
        "id": "zz756esoCyl9",
        "colab_type": "code",
        "outputId": "aa200a82-ab9e-4a58-fe04-ef242d80cd9c",
        "colab": {
          "base_uri": "https://localhost:8080/",
          "height": 435
        }
      },
      "source": [
        "train_merged_data.info()"
      ],
      "execution_count": 0,
      "outputs": [
        {
          "output_type": "stream",
          "text": [
            "<class 'pandas.core.frame.DataFrame'>\n",
            "Int64Index: 421570 entries, 0 to 421569\n",
            "Data columns (total 16 columns):\n",
            " #   Column        Non-Null Count   Dtype  \n",
            "---  ------        --------------   -----  \n",
            " 0   Store         421570 non-null  int64  \n",
            " 1   Dept          421570 non-null  int64  \n",
            " 2   Date          421570 non-null  object \n",
            " 3   Weekly_Sales  421570 non-null  float64\n",
            " 4   IsHoliday     421570 non-null  bool   \n",
            " 5   Type          421570 non-null  object \n",
            " 6   Size          421570 non-null  int64  \n",
            " 7   Temperature   421570 non-null  float64\n",
            " 8   Fuel_Price    421570 non-null  float64\n",
            " 9   MarkDown1     421570 non-null  float64\n",
            " 10  MarkDown2     421570 non-null  float64\n",
            " 11  MarkDown3     421570 non-null  float64\n",
            " 12  MarkDown4     421570 non-null  float64\n",
            " 13  MarkDown5     421570 non-null  float64\n",
            " 14  CPI           421570 non-null  float64\n",
            " 15  Unemployment  421570 non-null  float64\n",
            "dtypes: bool(1), float64(10), int64(3), object(2)\n",
            "memory usage: 51.9+ MB\n"
          ],
          "name": "stdout"
        }
      ]
    },
    {
      "cell_type": "code",
      "metadata": {
        "id": "0Rya-PXoC20d",
        "colab_type": "code",
        "colab": {}
      },
      "source": [
        "train_merged_data['Date'] = pd.to_datetime(train_merged_data['Date'])"
      ],
      "execution_count": 0,
      "outputs": []
    },
    {
      "cell_type": "code",
      "metadata": {
        "id": "Q-S6mzzgC_rF",
        "colab_type": "code",
        "outputId": "50b3ae91-9b54-4911-b923-11b173cd112d",
        "colab": {
          "base_uri": "https://localhost:8080/",
          "height": 435
        }
      },
      "source": [
        "train_merged_data.info()"
      ],
      "execution_count": 0,
      "outputs": [
        {
          "output_type": "stream",
          "text": [
            "<class 'pandas.core.frame.DataFrame'>\n",
            "Int64Index: 421570 entries, 0 to 421569\n",
            "Data columns (total 16 columns):\n",
            " #   Column        Non-Null Count   Dtype         \n",
            "---  ------        --------------   -----         \n",
            " 0   Store         421570 non-null  int64         \n",
            " 1   Dept          421570 non-null  int64         \n",
            " 2   Date          421570 non-null  datetime64[ns]\n",
            " 3   Weekly_Sales  421570 non-null  float64       \n",
            " 4   IsHoliday     421570 non-null  bool          \n",
            " 5   Type          421570 non-null  object        \n",
            " 6   Size          421570 non-null  int64         \n",
            " 7   Temperature   421570 non-null  float64       \n",
            " 8   Fuel_Price    421570 non-null  float64       \n",
            " 9   MarkDown1     421570 non-null  float64       \n",
            " 10  MarkDown2     421570 non-null  float64       \n",
            " 11  MarkDown3     421570 non-null  float64       \n",
            " 12  MarkDown4     421570 non-null  float64       \n",
            " 13  MarkDown5     421570 non-null  float64       \n",
            " 14  CPI           421570 non-null  float64       \n",
            " 15  Unemployment  421570 non-null  float64       \n",
            "dtypes: bool(1), datetime64[ns](1), float64(10), int64(3), object(1)\n",
            "memory usage: 51.9+ MB\n"
          ],
          "name": "stdout"
        }
      ]
    },
    {
      "cell_type": "code",
      "metadata": {
        "id": "QutaBPDvDFPm",
        "colab_type": "code",
        "colab": {}
      },
      "source": [
        "train_merged_data['IsHolidayInt']=train_merged_data.IsHoliday.map({False:0,True:1})"
      ],
      "execution_count": 0,
      "outputs": []
    },
    {
      "cell_type": "code",
      "metadata": {
        "id": "VvuDjjHdDy5Q",
        "colab_type": "code",
        "outputId": "9a56968e-f53f-473e-eff8-632f868972c3",
        "colab": {
          "base_uri": "https://localhost:8080/",
          "height": 126
        }
      },
      "source": [
        "train_merged_data['Store_Dept_Date'] = train_merged_data['Store'].astype(str) + \"_\" + train_merged_data['Dept'].astype(str) + \"_\"+ train_merged_data['Date'].astype(str)\n",
        "train_merged_data['Store_Dept_Date'].head()"
      ],
      "execution_count": 0,
      "outputs": [
        {
          "output_type": "execute_result",
          "data": {
            "text/plain": [
              "0    1_1_2010-02-05\n",
              "1    1_1_2010-02-12\n",
              "2    1_1_2010-02-19\n",
              "3    1_1_2010-02-26\n",
              "4    1_1_2010-03-05\n",
              "Name: Store_Dept_Date, dtype: object"
            ]
          },
          "metadata": {
            "tags": []
          },
          "execution_count": 19
        }
      ]
    },
    {
      "cell_type": "code",
      "metadata": {
        "id": "epkxtDZ2EFg5",
        "colab_type": "code",
        "colab": {}
      },
      "source": [
        "train_merged_data.set_index('Store_Dept_Date', inplace=True)"
      ],
      "execution_count": 0,
      "outputs": []
    },
    {
      "cell_type": "code",
      "metadata": {
        "id": "2_CEdXXLEPRh",
        "colab_type": "code",
        "outputId": "dbd0a708-433f-4c5c-f260-8c38f1bf116e",
        "colab": {
          "base_uri": "https://localhost:8080/",
          "height": 335
        }
      },
      "source": [
        "train_merged_data.head()"
      ],
      "execution_count": 0,
      "outputs": [
        {
          "output_type": "execute_result",
          "data": {
            "text/html": [
              "<div>\n",
              "<style scoped>\n",
              "    .dataframe tbody tr th:only-of-type {\n",
              "        vertical-align: middle;\n",
              "    }\n",
              "\n",
              "    .dataframe tbody tr th {\n",
              "        vertical-align: top;\n",
              "    }\n",
              "\n",
              "    .dataframe thead th {\n",
              "        text-align: right;\n",
              "    }\n",
              "</style>\n",
              "<table border=\"1\" class=\"dataframe\">\n",
              "  <thead>\n",
              "    <tr style=\"text-align: right;\">\n",
              "      <th></th>\n",
              "      <th>Store</th>\n",
              "      <th>Dept</th>\n",
              "      <th>Date</th>\n",
              "      <th>Weekly_Sales</th>\n",
              "      <th>IsHoliday</th>\n",
              "      <th>Type</th>\n",
              "      <th>Size</th>\n",
              "      <th>Temperature</th>\n",
              "      <th>Fuel_Price</th>\n",
              "      <th>MarkDown1</th>\n",
              "      <th>MarkDown2</th>\n",
              "      <th>MarkDown3</th>\n",
              "      <th>MarkDown4</th>\n",
              "      <th>MarkDown5</th>\n",
              "      <th>CPI</th>\n",
              "      <th>Unemployment</th>\n",
              "      <th>IsHolidayInt</th>\n",
              "    </tr>\n",
              "    <tr>\n",
              "      <th>Store_Dept_Date</th>\n",
              "      <th></th>\n",
              "      <th></th>\n",
              "      <th></th>\n",
              "      <th></th>\n",
              "      <th></th>\n",
              "      <th></th>\n",
              "      <th></th>\n",
              "      <th></th>\n",
              "      <th></th>\n",
              "      <th></th>\n",
              "      <th></th>\n",
              "      <th></th>\n",
              "      <th></th>\n",
              "      <th></th>\n",
              "      <th></th>\n",
              "      <th></th>\n",
              "      <th></th>\n",
              "    </tr>\n",
              "  </thead>\n",
              "  <tbody>\n",
              "    <tr>\n",
              "      <th>1_1_2010-02-05</th>\n",
              "      <td>1</td>\n",
              "      <td>1</td>\n",
              "      <td>2010-02-05</td>\n",
              "      <td>24924.50</td>\n",
              "      <td>False</td>\n",
              "      <td>A</td>\n",
              "      <td>151315</td>\n",
              "      <td>42.31</td>\n",
              "      <td>2.572</td>\n",
              "      <td>0.0</td>\n",
              "      <td>0.0</td>\n",
              "      <td>0.0</td>\n",
              "      <td>0.0</td>\n",
              "      <td>0.0</td>\n",
              "      <td>211.096358</td>\n",
              "      <td>8.106</td>\n",
              "      <td>0</td>\n",
              "    </tr>\n",
              "    <tr>\n",
              "      <th>1_1_2010-02-12</th>\n",
              "      <td>1</td>\n",
              "      <td>1</td>\n",
              "      <td>2010-02-12</td>\n",
              "      <td>46039.49</td>\n",
              "      <td>True</td>\n",
              "      <td>A</td>\n",
              "      <td>151315</td>\n",
              "      <td>38.51</td>\n",
              "      <td>2.548</td>\n",
              "      <td>0.0</td>\n",
              "      <td>0.0</td>\n",
              "      <td>0.0</td>\n",
              "      <td>0.0</td>\n",
              "      <td>0.0</td>\n",
              "      <td>211.242170</td>\n",
              "      <td>8.106</td>\n",
              "      <td>1</td>\n",
              "    </tr>\n",
              "    <tr>\n",
              "      <th>1_1_2010-02-19</th>\n",
              "      <td>1</td>\n",
              "      <td>1</td>\n",
              "      <td>2010-02-19</td>\n",
              "      <td>41595.55</td>\n",
              "      <td>False</td>\n",
              "      <td>A</td>\n",
              "      <td>151315</td>\n",
              "      <td>39.93</td>\n",
              "      <td>2.514</td>\n",
              "      <td>0.0</td>\n",
              "      <td>0.0</td>\n",
              "      <td>0.0</td>\n",
              "      <td>0.0</td>\n",
              "      <td>0.0</td>\n",
              "      <td>211.289143</td>\n",
              "      <td>8.106</td>\n",
              "      <td>0</td>\n",
              "    </tr>\n",
              "    <tr>\n",
              "      <th>1_1_2010-02-26</th>\n",
              "      <td>1</td>\n",
              "      <td>1</td>\n",
              "      <td>2010-02-26</td>\n",
              "      <td>19403.54</td>\n",
              "      <td>False</td>\n",
              "      <td>A</td>\n",
              "      <td>151315</td>\n",
              "      <td>46.63</td>\n",
              "      <td>2.561</td>\n",
              "      <td>0.0</td>\n",
              "      <td>0.0</td>\n",
              "      <td>0.0</td>\n",
              "      <td>0.0</td>\n",
              "      <td>0.0</td>\n",
              "      <td>211.319643</td>\n",
              "      <td>8.106</td>\n",
              "      <td>0</td>\n",
              "    </tr>\n",
              "    <tr>\n",
              "      <th>1_1_2010-03-05</th>\n",
              "      <td>1</td>\n",
              "      <td>1</td>\n",
              "      <td>2010-03-05</td>\n",
              "      <td>21827.90</td>\n",
              "      <td>False</td>\n",
              "      <td>A</td>\n",
              "      <td>151315</td>\n",
              "      <td>46.50</td>\n",
              "      <td>2.625</td>\n",
              "      <td>0.0</td>\n",
              "      <td>0.0</td>\n",
              "      <td>0.0</td>\n",
              "      <td>0.0</td>\n",
              "      <td>0.0</td>\n",
              "      <td>211.350143</td>\n",
              "      <td>8.106</td>\n",
              "      <td>0</td>\n",
              "    </tr>\n",
              "  </tbody>\n",
              "</table>\n",
              "</div>"
            ],
            "text/plain": [
              "                 Store  Dept       Date  ...         CPI  Unemployment IsHolidayInt\n",
              "Store_Dept_Date                          ...                                       \n",
              "1_1_2010-02-05       1     1 2010-02-05  ...  211.096358         8.106            0\n",
              "1_1_2010-02-12       1     1 2010-02-12  ...  211.242170         8.106            1\n",
              "1_1_2010-02-19       1     1 2010-02-19  ...  211.289143         8.106            0\n",
              "1_1_2010-02-26       1     1 2010-02-26  ...  211.319643         8.106            0\n",
              "1_1_2010-03-05       1     1 2010-03-05  ...  211.350143         8.106            0\n",
              "\n",
              "[5 rows x 17 columns]"
            ]
          },
          "metadata": {
            "tags": []
          },
          "execution_count": 21
        }
      ]
    },
    {
      "cell_type": "markdown",
      "metadata": {
        "id": "Rux5CMU_Ee9u",
        "colab_type": "text"
      },
      "source": [
        "Drop Date and IsHoliday columns"
      ]
    },
    {
      "cell_type": "code",
      "metadata": {
        "id": "_SvUyIOlETAw",
        "colab_type": "code",
        "colab": {}
      },
      "source": [
        "train_merged_data.drop(['IsHoliday', 'Date'], axis=1, inplace=True)"
      ],
      "execution_count": 0,
      "outputs": []
    },
    {
      "cell_type": "code",
      "metadata": {
        "id": "-ql3MlEBEskZ",
        "colab_type": "code",
        "outputId": "18aac037-1a3c-4eea-c5ce-5bcdaf81f1d9",
        "colab": {
          "base_uri": "https://localhost:8080/",
          "height": 417
        }
      },
      "source": [
        "train_merged_data.info()"
      ],
      "execution_count": 0,
      "outputs": [
        {
          "output_type": "stream",
          "text": [
            "<class 'pandas.core.frame.DataFrame'>\n",
            "Index: 421570 entries, 1_1_2010-02-05 to 45_98_2012-10-26\n",
            "Data columns (total 15 columns):\n",
            " #   Column        Non-Null Count   Dtype  \n",
            "---  ------        --------------   -----  \n",
            " 0   Store         421570 non-null  int64  \n",
            " 1   Dept          421570 non-null  int64  \n",
            " 2   Weekly_Sales  421570 non-null  float64\n",
            " 3   Type          421570 non-null  object \n",
            " 4   Size          421570 non-null  int64  \n",
            " 5   Temperature   421570 non-null  float64\n",
            " 6   Fuel_Price    421570 non-null  float64\n",
            " 7   MarkDown1     421570 non-null  float64\n",
            " 8   MarkDown2     421570 non-null  float64\n",
            " 9   MarkDown3     421570 non-null  float64\n",
            " 10  MarkDown4     421570 non-null  float64\n",
            " 11  MarkDown5     421570 non-null  float64\n",
            " 12  CPI           421570 non-null  float64\n",
            " 13  Unemployment  421570 non-null  float64\n",
            " 14  IsHolidayInt  421570 non-null  int64  \n",
            "dtypes: float64(10), int64(4), object(1)\n",
            "memory usage: 51.5+ MB\n"
          ],
          "name": "stdout"
        }
      ]
    },
    {
      "cell_type": "markdown",
      "metadata": {
        "id": "5-JSuM1cFHxb",
        "colab_type": "text"
      },
      "source": [
        "## Creating list of categorical and numerical variables"
      ]
    },
    {
      "cell_type": "code",
      "metadata": {
        "id": "pu3EqpQtE452",
        "colab_type": "code",
        "outputId": "0bee4541-754a-4713-da6b-5c7ff3ef44fe",
        "colab": {
          "base_uri": "https://localhost:8080/",
          "height": 35
        }
      },
      "source": [
        "cat_var_names=['Store', 'Dept', 'Type']\n",
        "print(cat_var_names)"
      ],
      "execution_count": 0,
      "outputs": [
        {
          "output_type": "stream",
          "text": [
            "['Store', 'Dept', 'Type']\n"
          ],
          "name": "stdout"
        }
      ]
    },
    {
      "cell_type": "code",
      "metadata": {
        "id": "iHP3QfIbFdQs",
        "colab_type": "code",
        "outputId": "4f767034-7528-45f1-9f39-addae9401bea",
        "colab": {
          "base_uri": "https://localhost:8080/",
          "height": 55
        }
      },
      "source": [
        "num_var_names = []\n",
        "for col in train_merged_data.columns:\n",
        "    if col not in cat_var_names:\n",
        "        num_var_names.append(col)\n",
        "\n",
        "print(num_var_names)"
      ],
      "execution_count": 0,
      "outputs": [
        {
          "output_type": "stream",
          "text": [
            "['Weekly_Sales', 'Size', 'Temperature', 'Fuel_Price', 'MarkDown1', 'MarkDown2', 'MarkDown3', 'MarkDown4', 'MarkDown5', 'CPI', 'Unemployment', 'IsHolidayInt']\n"
          ],
          "name": "stdout"
        }
      ]
    },
    {
      "cell_type": "markdown",
      "metadata": {
        "id": "kG7DdL_2Fo4U",
        "colab_type": "text"
      },
      "source": [
        "## Handling Numerical Data"
      ]
    },
    {
      "cell_type": "code",
      "metadata": {
        "id": "1Xx9GXszFhWO",
        "colab_type": "code",
        "colab": {}
      },
      "source": [
        "train_num_data=train_merged_data[num_var_names]"
      ],
      "execution_count": 0,
      "outputs": []
    },
    {
      "cell_type": "code",
      "metadata": {
        "id": "GM5lIHuTF5Zd",
        "colab_type": "code",
        "outputId": "f88c0db1-08da-495d-bd38-e951ee3dca98",
        "colab": {
          "base_uri": "https://localhost:8080/",
          "height": 248
        }
      },
      "source": [
        "train_num_data.head()"
      ],
      "execution_count": 0,
      "outputs": [
        {
          "output_type": "execute_result",
          "data": {
            "text/html": [
              "<div>\n",
              "<style scoped>\n",
              "    .dataframe tbody tr th:only-of-type {\n",
              "        vertical-align: middle;\n",
              "    }\n",
              "\n",
              "    .dataframe tbody tr th {\n",
              "        vertical-align: top;\n",
              "    }\n",
              "\n",
              "    .dataframe thead th {\n",
              "        text-align: right;\n",
              "    }\n",
              "</style>\n",
              "<table border=\"1\" class=\"dataframe\">\n",
              "  <thead>\n",
              "    <tr style=\"text-align: right;\">\n",
              "      <th></th>\n",
              "      <th>Weekly_Sales</th>\n",
              "      <th>Size</th>\n",
              "      <th>Temperature</th>\n",
              "      <th>Fuel_Price</th>\n",
              "      <th>MarkDown1</th>\n",
              "      <th>MarkDown2</th>\n",
              "      <th>MarkDown3</th>\n",
              "      <th>MarkDown4</th>\n",
              "      <th>MarkDown5</th>\n",
              "      <th>CPI</th>\n",
              "      <th>Unemployment</th>\n",
              "      <th>IsHolidayInt</th>\n",
              "    </tr>\n",
              "    <tr>\n",
              "      <th>Store_Dept_Date</th>\n",
              "      <th></th>\n",
              "      <th></th>\n",
              "      <th></th>\n",
              "      <th></th>\n",
              "      <th></th>\n",
              "      <th></th>\n",
              "      <th></th>\n",
              "      <th></th>\n",
              "      <th></th>\n",
              "      <th></th>\n",
              "      <th></th>\n",
              "      <th></th>\n",
              "    </tr>\n",
              "  </thead>\n",
              "  <tbody>\n",
              "    <tr>\n",
              "      <th>1_1_2010-02-05</th>\n",
              "      <td>24924.50</td>\n",
              "      <td>151315</td>\n",
              "      <td>42.31</td>\n",
              "      <td>2.572</td>\n",
              "      <td>0.0</td>\n",
              "      <td>0.0</td>\n",
              "      <td>0.0</td>\n",
              "      <td>0.0</td>\n",
              "      <td>0.0</td>\n",
              "      <td>211.096358</td>\n",
              "      <td>8.106</td>\n",
              "      <td>0</td>\n",
              "    </tr>\n",
              "    <tr>\n",
              "      <th>1_1_2010-02-12</th>\n",
              "      <td>46039.49</td>\n",
              "      <td>151315</td>\n",
              "      <td>38.51</td>\n",
              "      <td>2.548</td>\n",
              "      <td>0.0</td>\n",
              "      <td>0.0</td>\n",
              "      <td>0.0</td>\n",
              "      <td>0.0</td>\n",
              "      <td>0.0</td>\n",
              "      <td>211.242170</td>\n",
              "      <td>8.106</td>\n",
              "      <td>1</td>\n",
              "    </tr>\n",
              "    <tr>\n",
              "      <th>1_1_2010-02-19</th>\n",
              "      <td>41595.55</td>\n",
              "      <td>151315</td>\n",
              "      <td>39.93</td>\n",
              "      <td>2.514</td>\n",
              "      <td>0.0</td>\n",
              "      <td>0.0</td>\n",
              "      <td>0.0</td>\n",
              "      <td>0.0</td>\n",
              "      <td>0.0</td>\n",
              "      <td>211.289143</td>\n",
              "      <td>8.106</td>\n",
              "      <td>0</td>\n",
              "    </tr>\n",
              "    <tr>\n",
              "      <th>1_1_2010-02-26</th>\n",
              "      <td>19403.54</td>\n",
              "      <td>151315</td>\n",
              "      <td>46.63</td>\n",
              "      <td>2.561</td>\n",
              "      <td>0.0</td>\n",
              "      <td>0.0</td>\n",
              "      <td>0.0</td>\n",
              "      <td>0.0</td>\n",
              "      <td>0.0</td>\n",
              "      <td>211.319643</td>\n",
              "      <td>8.106</td>\n",
              "      <td>0</td>\n",
              "    </tr>\n",
              "    <tr>\n",
              "      <th>1_1_2010-03-05</th>\n",
              "      <td>21827.90</td>\n",
              "      <td>151315</td>\n",
              "      <td>46.50</td>\n",
              "      <td>2.625</td>\n",
              "      <td>0.0</td>\n",
              "      <td>0.0</td>\n",
              "      <td>0.0</td>\n",
              "      <td>0.0</td>\n",
              "      <td>0.0</td>\n",
              "      <td>211.350143</td>\n",
              "      <td>8.106</td>\n",
              "      <td>0</td>\n",
              "    </tr>\n",
              "  </tbody>\n",
              "</table>\n",
              "</div>"
            ],
            "text/plain": [
              "                 Weekly_Sales    Size  ...  Unemployment  IsHolidayInt\n",
              "Store_Dept_Date                        ...                            \n",
              "1_1_2010-02-05       24924.50  151315  ...         8.106             0\n",
              "1_1_2010-02-12       46039.49  151315  ...         8.106             1\n",
              "1_1_2010-02-19       41595.55  151315  ...         8.106             0\n",
              "1_1_2010-02-26       19403.54  151315  ...         8.106             0\n",
              "1_1_2010-03-05       21827.90  151315  ...         8.106             0\n",
              "\n",
              "[5 rows x 12 columns]"
            ]
          },
          "metadata": {
            "tags": []
          },
          "execution_count": 27
        }
      ]
    },
    {
      "cell_type": "code",
      "metadata": {
        "id": "u14txOhvF8E1",
        "colab_type": "code",
        "colab": {}
      },
      "source": [
        "# Creating Data audit Report\n",
        "# Use a general function that returns multiple values\n",
        "def var_summary(x):\n",
        "    return pd.Series([x.count(), x.isnull().sum(), x.sum(), x.mean(), x.median(),  x.std(), x.var(), x.min(), x.dropna().quantile(0.01), x.dropna().quantile(0.05),x.dropna().quantile(0.10),x.dropna().quantile(0.25),x.dropna().quantile(0.50),x.dropna().quantile(0.75), x.dropna().quantile(0.90),x.dropna().quantile(0.95), x.dropna().quantile(0.99),x.max()], \n",
        "                  index=['N', 'NMISS', 'SUM', 'MEAN','MEDIAN', 'STD', 'VAR', 'MIN', 'P1' , 'P5' ,'P10' ,'P25' ,'P50' ,'P75' ,'P90' ,'P95' ,'P99' ,'MAX'])"
      ],
      "execution_count": 0,
      "outputs": []
    },
    {
      "cell_type": "code",
      "metadata": {
        "id": "QgrnA7CIGGV7",
        "colab_type": "code",
        "outputId": "b310ed77-8b18-43dd-90c7-292ee313a477",
        "colab": {
          "base_uri": "https://localhost:8080/",
          "height": 428
        }
      },
      "source": [
        "num_summary=train_num_data.apply(lambda x: var_summary(x)).T\n",
        "num_summary"
      ],
      "execution_count": 0,
      "outputs": [
        {
          "output_type": "execute_result",
          "data": {
            "text/html": [
              "<div>\n",
              "<style scoped>\n",
              "    .dataframe tbody tr th:only-of-type {\n",
              "        vertical-align: middle;\n",
              "    }\n",
              "\n",
              "    .dataframe tbody tr th {\n",
              "        vertical-align: top;\n",
              "    }\n",
              "\n",
              "    .dataframe thead th {\n",
              "        text-align: right;\n",
              "    }\n",
              "</style>\n",
              "<table border=\"1\" class=\"dataframe\">\n",
              "  <thead>\n",
              "    <tr style=\"text-align: right;\">\n",
              "      <th></th>\n",
              "      <th>N</th>\n",
              "      <th>NMISS</th>\n",
              "      <th>SUM</th>\n",
              "      <th>MEAN</th>\n",
              "      <th>MEDIAN</th>\n",
              "      <th>STD</th>\n",
              "      <th>VAR</th>\n",
              "      <th>MIN</th>\n",
              "      <th>P1</th>\n",
              "      <th>P5</th>\n",
              "      <th>P10</th>\n",
              "      <th>P25</th>\n",
              "      <th>P50</th>\n",
              "      <th>P75</th>\n",
              "      <th>P90</th>\n",
              "      <th>P95</th>\n",
              "      <th>P99</th>\n",
              "      <th>MAX</th>\n",
              "    </tr>\n",
              "  </thead>\n",
              "  <tbody>\n",
              "    <tr>\n",
              "      <th>Weekly_Sales</th>\n",
              "      <td>421570.0</td>\n",
              "      <td>0.0</td>\n",
              "      <td>6.737219e+09</td>\n",
              "      <td>15981.258123</td>\n",
              "      <td>7612.03000</td>\n",
              "      <td>22711.183519</td>\n",
              "      <td>5.157979e+08</td>\n",
              "      <td>-4988.940</td>\n",
              "      <td>5.000000</td>\n",
              "      <td>59.974500</td>\n",
              "      <td>291.097000</td>\n",
              "      <td>2079.650000</td>\n",
              "      <td>7612.03000</td>\n",
              "      <td>20205.852500</td>\n",
              "      <td>42845.673000</td>\n",
              "      <td>61201.951000</td>\n",
              "      <td>106479.586000</td>\n",
              "      <td>693099.360000</td>\n",
              "    </tr>\n",
              "    <tr>\n",
              "      <th>Size</th>\n",
              "      <td>421570.0</td>\n",
              "      <td>0.0</td>\n",
              "      <td>5.764039e+10</td>\n",
              "      <td>136727.915739</td>\n",
              "      <td>140167.00000</td>\n",
              "      <td>60980.583328</td>\n",
              "      <td>3.718632e+09</td>\n",
              "      <td>34875.000</td>\n",
              "      <td>34875.000000</td>\n",
              "      <td>39690.000000</td>\n",
              "      <td>39910.000000</td>\n",
              "      <td>93638.000000</td>\n",
              "      <td>140167.00000</td>\n",
              "      <td>202505.000000</td>\n",
              "      <td>204184.000000</td>\n",
              "      <td>206302.000000</td>\n",
              "      <td>219622.000000</td>\n",
              "      <td>219622.000000</td>\n",
              "    </tr>\n",
              "    <tr>\n",
              "      <th>Temperature</th>\n",
              "      <td>421570.0</td>\n",
              "      <td>0.0</td>\n",
              "      <td>2.533217e+07</td>\n",
              "      <td>60.090059</td>\n",
              "      <td>62.09000</td>\n",
              "      <td>18.447931</td>\n",
              "      <td>3.403262e+02</td>\n",
              "      <td>-2.060</td>\n",
              "      <td>18.300000</td>\n",
              "      <td>27.310000</td>\n",
              "      <td>33.980000</td>\n",
              "      <td>46.680000</td>\n",
              "      <td>62.09000</td>\n",
              "      <td>74.280000</td>\n",
              "      <td>83.580000</td>\n",
              "      <td>87.270000</td>\n",
              "      <td>92.810000</td>\n",
              "      <td>100.140000</td>\n",
              "    </tr>\n",
              "    <tr>\n",
              "      <th>Fuel_Price</th>\n",
              "      <td>421570.0</td>\n",
              "      <td>0.0</td>\n",
              "      <td>1.416908e+06</td>\n",
              "      <td>3.361027</td>\n",
              "      <td>3.45200</td>\n",
              "      <td>0.458515</td>\n",
              "      <td>2.102356e-01</td>\n",
              "      <td>2.472</td>\n",
              "      <td>2.565000</td>\n",
              "      <td>2.653000</td>\n",
              "      <td>2.720000</td>\n",
              "      <td>2.933000</td>\n",
              "      <td>3.45200</td>\n",
              "      <td>3.738000</td>\n",
              "      <td>3.917000</td>\n",
              "      <td>4.029000</td>\n",
              "      <td>4.202000</td>\n",
              "      <td>4.468000</td>\n",
              "    </tr>\n",
              "    <tr>\n",
              "      <th>MarkDown1</th>\n",
              "      <td>421570.0</td>\n",
              "      <td>0.0</td>\n",
              "      <td>1.091898e+09</td>\n",
              "      <td>2590.074819</td>\n",
              "      <td>0.00000</td>\n",
              "      <td>6052.385934</td>\n",
              "      <td>3.663138e+07</td>\n",
              "      <td>0.000</td>\n",
              "      <td>0.000000</td>\n",
              "      <td>0.000000</td>\n",
              "      <td>0.000000</td>\n",
              "      <td>0.000000</td>\n",
              "      <td>0.00000</td>\n",
              "      <td>2809.050000</td>\n",
              "      <td>8624.560000</td>\n",
              "      <td>12407.710000</td>\n",
              "      <td>28177.290000</td>\n",
              "      <td>88646.760000</td>\n",
              "    </tr>\n",
              "    <tr>\n",
              "      <th>MarkDown2</th>\n",
              "      <td>421570.0</td>\n",
              "      <td>0.0</td>\n",
              "      <td>3.709708e+08</td>\n",
              "      <td>879.974298</td>\n",
              "      <td>0.00000</td>\n",
              "      <td>5084.538801</td>\n",
              "      <td>2.585253e+07</td>\n",
              "      <td>-265.760</td>\n",
              "      <td>0.000000</td>\n",
              "      <td>0.000000</td>\n",
              "      <td>0.000000</td>\n",
              "      <td>0.000000</td>\n",
              "      <td>0.00000</td>\n",
              "      <td>2.200000</td>\n",
              "      <td>452.880000</td>\n",
              "      <td>3789.560000</td>\n",
              "      <td>21813.160000</td>\n",
              "      <td>104519.540000</td>\n",
              "    </tr>\n",
              "    <tr>\n",
              "      <th>MarkDown3</th>\n",
              "      <td>421570.0</td>\n",
              "      <td>0.0</td>\n",
              "      <td>1.973317e+08</td>\n",
              "      <td>468.087665</td>\n",
              "      <td>0.00000</td>\n",
              "      <td>5528.873453</td>\n",
              "      <td>3.056844e+07</td>\n",
              "      <td>-29.100</td>\n",
              "      <td>0.000000</td>\n",
              "      <td>0.000000</td>\n",
              "      <td>0.000000</td>\n",
              "      <td>0.000000</td>\n",
              "      <td>0.00000</td>\n",
              "      <td>4.540000</td>\n",
              "      <td>74.410000</td>\n",
              "      <td>216.170000</td>\n",
              "      <td>2083.280000</td>\n",
              "      <td>141630.610000</td>\n",
              "    </tr>\n",
              "    <tr>\n",
              "      <th>MarkDown4</th>\n",
              "      <td>421570.0</td>\n",
              "      <td>0.0</td>\n",
              "      <td>4.566161e+08</td>\n",
              "      <td>1083.132268</td>\n",
              "      <td>0.00000</td>\n",
              "      <td>3894.529945</td>\n",
              "      <td>1.516736e+07</td>\n",
              "      <td>0.000</td>\n",
              "      <td>0.000000</td>\n",
              "      <td>0.000000</td>\n",
              "      <td>0.000000</td>\n",
              "      <td>0.000000</td>\n",
              "      <td>0.00000</td>\n",
              "      <td>425.290000</td>\n",
              "      <td>2828.890000</td>\n",
              "      <td>5163.630000</td>\n",
              "      <td>16822.460000</td>\n",
              "      <td>67474.850000</td>\n",
              "    </tr>\n",
              "    <tr>\n",
              "      <th>MarkDown5</th>\n",
              "      <td>421570.0</td>\n",
              "      <td>0.0</td>\n",
              "      <td>7.009750e+08</td>\n",
              "      <td>1662.772385</td>\n",
              "      <td>0.00000</td>\n",
              "      <td>4207.629321</td>\n",
              "      <td>1.770414e+07</td>\n",
              "      <td>0.000</td>\n",
              "      <td>0.000000</td>\n",
              "      <td>0.000000</td>\n",
              "      <td>0.000000</td>\n",
              "      <td>0.000000</td>\n",
              "      <td>0.00000</td>\n",
              "      <td>2168.040000</td>\n",
              "      <td>5284.630000</td>\n",
              "      <td>7456.150000</td>\n",
              "      <td>15590.530000</td>\n",
              "      <td>108519.280000</td>\n",
              "    </tr>\n",
              "    <tr>\n",
              "      <th>CPI</th>\n",
              "      <td>421570.0</td>\n",
              "      <td>0.0</td>\n",
              "      <td>7.217360e+07</td>\n",
              "      <td>171.201947</td>\n",
              "      <td>182.31878</td>\n",
              "      <td>39.159276</td>\n",
              "      <td>1.533449e+03</td>\n",
              "      <td>126.064</td>\n",
              "      <td>126.111903</td>\n",
              "      <td>126.496258</td>\n",
              "      <td>128.823806</td>\n",
              "      <td>132.022667</td>\n",
              "      <td>182.31878</td>\n",
              "      <td>212.416993</td>\n",
              "      <td>219.444244</td>\n",
              "      <td>221.941558</td>\n",
              "      <td>225.473509</td>\n",
              "      <td>227.232807</td>\n",
              "    </tr>\n",
              "    <tr>\n",
              "      <th>Unemployment</th>\n",
              "      <td>421570.0</td>\n",
              "      <td>0.0</td>\n",
              "      <td>3.355819e+06</td>\n",
              "      <td>7.960289</td>\n",
              "      <td>7.86600</td>\n",
              "      <td>1.863296</td>\n",
              "      <td>3.471872e+00</td>\n",
              "      <td>3.879</td>\n",
              "      <td>4.156000</td>\n",
              "      <td>5.326000</td>\n",
              "      <td>5.965000</td>\n",
              "      <td>6.891000</td>\n",
              "      <td>7.86600</td>\n",
              "      <td>8.572000</td>\n",
              "      <td>9.816000</td>\n",
              "      <td>12.187000</td>\n",
              "      <td>14.180000</td>\n",
              "      <td>14.313000</td>\n",
              "    </tr>\n",
              "    <tr>\n",
              "      <th>IsHolidayInt</th>\n",
              "      <td>421570.0</td>\n",
              "      <td>0.0</td>\n",
              "      <td>2.966100e+04</td>\n",
              "      <td>0.070358</td>\n",
              "      <td>0.00000</td>\n",
              "      <td>0.255750</td>\n",
              "      <td>6.540827e-02</td>\n",
              "      <td>0.000</td>\n",
              "      <td>0.000000</td>\n",
              "      <td>0.000000</td>\n",
              "      <td>0.000000</td>\n",
              "      <td>0.000000</td>\n",
              "      <td>0.00000</td>\n",
              "      <td>0.000000</td>\n",
              "      <td>0.000000</td>\n",
              "      <td>1.000000</td>\n",
              "      <td>1.000000</td>\n",
              "      <td>1.000000</td>\n",
              "    </tr>\n",
              "  </tbody>\n",
              "</table>\n",
              "</div>"
            ],
            "text/plain": [
              "                     N  NMISS  ...            P99            MAX\n",
              "Weekly_Sales  421570.0    0.0  ...  106479.586000  693099.360000\n",
              "Size          421570.0    0.0  ...  219622.000000  219622.000000\n",
              "Temperature   421570.0    0.0  ...      92.810000     100.140000\n",
              "Fuel_Price    421570.0    0.0  ...       4.202000       4.468000\n",
              "MarkDown1     421570.0    0.0  ...   28177.290000   88646.760000\n",
              "MarkDown2     421570.0    0.0  ...   21813.160000  104519.540000\n",
              "MarkDown3     421570.0    0.0  ...    2083.280000  141630.610000\n",
              "MarkDown4     421570.0    0.0  ...   16822.460000   67474.850000\n",
              "MarkDown5     421570.0    0.0  ...   15590.530000  108519.280000\n",
              "CPI           421570.0    0.0  ...     225.473509     227.232807\n",
              "Unemployment  421570.0    0.0  ...      14.180000      14.313000\n",
              "IsHolidayInt  421570.0    0.0  ...       1.000000       1.000000\n",
              "\n",
              "[12 rows x 18 columns]"
            ]
          },
          "metadata": {
            "tags": []
          },
          "execution_count": 29
        }
      ]
    },
    {
      "cell_type": "markdown",
      "metadata": {
        "id": "7c7XA9vDGSXI",
        "colab_type": "text"
      },
      "source": [
        "### Handling outliers"
      ]
    },
    {
      "cell_type": "code",
      "metadata": {
        "id": "3ESpTPUpGHXW",
        "colab_type": "code",
        "colab": {}
      },
      "source": [
        "def outlier_capping(x):\n",
        "    x.clip(lower=x.quantile(0.01), upper=x.quantile(0.99), inplace=True)\n",
        "    return x\n",
        "\n",
        "train_num_data=train_num_data.apply(lambda x: outlier_capping(x))"
      ],
      "execution_count": 0,
      "outputs": []
    },
    {
      "cell_type": "code",
      "metadata": {
        "id": "K0yopTGDGVWi",
        "colab_type": "code",
        "colab": {}
      },
      "source": [
        "#pandas_profiling.ProfileReport(train_num_data)"
      ],
      "execution_count": 0,
      "outputs": []
    },
    {
      "cell_type": "markdown",
      "metadata": {
        "id": "Y2W1Ou7FHMJh",
        "colab_type": "text"
      },
      "source": [
        "## Handling Categorical Data"
      ]
    },
    {
      "cell_type": "code",
      "metadata": {
        "id": "jP0lT5RoGZUo",
        "colab_type": "code",
        "colab": {}
      },
      "source": [
        "train_cat_data=train_merged_data[cat_var_names]"
      ],
      "execution_count": 0,
      "outputs": []
    },
    {
      "cell_type": "code",
      "metadata": {
        "id": "5by2L6BbHSTf",
        "colab_type": "code",
        "outputId": "b0e87fd4-469d-443e-96d7-18d2896f5ef5",
        "colab": {
          "base_uri": "https://localhost:8080/",
          "height": 228
        }
      },
      "source": [
        "train_cat_data.head()"
      ],
      "execution_count": 0,
      "outputs": [
        {
          "output_type": "execute_result",
          "data": {
            "text/html": [
              "<div>\n",
              "<style scoped>\n",
              "    .dataframe tbody tr th:only-of-type {\n",
              "        vertical-align: middle;\n",
              "    }\n",
              "\n",
              "    .dataframe tbody tr th {\n",
              "        vertical-align: top;\n",
              "    }\n",
              "\n",
              "    .dataframe thead th {\n",
              "        text-align: right;\n",
              "    }\n",
              "</style>\n",
              "<table border=\"1\" class=\"dataframe\">\n",
              "  <thead>\n",
              "    <tr style=\"text-align: right;\">\n",
              "      <th></th>\n",
              "      <th>Store</th>\n",
              "      <th>Dept</th>\n",
              "      <th>Type</th>\n",
              "    </tr>\n",
              "    <tr>\n",
              "      <th>Store_Dept_Date</th>\n",
              "      <th></th>\n",
              "      <th></th>\n",
              "      <th></th>\n",
              "    </tr>\n",
              "  </thead>\n",
              "  <tbody>\n",
              "    <tr>\n",
              "      <th>1_1_2010-02-05</th>\n",
              "      <td>1</td>\n",
              "      <td>1</td>\n",
              "      <td>A</td>\n",
              "    </tr>\n",
              "    <tr>\n",
              "      <th>1_1_2010-02-12</th>\n",
              "      <td>1</td>\n",
              "      <td>1</td>\n",
              "      <td>A</td>\n",
              "    </tr>\n",
              "    <tr>\n",
              "      <th>1_1_2010-02-19</th>\n",
              "      <td>1</td>\n",
              "      <td>1</td>\n",
              "      <td>A</td>\n",
              "    </tr>\n",
              "    <tr>\n",
              "      <th>1_1_2010-02-26</th>\n",
              "      <td>1</td>\n",
              "      <td>1</td>\n",
              "      <td>A</td>\n",
              "    </tr>\n",
              "    <tr>\n",
              "      <th>1_1_2010-03-05</th>\n",
              "      <td>1</td>\n",
              "      <td>1</td>\n",
              "      <td>A</td>\n",
              "    </tr>\n",
              "  </tbody>\n",
              "</table>\n",
              "</div>"
            ],
            "text/plain": [
              "                 Store  Dept Type\n",
              "Store_Dept_Date                  \n",
              "1_1_2010-02-05       1     1    A\n",
              "1_1_2010-02-12       1     1    A\n",
              "1_1_2010-02-19       1     1    A\n",
              "1_1_2010-02-26       1     1    A\n",
              "1_1_2010-03-05       1     1    A"
            ]
          },
          "metadata": {
            "tags": []
          },
          "execution_count": 33
        }
      ]
    },
    {
      "cell_type": "code",
      "metadata": {
        "id": "UNzut4s5HTxX",
        "colab_type": "code",
        "colab": {}
      },
      "source": [
        "def cat_summary(x):\n",
        "    return pd.Series([x.count(), x.isnull().sum(), x.value_counts()], \n",
        "                  index=['N', 'NMISS', 'ColumnsNames'])"
      ],
      "execution_count": 0,
      "outputs": []
    },
    {
      "cell_type": "code",
      "metadata": {
        "id": "OGb_bfQWHX4D",
        "colab_type": "code",
        "outputId": "02082037-d4fd-42eb-ff71-4b0daf9643bb",
        "colab": {
          "base_uri": "https://localhost:8080/",
          "height": 138
        }
      },
      "source": [
        "cat_var_summary=train_cat_data.apply(lambda x: cat_summary(x))\n",
        "cat_var_summary"
      ],
      "execution_count": 0,
      "outputs": [
        {
          "output_type": "execute_result",
          "data": {
            "text/html": [
              "<div>\n",
              "<style scoped>\n",
              "    .dataframe tbody tr th:only-of-type {\n",
              "        vertical-align: middle;\n",
              "    }\n",
              "\n",
              "    .dataframe tbody tr th {\n",
              "        vertical-align: top;\n",
              "    }\n",
              "\n",
              "    .dataframe thead th {\n",
              "        text-align: right;\n",
              "    }\n",
              "</style>\n",
              "<table border=\"1\" class=\"dataframe\">\n",
              "  <thead>\n",
              "    <tr style=\"text-align: right;\">\n",
              "      <th></th>\n",
              "      <th>Store</th>\n",
              "      <th>Dept</th>\n",
              "      <th>Type</th>\n",
              "    </tr>\n",
              "  </thead>\n",
              "  <tbody>\n",
              "    <tr>\n",
              "      <th>N</th>\n",
              "      <td>421570</td>\n",
              "      <td>421570</td>\n",
              "      <td>421570</td>\n",
              "    </tr>\n",
              "    <tr>\n",
              "      <th>NMISS</th>\n",
              "      <td>0</td>\n",
              "      <td>0</td>\n",
              "      <td>0</td>\n",
              "    </tr>\n",
              "    <tr>\n",
              "      <th>ColumnsNames</th>\n",
              "      <td>13    10474\n",
              "10    10315\n",
              "4     10272\n",
              "1     1024...</td>\n",
              "      <td>1     6435\n",
              "10    6435\n",
              "38    6435\n",
              "21    6435\n",
              "67...</td>\n",
              "      <td>A    215478\n",
              "B    163495\n",
              "C     42597\n",
              "Name: Type...</td>\n",
              "    </tr>\n",
              "  </tbody>\n",
              "</table>\n",
              "</div>"
            ],
            "text/plain": [
              "                                                          Store  ...                                               Type\n",
              "N                                                        421570  ...                                             421570\n",
              "NMISS                                                         0  ...                                                  0\n",
              "ColumnsNames  13    10474\n",
              "10    10315\n",
              "4     10272\n",
              "1     1024...  ...  A    215478\n",
              "B    163495\n",
              "C     42597\n",
              "Name: Type...\n",
              "\n",
              "[3 rows x 3 columns]"
            ]
          },
          "metadata": {
            "tags": []
          },
          "execution_count": 35
        }
      ]
    },
    {
      "cell_type": "markdown",
      "metadata": {
        "id": "tBQjOZB0V8Xk",
        "colab_type": "text"
      },
      "source": [
        "### Finding list of most imtportant Depts using Random Forest model"
      ]
    },
    {
      "cell_type": "code",
      "metadata": {
        "id": "FvHwBPZqPRVt",
        "colab_type": "code",
        "colab": {}
      },
      "source": [
        "train_dept_data = train_merged_data[['Dept','Weekly_Sales']]"
      ],
      "execution_count": 0,
      "outputs": []
    },
    {
      "cell_type": "code",
      "metadata": {
        "id": "He10HAK5Pb3k",
        "colab_type": "code",
        "outputId": "1b7d20ae-a8fe-4f0e-fbfe-44347f43ab2e",
        "colab": {
          "base_uri": "https://localhost:8080/",
          "height": 228
        }
      },
      "source": [
        "train_dept_data.head()"
      ],
      "execution_count": 0,
      "outputs": [
        {
          "output_type": "execute_result",
          "data": {
            "text/html": [
              "<div>\n",
              "<style scoped>\n",
              "    .dataframe tbody tr th:only-of-type {\n",
              "        vertical-align: middle;\n",
              "    }\n",
              "\n",
              "    .dataframe tbody tr th {\n",
              "        vertical-align: top;\n",
              "    }\n",
              "\n",
              "    .dataframe thead th {\n",
              "        text-align: right;\n",
              "    }\n",
              "</style>\n",
              "<table border=\"1\" class=\"dataframe\">\n",
              "  <thead>\n",
              "    <tr style=\"text-align: right;\">\n",
              "      <th></th>\n",
              "      <th>Dept</th>\n",
              "      <th>Weekly_Sales</th>\n",
              "    </tr>\n",
              "    <tr>\n",
              "      <th>Store_Dept_Date</th>\n",
              "      <th></th>\n",
              "      <th></th>\n",
              "    </tr>\n",
              "  </thead>\n",
              "  <tbody>\n",
              "    <tr>\n",
              "      <th>1_1_2010-02-05</th>\n",
              "      <td>1</td>\n",
              "      <td>24924.50</td>\n",
              "    </tr>\n",
              "    <tr>\n",
              "      <th>1_1_2010-02-12</th>\n",
              "      <td>1</td>\n",
              "      <td>46039.49</td>\n",
              "    </tr>\n",
              "    <tr>\n",
              "      <th>1_1_2010-02-19</th>\n",
              "      <td>1</td>\n",
              "      <td>41595.55</td>\n",
              "    </tr>\n",
              "    <tr>\n",
              "      <th>1_1_2010-02-26</th>\n",
              "      <td>1</td>\n",
              "      <td>19403.54</td>\n",
              "    </tr>\n",
              "    <tr>\n",
              "      <th>1_1_2010-03-05</th>\n",
              "      <td>1</td>\n",
              "      <td>21827.90</td>\n",
              "    </tr>\n",
              "  </tbody>\n",
              "</table>\n",
              "</div>"
            ],
            "text/plain": [
              "                 Dept  Weekly_Sales\n",
              "Store_Dept_Date                    \n",
              "1_1_2010-02-05      1      24924.50\n",
              "1_1_2010-02-12      1      46039.49\n",
              "1_1_2010-02-19      1      41595.55\n",
              "1_1_2010-02-26      1      19403.54\n",
              "1_1_2010-03-05      1      21827.90"
            ]
          },
          "metadata": {
            "tags": []
          },
          "execution_count": 37
        }
      ]
    },
    {
      "cell_type": "code",
      "metadata": {
        "id": "06Jn2GLJHZN4",
        "colab_type": "code",
        "colab": {}
      },
      "source": [
        "# An utility function to create dummy variable\n",
        "def create_dummies( df, colname ):\n",
        "    col_dummies = pd.get_dummies(df[colname], prefix=colname)\n",
        "    col_dummies.drop(col_dummies.columns[0], axis=1, inplace=True)\n",
        "    df = pd.concat([df, col_dummies], axis=1)\n",
        "    df.drop( colname, axis = 1, inplace = True )\n",
        "    return df"
      ],
      "execution_count": 0,
      "outputs": []
    },
    {
      "cell_type": "markdown",
      "metadata": {
        "id": "Fdhp15ENWdoX",
        "colab_type": "text"
      },
      "source": [
        "#### Creating Dept Dummies"
      ]
    },
    {
      "cell_type": "code",
      "metadata": {
        "id": "rQ2gffJ0SAb-",
        "colab_type": "code",
        "outputId": "712a1e41-5dff-42c8-becd-a5d9af153279",
        "colab": {
          "base_uri": "https://localhost:8080/",
          "height": 146
        }
      },
      "source": [
        "train_dept_data['Dept'] = train_dept_data['Dept'].astype('category')\n",
        "train_dept_data = create_dummies(train_dept_data , 'Dept' )"
      ],
      "execution_count": 0,
      "outputs": [
        {
          "output_type": "stream",
          "text": [
            "/usr/local/lib/python3.6/dist-packages/ipykernel_launcher.py:1: SettingWithCopyWarning: \n",
            "A value is trying to be set on a copy of a slice from a DataFrame.\n",
            "Try using .loc[row_indexer,col_indexer] = value instead\n",
            "\n",
            "See the caveats in the documentation: https://pandas.pydata.org/pandas-docs/stable/user_guide/indexing.html#returning-a-view-versus-a-copy\n",
            "  \"\"\"Entry point for launching an IPython kernel.\n"
          ],
          "name": "stderr"
        }
      ]
    },
    {
      "cell_type": "code",
      "metadata": {
        "id": "5JRInlTCSXuE",
        "colab_type": "code",
        "outputId": "78423fca-d942-48cd-85f5-774c4e979731",
        "colab": {
          "base_uri": "https://localhost:8080/",
          "height": 35
        }
      },
      "source": [
        "train_dept_data.shape"
      ],
      "execution_count": 0,
      "outputs": [
        {
          "output_type": "execute_result",
          "data": {
            "text/plain": [
              "(421570, 81)"
            ]
          },
          "metadata": {
            "tags": []
          },
          "execution_count": 40
        }
      ]
    },
    {
      "cell_type": "code",
      "metadata": {
        "id": "4UWvIuyVSXmu",
        "colab_type": "code",
        "outputId": "e5569470-1ebf-4e0e-dd26-e1b87e9198de",
        "colab": {
          "base_uri": "https://localhost:8080/",
          "height": 1000
        }
      },
      "source": [
        "train_dept_data.info()"
      ],
      "execution_count": 0,
      "outputs": [
        {
          "output_type": "stream",
          "text": [
            "<class 'pandas.core.frame.DataFrame'>\n",
            "Index: 421570 entries, 1_1_2010-02-05 to 45_98_2012-10-26\n",
            "Data columns (total 81 columns):\n",
            " #   Column        Non-Null Count   Dtype  \n",
            "---  ------        --------------   -----  \n",
            " 0   Weekly_Sales  421570 non-null  float64\n",
            " 1   Dept_2        421570 non-null  uint8  \n",
            " 2   Dept_3        421570 non-null  uint8  \n",
            " 3   Dept_4        421570 non-null  uint8  \n",
            " 4   Dept_5        421570 non-null  uint8  \n",
            " 5   Dept_6        421570 non-null  uint8  \n",
            " 6   Dept_7        421570 non-null  uint8  \n",
            " 7   Dept_8        421570 non-null  uint8  \n",
            " 8   Dept_9        421570 non-null  uint8  \n",
            " 9   Dept_10       421570 non-null  uint8  \n",
            " 10  Dept_11       421570 non-null  uint8  \n",
            " 11  Dept_12       421570 non-null  uint8  \n",
            " 12  Dept_13       421570 non-null  uint8  \n",
            " 13  Dept_14       421570 non-null  uint8  \n",
            " 14  Dept_16       421570 non-null  uint8  \n",
            " 15  Dept_17       421570 non-null  uint8  \n",
            " 16  Dept_18       421570 non-null  uint8  \n",
            " 17  Dept_19       421570 non-null  uint8  \n",
            " 18  Dept_20       421570 non-null  uint8  \n",
            " 19  Dept_21       421570 non-null  uint8  \n",
            " 20  Dept_22       421570 non-null  uint8  \n",
            " 21  Dept_23       421570 non-null  uint8  \n",
            " 22  Dept_24       421570 non-null  uint8  \n",
            " 23  Dept_25       421570 non-null  uint8  \n",
            " 24  Dept_26       421570 non-null  uint8  \n",
            " 25  Dept_27       421570 non-null  uint8  \n",
            " 26  Dept_28       421570 non-null  uint8  \n",
            " 27  Dept_29       421570 non-null  uint8  \n",
            " 28  Dept_30       421570 non-null  uint8  \n",
            " 29  Dept_31       421570 non-null  uint8  \n",
            " 30  Dept_32       421570 non-null  uint8  \n",
            " 31  Dept_33       421570 non-null  uint8  \n",
            " 32  Dept_34       421570 non-null  uint8  \n",
            " 33  Dept_35       421570 non-null  uint8  \n",
            " 34  Dept_36       421570 non-null  uint8  \n",
            " 35  Dept_37       421570 non-null  uint8  \n",
            " 36  Dept_38       421570 non-null  uint8  \n",
            " 37  Dept_39       421570 non-null  uint8  \n",
            " 38  Dept_40       421570 non-null  uint8  \n",
            " 39  Dept_41       421570 non-null  uint8  \n",
            " 40  Dept_42       421570 non-null  uint8  \n",
            " 41  Dept_43       421570 non-null  uint8  \n",
            " 42  Dept_44       421570 non-null  uint8  \n",
            " 43  Dept_45       421570 non-null  uint8  \n",
            " 44  Dept_46       421570 non-null  uint8  \n",
            " 45  Dept_47       421570 non-null  uint8  \n",
            " 46  Dept_48       421570 non-null  uint8  \n",
            " 47  Dept_49       421570 non-null  uint8  \n",
            " 48  Dept_50       421570 non-null  uint8  \n",
            " 49  Dept_51       421570 non-null  uint8  \n",
            " 50  Dept_52       421570 non-null  uint8  \n",
            " 51  Dept_54       421570 non-null  uint8  \n",
            " 52  Dept_55       421570 non-null  uint8  \n",
            " 53  Dept_56       421570 non-null  uint8  \n",
            " 54  Dept_58       421570 non-null  uint8  \n",
            " 55  Dept_59       421570 non-null  uint8  \n",
            " 56  Dept_60       421570 non-null  uint8  \n",
            " 57  Dept_65       421570 non-null  uint8  \n",
            " 58  Dept_67       421570 non-null  uint8  \n",
            " 59  Dept_71       421570 non-null  uint8  \n",
            " 60  Dept_72       421570 non-null  uint8  \n",
            " 61  Dept_74       421570 non-null  uint8  \n",
            " 62  Dept_77       421570 non-null  uint8  \n",
            " 63  Dept_78       421570 non-null  uint8  \n",
            " 64  Dept_79       421570 non-null  uint8  \n",
            " 65  Dept_80       421570 non-null  uint8  \n",
            " 66  Dept_81       421570 non-null  uint8  \n",
            " 67  Dept_82       421570 non-null  uint8  \n",
            " 68  Dept_83       421570 non-null  uint8  \n",
            " 69  Dept_85       421570 non-null  uint8  \n",
            " 70  Dept_87       421570 non-null  uint8  \n",
            " 71  Dept_90       421570 non-null  uint8  \n",
            " 72  Dept_91       421570 non-null  uint8  \n",
            " 73  Dept_92       421570 non-null  uint8  \n",
            " 74  Dept_93       421570 non-null  uint8  \n",
            " 75  Dept_94       421570 non-null  uint8  \n",
            " 76  Dept_95       421570 non-null  uint8  \n",
            " 77  Dept_96       421570 non-null  uint8  \n",
            " 78  Dept_97       421570 non-null  uint8  \n",
            " 79  Dept_98       421570 non-null  uint8  \n",
            " 80  Dept_99       421570 non-null  uint8  \n",
            "dtypes: float64(1), uint8(80)\n",
            "memory usage: 38.6+ MB\n"
          ],
          "name": "stdout"
        }
      ]
    },
    {
      "cell_type": "markdown",
      "metadata": {
        "id": "-aRfsfpKWkgx",
        "colab_type": "text"
      },
      "source": [
        "#### Fitting Random Forest Model"
      ]
    },
    {
      "cell_type": "code",
      "metadata": {
        "id": "-IihVe-oSXf1",
        "colab_type": "code",
        "colab": {}
      },
      "source": [
        "dept_radm_reg = RandomForestRegressor(n_estimators=100)"
      ],
      "execution_count": 0,
      "outputs": []
    },
    {
      "cell_type": "code",
      "metadata": {
        "id": "4WS-thCASXTn",
        "colab_type": "code",
        "outputId": "d0ca947f-7679-4649-ba0a-e457b09f06ab",
        "colab": {
          "base_uri": "https://localhost:8080/",
          "height": 290
        }
      },
      "source": [
        "dept_X_col_list = train_dept_data.columns.difference(['Weekly_Sales'])\n",
        "dept_X_col_list"
      ],
      "execution_count": 0,
      "outputs": [
        {
          "output_type": "execute_result",
          "data": {
            "text/plain": [
              "Index(['Dept_10', 'Dept_11', 'Dept_12', 'Dept_13', 'Dept_14', 'Dept_16',\n",
              "       'Dept_17', 'Dept_18', 'Dept_19', 'Dept_2', 'Dept_20', 'Dept_21',\n",
              "       'Dept_22', 'Dept_23', 'Dept_24', 'Dept_25', 'Dept_26', 'Dept_27',\n",
              "       'Dept_28', 'Dept_29', 'Dept_3', 'Dept_30', 'Dept_31', 'Dept_32',\n",
              "       'Dept_33', 'Dept_34', 'Dept_35', 'Dept_36', 'Dept_37', 'Dept_38',\n",
              "       'Dept_39', 'Dept_4', 'Dept_40', 'Dept_41', 'Dept_42', 'Dept_43',\n",
              "       'Dept_44', 'Dept_45', 'Dept_46', 'Dept_47', 'Dept_48', 'Dept_49',\n",
              "       'Dept_5', 'Dept_50', 'Dept_51', 'Dept_52', 'Dept_54', 'Dept_55',\n",
              "       'Dept_56', 'Dept_58', 'Dept_59', 'Dept_6', 'Dept_60', 'Dept_65',\n",
              "       'Dept_67', 'Dept_7', 'Dept_71', 'Dept_72', 'Dept_74', 'Dept_77',\n",
              "       'Dept_78', 'Dept_79', 'Dept_8', 'Dept_80', 'Dept_81', 'Dept_82',\n",
              "       'Dept_83', 'Dept_85', 'Dept_87', 'Dept_9', 'Dept_90', 'Dept_91',\n",
              "       'Dept_92', 'Dept_93', 'Dept_94', 'Dept_95', 'Dept_96', 'Dept_97',\n",
              "       'Dept_98', 'Dept_99'],\n",
              "      dtype='object')"
            ]
          },
          "metadata": {
            "tags": []
          },
          "execution_count": 43
        }
      ]
    },
    {
      "cell_type": "code",
      "metadata": {
        "id": "5eOqBfzlSXEl",
        "colab_type": "code",
        "outputId": "07afe155-1aee-46b8-c6c5-9ef4218bbceb",
        "colab": {
          "base_uri": "https://localhost:8080/",
          "height": 145
        }
      },
      "source": [
        "dept_radm_reg.fit( train_dept_data[dept_X_col_list], train_dept_data['Weekly_Sales'] )"
      ],
      "execution_count": 0,
      "outputs": [
        {
          "output_type": "execute_result",
          "data": {
            "text/plain": [
              "RandomForestRegressor(bootstrap=True, ccp_alpha=0.0, criterion='mse',\n",
              "                      max_depth=None, max_features='auto', max_leaf_nodes=None,\n",
              "                      max_samples=None, min_impurity_decrease=0.0,\n",
              "                      min_impurity_split=None, min_samples_leaf=1,\n",
              "                      min_samples_split=2, min_weight_fraction_leaf=0.0,\n",
              "                      n_estimators=100, n_jobs=None, oob_score=False,\n",
              "                      random_state=None, verbose=0, warm_start=False)"
            ]
          },
          "metadata": {
            "tags": []
          },
          "execution_count": 44
        }
      ]
    },
    {
      "cell_type": "code",
      "metadata": {
        "id": "Ytds2o8LVAWr",
        "colab_type": "code",
        "colab": {}
      },
      "source": [
        "indices = np.argsort(dept_radm_reg.feature_importances_)[::-1]\n",
        "feature_rank = pd.DataFrame( columns = ['rank', 'feature', 'importance'] )\n",
        "for f in range(train_dept_data[dept_X_col_list].shape[1]):\n",
        "  feature_rank.loc[f] = [f+1,\n",
        "                         train_dept_data[dept_X_col_list].columns[indices[f]],\n",
        "                         dept_radm_reg.feature_importances_[indices[f]]]"
      ],
      "execution_count": 0,
      "outputs": []
    },
    {
      "cell_type": "code",
      "metadata": {
        "id": "uLCS8Pv9VAPC",
        "colab_type": "code",
        "outputId": "2a30697e-9137-4343-bd85-367579179fac",
        "colab": {
          "base_uri": "https://localhost:8080/",
          "height": 407
        }
      },
      "source": [
        "feature_rank"
      ],
      "execution_count": 0,
      "outputs": [
        {
          "output_type": "execute_result",
          "data": {
            "text/html": [
              "<div>\n",
              "<style scoped>\n",
              "    .dataframe tbody tr th:only-of-type {\n",
              "        vertical-align: middle;\n",
              "    }\n",
              "\n",
              "    .dataframe tbody tr th {\n",
              "        vertical-align: top;\n",
              "    }\n",
              "\n",
              "    .dataframe thead th {\n",
              "        text-align: right;\n",
              "    }\n",
              "</style>\n",
              "<table border=\"1\" class=\"dataframe\">\n",
              "  <thead>\n",
              "    <tr style=\"text-align: right;\">\n",
              "      <th></th>\n",
              "      <th>rank</th>\n",
              "      <th>feature</th>\n",
              "      <th>importance</th>\n",
              "    </tr>\n",
              "  </thead>\n",
              "  <tbody>\n",
              "    <tr>\n",
              "      <th>0</th>\n",
              "      <td>1</td>\n",
              "      <td>Dept_92</td>\n",
              "      <td>0.195621</td>\n",
              "    </tr>\n",
              "    <tr>\n",
              "      <th>1</th>\n",
              "      <td>2</td>\n",
              "      <td>Dept_95</td>\n",
              "      <td>0.168264</td>\n",
              "    </tr>\n",
              "    <tr>\n",
              "      <th>2</th>\n",
              "      <td>3</td>\n",
              "      <td>Dept_38</td>\n",
              "      <td>0.123205</td>\n",
              "    </tr>\n",
              "    <tr>\n",
              "      <th>3</th>\n",
              "      <td>4</td>\n",
              "      <td>Dept_72</td>\n",
              "      <td>0.072341</td>\n",
              "    </tr>\n",
              "    <tr>\n",
              "      <th>4</th>\n",
              "      <td>5</td>\n",
              "      <td>Dept_90</td>\n",
              "      <td>0.059250</td>\n",
              "    </tr>\n",
              "    <tr>\n",
              "      <th>...</th>\n",
              "      <td>...</td>\n",
              "      <td>...</td>\n",
              "      <td>...</td>\n",
              "    </tr>\n",
              "    <tr>\n",
              "      <th>75</th>\n",
              "      <td>76</td>\n",
              "      <td>Dept_33</td>\n",
              "      <td>0.000292</td>\n",
              "    </tr>\n",
              "    <tr>\n",
              "      <th>76</th>\n",
              "      <td>77</td>\n",
              "      <td>Dept_6</td>\n",
              "      <td>0.000289</td>\n",
              "    </tr>\n",
              "    <tr>\n",
              "      <th>77</th>\n",
              "      <td>78</td>\n",
              "      <td>Dept_24</td>\n",
              "      <td>0.000265</td>\n",
              "    </tr>\n",
              "    <tr>\n",
              "      <th>78</th>\n",
              "      <td>79</td>\n",
              "      <td>Dept_39</td>\n",
              "      <td>0.000050</td>\n",
              "    </tr>\n",
              "    <tr>\n",
              "      <th>79</th>\n",
              "      <td>80</td>\n",
              "      <td>Dept_43</td>\n",
              "      <td>0.000038</td>\n",
              "    </tr>\n",
              "  </tbody>\n",
              "</table>\n",
              "<p>80 rows × 3 columns</p>\n",
              "</div>"
            ],
            "text/plain": [
              "   rank  feature  importance\n",
              "0     1  Dept_92    0.195621\n",
              "1     2  Dept_95    0.168264\n",
              "2     3  Dept_38    0.123205\n",
              "3     4  Dept_72    0.072341\n",
              "4     5  Dept_90    0.059250\n",
              "..  ...      ...         ...\n",
              "75   76  Dept_33    0.000292\n",
              "76   77   Dept_6    0.000289\n",
              "77   78  Dept_24    0.000265\n",
              "78   79  Dept_39    0.000050\n",
              "79   80  Dept_43    0.000038\n",
              "\n",
              "[80 rows x 3 columns]"
            ]
          },
          "metadata": {
            "tags": []
          },
          "execution_count": 46
        }
      ]
    },
    {
      "cell_type": "markdown",
      "metadata": {
        "id": "TeMzeuTAWs3l",
        "colab_type": "text"
      },
      "source": [
        "#### List of top 20 Depts"
      ]
    },
    {
      "cell_type": "code",
      "metadata": {
        "id": "oI_uBH0dVAKF",
        "colab_type": "code",
        "outputId": "e5cd7233-3a4a-4765-ce16-b82c58f97f70",
        "colab": {
          "base_uri": "https://localhost:8080/",
          "height": 399
        }
      },
      "source": [
        "feature_rank.feature.head(20)"
      ],
      "execution_count": 0,
      "outputs": [
        {
          "output_type": "execute_result",
          "data": {
            "text/plain": [
              "0     Dept_92\n",
              "1     Dept_95\n",
              "2     Dept_38\n",
              "3     Dept_72\n",
              "4     Dept_90\n",
              "5     Dept_40\n",
              "6      Dept_2\n",
              "7     Dept_91\n",
              "8     Dept_94\n",
              "9     Dept_13\n",
              "10     Dept_8\n",
              "11    Dept_93\n",
              "12     Dept_4\n",
              "13     Dept_7\n",
              "14    Dept_23\n",
              "15    Dept_79\n",
              "16     Dept_5\n",
              "17     Dept_9\n",
              "18    Dept_46\n",
              "19    Dept_10\n",
              "Name: feature, dtype: object"
            ]
          },
          "metadata": {
            "tags": []
          },
          "execution_count": 47
        }
      ]
    },
    {
      "cell_type": "code",
      "metadata": {
        "id": "BRK3SRfbRumW",
        "colab_type": "code",
        "outputId": "009afa42-df85-40f8-9f2d-812972ffca6a",
        "colab": {
          "base_uri": "https://localhost:8080/",
          "height": 381
        }
      },
      "source": [
        "top_dept_list = feature_rank.feature.head(20).values.tolist()\n",
        "top_dept_list"
      ],
      "execution_count": 0,
      "outputs": [
        {
          "output_type": "execute_result",
          "data": {
            "text/plain": [
              "['Dept_92',\n",
              " 'Dept_95',\n",
              " 'Dept_38',\n",
              " 'Dept_72',\n",
              " 'Dept_90',\n",
              " 'Dept_40',\n",
              " 'Dept_2',\n",
              " 'Dept_91',\n",
              " 'Dept_94',\n",
              " 'Dept_13',\n",
              " 'Dept_8',\n",
              " 'Dept_93',\n",
              " 'Dept_4',\n",
              " 'Dept_7',\n",
              " 'Dept_23',\n",
              " 'Dept_79',\n",
              " 'Dept_5',\n",
              " 'Dept_9',\n",
              " 'Dept_46',\n",
              " 'Dept_10']"
            ]
          },
          "metadata": {
            "tags": []
          },
          "execution_count": 48
        }
      ]
    },
    {
      "cell_type": "markdown",
      "metadata": {
        "id": "ZMjdYhpgY7A6",
        "colab_type": "text"
      },
      "source": [
        "### Create Dummies on Store and Type Columns"
      ]
    },
    {
      "cell_type": "code",
      "metadata": {
        "id": "cA6yKeboU__q",
        "colab_type": "code",
        "outputId": "e90e5f87-ddca-4efc-c239-ee966e9b79eb",
        "colab": {
          "base_uri": "https://localhost:8080/",
          "height": 128
        }
      },
      "source": [
        "# Drop Dept from train_cat_data\n",
        "train_cat_data.drop('Dept', axis=1, inplace=True)"
      ],
      "execution_count": 0,
      "outputs": [
        {
          "output_type": "stream",
          "text": [
            "/usr/local/lib/python3.6/dist-packages/pandas/core/frame.py:3997: SettingWithCopyWarning: \n",
            "A value is trying to be set on a copy of a slice from a DataFrame\n",
            "\n",
            "See the caveats in the documentation: https://pandas.pydata.org/pandas-docs/stable/user_guide/indexing.html#returning-a-view-versus-a-copy\n",
            "  errors=errors,\n"
          ],
          "name": "stderr"
        }
      ]
    },
    {
      "cell_type": "code",
      "metadata": {
        "id": "hWooop7pU_5z",
        "colab_type": "code",
        "outputId": "cb1b227e-a2c1-47c9-ad26-a33edb705680",
        "colab": {
          "base_uri": "https://localhost:8080/",
          "height": 181
        }
      },
      "source": [
        "train_cat_data.info()"
      ],
      "execution_count": 0,
      "outputs": [
        {
          "output_type": "stream",
          "text": [
            "<class 'pandas.core.frame.DataFrame'>\n",
            "Index: 421570 entries, 1_1_2010-02-05 to 45_98_2012-10-26\n",
            "Data columns (total 2 columns):\n",
            " #   Column  Non-Null Count   Dtype \n",
            "---  ------  --------------   ----- \n",
            " 0   Store   421570 non-null  int64 \n",
            " 1   Type    421570 non-null  object\n",
            "dtypes: int64(1), object(1)\n",
            "memory usage: 9.6+ MB\n"
          ],
          "name": "stdout"
        }
      ]
    },
    {
      "cell_type": "code",
      "metadata": {
        "id": "TWoedeHdU_za",
        "colab_type": "code",
        "colab": {}
      },
      "source": [
        "cat_var_names = ['Store', 'Type']"
      ],
      "execution_count": 0,
      "outputs": []
    },
    {
      "cell_type": "code",
      "metadata": {
        "id": "E8Z9zdT7HiRK",
        "colab_type": "code",
        "colab": {}
      },
      "source": [
        "for c_feature in cat_var_names:\n",
        "    train_cat_data = create_dummies(train_cat_data , c_feature )"
      ],
      "execution_count": 0,
      "outputs": []
    },
    {
      "cell_type": "code",
      "metadata": {
        "id": "i-6bHIFpHkpw",
        "colab_type": "code",
        "outputId": "c5546eb2-cfc7-4176-b4e1-15113dfbb2ce",
        "colab": {
          "base_uri": "https://localhost:8080/",
          "height": 248
        }
      },
      "source": [
        "train_cat_data.head()"
      ],
      "execution_count": 0,
      "outputs": [
        {
          "output_type": "execute_result",
          "data": {
            "text/html": [
              "<div>\n",
              "<style scoped>\n",
              "    .dataframe tbody tr th:only-of-type {\n",
              "        vertical-align: middle;\n",
              "    }\n",
              "\n",
              "    .dataframe tbody tr th {\n",
              "        vertical-align: top;\n",
              "    }\n",
              "\n",
              "    .dataframe thead th {\n",
              "        text-align: right;\n",
              "    }\n",
              "</style>\n",
              "<table border=\"1\" class=\"dataframe\">\n",
              "  <thead>\n",
              "    <tr style=\"text-align: right;\">\n",
              "      <th></th>\n",
              "      <th>Store_2</th>\n",
              "      <th>Store_3</th>\n",
              "      <th>Store_4</th>\n",
              "      <th>Store_5</th>\n",
              "      <th>Store_6</th>\n",
              "      <th>Store_7</th>\n",
              "      <th>Store_8</th>\n",
              "      <th>Store_9</th>\n",
              "      <th>Store_10</th>\n",
              "      <th>Store_11</th>\n",
              "      <th>Store_12</th>\n",
              "      <th>Store_13</th>\n",
              "      <th>Store_14</th>\n",
              "      <th>Store_15</th>\n",
              "      <th>Store_16</th>\n",
              "      <th>Store_17</th>\n",
              "      <th>Store_18</th>\n",
              "      <th>Store_19</th>\n",
              "      <th>Store_20</th>\n",
              "      <th>Store_21</th>\n",
              "      <th>Store_22</th>\n",
              "      <th>Store_23</th>\n",
              "      <th>Store_24</th>\n",
              "      <th>Store_25</th>\n",
              "      <th>Store_26</th>\n",
              "      <th>Store_27</th>\n",
              "      <th>Store_28</th>\n",
              "      <th>Store_29</th>\n",
              "      <th>Store_30</th>\n",
              "      <th>Store_31</th>\n",
              "      <th>Store_32</th>\n",
              "      <th>Store_33</th>\n",
              "      <th>Store_34</th>\n",
              "      <th>Store_35</th>\n",
              "      <th>Store_36</th>\n",
              "      <th>Store_37</th>\n",
              "      <th>Store_38</th>\n",
              "      <th>Store_39</th>\n",
              "      <th>Store_40</th>\n",
              "      <th>Store_41</th>\n",
              "      <th>Store_42</th>\n",
              "      <th>Store_43</th>\n",
              "      <th>Store_44</th>\n",
              "      <th>Store_45</th>\n",
              "      <th>Type_B</th>\n",
              "      <th>Type_C</th>\n",
              "    </tr>\n",
              "    <tr>\n",
              "      <th>Store_Dept_Date</th>\n",
              "      <th></th>\n",
              "      <th></th>\n",
              "      <th></th>\n",
              "      <th></th>\n",
              "      <th></th>\n",
              "      <th></th>\n",
              "      <th></th>\n",
              "      <th></th>\n",
              "      <th></th>\n",
              "      <th></th>\n",
              "      <th></th>\n",
              "      <th></th>\n",
              "      <th></th>\n",
              "      <th></th>\n",
              "      <th></th>\n",
              "      <th></th>\n",
              "      <th></th>\n",
              "      <th></th>\n",
              "      <th></th>\n",
              "      <th></th>\n",
              "      <th></th>\n",
              "      <th></th>\n",
              "      <th></th>\n",
              "      <th></th>\n",
              "      <th></th>\n",
              "      <th></th>\n",
              "      <th></th>\n",
              "      <th></th>\n",
              "      <th></th>\n",
              "      <th></th>\n",
              "      <th></th>\n",
              "      <th></th>\n",
              "      <th></th>\n",
              "      <th></th>\n",
              "      <th></th>\n",
              "      <th></th>\n",
              "      <th></th>\n",
              "      <th></th>\n",
              "      <th></th>\n",
              "      <th></th>\n",
              "      <th></th>\n",
              "      <th></th>\n",
              "      <th></th>\n",
              "      <th></th>\n",
              "      <th></th>\n",
              "      <th></th>\n",
              "    </tr>\n",
              "  </thead>\n",
              "  <tbody>\n",
              "    <tr>\n",
              "      <th>1_1_2010-02-05</th>\n",
              "      <td>0</td>\n",
              "      <td>0</td>\n",
              "      <td>0</td>\n",
              "      <td>0</td>\n",
              "      <td>0</td>\n",
              "      <td>0</td>\n",
              "      <td>0</td>\n",
              "      <td>0</td>\n",
              "      <td>0</td>\n",
              "      <td>0</td>\n",
              "      <td>0</td>\n",
              "      <td>0</td>\n",
              "      <td>0</td>\n",
              "      <td>0</td>\n",
              "      <td>0</td>\n",
              "      <td>0</td>\n",
              "      <td>0</td>\n",
              "      <td>0</td>\n",
              "      <td>0</td>\n",
              "      <td>0</td>\n",
              "      <td>0</td>\n",
              "      <td>0</td>\n",
              "      <td>0</td>\n",
              "      <td>0</td>\n",
              "      <td>0</td>\n",
              "      <td>0</td>\n",
              "      <td>0</td>\n",
              "      <td>0</td>\n",
              "      <td>0</td>\n",
              "      <td>0</td>\n",
              "      <td>0</td>\n",
              "      <td>0</td>\n",
              "      <td>0</td>\n",
              "      <td>0</td>\n",
              "      <td>0</td>\n",
              "      <td>0</td>\n",
              "      <td>0</td>\n",
              "      <td>0</td>\n",
              "      <td>0</td>\n",
              "      <td>0</td>\n",
              "      <td>0</td>\n",
              "      <td>0</td>\n",
              "      <td>0</td>\n",
              "      <td>0</td>\n",
              "      <td>0</td>\n",
              "      <td>0</td>\n",
              "    </tr>\n",
              "    <tr>\n",
              "      <th>1_1_2010-02-12</th>\n",
              "      <td>0</td>\n",
              "      <td>0</td>\n",
              "      <td>0</td>\n",
              "      <td>0</td>\n",
              "      <td>0</td>\n",
              "      <td>0</td>\n",
              "      <td>0</td>\n",
              "      <td>0</td>\n",
              "      <td>0</td>\n",
              "      <td>0</td>\n",
              "      <td>0</td>\n",
              "      <td>0</td>\n",
              "      <td>0</td>\n",
              "      <td>0</td>\n",
              "      <td>0</td>\n",
              "      <td>0</td>\n",
              "      <td>0</td>\n",
              "      <td>0</td>\n",
              "      <td>0</td>\n",
              "      <td>0</td>\n",
              "      <td>0</td>\n",
              "      <td>0</td>\n",
              "      <td>0</td>\n",
              "      <td>0</td>\n",
              "      <td>0</td>\n",
              "      <td>0</td>\n",
              "      <td>0</td>\n",
              "      <td>0</td>\n",
              "      <td>0</td>\n",
              "      <td>0</td>\n",
              "      <td>0</td>\n",
              "      <td>0</td>\n",
              "      <td>0</td>\n",
              "      <td>0</td>\n",
              "      <td>0</td>\n",
              "      <td>0</td>\n",
              "      <td>0</td>\n",
              "      <td>0</td>\n",
              "      <td>0</td>\n",
              "      <td>0</td>\n",
              "      <td>0</td>\n",
              "      <td>0</td>\n",
              "      <td>0</td>\n",
              "      <td>0</td>\n",
              "      <td>0</td>\n",
              "      <td>0</td>\n",
              "    </tr>\n",
              "    <tr>\n",
              "      <th>1_1_2010-02-19</th>\n",
              "      <td>0</td>\n",
              "      <td>0</td>\n",
              "      <td>0</td>\n",
              "      <td>0</td>\n",
              "      <td>0</td>\n",
              "      <td>0</td>\n",
              "      <td>0</td>\n",
              "      <td>0</td>\n",
              "      <td>0</td>\n",
              "      <td>0</td>\n",
              "      <td>0</td>\n",
              "      <td>0</td>\n",
              "      <td>0</td>\n",
              "      <td>0</td>\n",
              "      <td>0</td>\n",
              "      <td>0</td>\n",
              "      <td>0</td>\n",
              "      <td>0</td>\n",
              "      <td>0</td>\n",
              "      <td>0</td>\n",
              "      <td>0</td>\n",
              "      <td>0</td>\n",
              "      <td>0</td>\n",
              "      <td>0</td>\n",
              "      <td>0</td>\n",
              "      <td>0</td>\n",
              "      <td>0</td>\n",
              "      <td>0</td>\n",
              "      <td>0</td>\n",
              "      <td>0</td>\n",
              "      <td>0</td>\n",
              "      <td>0</td>\n",
              "      <td>0</td>\n",
              "      <td>0</td>\n",
              "      <td>0</td>\n",
              "      <td>0</td>\n",
              "      <td>0</td>\n",
              "      <td>0</td>\n",
              "      <td>0</td>\n",
              "      <td>0</td>\n",
              "      <td>0</td>\n",
              "      <td>0</td>\n",
              "      <td>0</td>\n",
              "      <td>0</td>\n",
              "      <td>0</td>\n",
              "      <td>0</td>\n",
              "    </tr>\n",
              "    <tr>\n",
              "      <th>1_1_2010-02-26</th>\n",
              "      <td>0</td>\n",
              "      <td>0</td>\n",
              "      <td>0</td>\n",
              "      <td>0</td>\n",
              "      <td>0</td>\n",
              "      <td>0</td>\n",
              "      <td>0</td>\n",
              "      <td>0</td>\n",
              "      <td>0</td>\n",
              "      <td>0</td>\n",
              "      <td>0</td>\n",
              "      <td>0</td>\n",
              "      <td>0</td>\n",
              "      <td>0</td>\n",
              "      <td>0</td>\n",
              "      <td>0</td>\n",
              "      <td>0</td>\n",
              "      <td>0</td>\n",
              "      <td>0</td>\n",
              "      <td>0</td>\n",
              "      <td>0</td>\n",
              "      <td>0</td>\n",
              "      <td>0</td>\n",
              "      <td>0</td>\n",
              "      <td>0</td>\n",
              "      <td>0</td>\n",
              "      <td>0</td>\n",
              "      <td>0</td>\n",
              "      <td>0</td>\n",
              "      <td>0</td>\n",
              "      <td>0</td>\n",
              "      <td>0</td>\n",
              "      <td>0</td>\n",
              "      <td>0</td>\n",
              "      <td>0</td>\n",
              "      <td>0</td>\n",
              "      <td>0</td>\n",
              "      <td>0</td>\n",
              "      <td>0</td>\n",
              "      <td>0</td>\n",
              "      <td>0</td>\n",
              "      <td>0</td>\n",
              "      <td>0</td>\n",
              "      <td>0</td>\n",
              "      <td>0</td>\n",
              "      <td>0</td>\n",
              "    </tr>\n",
              "    <tr>\n",
              "      <th>1_1_2010-03-05</th>\n",
              "      <td>0</td>\n",
              "      <td>0</td>\n",
              "      <td>0</td>\n",
              "      <td>0</td>\n",
              "      <td>0</td>\n",
              "      <td>0</td>\n",
              "      <td>0</td>\n",
              "      <td>0</td>\n",
              "      <td>0</td>\n",
              "      <td>0</td>\n",
              "      <td>0</td>\n",
              "      <td>0</td>\n",
              "      <td>0</td>\n",
              "      <td>0</td>\n",
              "      <td>0</td>\n",
              "      <td>0</td>\n",
              "      <td>0</td>\n",
              "      <td>0</td>\n",
              "      <td>0</td>\n",
              "      <td>0</td>\n",
              "      <td>0</td>\n",
              "      <td>0</td>\n",
              "      <td>0</td>\n",
              "      <td>0</td>\n",
              "      <td>0</td>\n",
              "      <td>0</td>\n",
              "      <td>0</td>\n",
              "      <td>0</td>\n",
              "      <td>0</td>\n",
              "      <td>0</td>\n",
              "      <td>0</td>\n",
              "      <td>0</td>\n",
              "      <td>0</td>\n",
              "      <td>0</td>\n",
              "      <td>0</td>\n",
              "      <td>0</td>\n",
              "      <td>0</td>\n",
              "      <td>0</td>\n",
              "      <td>0</td>\n",
              "      <td>0</td>\n",
              "      <td>0</td>\n",
              "      <td>0</td>\n",
              "      <td>0</td>\n",
              "      <td>0</td>\n",
              "      <td>0</td>\n",
              "      <td>0</td>\n",
              "    </tr>\n",
              "  </tbody>\n",
              "</table>\n",
              "</div>"
            ],
            "text/plain": [
              "                 Store_2  Store_3  Store_4  ...  Store_45  Type_B  Type_C\n",
              "Store_Dept_Date                             ...                          \n",
              "1_1_2010-02-05         0        0        0  ...         0       0       0\n",
              "1_1_2010-02-12         0        0        0  ...         0       0       0\n",
              "1_1_2010-02-19         0        0        0  ...         0       0       0\n",
              "1_1_2010-02-26         0        0        0  ...         0       0       0\n",
              "1_1_2010-03-05         0        0        0  ...         0       0       0\n",
              "\n",
              "[5 rows x 46 columns]"
            ]
          },
          "metadata": {
            "tags": []
          },
          "execution_count": 53
        }
      ]
    },
    {
      "cell_type": "code",
      "metadata": {
        "id": "MhgtaBwmHwNm",
        "colab_type": "code",
        "outputId": "f809c133-01cb-4e83-e95d-6bb2f2686b77",
        "colab": {
          "base_uri": "https://localhost:8080/",
          "height": 981
        }
      },
      "source": [
        "train_cat_data.info()"
      ],
      "execution_count": 0,
      "outputs": [
        {
          "output_type": "stream",
          "text": [
            "<class 'pandas.core.frame.DataFrame'>\n",
            "Index: 421570 entries, 1_1_2010-02-05 to 45_98_2012-10-26\n",
            "Data columns (total 46 columns):\n",
            " #   Column    Non-Null Count   Dtype\n",
            "---  ------    --------------   -----\n",
            " 0   Store_2   421570 non-null  uint8\n",
            " 1   Store_3   421570 non-null  uint8\n",
            " 2   Store_4   421570 non-null  uint8\n",
            " 3   Store_5   421570 non-null  uint8\n",
            " 4   Store_6   421570 non-null  uint8\n",
            " 5   Store_7   421570 non-null  uint8\n",
            " 6   Store_8   421570 non-null  uint8\n",
            " 7   Store_9   421570 non-null  uint8\n",
            " 8   Store_10  421570 non-null  uint8\n",
            " 9   Store_11  421570 non-null  uint8\n",
            " 10  Store_12  421570 non-null  uint8\n",
            " 11  Store_13  421570 non-null  uint8\n",
            " 12  Store_14  421570 non-null  uint8\n",
            " 13  Store_15  421570 non-null  uint8\n",
            " 14  Store_16  421570 non-null  uint8\n",
            " 15  Store_17  421570 non-null  uint8\n",
            " 16  Store_18  421570 non-null  uint8\n",
            " 17  Store_19  421570 non-null  uint8\n",
            " 18  Store_20  421570 non-null  uint8\n",
            " 19  Store_21  421570 non-null  uint8\n",
            " 20  Store_22  421570 non-null  uint8\n",
            " 21  Store_23  421570 non-null  uint8\n",
            " 22  Store_24  421570 non-null  uint8\n",
            " 23  Store_25  421570 non-null  uint8\n",
            " 24  Store_26  421570 non-null  uint8\n",
            " 25  Store_27  421570 non-null  uint8\n",
            " 26  Store_28  421570 non-null  uint8\n",
            " 27  Store_29  421570 non-null  uint8\n",
            " 28  Store_30  421570 non-null  uint8\n",
            " 29  Store_31  421570 non-null  uint8\n",
            " 30  Store_32  421570 non-null  uint8\n",
            " 31  Store_33  421570 non-null  uint8\n",
            " 32  Store_34  421570 non-null  uint8\n",
            " 33  Store_35  421570 non-null  uint8\n",
            " 34  Store_36  421570 non-null  uint8\n",
            " 35  Store_37  421570 non-null  uint8\n",
            " 36  Store_38  421570 non-null  uint8\n",
            " 37  Store_39  421570 non-null  uint8\n",
            " 38  Store_40  421570 non-null  uint8\n",
            " 39  Store_41  421570 non-null  uint8\n",
            " 40  Store_42  421570 non-null  uint8\n",
            " 41  Store_43  421570 non-null  uint8\n",
            " 42  Store_44  421570 non-null  uint8\n",
            " 43  Store_45  421570 non-null  uint8\n",
            " 44  Type_B    421570 non-null  uint8\n",
            " 45  Type_C    421570 non-null  uint8\n",
            "dtypes: uint8(46)\n",
            "memory usage: 21.7+ MB\n"
          ],
          "name": "stdout"
        }
      ]
    },
    {
      "cell_type": "markdown",
      "metadata": {
        "id": "fkex4pDJZM08",
        "colab_type": "text"
      },
      "source": [
        "### Concatenate Depts dummies with Store and Type Dummies"
      ]
    },
    {
      "cell_type": "code",
      "metadata": {
        "id": "vO0qXKFkZKmG",
        "colab_type": "code",
        "outputId": "9aed4782-a17b-4e9a-dbf3-514599eb19b0",
        "colab": {
          "base_uri": "https://localhost:8080/",
          "height": 248
        }
      },
      "source": [
        "train_cat_merged_data = pd.merge(train_cat_data, train_dept_data[top_dept_list], left_index=True, right_index=True)\n",
        "train_cat_merged_data.head()"
      ],
      "execution_count": 0,
      "outputs": [
        {
          "output_type": "execute_result",
          "data": {
            "text/html": [
              "<div>\n",
              "<style scoped>\n",
              "    .dataframe tbody tr th:only-of-type {\n",
              "        vertical-align: middle;\n",
              "    }\n",
              "\n",
              "    .dataframe tbody tr th {\n",
              "        vertical-align: top;\n",
              "    }\n",
              "\n",
              "    .dataframe thead th {\n",
              "        text-align: right;\n",
              "    }\n",
              "</style>\n",
              "<table border=\"1\" class=\"dataframe\">\n",
              "  <thead>\n",
              "    <tr style=\"text-align: right;\">\n",
              "      <th></th>\n",
              "      <th>Store_2</th>\n",
              "      <th>Store_3</th>\n",
              "      <th>Store_4</th>\n",
              "      <th>Store_5</th>\n",
              "      <th>Store_6</th>\n",
              "      <th>Store_7</th>\n",
              "      <th>Store_8</th>\n",
              "      <th>Store_9</th>\n",
              "      <th>Store_10</th>\n",
              "      <th>Store_11</th>\n",
              "      <th>Store_12</th>\n",
              "      <th>Store_13</th>\n",
              "      <th>Store_14</th>\n",
              "      <th>Store_15</th>\n",
              "      <th>Store_16</th>\n",
              "      <th>Store_17</th>\n",
              "      <th>Store_18</th>\n",
              "      <th>Store_19</th>\n",
              "      <th>Store_20</th>\n",
              "      <th>Store_21</th>\n",
              "      <th>Store_22</th>\n",
              "      <th>Store_23</th>\n",
              "      <th>Store_24</th>\n",
              "      <th>Store_25</th>\n",
              "      <th>Store_26</th>\n",
              "      <th>Store_27</th>\n",
              "      <th>Store_28</th>\n",
              "      <th>Store_29</th>\n",
              "      <th>Store_30</th>\n",
              "      <th>Store_31</th>\n",
              "      <th>Store_32</th>\n",
              "      <th>Store_33</th>\n",
              "      <th>Store_34</th>\n",
              "      <th>Store_35</th>\n",
              "      <th>Store_36</th>\n",
              "      <th>Store_37</th>\n",
              "      <th>Store_38</th>\n",
              "      <th>Store_39</th>\n",
              "      <th>Store_40</th>\n",
              "      <th>Store_41</th>\n",
              "      <th>Store_42</th>\n",
              "      <th>Store_43</th>\n",
              "      <th>Store_44</th>\n",
              "      <th>Store_45</th>\n",
              "      <th>Type_B</th>\n",
              "      <th>Type_C</th>\n",
              "      <th>Dept_92</th>\n",
              "      <th>Dept_95</th>\n",
              "      <th>Dept_38</th>\n",
              "      <th>Dept_72</th>\n",
              "      <th>Dept_90</th>\n",
              "      <th>Dept_40</th>\n",
              "      <th>Dept_2</th>\n",
              "      <th>Dept_91</th>\n",
              "      <th>Dept_94</th>\n",
              "      <th>Dept_13</th>\n",
              "      <th>Dept_8</th>\n",
              "      <th>Dept_93</th>\n",
              "      <th>Dept_4</th>\n",
              "      <th>Dept_7</th>\n",
              "      <th>Dept_23</th>\n",
              "      <th>Dept_79</th>\n",
              "      <th>Dept_5</th>\n",
              "      <th>Dept_9</th>\n",
              "      <th>Dept_46</th>\n",
              "      <th>Dept_10</th>\n",
              "    </tr>\n",
              "    <tr>\n",
              "      <th>Store_Dept_Date</th>\n",
              "      <th></th>\n",
              "      <th></th>\n",
              "      <th></th>\n",
              "      <th></th>\n",
              "      <th></th>\n",
              "      <th></th>\n",
              "      <th></th>\n",
              "      <th></th>\n",
              "      <th></th>\n",
              "      <th></th>\n",
              "      <th></th>\n",
              "      <th></th>\n",
              "      <th></th>\n",
              "      <th></th>\n",
              "      <th></th>\n",
              "      <th></th>\n",
              "      <th></th>\n",
              "      <th></th>\n",
              "      <th></th>\n",
              "      <th></th>\n",
              "      <th></th>\n",
              "      <th></th>\n",
              "      <th></th>\n",
              "      <th></th>\n",
              "      <th></th>\n",
              "      <th></th>\n",
              "      <th></th>\n",
              "      <th></th>\n",
              "      <th></th>\n",
              "      <th></th>\n",
              "      <th></th>\n",
              "      <th></th>\n",
              "      <th></th>\n",
              "      <th></th>\n",
              "      <th></th>\n",
              "      <th></th>\n",
              "      <th></th>\n",
              "      <th></th>\n",
              "      <th></th>\n",
              "      <th></th>\n",
              "      <th></th>\n",
              "      <th></th>\n",
              "      <th></th>\n",
              "      <th></th>\n",
              "      <th></th>\n",
              "      <th></th>\n",
              "      <th></th>\n",
              "      <th></th>\n",
              "      <th></th>\n",
              "      <th></th>\n",
              "      <th></th>\n",
              "      <th></th>\n",
              "      <th></th>\n",
              "      <th></th>\n",
              "      <th></th>\n",
              "      <th></th>\n",
              "      <th></th>\n",
              "      <th></th>\n",
              "      <th></th>\n",
              "      <th></th>\n",
              "      <th></th>\n",
              "      <th></th>\n",
              "      <th></th>\n",
              "      <th></th>\n",
              "      <th></th>\n",
              "      <th></th>\n",
              "    </tr>\n",
              "  </thead>\n",
              "  <tbody>\n",
              "    <tr>\n",
              "      <th>1_1_2010-02-05</th>\n",
              "      <td>0</td>\n",
              "      <td>0</td>\n",
              "      <td>0</td>\n",
              "      <td>0</td>\n",
              "      <td>0</td>\n",
              "      <td>0</td>\n",
              "      <td>0</td>\n",
              "      <td>0</td>\n",
              "      <td>0</td>\n",
              "      <td>0</td>\n",
              "      <td>0</td>\n",
              "      <td>0</td>\n",
              "      <td>0</td>\n",
              "      <td>0</td>\n",
              "      <td>0</td>\n",
              "      <td>0</td>\n",
              "      <td>0</td>\n",
              "      <td>0</td>\n",
              "      <td>0</td>\n",
              "      <td>0</td>\n",
              "      <td>0</td>\n",
              "      <td>0</td>\n",
              "      <td>0</td>\n",
              "      <td>0</td>\n",
              "      <td>0</td>\n",
              "      <td>0</td>\n",
              "      <td>0</td>\n",
              "      <td>0</td>\n",
              "      <td>0</td>\n",
              "      <td>0</td>\n",
              "      <td>0</td>\n",
              "      <td>0</td>\n",
              "      <td>0</td>\n",
              "      <td>0</td>\n",
              "      <td>0</td>\n",
              "      <td>0</td>\n",
              "      <td>0</td>\n",
              "      <td>0</td>\n",
              "      <td>0</td>\n",
              "      <td>0</td>\n",
              "      <td>0</td>\n",
              "      <td>0</td>\n",
              "      <td>0</td>\n",
              "      <td>0</td>\n",
              "      <td>0</td>\n",
              "      <td>0</td>\n",
              "      <td>0</td>\n",
              "      <td>0</td>\n",
              "      <td>0</td>\n",
              "      <td>0</td>\n",
              "      <td>0</td>\n",
              "      <td>0</td>\n",
              "      <td>0</td>\n",
              "      <td>0</td>\n",
              "      <td>0</td>\n",
              "      <td>0</td>\n",
              "      <td>0</td>\n",
              "      <td>0</td>\n",
              "      <td>0</td>\n",
              "      <td>0</td>\n",
              "      <td>0</td>\n",
              "      <td>0</td>\n",
              "      <td>0</td>\n",
              "      <td>0</td>\n",
              "      <td>0</td>\n",
              "      <td>0</td>\n",
              "    </tr>\n",
              "    <tr>\n",
              "      <th>1_1_2010-02-12</th>\n",
              "      <td>0</td>\n",
              "      <td>0</td>\n",
              "      <td>0</td>\n",
              "      <td>0</td>\n",
              "      <td>0</td>\n",
              "      <td>0</td>\n",
              "      <td>0</td>\n",
              "      <td>0</td>\n",
              "      <td>0</td>\n",
              "      <td>0</td>\n",
              "      <td>0</td>\n",
              "      <td>0</td>\n",
              "      <td>0</td>\n",
              "      <td>0</td>\n",
              "      <td>0</td>\n",
              "      <td>0</td>\n",
              "      <td>0</td>\n",
              "      <td>0</td>\n",
              "      <td>0</td>\n",
              "      <td>0</td>\n",
              "      <td>0</td>\n",
              "      <td>0</td>\n",
              "      <td>0</td>\n",
              "      <td>0</td>\n",
              "      <td>0</td>\n",
              "      <td>0</td>\n",
              "      <td>0</td>\n",
              "      <td>0</td>\n",
              "      <td>0</td>\n",
              "      <td>0</td>\n",
              "      <td>0</td>\n",
              "      <td>0</td>\n",
              "      <td>0</td>\n",
              "      <td>0</td>\n",
              "      <td>0</td>\n",
              "      <td>0</td>\n",
              "      <td>0</td>\n",
              "      <td>0</td>\n",
              "      <td>0</td>\n",
              "      <td>0</td>\n",
              "      <td>0</td>\n",
              "      <td>0</td>\n",
              "      <td>0</td>\n",
              "      <td>0</td>\n",
              "      <td>0</td>\n",
              "      <td>0</td>\n",
              "      <td>0</td>\n",
              "      <td>0</td>\n",
              "      <td>0</td>\n",
              "      <td>0</td>\n",
              "      <td>0</td>\n",
              "      <td>0</td>\n",
              "      <td>0</td>\n",
              "      <td>0</td>\n",
              "      <td>0</td>\n",
              "      <td>0</td>\n",
              "      <td>0</td>\n",
              "      <td>0</td>\n",
              "      <td>0</td>\n",
              "      <td>0</td>\n",
              "      <td>0</td>\n",
              "      <td>0</td>\n",
              "      <td>0</td>\n",
              "      <td>0</td>\n",
              "      <td>0</td>\n",
              "      <td>0</td>\n",
              "    </tr>\n",
              "    <tr>\n",
              "      <th>1_1_2010-02-19</th>\n",
              "      <td>0</td>\n",
              "      <td>0</td>\n",
              "      <td>0</td>\n",
              "      <td>0</td>\n",
              "      <td>0</td>\n",
              "      <td>0</td>\n",
              "      <td>0</td>\n",
              "      <td>0</td>\n",
              "      <td>0</td>\n",
              "      <td>0</td>\n",
              "      <td>0</td>\n",
              "      <td>0</td>\n",
              "      <td>0</td>\n",
              "      <td>0</td>\n",
              "      <td>0</td>\n",
              "      <td>0</td>\n",
              "      <td>0</td>\n",
              "      <td>0</td>\n",
              "      <td>0</td>\n",
              "      <td>0</td>\n",
              "      <td>0</td>\n",
              "      <td>0</td>\n",
              "      <td>0</td>\n",
              "      <td>0</td>\n",
              "      <td>0</td>\n",
              "      <td>0</td>\n",
              "      <td>0</td>\n",
              "      <td>0</td>\n",
              "      <td>0</td>\n",
              "      <td>0</td>\n",
              "      <td>0</td>\n",
              "      <td>0</td>\n",
              "      <td>0</td>\n",
              "      <td>0</td>\n",
              "      <td>0</td>\n",
              "      <td>0</td>\n",
              "      <td>0</td>\n",
              "      <td>0</td>\n",
              "      <td>0</td>\n",
              "      <td>0</td>\n",
              "      <td>0</td>\n",
              "      <td>0</td>\n",
              "      <td>0</td>\n",
              "      <td>0</td>\n",
              "      <td>0</td>\n",
              "      <td>0</td>\n",
              "      <td>0</td>\n",
              "      <td>0</td>\n",
              "      <td>0</td>\n",
              "      <td>0</td>\n",
              "      <td>0</td>\n",
              "      <td>0</td>\n",
              "      <td>0</td>\n",
              "      <td>0</td>\n",
              "      <td>0</td>\n",
              "      <td>0</td>\n",
              "      <td>0</td>\n",
              "      <td>0</td>\n",
              "      <td>0</td>\n",
              "      <td>0</td>\n",
              "      <td>0</td>\n",
              "      <td>0</td>\n",
              "      <td>0</td>\n",
              "      <td>0</td>\n",
              "      <td>0</td>\n",
              "      <td>0</td>\n",
              "    </tr>\n",
              "    <tr>\n",
              "      <th>1_1_2010-02-26</th>\n",
              "      <td>0</td>\n",
              "      <td>0</td>\n",
              "      <td>0</td>\n",
              "      <td>0</td>\n",
              "      <td>0</td>\n",
              "      <td>0</td>\n",
              "      <td>0</td>\n",
              "      <td>0</td>\n",
              "      <td>0</td>\n",
              "      <td>0</td>\n",
              "      <td>0</td>\n",
              "      <td>0</td>\n",
              "      <td>0</td>\n",
              "      <td>0</td>\n",
              "      <td>0</td>\n",
              "      <td>0</td>\n",
              "      <td>0</td>\n",
              "      <td>0</td>\n",
              "      <td>0</td>\n",
              "      <td>0</td>\n",
              "      <td>0</td>\n",
              "      <td>0</td>\n",
              "      <td>0</td>\n",
              "      <td>0</td>\n",
              "      <td>0</td>\n",
              "      <td>0</td>\n",
              "      <td>0</td>\n",
              "      <td>0</td>\n",
              "      <td>0</td>\n",
              "      <td>0</td>\n",
              "      <td>0</td>\n",
              "      <td>0</td>\n",
              "      <td>0</td>\n",
              "      <td>0</td>\n",
              "      <td>0</td>\n",
              "      <td>0</td>\n",
              "      <td>0</td>\n",
              "      <td>0</td>\n",
              "      <td>0</td>\n",
              "      <td>0</td>\n",
              "      <td>0</td>\n",
              "      <td>0</td>\n",
              "      <td>0</td>\n",
              "      <td>0</td>\n",
              "      <td>0</td>\n",
              "      <td>0</td>\n",
              "      <td>0</td>\n",
              "      <td>0</td>\n",
              "      <td>0</td>\n",
              "      <td>0</td>\n",
              "      <td>0</td>\n",
              "      <td>0</td>\n",
              "      <td>0</td>\n",
              "      <td>0</td>\n",
              "      <td>0</td>\n",
              "      <td>0</td>\n",
              "      <td>0</td>\n",
              "      <td>0</td>\n",
              "      <td>0</td>\n",
              "      <td>0</td>\n",
              "      <td>0</td>\n",
              "      <td>0</td>\n",
              "      <td>0</td>\n",
              "      <td>0</td>\n",
              "      <td>0</td>\n",
              "      <td>0</td>\n",
              "    </tr>\n",
              "    <tr>\n",
              "      <th>1_1_2010-03-05</th>\n",
              "      <td>0</td>\n",
              "      <td>0</td>\n",
              "      <td>0</td>\n",
              "      <td>0</td>\n",
              "      <td>0</td>\n",
              "      <td>0</td>\n",
              "      <td>0</td>\n",
              "      <td>0</td>\n",
              "      <td>0</td>\n",
              "      <td>0</td>\n",
              "      <td>0</td>\n",
              "      <td>0</td>\n",
              "      <td>0</td>\n",
              "      <td>0</td>\n",
              "      <td>0</td>\n",
              "      <td>0</td>\n",
              "      <td>0</td>\n",
              "      <td>0</td>\n",
              "      <td>0</td>\n",
              "      <td>0</td>\n",
              "      <td>0</td>\n",
              "      <td>0</td>\n",
              "      <td>0</td>\n",
              "      <td>0</td>\n",
              "      <td>0</td>\n",
              "      <td>0</td>\n",
              "      <td>0</td>\n",
              "      <td>0</td>\n",
              "      <td>0</td>\n",
              "      <td>0</td>\n",
              "      <td>0</td>\n",
              "      <td>0</td>\n",
              "      <td>0</td>\n",
              "      <td>0</td>\n",
              "      <td>0</td>\n",
              "      <td>0</td>\n",
              "      <td>0</td>\n",
              "      <td>0</td>\n",
              "      <td>0</td>\n",
              "      <td>0</td>\n",
              "      <td>0</td>\n",
              "      <td>0</td>\n",
              "      <td>0</td>\n",
              "      <td>0</td>\n",
              "      <td>0</td>\n",
              "      <td>0</td>\n",
              "      <td>0</td>\n",
              "      <td>0</td>\n",
              "      <td>0</td>\n",
              "      <td>0</td>\n",
              "      <td>0</td>\n",
              "      <td>0</td>\n",
              "      <td>0</td>\n",
              "      <td>0</td>\n",
              "      <td>0</td>\n",
              "      <td>0</td>\n",
              "      <td>0</td>\n",
              "      <td>0</td>\n",
              "      <td>0</td>\n",
              "      <td>0</td>\n",
              "      <td>0</td>\n",
              "      <td>0</td>\n",
              "      <td>0</td>\n",
              "      <td>0</td>\n",
              "      <td>0</td>\n",
              "      <td>0</td>\n",
              "    </tr>\n",
              "  </tbody>\n",
              "</table>\n",
              "</div>"
            ],
            "text/plain": [
              "                 Store_2  Store_3  Store_4  ...  Dept_9  Dept_46  Dept_10\n",
              "Store_Dept_Date                             ...                          \n",
              "1_1_2010-02-05         0        0        0  ...       0        0        0\n",
              "1_1_2010-02-12         0        0        0  ...       0        0        0\n",
              "1_1_2010-02-19         0        0        0  ...       0        0        0\n",
              "1_1_2010-02-26         0        0        0  ...       0        0        0\n",
              "1_1_2010-03-05         0        0        0  ...       0        0        0\n",
              "\n",
              "[5 rows x 66 columns]"
            ]
          },
          "metadata": {
            "tags": []
          },
          "execution_count": 55
        }
      ]
    },
    {
      "cell_type": "code",
      "metadata": {
        "id": "xM6Cj-1xZKgJ",
        "colab_type": "code",
        "outputId": "5d269525-edc6-4ad6-8fa2-fae07b7fc187",
        "colab": {
          "base_uri": "https://localhost:8080/",
          "height": 1000
        }
      },
      "source": [
        "train_cat_merged_data.info()"
      ],
      "execution_count": 0,
      "outputs": [
        {
          "output_type": "stream",
          "text": [
            "<class 'pandas.core.frame.DataFrame'>\n",
            "Index: 421570 entries, 1_1_2010-02-05 to 45_98_2012-10-26\n",
            "Data columns (total 66 columns):\n",
            " #   Column    Non-Null Count   Dtype\n",
            "---  ------    --------------   -----\n",
            " 0   Store_2   421570 non-null  uint8\n",
            " 1   Store_3   421570 non-null  uint8\n",
            " 2   Store_4   421570 non-null  uint8\n",
            " 3   Store_5   421570 non-null  uint8\n",
            " 4   Store_6   421570 non-null  uint8\n",
            " 5   Store_7   421570 non-null  uint8\n",
            " 6   Store_8   421570 non-null  uint8\n",
            " 7   Store_9   421570 non-null  uint8\n",
            " 8   Store_10  421570 non-null  uint8\n",
            " 9   Store_11  421570 non-null  uint8\n",
            " 10  Store_12  421570 non-null  uint8\n",
            " 11  Store_13  421570 non-null  uint8\n",
            " 12  Store_14  421570 non-null  uint8\n",
            " 13  Store_15  421570 non-null  uint8\n",
            " 14  Store_16  421570 non-null  uint8\n",
            " 15  Store_17  421570 non-null  uint8\n",
            " 16  Store_18  421570 non-null  uint8\n",
            " 17  Store_19  421570 non-null  uint8\n",
            " 18  Store_20  421570 non-null  uint8\n",
            " 19  Store_21  421570 non-null  uint8\n",
            " 20  Store_22  421570 non-null  uint8\n",
            " 21  Store_23  421570 non-null  uint8\n",
            " 22  Store_24  421570 non-null  uint8\n",
            " 23  Store_25  421570 non-null  uint8\n",
            " 24  Store_26  421570 non-null  uint8\n",
            " 25  Store_27  421570 non-null  uint8\n",
            " 26  Store_28  421570 non-null  uint8\n",
            " 27  Store_29  421570 non-null  uint8\n",
            " 28  Store_30  421570 non-null  uint8\n",
            " 29  Store_31  421570 non-null  uint8\n",
            " 30  Store_32  421570 non-null  uint8\n",
            " 31  Store_33  421570 non-null  uint8\n",
            " 32  Store_34  421570 non-null  uint8\n",
            " 33  Store_35  421570 non-null  uint8\n",
            " 34  Store_36  421570 non-null  uint8\n",
            " 35  Store_37  421570 non-null  uint8\n",
            " 36  Store_38  421570 non-null  uint8\n",
            " 37  Store_39  421570 non-null  uint8\n",
            " 38  Store_40  421570 non-null  uint8\n",
            " 39  Store_41  421570 non-null  uint8\n",
            " 40  Store_42  421570 non-null  uint8\n",
            " 41  Store_43  421570 non-null  uint8\n",
            " 42  Store_44  421570 non-null  uint8\n",
            " 43  Store_45  421570 non-null  uint8\n",
            " 44  Type_B    421570 non-null  uint8\n",
            " 45  Type_C    421570 non-null  uint8\n",
            " 46  Dept_92   421570 non-null  uint8\n",
            " 47  Dept_95   421570 non-null  uint8\n",
            " 48  Dept_38   421570 non-null  uint8\n",
            " 49  Dept_72   421570 non-null  uint8\n",
            " 50  Dept_90   421570 non-null  uint8\n",
            " 51  Dept_40   421570 non-null  uint8\n",
            " 52  Dept_2    421570 non-null  uint8\n",
            " 53  Dept_91   421570 non-null  uint8\n",
            " 54  Dept_94   421570 non-null  uint8\n",
            " 55  Dept_13   421570 non-null  uint8\n",
            " 56  Dept_8    421570 non-null  uint8\n",
            " 57  Dept_93   421570 non-null  uint8\n",
            " 58  Dept_4    421570 non-null  uint8\n",
            " 59  Dept_7    421570 non-null  uint8\n",
            " 60  Dept_23   421570 non-null  uint8\n",
            " 61  Dept_79   421570 non-null  uint8\n",
            " 62  Dept_5    421570 non-null  uint8\n",
            " 63  Dept_9    421570 non-null  uint8\n",
            " 64  Dept_46   421570 non-null  uint8\n",
            " 65  Dept_10   421570 non-null  uint8\n",
            "dtypes: uint8(66)\n",
            "memory usage: 49.8+ MB\n"
          ],
          "name": "stdout"
        }
      ]
    },
    {
      "cell_type": "markdown",
      "metadata": {
        "id": "2mhS9AdaIX7R",
        "colab_type": "text"
      },
      "source": [
        "## Concatenate Numerical and Categorical datasets"
      ]
    },
    {
      "cell_type": "code",
      "metadata": {
        "id": "VazEykc3H1KY",
        "colab_type": "code",
        "outputId": "b5e90a44-79f6-4d23-e36f-8b0022c78b73",
        "colab": {
          "base_uri": "https://localhost:8080/",
          "height": 248
        }
      },
      "source": [
        "train_cat_num_merged_data = pd.merge(train_num_data, train_cat_merged_data, left_index=True, right_index=True)\n",
        "train_cat_num_merged_data.head()"
      ],
      "execution_count": 0,
      "outputs": [
        {
          "output_type": "execute_result",
          "data": {
            "text/html": [
              "<div>\n",
              "<style scoped>\n",
              "    .dataframe tbody tr th:only-of-type {\n",
              "        vertical-align: middle;\n",
              "    }\n",
              "\n",
              "    .dataframe tbody tr th {\n",
              "        vertical-align: top;\n",
              "    }\n",
              "\n",
              "    .dataframe thead th {\n",
              "        text-align: right;\n",
              "    }\n",
              "</style>\n",
              "<table border=\"1\" class=\"dataframe\">\n",
              "  <thead>\n",
              "    <tr style=\"text-align: right;\">\n",
              "      <th></th>\n",
              "      <th>Weekly_Sales</th>\n",
              "      <th>Size</th>\n",
              "      <th>Temperature</th>\n",
              "      <th>Fuel_Price</th>\n",
              "      <th>MarkDown1</th>\n",
              "      <th>MarkDown2</th>\n",
              "      <th>MarkDown3</th>\n",
              "      <th>MarkDown4</th>\n",
              "      <th>MarkDown5</th>\n",
              "      <th>CPI</th>\n",
              "      <th>Unemployment</th>\n",
              "      <th>IsHolidayInt</th>\n",
              "      <th>Store_2</th>\n",
              "      <th>Store_3</th>\n",
              "      <th>Store_4</th>\n",
              "      <th>Store_5</th>\n",
              "      <th>Store_6</th>\n",
              "      <th>Store_7</th>\n",
              "      <th>Store_8</th>\n",
              "      <th>Store_9</th>\n",
              "      <th>Store_10</th>\n",
              "      <th>Store_11</th>\n",
              "      <th>Store_12</th>\n",
              "      <th>Store_13</th>\n",
              "      <th>Store_14</th>\n",
              "      <th>Store_15</th>\n",
              "      <th>Store_16</th>\n",
              "      <th>Store_17</th>\n",
              "      <th>Store_18</th>\n",
              "      <th>Store_19</th>\n",
              "      <th>Store_20</th>\n",
              "      <th>Store_21</th>\n",
              "      <th>Store_22</th>\n",
              "      <th>Store_23</th>\n",
              "      <th>Store_24</th>\n",
              "      <th>Store_25</th>\n",
              "      <th>Store_26</th>\n",
              "      <th>Store_27</th>\n",
              "      <th>Store_28</th>\n",
              "      <th>Store_29</th>\n",
              "      <th>Store_30</th>\n",
              "      <th>Store_31</th>\n",
              "      <th>Store_32</th>\n",
              "      <th>Store_33</th>\n",
              "      <th>Store_34</th>\n",
              "      <th>Store_35</th>\n",
              "      <th>Store_36</th>\n",
              "      <th>Store_37</th>\n",
              "      <th>Store_38</th>\n",
              "      <th>Store_39</th>\n",
              "      <th>Store_40</th>\n",
              "      <th>Store_41</th>\n",
              "      <th>Store_42</th>\n",
              "      <th>Store_43</th>\n",
              "      <th>Store_44</th>\n",
              "      <th>Store_45</th>\n",
              "      <th>Type_B</th>\n",
              "      <th>Type_C</th>\n",
              "      <th>Dept_92</th>\n",
              "      <th>Dept_95</th>\n",
              "      <th>Dept_38</th>\n",
              "      <th>Dept_72</th>\n",
              "      <th>Dept_90</th>\n",
              "      <th>Dept_40</th>\n",
              "      <th>Dept_2</th>\n",
              "      <th>Dept_91</th>\n",
              "      <th>Dept_94</th>\n",
              "      <th>Dept_13</th>\n",
              "      <th>Dept_8</th>\n",
              "      <th>Dept_93</th>\n",
              "      <th>Dept_4</th>\n",
              "      <th>Dept_7</th>\n",
              "      <th>Dept_23</th>\n",
              "      <th>Dept_79</th>\n",
              "      <th>Dept_5</th>\n",
              "      <th>Dept_9</th>\n",
              "      <th>Dept_46</th>\n",
              "      <th>Dept_10</th>\n",
              "    </tr>\n",
              "    <tr>\n",
              "      <th>Store_Dept_Date</th>\n",
              "      <th></th>\n",
              "      <th></th>\n",
              "      <th></th>\n",
              "      <th></th>\n",
              "      <th></th>\n",
              "      <th></th>\n",
              "      <th></th>\n",
              "      <th></th>\n",
              "      <th></th>\n",
              "      <th></th>\n",
              "      <th></th>\n",
              "      <th></th>\n",
              "      <th></th>\n",
              "      <th></th>\n",
              "      <th></th>\n",
              "      <th></th>\n",
              "      <th></th>\n",
              "      <th></th>\n",
              "      <th></th>\n",
              "      <th></th>\n",
              "      <th></th>\n",
              "      <th></th>\n",
              "      <th></th>\n",
              "      <th></th>\n",
              "      <th></th>\n",
              "      <th></th>\n",
              "      <th></th>\n",
              "      <th></th>\n",
              "      <th></th>\n",
              "      <th></th>\n",
              "      <th></th>\n",
              "      <th></th>\n",
              "      <th></th>\n",
              "      <th></th>\n",
              "      <th></th>\n",
              "      <th></th>\n",
              "      <th></th>\n",
              "      <th></th>\n",
              "      <th></th>\n",
              "      <th></th>\n",
              "      <th></th>\n",
              "      <th></th>\n",
              "      <th></th>\n",
              "      <th></th>\n",
              "      <th></th>\n",
              "      <th></th>\n",
              "      <th></th>\n",
              "      <th></th>\n",
              "      <th></th>\n",
              "      <th></th>\n",
              "      <th></th>\n",
              "      <th></th>\n",
              "      <th></th>\n",
              "      <th></th>\n",
              "      <th></th>\n",
              "      <th></th>\n",
              "      <th></th>\n",
              "      <th></th>\n",
              "      <th></th>\n",
              "      <th></th>\n",
              "      <th></th>\n",
              "      <th></th>\n",
              "      <th></th>\n",
              "      <th></th>\n",
              "      <th></th>\n",
              "      <th></th>\n",
              "      <th></th>\n",
              "      <th></th>\n",
              "      <th></th>\n",
              "      <th></th>\n",
              "      <th></th>\n",
              "      <th></th>\n",
              "      <th></th>\n",
              "      <th></th>\n",
              "      <th></th>\n",
              "      <th></th>\n",
              "      <th></th>\n",
              "      <th></th>\n",
              "    </tr>\n",
              "  </thead>\n",
              "  <tbody>\n",
              "    <tr>\n",
              "      <th>1_1_2010-02-05</th>\n",
              "      <td>24924.50</td>\n",
              "      <td>151315</td>\n",
              "      <td>42.31</td>\n",
              "      <td>2.572</td>\n",
              "      <td>0.0</td>\n",
              "      <td>0.0</td>\n",
              "      <td>0.0</td>\n",
              "      <td>0.0</td>\n",
              "      <td>0.0</td>\n",
              "      <td>211.096358</td>\n",
              "      <td>8.106</td>\n",
              "      <td>0</td>\n",
              "      <td>0</td>\n",
              "      <td>0</td>\n",
              "      <td>0</td>\n",
              "      <td>0</td>\n",
              "      <td>0</td>\n",
              "      <td>0</td>\n",
              "      <td>0</td>\n",
              "      <td>0</td>\n",
              "      <td>0</td>\n",
              "      <td>0</td>\n",
              "      <td>0</td>\n",
              "      <td>0</td>\n",
              "      <td>0</td>\n",
              "      <td>0</td>\n",
              "      <td>0</td>\n",
              "      <td>0</td>\n",
              "      <td>0</td>\n",
              "      <td>0</td>\n",
              "      <td>0</td>\n",
              "      <td>0</td>\n",
              "      <td>0</td>\n",
              "      <td>0</td>\n",
              "      <td>0</td>\n",
              "      <td>0</td>\n",
              "      <td>0</td>\n",
              "      <td>0</td>\n",
              "      <td>0</td>\n",
              "      <td>0</td>\n",
              "      <td>0</td>\n",
              "      <td>0</td>\n",
              "      <td>0</td>\n",
              "      <td>0</td>\n",
              "      <td>0</td>\n",
              "      <td>0</td>\n",
              "      <td>0</td>\n",
              "      <td>0</td>\n",
              "      <td>0</td>\n",
              "      <td>0</td>\n",
              "      <td>0</td>\n",
              "      <td>0</td>\n",
              "      <td>0</td>\n",
              "      <td>0</td>\n",
              "      <td>0</td>\n",
              "      <td>0</td>\n",
              "      <td>0</td>\n",
              "      <td>0</td>\n",
              "      <td>0</td>\n",
              "      <td>0</td>\n",
              "      <td>0</td>\n",
              "      <td>0</td>\n",
              "      <td>0</td>\n",
              "      <td>0</td>\n",
              "      <td>0</td>\n",
              "      <td>0</td>\n",
              "      <td>0</td>\n",
              "      <td>0</td>\n",
              "      <td>0</td>\n",
              "      <td>0</td>\n",
              "      <td>0</td>\n",
              "      <td>0</td>\n",
              "      <td>0</td>\n",
              "      <td>0</td>\n",
              "      <td>0</td>\n",
              "      <td>0</td>\n",
              "      <td>0</td>\n",
              "      <td>0</td>\n",
              "    </tr>\n",
              "    <tr>\n",
              "      <th>1_1_2010-02-12</th>\n",
              "      <td>46039.49</td>\n",
              "      <td>151315</td>\n",
              "      <td>38.51</td>\n",
              "      <td>2.565</td>\n",
              "      <td>0.0</td>\n",
              "      <td>0.0</td>\n",
              "      <td>0.0</td>\n",
              "      <td>0.0</td>\n",
              "      <td>0.0</td>\n",
              "      <td>211.242170</td>\n",
              "      <td>8.106</td>\n",
              "      <td>1</td>\n",
              "      <td>0</td>\n",
              "      <td>0</td>\n",
              "      <td>0</td>\n",
              "      <td>0</td>\n",
              "      <td>0</td>\n",
              "      <td>0</td>\n",
              "      <td>0</td>\n",
              "      <td>0</td>\n",
              "      <td>0</td>\n",
              "      <td>0</td>\n",
              "      <td>0</td>\n",
              "      <td>0</td>\n",
              "      <td>0</td>\n",
              "      <td>0</td>\n",
              "      <td>0</td>\n",
              "      <td>0</td>\n",
              "      <td>0</td>\n",
              "      <td>0</td>\n",
              "      <td>0</td>\n",
              "      <td>0</td>\n",
              "      <td>0</td>\n",
              "      <td>0</td>\n",
              "      <td>0</td>\n",
              "      <td>0</td>\n",
              "      <td>0</td>\n",
              "      <td>0</td>\n",
              "      <td>0</td>\n",
              "      <td>0</td>\n",
              "      <td>0</td>\n",
              "      <td>0</td>\n",
              "      <td>0</td>\n",
              "      <td>0</td>\n",
              "      <td>0</td>\n",
              "      <td>0</td>\n",
              "      <td>0</td>\n",
              "      <td>0</td>\n",
              "      <td>0</td>\n",
              "      <td>0</td>\n",
              "      <td>0</td>\n",
              "      <td>0</td>\n",
              "      <td>0</td>\n",
              "      <td>0</td>\n",
              "      <td>0</td>\n",
              "      <td>0</td>\n",
              "      <td>0</td>\n",
              "      <td>0</td>\n",
              "      <td>0</td>\n",
              "      <td>0</td>\n",
              "      <td>0</td>\n",
              "      <td>0</td>\n",
              "      <td>0</td>\n",
              "      <td>0</td>\n",
              "      <td>0</td>\n",
              "      <td>0</td>\n",
              "      <td>0</td>\n",
              "      <td>0</td>\n",
              "      <td>0</td>\n",
              "      <td>0</td>\n",
              "      <td>0</td>\n",
              "      <td>0</td>\n",
              "      <td>0</td>\n",
              "      <td>0</td>\n",
              "      <td>0</td>\n",
              "      <td>0</td>\n",
              "      <td>0</td>\n",
              "      <td>0</td>\n",
              "    </tr>\n",
              "    <tr>\n",
              "      <th>1_1_2010-02-19</th>\n",
              "      <td>41595.55</td>\n",
              "      <td>151315</td>\n",
              "      <td>39.93</td>\n",
              "      <td>2.565</td>\n",
              "      <td>0.0</td>\n",
              "      <td>0.0</td>\n",
              "      <td>0.0</td>\n",
              "      <td>0.0</td>\n",
              "      <td>0.0</td>\n",
              "      <td>211.289143</td>\n",
              "      <td>8.106</td>\n",
              "      <td>0</td>\n",
              "      <td>0</td>\n",
              "      <td>0</td>\n",
              "      <td>0</td>\n",
              "      <td>0</td>\n",
              "      <td>0</td>\n",
              "      <td>0</td>\n",
              "      <td>0</td>\n",
              "      <td>0</td>\n",
              "      <td>0</td>\n",
              "      <td>0</td>\n",
              "      <td>0</td>\n",
              "      <td>0</td>\n",
              "      <td>0</td>\n",
              "      <td>0</td>\n",
              "      <td>0</td>\n",
              "      <td>0</td>\n",
              "      <td>0</td>\n",
              "      <td>0</td>\n",
              "      <td>0</td>\n",
              "      <td>0</td>\n",
              "      <td>0</td>\n",
              "      <td>0</td>\n",
              "      <td>0</td>\n",
              "      <td>0</td>\n",
              "      <td>0</td>\n",
              "      <td>0</td>\n",
              "      <td>0</td>\n",
              "      <td>0</td>\n",
              "      <td>0</td>\n",
              "      <td>0</td>\n",
              "      <td>0</td>\n",
              "      <td>0</td>\n",
              "      <td>0</td>\n",
              "      <td>0</td>\n",
              "      <td>0</td>\n",
              "      <td>0</td>\n",
              "      <td>0</td>\n",
              "      <td>0</td>\n",
              "      <td>0</td>\n",
              "      <td>0</td>\n",
              "      <td>0</td>\n",
              "      <td>0</td>\n",
              "      <td>0</td>\n",
              "      <td>0</td>\n",
              "      <td>0</td>\n",
              "      <td>0</td>\n",
              "      <td>0</td>\n",
              "      <td>0</td>\n",
              "      <td>0</td>\n",
              "      <td>0</td>\n",
              "      <td>0</td>\n",
              "      <td>0</td>\n",
              "      <td>0</td>\n",
              "      <td>0</td>\n",
              "      <td>0</td>\n",
              "      <td>0</td>\n",
              "      <td>0</td>\n",
              "      <td>0</td>\n",
              "      <td>0</td>\n",
              "      <td>0</td>\n",
              "      <td>0</td>\n",
              "      <td>0</td>\n",
              "      <td>0</td>\n",
              "      <td>0</td>\n",
              "      <td>0</td>\n",
              "      <td>0</td>\n",
              "    </tr>\n",
              "    <tr>\n",
              "      <th>1_1_2010-02-26</th>\n",
              "      <td>19403.54</td>\n",
              "      <td>151315</td>\n",
              "      <td>46.63</td>\n",
              "      <td>2.565</td>\n",
              "      <td>0.0</td>\n",
              "      <td>0.0</td>\n",
              "      <td>0.0</td>\n",
              "      <td>0.0</td>\n",
              "      <td>0.0</td>\n",
              "      <td>211.319643</td>\n",
              "      <td>8.106</td>\n",
              "      <td>0</td>\n",
              "      <td>0</td>\n",
              "      <td>0</td>\n",
              "      <td>0</td>\n",
              "      <td>0</td>\n",
              "      <td>0</td>\n",
              "      <td>0</td>\n",
              "      <td>0</td>\n",
              "      <td>0</td>\n",
              "      <td>0</td>\n",
              "      <td>0</td>\n",
              "      <td>0</td>\n",
              "      <td>0</td>\n",
              "      <td>0</td>\n",
              "      <td>0</td>\n",
              "      <td>0</td>\n",
              "      <td>0</td>\n",
              "      <td>0</td>\n",
              "      <td>0</td>\n",
              "      <td>0</td>\n",
              "      <td>0</td>\n",
              "      <td>0</td>\n",
              "      <td>0</td>\n",
              "      <td>0</td>\n",
              "      <td>0</td>\n",
              "      <td>0</td>\n",
              "      <td>0</td>\n",
              "      <td>0</td>\n",
              "      <td>0</td>\n",
              "      <td>0</td>\n",
              "      <td>0</td>\n",
              "      <td>0</td>\n",
              "      <td>0</td>\n",
              "      <td>0</td>\n",
              "      <td>0</td>\n",
              "      <td>0</td>\n",
              "      <td>0</td>\n",
              "      <td>0</td>\n",
              "      <td>0</td>\n",
              "      <td>0</td>\n",
              "      <td>0</td>\n",
              "      <td>0</td>\n",
              "      <td>0</td>\n",
              "      <td>0</td>\n",
              "      <td>0</td>\n",
              "      <td>0</td>\n",
              "      <td>0</td>\n",
              "      <td>0</td>\n",
              "      <td>0</td>\n",
              "      <td>0</td>\n",
              "      <td>0</td>\n",
              "      <td>0</td>\n",
              "      <td>0</td>\n",
              "      <td>0</td>\n",
              "      <td>0</td>\n",
              "      <td>0</td>\n",
              "      <td>0</td>\n",
              "      <td>0</td>\n",
              "      <td>0</td>\n",
              "      <td>0</td>\n",
              "      <td>0</td>\n",
              "      <td>0</td>\n",
              "      <td>0</td>\n",
              "      <td>0</td>\n",
              "      <td>0</td>\n",
              "      <td>0</td>\n",
              "      <td>0</td>\n",
              "    </tr>\n",
              "    <tr>\n",
              "      <th>1_1_2010-03-05</th>\n",
              "      <td>21827.90</td>\n",
              "      <td>151315</td>\n",
              "      <td>46.50</td>\n",
              "      <td>2.625</td>\n",
              "      <td>0.0</td>\n",
              "      <td>0.0</td>\n",
              "      <td>0.0</td>\n",
              "      <td>0.0</td>\n",
              "      <td>0.0</td>\n",
              "      <td>211.350143</td>\n",
              "      <td>8.106</td>\n",
              "      <td>0</td>\n",
              "      <td>0</td>\n",
              "      <td>0</td>\n",
              "      <td>0</td>\n",
              "      <td>0</td>\n",
              "      <td>0</td>\n",
              "      <td>0</td>\n",
              "      <td>0</td>\n",
              "      <td>0</td>\n",
              "      <td>0</td>\n",
              "      <td>0</td>\n",
              "      <td>0</td>\n",
              "      <td>0</td>\n",
              "      <td>0</td>\n",
              "      <td>0</td>\n",
              "      <td>0</td>\n",
              "      <td>0</td>\n",
              "      <td>0</td>\n",
              "      <td>0</td>\n",
              "      <td>0</td>\n",
              "      <td>0</td>\n",
              "      <td>0</td>\n",
              "      <td>0</td>\n",
              "      <td>0</td>\n",
              "      <td>0</td>\n",
              "      <td>0</td>\n",
              "      <td>0</td>\n",
              "      <td>0</td>\n",
              "      <td>0</td>\n",
              "      <td>0</td>\n",
              "      <td>0</td>\n",
              "      <td>0</td>\n",
              "      <td>0</td>\n",
              "      <td>0</td>\n",
              "      <td>0</td>\n",
              "      <td>0</td>\n",
              "      <td>0</td>\n",
              "      <td>0</td>\n",
              "      <td>0</td>\n",
              "      <td>0</td>\n",
              "      <td>0</td>\n",
              "      <td>0</td>\n",
              "      <td>0</td>\n",
              "      <td>0</td>\n",
              "      <td>0</td>\n",
              "      <td>0</td>\n",
              "      <td>0</td>\n",
              "      <td>0</td>\n",
              "      <td>0</td>\n",
              "      <td>0</td>\n",
              "      <td>0</td>\n",
              "      <td>0</td>\n",
              "      <td>0</td>\n",
              "      <td>0</td>\n",
              "      <td>0</td>\n",
              "      <td>0</td>\n",
              "      <td>0</td>\n",
              "      <td>0</td>\n",
              "      <td>0</td>\n",
              "      <td>0</td>\n",
              "      <td>0</td>\n",
              "      <td>0</td>\n",
              "      <td>0</td>\n",
              "      <td>0</td>\n",
              "      <td>0</td>\n",
              "      <td>0</td>\n",
              "      <td>0</td>\n",
              "    </tr>\n",
              "  </tbody>\n",
              "</table>\n",
              "</div>"
            ],
            "text/plain": [
              "                 Weekly_Sales    Size  Temperature  ...  Dept_9  Dept_46  Dept_10\n",
              "Store_Dept_Date                                     ...                          \n",
              "1_1_2010-02-05       24924.50  151315        42.31  ...       0        0        0\n",
              "1_1_2010-02-12       46039.49  151315        38.51  ...       0        0        0\n",
              "1_1_2010-02-19       41595.55  151315        39.93  ...       0        0        0\n",
              "1_1_2010-02-26       19403.54  151315        46.63  ...       0        0        0\n",
              "1_1_2010-03-05       21827.90  151315        46.50  ...       0        0        0\n",
              "\n",
              "[5 rows x 78 columns]"
            ]
          },
          "metadata": {
            "tags": []
          },
          "execution_count": 57
        }
      ]
    },
    {
      "cell_type": "code",
      "metadata": {
        "id": "O9d7emFRIdmO",
        "colab_type": "code",
        "outputId": "7ad1bcb3-65cd-463f-e300-4ccf2b18fde6",
        "colab": {
          "base_uri": "https://localhost:8080/",
          "height": 1000
        }
      },
      "source": [
        "train_cat_num_merged_data.info()"
      ],
      "execution_count": 0,
      "outputs": [
        {
          "output_type": "stream",
          "text": [
            "<class 'pandas.core.frame.DataFrame'>\n",
            "Index: 421570 entries, 1_1_2010-02-05 to 45_98_2012-10-26\n",
            "Data columns (total 78 columns):\n",
            " #   Column        Non-Null Count   Dtype  \n",
            "---  ------        --------------   -----  \n",
            " 0   Weekly_Sales  421570 non-null  float64\n",
            " 1   Size          421570 non-null  int64  \n",
            " 2   Temperature   421570 non-null  float64\n",
            " 3   Fuel_Price    421570 non-null  float64\n",
            " 4   MarkDown1     421570 non-null  float64\n",
            " 5   MarkDown2     421570 non-null  float64\n",
            " 6   MarkDown3     421570 non-null  float64\n",
            " 7   MarkDown4     421570 non-null  float64\n",
            " 8   MarkDown5     421570 non-null  float64\n",
            " 9   CPI           421570 non-null  float64\n",
            " 10  Unemployment  421570 non-null  float64\n",
            " 11  IsHolidayInt  421570 non-null  int64  \n",
            " 12  Store_2       421570 non-null  uint8  \n",
            " 13  Store_3       421570 non-null  uint8  \n",
            " 14  Store_4       421570 non-null  uint8  \n",
            " 15  Store_5       421570 non-null  uint8  \n",
            " 16  Store_6       421570 non-null  uint8  \n",
            " 17  Store_7       421570 non-null  uint8  \n",
            " 18  Store_8       421570 non-null  uint8  \n",
            " 19  Store_9       421570 non-null  uint8  \n",
            " 20  Store_10      421570 non-null  uint8  \n",
            " 21  Store_11      421570 non-null  uint8  \n",
            " 22  Store_12      421570 non-null  uint8  \n",
            " 23  Store_13      421570 non-null  uint8  \n",
            " 24  Store_14      421570 non-null  uint8  \n",
            " 25  Store_15      421570 non-null  uint8  \n",
            " 26  Store_16      421570 non-null  uint8  \n",
            " 27  Store_17      421570 non-null  uint8  \n",
            " 28  Store_18      421570 non-null  uint8  \n",
            " 29  Store_19      421570 non-null  uint8  \n",
            " 30  Store_20      421570 non-null  uint8  \n",
            " 31  Store_21      421570 non-null  uint8  \n",
            " 32  Store_22      421570 non-null  uint8  \n",
            " 33  Store_23      421570 non-null  uint8  \n",
            " 34  Store_24      421570 non-null  uint8  \n",
            " 35  Store_25      421570 non-null  uint8  \n",
            " 36  Store_26      421570 non-null  uint8  \n",
            " 37  Store_27      421570 non-null  uint8  \n",
            " 38  Store_28      421570 non-null  uint8  \n",
            " 39  Store_29      421570 non-null  uint8  \n",
            " 40  Store_30      421570 non-null  uint8  \n",
            " 41  Store_31      421570 non-null  uint8  \n",
            " 42  Store_32      421570 non-null  uint8  \n",
            " 43  Store_33      421570 non-null  uint8  \n",
            " 44  Store_34      421570 non-null  uint8  \n",
            " 45  Store_35      421570 non-null  uint8  \n",
            " 46  Store_36      421570 non-null  uint8  \n",
            " 47  Store_37      421570 non-null  uint8  \n",
            " 48  Store_38      421570 non-null  uint8  \n",
            " 49  Store_39      421570 non-null  uint8  \n",
            " 50  Store_40      421570 non-null  uint8  \n",
            " 51  Store_41      421570 non-null  uint8  \n",
            " 52  Store_42      421570 non-null  uint8  \n",
            " 53  Store_43      421570 non-null  uint8  \n",
            " 54  Store_44      421570 non-null  uint8  \n",
            " 55  Store_45      421570 non-null  uint8  \n",
            " 56  Type_B        421570 non-null  uint8  \n",
            " 57  Type_C        421570 non-null  uint8  \n",
            " 58  Dept_92       421570 non-null  uint8  \n",
            " 59  Dept_95       421570 non-null  uint8  \n",
            " 60  Dept_38       421570 non-null  uint8  \n",
            " 61  Dept_72       421570 non-null  uint8  \n",
            " 62  Dept_90       421570 non-null  uint8  \n",
            " 63  Dept_40       421570 non-null  uint8  \n",
            " 64  Dept_2        421570 non-null  uint8  \n",
            " 65  Dept_91       421570 non-null  uint8  \n",
            " 66  Dept_94       421570 non-null  uint8  \n",
            " 67  Dept_13       421570 non-null  uint8  \n",
            " 68  Dept_8        421570 non-null  uint8  \n",
            " 69  Dept_93       421570 non-null  uint8  \n",
            " 70  Dept_4        421570 non-null  uint8  \n",
            " 71  Dept_7        421570 non-null  uint8  \n",
            " 72  Dept_23       421570 non-null  uint8  \n",
            " 73  Dept_79       421570 non-null  uint8  \n",
            " 74  Dept_5        421570 non-null  uint8  \n",
            " 75  Dept_9        421570 non-null  uint8  \n",
            " 76  Dept_46       421570 non-null  uint8  \n",
            " 77  Dept_10       421570 non-null  uint8  \n",
            "dtypes: float64(10), int64(2), uint8(66)\n",
            "memory usage: 88.3+ MB\n"
          ],
          "name": "stdout"
        }
      ]
    },
    {
      "cell_type": "code",
      "metadata": {
        "id": "iDhuI5JfIiN1",
        "colab_type": "code",
        "outputId": "aef8416d-9687-4873-ff89-73047301c5d5",
        "colab": {
          "base_uri": "https://localhost:8080/",
          "height": 35
        }
      },
      "source": [
        "train_cat_num_merged_data.shape"
      ],
      "execution_count": 0,
      "outputs": [
        {
          "output_type": "execute_result",
          "data": {
            "text/plain": [
              "(421570, 78)"
            ]
          },
          "metadata": {
            "tags": []
          },
          "execution_count": 59
        }
      ]
    },
    {
      "cell_type": "markdown",
      "metadata": {
        "id": "QTHSNVWsOtv7",
        "colab_type": "text"
      },
      "source": [
        "# Feature Selection"
      ]
    },
    {
      "cell_type": "markdown",
      "metadata": {
        "id": "sX0rDaimndZS",
        "colab_type": "text"
      },
      "source": [
        "## Selecting features using Correlation matrix"
      ]
    },
    {
      "cell_type": "code",
      "metadata": {
        "id": "e6XsjxG0Ij3Z",
        "colab_type": "code",
        "outputId": "52200386-dc1e-4d22-cc7f-5a891e343cd4",
        "colab": {
          "base_uri": "https://localhost:8080/",
          "height": 235
        }
      },
      "source": [
        "feature_cols_list = train_cat_num_merged_data.corr().iloc[0,:].abs().sort_values(ascending=False)\n",
        "feature_cols_list"
      ],
      "execution_count": 0,
      "outputs": [
        {
          "output_type": "execute_result",
          "data": {
            "text/plain": [
              "Weekly_Sales    1.000000\n",
              "Dept_92         0.297231\n",
              "Dept_95         0.293878\n",
              "Dept_38         0.269326\n",
              "Size            0.252562\n",
              "                  ...   \n",
              "Store_32        0.004836\n",
              "Store_22        0.004160\n",
              "Fuel_Price      0.001395\n",
              "Temperature     0.000733\n",
              "Store_18        0.000026\n",
              "Name: Weekly_Sales, Length: 78, dtype: float64"
            ]
          },
          "metadata": {
            "tags": []
          },
          "execution_count": 60
        }
      ]
    },
    {
      "cell_type": "code",
      "metadata": {
        "id": "PARgiZ_fcv4C",
        "colab_type": "code",
        "outputId": "3f818293-9562-4603-d56c-9610e4a51f43",
        "colab": {
          "base_uri": "https://localhost:8080/",
          "height": 763
        }
      },
      "source": [
        "top_feature_cols_list = feature_cols_list.head(41).index.tolist()\n",
        "top_feature_cols_list"
      ],
      "execution_count": 0,
      "outputs": [
        {
          "output_type": "execute_result",
          "data": {
            "text/plain": [
              "['Weekly_Sales',\n",
              " 'Dept_92',\n",
              " 'Dept_95',\n",
              " 'Dept_38',\n",
              " 'Size',\n",
              " 'Dept_72',\n",
              " 'Dept_40',\n",
              " 'Dept_90',\n",
              " 'Dept_2',\n",
              " 'Type_B',\n",
              " 'Dept_91',\n",
              " 'Dept_94',\n",
              " 'Type_C',\n",
              " 'Store_20',\n",
              " 'Store_4',\n",
              " 'Dept_13',\n",
              " 'Dept_8',\n",
              " 'Store_14',\n",
              " 'Store_13',\n",
              " 'Store_10',\n",
              " 'Store_5',\n",
              " 'Store_2',\n",
              " 'Store_3',\n",
              " 'Dept_93',\n",
              " 'MarkDown5',\n",
              " 'Store_27',\n",
              " 'Dept_4',\n",
              " 'Store_44',\n",
              " 'MarkDown3',\n",
              " 'Store_33',\n",
              " 'Store_16',\n",
              " 'Store_29',\n",
              " 'MarkDown1',\n",
              " 'Store_7',\n",
              " 'Store_38',\n",
              " 'Store_15',\n",
              " 'MarkDown4',\n",
              " 'Store_9',\n",
              " 'Dept_23',\n",
              " 'Store_6',\n",
              " 'Dept_7']"
            ]
          },
          "metadata": {
            "tags": []
          },
          "execution_count": 61
        }
      ]
    },
    {
      "cell_type": "markdown",
      "metadata": {
        "id": "PkLWEYGdZniI",
        "colab_type": "text"
      },
      "source": [
        "## Selecting Features by VIF method"
      ]
    },
    {
      "cell_type": "code",
      "metadata": {
        "id": "PcJOs2NWq5m5",
        "colab_type": "code",
        "outputId": "a5df6a06-4dd5-4c54-abb8-78c8fe568db3",
        "colab": {
          "base_uri": "https://localhost:8080/",
          "height": 55
        }
      },
      "source": [
        "all_columns = \"+\".join(top_feature_cols_list)\n",
        "\n",
        "#print(all_columns)\n",
        "\n",
        "my_formula = \"Weekly_Sales~\" + all_columns\n",
        "\n",
        "print(my_formula)"
      ],
      "execution_count": 0,
      "outputs": [
        {
          "output_type": "stream",
          "text": [
            "Weekly_Sales~Weekly_Sales+Dept_92+Dept_95+Dept_38+Size+Dept_72+Dept_40+Dept_90+Dept_2+Type_B+Dept_91+Dept_94+Type_C+Store_20+Store_4+Dept_13+Dept_8+Store_14+Store_13+Store_10+Store_5+Store_2+Store_3+Dept_93+MarkDown5+Store_27+Dept_4+Store_44+MarkDown3+Store_33+Store_16+Store_29+MarkDown1+Store_7+Store_38+Store_15+MarkDown4+Store_9+Dept_23+Store_6+Dept_7\n"
          ],
          "name": "stdout"
        }
      ]
    },
    {
      "cell_type": "code",
      "metadata": {
        "id": "lL0ZWZPoYliF",
        "colab_type": "code",
        "colab": {}
      },
      "source": [
        "from statsmodels.stats.outliers_influence import variance_inflation_factor\n",
        "from patsy import dmatrices"
      ],
      "execution_count": 0,
      "outputs": []
    },
    {
      "cell_type": "code",
      "metadata": {
        "id": "zzw83K1MY8Vp",
        "colab_type": "code",
        "colab": {}
      },
      "source": [
        "y, X = dmatrices('Weekly_Sales~Dept_92+Dept_95+Dept_38+Size+Dept_72+Dept_40+Dept_90+Dept_2+Type_B+Dept_91+Dept_94+Type_C+Store_20+Store_4+Dept_13+Dept_8+Store_14+Store_13+Store_10+Store_5+Store_2+Store_3+Dept_93+MarkDown5+Store_27+Dept_4+Store_44+MarkDown3+Store_33+Store_16+Store_29+MarkDown1+Store_7+Store_38+Store_15+MarkDown4+Store_9+Dept_23+Store_6+Dept_7-1'\n",
        ", train_cat_num_merged_data, return_type='dataframe')"
      ],
      "execution_count": 0,
      "outputs": []
    },
    {
      "cell_type": "code",
      "metadata": {
        "id": "B9QoxshCjSWh",
        "colab_type": "code",
        "colab": {}
      },
      "source": [
        "vif = pd.DataFrame()\n",
        "vif[\"VIF Factor\"] = [variance_inflation_factor(X.values, i) for i in range(X.shape[1])]\n",
        "vif[\"features\"] = X.columns"
      ],
      "execution_count": 0,
      "outputs": []
    },
    {
      "cell_type": "code",
      "metadata": {
        "id": "c881TdfvEA7z",
        "colab_type": "code",
        "outputId": "474faf54-4e3e-43e9-99ed-3c76020c7b1c",
        "colab": {
          "base_uri": "https://localhost:8080/",
          "height": 1000
        }
      },
      "source": [
        "vif"
      ],
      "execution_count": 0,
      "outputs": [
        {
          "output_type": "execute_result",
          "data": {
            "text/html": [
              "<div>\n",
              "<style scoped>\n",
              "    .dataframe tbody tr th:only-of-type {\n",
              "        vertical-align: middle;\n",
              "    }\n",
              "\n",
              "    .dataframe tbody tr th {\n",
              "        vertical-align: top;\n",
              "    }\n",
              "\n",
              "    .dataframe thead th {\n",
              "        text-align: right;\n",
              "    }\n",
              "</style>\n",
              "<table border=\"1\" class=\"dataframe\">\n",
              "  <thead>\n",
              "    <tr style=\"text-align: right;\">\n",
              "      <th></th>\n",
              "      <th>VIF Factor</th>\n",
              "      <th>features</th>\n",
              "    </tr>\n",
              "  </thead>\n",
              "  <tbody>\n",
              "    <tr>\n",
              "      <th>0</th>\n",
              "      <td>1.019399</td>\n",
              "      <td>Dept_92</td>\n",
              "    </tr>\n",
              "    <tr>\n",
              "      <th>1</th>\n",
              "      <td>1.019399</td>\n",
              "      <td>Dept_95</td>\n",
              "    </tr>\n",
              "    <tr>\n",
              "      <th>2</th>\n",
              "      <td>1.019399</td>\n",
              "      <td>Dept_38</td>\n",
              "    </tr>\n",
              "    <tr>\n",
              "      <th>3</th>\n",
              "      <td>2.628771</td>\n",
              "      <td>Size</td>\n",
              "    </tr>\n",
              "    <tr>\n",
              "      <th>4</th>\n",
              "      <td>1.018772</td>\n",
              "      <td>Dept_72</td>\n",
              "    </tr>\n",
              "    <tr>\n",
              "      <th>5</th>\n",
              "      <td>1.019399</td>\n",
              "      <td>Dept_40</td>\n",
              "    </tr>\n",
              "    <tr>\n",
              "      <th>6</th>\n",
              "      <td>1.019399</td>\n",
              "      <td>Dept_90</td>\n",
              "    </tr>\n",
              "    <tr>\n",
              "      <th>7</th>\n",
              "      <td>1.019399</td>\n",
              "      <td>Dept_2</td>\n",
              "    </tr>\n",
              "    <tr>\n",
              "      <th>8</th>\n",
              "      <td>2.402891</td>\n",
              "      <td>Type_B</td>\n",
              "    </tr>\n",
              "    <tr>\n",
              "      <th>9</th>\n",
              "      <td>1.019399</td>\n",
              "      <td>Dept_91</td>\n",
              "    </tr>\n",
              "    <tr>\n",
              "      <th>10</th>\n",
              "      <td>1.017696</td>\n",
              "      <td>Dept_94</td>\n",
              "    </tr>\n",
              "    <tr>\n",
              "      <th>11</th>\n",
              "      <td>1.571650</td>\n",
              "      <td>Type_C</td>\n",
              "    </tr>\n",
              "    <tr>\n",
              "      <th>12</th>\n",
              "      <td>1.096341</td>\n",
              "      <td>Store_20</td>\n",
              "    </tr>\n",
              "    <tr>\n",
              "      <th>13</th>\n",
              "      <td>1.099146</td>\n",
              "      <td>Store_4</td>\n",
              "    </tr>\n",
              "    <tr>\n",
              "      <th>14</th>\n",
              "      <td>1.019399</td>\n",
              "      <td>Dept_13</td>\n",
              "    </tr>\n",
              "    <tr>\n",
              "      <th>15</th>\n",
              "      <td>1.019399</td>\n",
              "      <td>Dept_8</td>\n",
              "    </tr>\n",
              "    <tr>\n",
              "      <th>16</th>\n",
              "      <td>1.092970</td>\n",
              "      <td>Store_14</td>\n",
              "    </tr>\n",
              "    <tr>\n",
              "      <th>17</th>\n",
              "      <td>1.112973</td>\n",
              "      <td>Store_13</td>\n",
              "    </tr>\n",
              "    <tr>\n",
              "      <th>18</th>\n",
              "      <td>1.118280</td>\n",
              "      <td>Store_10</td>\n",
              "    </tr>\n",
              "    <tr>\n",
              "      <th>19</th>\n",
              "      <td>1.118921</td>\n",
              "      <td>Store_5</td>\n",
              "    </tr>\n",
              "    <tr>\n",
              "      <th>20</th>\n",
              "      <td>1.093700</td>\n",
              "      <td>Store_2</td>\n",
              "    </tr>\n",
              "    <tr>\n",
              "      <th>21</th>\n",
              "      <td>1.117496</td>\n",
              "      <td>Store_3</td>\n",
              "    </tr>\n",
              "    <tr>\n",
              "      <th>22</th>\n",
              "      <td>1.018898</td>\n",
              "      <td>Dept_93</td>\n",
              "    </tr>\n",
              "    <tr>\n",
              "      <th>23</th>\n",
              "      <td>2.450198</td>\n",
              "      <td>MarkDown5</td>\n",
              "    </tr>\n",
              "    <tr>\n",
              "      <th>24</th>\n",
              "      <td>1.099182</td>\n",
              "      <td>Store_27</td>\n",
              "    </tr>\n",
              "    <tr>\n",
              "      <th>25</th>\n",
              "      <td>1.019399</td>\n",
              "      <td>Dept_4</td>\n",
              "    </tr>\n",
              "    <tr>\n",
              "      <th>26</th>\n",
              "      <td>1.255711</td>\n",
              "      <td>Store_44</td>\n",
              "    </tr>\n",
              "    <tr>\n",
              "      <th>27</th>\n",
              "      <td>1.228993</td>\n",
              "      <td>MarkDown3</td>\n",
              "    </tr>\n",
              "    <tr>\n",
              "      <th>28</th>\n",
              "      <td>1.008768</td>\n",
              "      <td>Store_33</td>\n",
              "    </tr>\n",
              "    <tr>\n",
              "      <th>29</th>\n",
              "      <td>1.117434</td>\n",
              "      <td>Store_16</td>\n",
              "    </tr>\n",
              "    <tr>\n",
              "      <th>30</th>\n",
              "      <td>1.110229</td>\n",
              "      <td>Store_29</td>\n",
              "    </tr>\n",
              "    <tr>\n",
              "      <th>31</th>\n",
              "      <td>5.205404</td>\n",
              "      <td>MarkDown1</td>\n",
              "    </tr>\n",
              "    <tr>\n",
              "      <th>32</th>\n",
              "      <td>1.116842</td>\n",
              "      <td>Store_7</td>\n",
              "    </tr>\n",
              "    <tr>\n",
              "      <th>33</th>\n",
              "      <td>1.262393</td>\n",
              "      <td>Store_38</td>\n",
              "    </tr>\n",
              "    <tr>\n",
              "      <th>34</th>\n",
              "      <td>1.114534</td>\n",
              "      <td>Store_15</td>\n",
              "    </tr>\n",
              "    <tr>\n",
              "      <th>35</th>\n",
              "      <td>3.861616</td>\n",
              "      <td>MarkDown4</td>\n",
              "    </tr>\n",
              "    <tr>\n",
              "      <th>36</th>\n",
              "      <td>1.106484</td>\n",
              "      <td>Store_9</td>\n",
              "    </tr>\n",
              "    <tr>\n",
              "      <th>37</th>\n",
              "      <td>1.017788</td>\n",
              "      <td>Dept_23</td>\n",
              "    </tr>\n",
              "    <tr>\n",
              "      <th>38</th>\n",
              "      <td>1.093765</td>\n",
              "      <td>Store_6</td>\n",
              "    </tr>\n",
              "    <tr>\n",
              "      <th>39</th>\n",
              "      <td>1.019399</td>\n",
              "      <td>Dept_7</td>\n",
              "    </tr>\n",
              "  </tbody>\n",
              "</table>\n",
              "</div>"
            ],
            "text/plain": [
              "    VIF Factor   features\n",
              "0     1.019399    Dept_92\n",
              "1     1.019399    Dept_95\n",
              "2     1.019399    Dept_38\n",
              "3     2.628771       Size\n",
              "4     1.018772    Dept_72\n",
              "5     1.019399    Dept_40\n",
              "6     1.019399    Dept_90\n",
              "7     1.019399     Dept_2\n",
              "8     2.402891     Type_B\n",
              "9     1.019399    Dept_91\n",
              "10    1.017696    Dept_94\n",
              "11    1.571650     Type_C\n",
              "12    1.096341   Store_20\n",
              "13    1.099146    Store_4\n",
              "14    1.019399    Dept_13\n",
              "15    1.019399     Dept_8\n",
              "16    1.092970   Store_14\n",
              "17    1.112973   Store_13\n",
              "18    1.118280   Store_10\n",
              "19    1.118921    Store_5\n",
              "20    1.093700    Store_2\n",
              "21    1.117496    Store_3\n",
              "22    1.018898    Dept_93\n",
              "23    2.450198  MarkDown5\n",
              "24    1.099182   Store_27\n",
              "25    1.019399     Dept_4\n",
              "26    1.255711   Store_44\n",
              "27    1.228993  MarkDown3\n",
              "28    1.008768   Store_33\n",
              "29    1.117434   Store_16\n",
              "30    1.110229   Store_29\n",
              "31    5.205404  MarkDown1\n",
              "32    1.116842    Store_7\n",
              "33    1.262393   Store_38\n",
              "34    1.114534   Store_15\n",
              "35    3.861616  MarkDown4\n",
              "36    1.106484    Store_9\n",
              "37    1.017788    Dept_23\n",
              "38    1.093765    Store_6\n",
              "39    1.019399     Dept_7"
            ]
          },
          "metadata": {
            "tags": []
          },
          "execution_count": 67
        }
      ]
    },
    {
      "cell_type": "code",
      "metadata": {
        "id": "znk-driBZYty",
        "colab_type": "code",
        "outputId": "7a281902-f4c0-44c8-a976-ab28768356e6",
        "colab": {
          "base_uri": "https://localhost:8080/",
          "height": 1000
        }
      },
      "source": [
        "drop_col_list = []\n",
        "while (1):\n",
        "    vif = pd.DataFrame()\n",
        "    vif[\"VIF Factor\"] = [variance_inflation_factor(X.values, i) for i in range(X.shape[1])]\n",
        "    vif[\"features\"] = X.columns\n",
        "    max_vif=vif['VIF Factor'].max()\n",
        "    max_vif_coeff=vif.loc[vif['VIF Factor'].idxmax()]['features']\n",
        "\n",
        "    if max_vif > 10.00:\n",
        "        print(\"Dropping \", max_vif_coeff ,\" as its VIF \"+ str(max_vif) + \" > 10.00 and re-calculate VIF\")\n",
        "        X.drop(max_vif_coeff,axis=1,inplace=True)\n",
        "        drop_col_list = drop_col_list.append(max_vif_coeff)\n",
        "        #train_cat_num_merged_data.drop(max_vif_coeff,axis=1,inplace=True)\n",
        "        \n",
        "    else:\n",
        "        break\n",
        "vif.round(1)"
      ],
      "execution_count": 0,
      "outputs": [
        {
          "output_type": "execute_result",
          "data": {
            "text/html": [
              "<div>\n",
              "<style scoped>\n",
              "    .dataframe tbody tr th:only-of-type {\n",
              "        vertical-align: middle;\n",
              "    }\n",
              "\n",
              "    .dataframe tbody tr th {\n",
              "        vertical-align: top;\n",
              "    }\n",
              "\n",
              "    .dataframe thead th {\n",
              "        text-align: right;\n",
              "    }\n",
              "</style>\n",
              "<table border=\"1\" class=\"dataframe\">\n",
              "  <thead>\n",
              "    <tr style=\"text-align: right;\">\n",
              "      <th></th>\n",
              "      <th>VIF Factor</th>\n",
              "      <th>features</th>\n",
              "    </tr>\n",
              "  </thead>\n",
              "  <tbody>\n",
              "    <tr>\n",
              "      <th>0</th>\n",
              "      <td>1.0</td>\n",
              "      <td>Dept_92</td>\n",
              "    </tr>\n",
              "    <tr>\n",
              "      <th>1</th>\n",
              "      <td>1.0</td>\n",
              "      <td>Dept_95</td>\n",
              "    </tr>\n",
              "    <tr>\n",
              "      <th>2</th>\n",
              "      <td>1.0</td>\n",
              "      <td>Dept_38</td>\n",
              "    </tr>\n",
              "    <tr>\n",
              "      <th>3</th>\n",
              "      <td>2.6</td>\n",
              "      <td>Size</td>\n",
              "    </tr>\n",
              "    <tr>\n",
              "      <th>4</th>\n",
              "      <td>1.0</td>\n",
              "      <td>Dept_72</td>\n",
              "    </tr>\n",
              "    <tr>\n",
              "      <th>5</th>\n",
              "      <td>1.0</td>\n",
              "      <td>Dept_40</td>\n",
              "    </tr>\n",
              "    <tr>\n",
              "      <th>6</th>\n",
              "      <td>1.0</td>\n",
              "      <td>Dept_90</td>\n",
              "    </tr>\n",
              "    <tr>\n",
              "      <th>7</th>\n",
              "      <td>1.0</td>\n",
              "      <td>Dept_2</td>\n",
              "    </tr>\n",
              "    <tr>\n",
              "      <th>8</th>\n",
              "      <td>2.4</td>\n",
              "      <td>Type_B</td>\n",
              "    </tr>\n",
              "    <tr>\n",
              "      <th>9</th>\n",
              "      <td>1.0</td>\n",
              "      <td>Dept_91</td>\n",
              "    </tr>\n",
              "    <tr>\n",
              "      <th>10</th>\n",
              "      <td>1.0</td>\n",
              "      <td>Dept_94</td>\n",
              "    </tr>\n",
              "    <tr>\n",
              "      <th>11</th>\n",
              "      <td>1.6</td>\n",
              "      <td>Type_C</td>\n",
              "    </tr>\n",
              "    <tr>\n",
              "      <th>12</th>\n",
              "      <td>1.1</td>\n",
              "      <td>Store_20</td>\n",
              "    </tr>\n",
              "    <tr>\n",
              "      <th>13</th>\n",
              "      <td>1.1</td>\n",
              "      <td>Store_4</td>\n",
              "    </tr>\n",
              "    <tr>\n",
              "      <th>14</th>\n",
              "      <td>1.0</td>\n",
              "      <td>Dept_13</td>\n",
              "    </tr>\n",
              "    <tr>\n",
              "      <th>15</th>\n",
              "      <td>1.0</td>\n",
              "      <td>Dept_8</td>\n",
              "    </tr>\n",
              "    <tr>\n",
              "      <th>16</th>\n",
              "      <td>1.1</td>\n",
              "      <td>Store_14</td>\n",
              "    </tr>\n",
              "    <tr>\n",
              "      <th>17</th>\n",
              "      <td>1.1</td>\n",
              "      <td>Store_13</td>\n",
              "    </tr>\n",
              "    <tr>\n",
              "      <th>18</th>\n",
              "      <td>1.1</td>\n",
              "      <td>Store_10</td>\n",
              "    </tr>\n",
              "    <tr>\n",
              "      <th>19</th>\n",
              "      <td>1.1</td>\n",
              "      <td>Store_5</td>\n",
              "    </tr>\n",
              "    <tr>\n",
              "      <th>20</th>\n",
              "      <td>1.1</td>\n",
              "      <td>Store_2</td>\n",
              "    </tr>\n",
              "    <tr>\n",
              "      <th>21</th>\n",
              "      <td>1.1</td>\n",
              "      <td>Store_3</td>\n",
              "    </tr>\n",
              "    <tr>\n",
              "      <th>22</th>\n",
              "      <td>1.0</td>\n",
              "      <td>Dept_93</td>\n",
              "    </tr>\n",
              "    <tr>\n",
              "      <th>23</th>\n",
              "      <td>2.5</td>\n",
              "      <td>MarkDown5</td>\n",
              "    </tr>\n",
              "    <tr>\n",
              "      <th>24</th>\n",
              "      <td>1.1</td>\n",
              "      <td>Store_27</td>\n",
              "    </tr>\n",
              "    <tr>\n",
              "      <th>25</th>\n",
              "      <td>1.0</td>\n",
              "      <td>Dept_4</td>\n",
              "    </tr>\n",
              "    <tr>\n",
              "      <th>26</th>\n",
              "      <td>1.3</td>\n",
              "      <td>Store_44</td>\n",
              "    </tr>\n",
              "    <tr>\n",
              "      <th>27</th>\n",
              "      <td>1.2</td>\n",
              "      <td>MarkDown3</td>\n",
              "    </tr>\n",
              "    <tr>\n",
              "      <th>28</th>\n",
              "      <td>1.0</td>\n",
              "      <td>Store_33</td>\n",
              "    </tr>\n",
              "    <tr>\n",
              "      <th>29</th>\n",
              "      <td>1.1</td>\n",
              "      <td>Store_16</td>\n",
              "    </tr>\n",
              "    <tr>\n",
              "      <th>30</th>\n",
              "      <td>1.1</td>\n",
              "      <td>Store_29</td>\n",
              "    </tr>\n",
              "    <tr>\n",
              "      <th>31</th>\n",
              "      <td>5.2</td>\n",
              "      <td>MarkDown1</td>\n",
              "    </tr>\n",
              "    <tr>\n",
              "      <th>32</th>\n",
              "      <td>1.1</td>\n",
              "      <td>Store_7</td>\n",
              "    </tr>\n",
              "    <tr>\n",
              "      <th>33</th>\n",
              "      <td>1.3</td>\n",
              "      <td>Store_38</td>\n",
              "    </tr>\n",
              "    <tr>\n",
              "      <th>34</th>\n",
              "      <td>1.1</td>\n",
              "      <td>Store_15</td>\n",
              "    </tr>\n",
              "    <tr>\n",
              "      <th>35</th>\n",
              "      <td>3.9</td>\n",
              "      <td>MarkDown4</td>\n",
              "    </tr>\n",
              "    <tr>\n",
              "      <th>36</th>\n",
              "      <td>1.1</td>\n",
              "      <td>Store_9</td>\n",
              "    </tr>\n",
              "    <tr>\n",
              "      <th>37</th>\n",
              "      <td>1.0</td>\n",
              "      <td>Dept_23</td>\n",
              "    </tr>\n",
              "    <tr>\n",
              "      <th>38</th>\n",
              "      <td>1.1</td>\n",
              "      <td>Store_6</td>\n",
              "    </tr>\n",
              "    <tr>\n",
              "      <th>39</th>\n",
              "      <td>1.0</td>\n",
              "      <td>Dept_7</td>\n",
              "    </tr>\n",
              "  </tbody>\n",
              "</table>\n",
              "</div>"
            ],
            "text/plain": [
              "    VIF Factor   features\n",
              "0          1.0    Dept_92\n",
              "1          1.0    Dept_95\n",
              "2          1.0    Dept_38\n",
              "3          2.6       Size\n",
              "4          1.0    Dept_72\n",
              "5          1.0    Dept_40\n",
              "6          1.0    Dept_90\n",
              "7          1.0     Dept_2\n",
              "8          2.4     Type_B\n",
              "9          1.0    Dept_91\n",
              "10         1.0    Dept_94\n",
              "11         1.6     Type_C\n",
              "12         1.1   Store_20\n",
              "13         1.1    Store_4\n",
              "14         1.0    Dept_13\n",
              "15         1.0     Dept_8\n",
              "16         1.1   Store_14\n",
              "17         1.1   Store_13\n",
              "18         1.1   Store_10\n",
              "19         1.1    Store_5\n",
              "20         1.1    Store_2\n",
              "21         1.1    Store_3\n",
              "22         1.0    Dept_93\n",
              "23         2.5  MarkDown5\n",
              "24         1.1   Store_27\n",
              "25         1.0     Dept_4\n",
              "26         1.3   Store_44\n",
              "27         1.2  MarkDown3\n",
              "28         1.0   Store_33\n",
              "29         1.1   Store_16\n",
              "30         1.1   Store_29\n",
              "31         5.2  MarkDown1\n",
              "32         1.1    Store_7\n",
              "33         1.3   Store_38\n",
              "34         1.1   Store_15\n",
              "35         3.9  MarkDown4\n",
              "36         1.1    Store_9\n",
              "37         1.0    Dept_23\n",
              "38         1.1    Store_6\n",
              "39         1.0     Dept_7"
            ]
          },
          "metadata": {
            "tags": []
          },
          "execution_count": 72
        }
      ]
    },
    {
      "cell_type": "code",
      "metadata": {
        "id": "c0QF_-IYa10r",
        "colab_type": "code",
        "outputId": "1e4d7bc8-e444-470f-af77-8fd6f4554fa5",
        "colab": {
          "base_uri": "https://localhost:8080/",
          "height": 35
        }
      },
      "source": [
        "drop_col_list"
      ],
      "execution_count": 0,
      "outputs": [
        {
          "output_type": "execute_result",
          "data": {
            "text/plain": [
              "[]"
            ]
          },
          "metadata": {
            "tags": []
          },
          "execution_count": 74
        }
      ]
    },
    {
      "cell_type": "markdown",
      "metadata": {
        "id": "W82cyrOJVZRY",
        "colab_type": "text"
      },
      "source": [
        "No columns are dropped using VIF method"
      ]
    },
    {
      "cell_type": "code",
      "metadata": {
        "id": "iIVvkje2exET",
        "colab_type": "code",
        "colab": {}
      },
      "source": [
        "train_top_features_data = train_cat_num_merged_data[top_feature_cols_list]"
      ],
      "execution_count": 0,
      "outputs": []
    },
    {
      "cell_type": "code",
      "metadata": {
        "id": "WCKDtlkCgSa0",
        "colab_type": "code",
        "outputId": "c68b9980-147a-444e-a17a-4d2aac44809d",
        "colab": {
          "base_uri": "https://localhost:8080/",
          "height": 35
        }
      },
      "source": [
        "train_top_features_data.shape"
      ],
      "execution_count": 0,
      "outputs": [
        {
          "output_type": "execute_result",
          "data": {
            "text/plain": [
              "(421570, 41)"
            ]
          },
          "metadata": {
            "tags": []
          },
          "execution_count": 69
        }
      ]
    },
    {
      "cell_type": "code",
      "metadata": {
        "id": "yeYraPKcgV_I",
        "colab_type": "code",
        "outputId": "64e9aee8-f3aa-4899-dcfd-1cbbc946d849",
        "colab": {
          "base_uri": "https://localhost:8080/",
          "height": 890
        }
      },
      "source": [
        "train_top_features_data.info()"
      ],
      "execution_count": 0,
      "outputs": [
        {
          "output_type": "stream",
          "text": [
            "<class 'pandas.core.frame.DataFrame'>\n",
            "Index: 421570 entries, 1_1_2010-02-05 to 45_98_2012-10-26\n",
            "Data columns (total 41 columns):\n",
            " #   Column        Non-Null Count   Dtype  \n",
            "---  ------        --------------   -----  \n",
            " 0   Weekly_Sales  421570 non-null  float64\n",
            " 1   Dept_92       421570 non-null  uint8  \n",
            " 2   Dept_95       421570 non-null  uint8  \n",
            " 3   Dept_38       421570 non-null  uint8  \n",
            " 4   Size          421570 non-null  int64  \n",
            " 5   Dept_72       421570 non-null  uint8  \n",
            " 6   Dept_40       421570 non-null  uint8  \n",
            " 7   Dept_90       421570 non-null  uint8  \n",
            " 8   Dept_2        421570 non-null  uint8  \n",
            " 9   Type_B        421570 non-null  uint8  \n",
            " 10  Dept_91       421570 non-null  uint8  \n",
            " 11  Dept_94       421570 non-null  uint8  \n",
            " 12  Type_C        421570 non-null  uint8  \n",
            " 13  Store_20      421570 non-null  uint8  \n",
            " 14  Store_4       421570 non-null  uint8  \n",
            " 15  Dept_13       421570 non-null  uint8  \n",
            " 16  Dept_8        421570 non-null  uint8  \n",
            " 17  Store_14      421570 non-null  uint8  \n",
            " 18  Store_13      421570 non-null  uint8  \n",
            " 19  Store_10      421570 non-null  uint8  \n",
            " 20  Store_5       421570 non-null  uint8  \n",
            " 21  Store_2       421570 non-null  uint8  \n",
            " 22  Store_3       421570 non-null  uint8  \n",
            " 23  Dept_93       421570 non-null  uint8  \n",
            " 24  MarkDown5     421570 non-null  float64\n",
            " 25  Store_27      421570 non-null  uint8  \n",
            " 26  Dept_4        421570 non-null  uint8  \n",
            " 27  Store_44      421570 non-null  uint8  \n",
            " 28  MarkDown3     421570 non-null  float64\n",
            " 29  Store_33      421570 non-null  uint8  \n",
            " 30  Store_16      421570 non-null  uint8  \n",
            " 31  Store_29      421570 non-null  uint8  \n",
            " 32  MarkDown1     421570 non-null  float64\n",
            " 33  Store_7       421570 non-null  uint8  \n",
            " 34  Store_38      421570 non-null  uint8  \n",
            " 35  Store_15      421570 non-null  uint8  \n",
            " 36  MarkDown4     421570 non-null  float64\n",
            " 37  Store_9       421570 non-null  uint8  \n",
            " 38  Dept_23       421570 non-null  uint8  \n",
            " 39  Store_6       421570 non-null  uint8  \n",
            " 40  Dept_7        421570 non-null  uint8  \n",
            "dtypes: float64(5), int64(1), uint8(35)\n",
            "memory usage: 56.6+ MB\n"
          ],
          "name": "stdout"
        }
      ]
    },
    {
      "cell_type": "markdown",
      "metadata": {
        "id": "TxJArDeDiEt4",
        "colab_type": "text"
      },
      "source": [
        "## Feature selection through Recursive Feature Elimination"
      ]
    },
    {
      "cell_type": "code",
      "metadata": {
        "id": "nLmGx722gm8q",
        "colab_type": "code",
        "colab": {}
      },
      "source": [
        "import statsmodels.api as sm"
      ],
      "execution_count": 0,
      "outputs": []
    },
    {
      "cell_type": "code",
      "metadata": {
        "id": "Mvqpz8m2i6-r",
        "colab_type": "code",
        "outputId": "4fee715a-8506-4a80-b722-c838c9ea7e1a",
        "colab": {
          "base_uri": "https://localhost:8080/",
          "height": 163
        }
      },
      "source": [
        "#Splitting Dependent and Independent Features\n",
        "\n",
        "feature_columns = train_top_features_data.columns.difference(['Weekly_Sales'])\n",
        "feature_columns"
      ],
      "execution_count": 0,
      "outputs": [
        {
          "output_type": "execute_result",
          "data": {
            "text/plain": [
              "Index(['Dept_13', 'Dept_2', 'Dept_23', 'Dept_38', 'Dept_4', 'Dept_40',\n",
              "       'Dept_7', 'Dept_72', 'Dept_8', 'Dept_90', 'Dept_91', 'Dept_92',\n",
              "       'Dept_93', 'Dept_94', 'Dept_95', 'MarkDown1', 'MarkDown3', 'MarkDown4',\n",
              "       'MarkDown5', 'Size', 'Store_10', 'Store_13', 'Store_14', 'Store_15',\n",
              "       'Store_16', 'Store_2', 'Store_20', 'Store_27', 'Store_29', 'Store_3',\n",
              "       'Store_33', 'Store_38', 'Store_4', 'Store_44', 'Store_5', 'Store_6',\n",
              "       'Store_7', 'Store_9', 'Type_B', 'Type_C'],\n",
              "      dtype='object')"
            ]
          },
          "metadata": {
            "tags": []
          },
          "execution_count": 72
        }
      ]
    },
    {
      "cell_type": "code",
      "metadata": {
        "id": "Y-DWglOnjDEL",
        "colab_type": "code",
        "colab": {}
      },
      "source": [
        "from sklearn.model_selection import train_test_split\n",
        "\n",
        "train_X, test_X, train_Y, test_Y = train_test_split( train_top_features_data[feature_columns],\n",
        "                                                  train_top_features_data['Weekly_Sales'],\n",
        "                                                  test_size = 0.3,\n",
        "                                                  random_state = 123 )\n",
        "train_X = sm.add_constant(train_X)\n",
        "test_X = sm.add_constant(test_X)"
      ],
      "execution_count": 0,
      "outputs": []
    },
    {
      "cell_type": "code",
      "metadata": {
        "id": "kG4Tv0jijMlH",
        "colab_type": "code",
        "outputId": "4ae365d1-dc01-46a7-e53d-c81f3894250a",
        "colab": {
          "base_uri": "https://localhost:8080/",
          "height": 54
        }
      },
      "source": [
        "print( len( train_X ))\n",
        "print( len( test_X))"
      ],
      "execution_count": 0,
      "outputs": [
        {
          "output_type": "stream",
          "text": [
            "295099\n",
            "126471\n"
          ],
          "name": "stdout"
        }
      ]
    },
    {
      "cell_type": "code",
      "metadata": {
        "id": "zpmw1cC7jPhO",
        "colab_type": "code",
        "outputId": "7574ea04-3650-4098-c2d7-cca8d74afd8a",
        "colab": {
          "base_uri": "https://localhost:8080/",
          "height": 1000
        }
      },
      "source": [
        "lm=sm.OLS(train_Y,train_X).fit()\n",
        "\n",
        "while (1):\n",
        "    lm=sm.OLS(train_Y,train_X).fit()\n",
        "    \n",
        "    df = pd.DataFrame(lm.pvalues)\n",
        "    df.reset_index(inplace=True)\n",
        "    df.columns = ['coeff', 'pvalue']\n",
        "\n",
        "    max_pvalue=df['pvalue'].max()\n",
        "    max_pvalue_coeff=df.loc[df['pvalue'].idxmax()]['coeff']\n",
        "\n",
        "    if max_pvalue > 0.05:\n",
        "        print(\"Dropping \", max_pvalue_coeff ,\" as its P-Value \" + str(max_pvalue) + \" > 5% and rebuild the model\")\n",
        "        train_X.drop(max_pvalue_coeff,axis=1,inplace=True)\n",
        "        test_X.drop(max_pvalue_coeff,axis=1,inplace=True)\n",
        "        \n",
        "        \n",
        "    else:\n",
        "        break\n",
        "lm.summary()"
      ],
      "execution_count": 0,
      "outputs": [
        {
          "output_type": "stream",
          "text": [
            "Dropping  MarkDown4  as its P-Value 0.09360103480805432 > 5% and rebuild the model\n",
            "Dropping  MarkDown1  as its P-Value 0.20674854194532272 > 5% and rebuild the model\n",
            "Dropping  MarkDown5  as its P-Value 0.09840401613024949 > 5% and rebuild the model\n"
          ],
          "name": "stdout"
        },
        {
          "output_type": "execute_result",
          "data": {
            "text/html": [
              "<table class=\"simpletable\">\n",
              "<caption>OLS Regression Results</caption>\n",
              "<tr>\n",
              "  <th>Dep. Variable:</th>      <td>Weekly_Sales</td>   <th>  R-squared:         </th>  <td>   0.606</td>  \n",
              "</tr>\n",
              "<tr>\n",
              "  <th>Model:</th>                   <td>OLS</td>       <th>  Adj. R-squared:    </th>  <td>   0.606</td>  \n",
              "</tr>\n",
              "<tr>\n",
              "  <th>Method:</th>             <td>Least Squares</td>  <th>  F-statistic:       </th>  <td>1.227e+04</td> \n",
              "</tr>\n",
              "<tr>\n",
              "  <th>Date:</th>             <td>Mon, 20 Apr 2020</td> <th>  Prob (F-statistic):</th>   <td>  0.00</td>   \n",
              "</tr>\n",
              "<tr>\n",
              "  <th>Time:</th>                 <td>15:52:18</td>     <th>  Log-Likelihood:    </th> <td>-3.2150e+06</td>\n",
              "</tr>\n",
              "<tr>\n",
              "  <th>No. Observations:</th>      <td>295099</td>      <th>  AIC:               </th>  <td>6.430e+06</td> \n",
              "</tr>\n",
              "<tr>\n",
              "  <th>Df Residuals:</th>          <td>295061</td>      <th>  BIC:               </th>  <td>6.431e+06</td> \n",
              "</tr>\n",
              "<tr>\n",
              "  <th>Df Model:</th>              <td>    37</td>      <th>                     </th>      <td> </td>     \n",
              "</tr>\n",
              "<tr>\n",
              "  <th>Covariance Type:</th>      <td>nonrobust</td>    <th>                     </th>      <td> </td>     \n",
              "</tr>\n",
              "</table>\n",
              "<table class=\"simpletable\">\n",
              "<tr>\n",
              "      <td></td>         <th>coef</th>     <th>std err</th>      <th>t</th>      <th>P>|t|</th>  <th>[0.025</th>    <th>0.975]</th>  \n",
              "</tr>\n",
              "<tr>\n",
              "  <th>const</th>     <td>-1823.9981</td> <td>  197.180</td> <td>   -9.250</td> <td> 0.000</td> <td>-2210.466</td> <td>-1437.530</td>\n",
              "</tr>\n",
              "<tr>\n",
              "  <th>Dept_13</th>   <td> 2.295e+04</td> <td>  196.156</td> <td>  116.984</td> <td> 0.000</td> <td> 2.26e+04</td> <td> 2.33e+04</td>\n",
              "</tr>\n",
              "<tr>\n",
              "  <th>Dept_2</th>    <td>  3.55e+04</td> <td>  197.003</td> <td>  180.181</td> <td> 0.000</td> <td> 3.51e+04</td> <td> 3.59e+04</td>\n",
              "</tr>\n",
              "<tr>\n",
              "  <th>Dept_23</th>   <td> 1.519e+04</td> <td>  206.140</td> <td>   73.687</td> <td> 0.000</td> <td> 1.48e+04</td> <td> 1.56e+04</td>\n",
              "</tr>\n",
              "<tr>\n",
              "  <th>Dept_38</th>   <td> 5.271e+04</td> <td>  196.634</td> <td>  268.054</td> <td> 0.000</td> <td> 5.23e+04</td> <td> 5.31e+04</td>\n",
              "</tr>\n",
              "<tr>\n",
              "  <th>Dept_4</th>    <td> 1.811e+04</td> <td>  197.154</td> <td>   91.863</td> <td> 0.000</td> <td> 1.77e+04</td> <td> 1.85e+04</td>\n",
              "</tr>\n",
              "<tr>\n",
              "  <th>Dept_40</th>   <td> 3.717e+04</td> <td>  196.591</td> <td>  189.064</td> <td> 0.000</td> <td> 3.68e+04</td> <td> 3.76e+04</td>\n",
              "</tr>\n",
              "<tr>\n",
              "  <th>Dept_7</th>    <td> 1.517e+04</td> <td>  197.604</td> <td>   76.764</td> <td> 0.000</td> <td> 1.48e+04</td> <td> 1.56e+04</td>\n",
              "</tr>\n",
              "<tr>\n",
              "  <th>Dept_72</th>   <td> 3.836e+04</td> <td>  203.469</td> <td>  188.542</td> <td> 0.000</td> <td>  3.8e+04</td> <td> 3.88e+04</td>\n",
              "</tr>\n",
              "<tr>\n",
              "  <th>Dept_8</th>    <td> 2.219e+04</td> <td>  196.837</td> <td>  112.716</td> <td> 0.000</td> <td> 2.18e+04</td> <td> 2.26e+04</td>\n",
              "</tr>\n",
              "<tr>\n",
              "  <th>Dept_90</th>   <td> 3.704e+04</td> <td>  195.808</td> <td>  189.143</td> <td> 0.000</td> <td> 3.67e+04</td> <td> 3.74e+04</td>\n",
              "</tr>\n",
              "<tr>\n",
              "  <th>Dept_91</th>   <td> 2.559e+04</td> <td>  196.273</td> <td>  130.391</td> <td> 0.000</td> <td> 2.52e+04</td> <td>  2.6e+04</td>\n",
              "</tr>\n",
              "<tr>\n",
              "  <th>Dept_92</th>   <td> 5.712e+04</td> <td>  195.823</td> <td>  291.694</td> <td> 0.000</td> <td> 5.67e+04</td> <td> 5.75e+04</td>\n",
              "</tr>\n",
              "<tr>\n",
              "  <th>Dept_93</th>   <td> 1.848e+04</td> <td>  204.507</td> <td>   90.371</td> <td> 0.000</td> <td> 1.81e+04</td> <td> 1.89e+04</td>\n",
              "</tr>\n",
              "<tr>\n",
              "  <th>Dept_94</th>   <td> 2.534e+04</td> <td>  207.127</td> <td>  122.338</td> <td> 0.000</td> <td> 2.49e+04</td> <td> 2.57e+04</td>\n",
              "</tr>\n",
              "<tr>\n",
              "  <th>Dept_95</th>   <td> 5.699e+04</td> <td>  196.307</td> <td>  290.311</td> <td> 0.000</td> <td> 5.66e+04</td> <td> 5.74e+04</td>\n",
              "</tr>\n",
              "<tr>\n",
              "  <th>MarkDown3</th> <td>    2.8424</td> <td>    0.095</td> <td>   29.823</td> <td> 0.000</td> <td>    2.656</td> <td>    3.029</td>\n",
              "</tr>\n",
              "<tr>\n",
              "  <th>Size</th>      <td>    0.0666</td> <td>    0.001</td> <td>   61.361</td> <td> 0.000</td> <td>    0.064</td> <td>    0.069</td>\n",
              "</tr>\n",
              "<tr>\n",
              "  <th>Store_10</th>  <td> 1.118e+04</td> <td>  161.829</td> <td>   69.073</td> <td> 0.000</td> <td> 1.09e+04</td> <td> 1.15e+04</td>\n",
              "</tr>\n",
              "<tr>\n",
              "  <th>Store_13</th>  <td> 6285.6068</td> <td>  164.843</td> <td>   38.131</td> <td> 0.000</td> <td> 5962.519</td> <td> 6608.694</td>\n",
              "</tr>\n",
              "<tr>\n",
              "  <th>Store_14</th>  <td> 8052.6760</td> <td>  163.675</td> <td>   49.199</td> <td> 0.000</td> <td> 7731.877</td> <td> 8373.475</td>\n",
              "</tr>\n",
              "<tr>\n",
              "  <th>Store_15</th>  <td>-5148.6205</td> <td>  165.560</td> <td>  -31.098</td> <td> 0.000</td> <td>-5473.114</td> <td>-4824.127</td>\n",
              "</tr>\n",
              "<tr>\n",
              "  <th>Store_16</th>  <td>-1867.0613</td> <td>  180.655</td> <td>  -10.335</td> <td> 0.000</td> <td>-2221.139</td> <td>-1512.983</td>\n",
              "</tr>\n",
              "<tr>\n",
              "  <th>Store_2</th>   <td> 7065.9510</td> <td>  162.525</td> <td>   43.476</td> <td> 0.000</td> <td> 6747.407</td> <td> 7384.495</td>\n",
              "</tr>\n",
              "<tr>\n",
              "  <th>Store_20</th>  <td> 9138.4451</td> <td>  162.628</td> <td>   56.192</td> <td> 0.000</td> <td> 8819.698</td> <td> 9457.192</td>\n",
              "</tr>\n",
              "<tr>\n",
              "  <th>Store_27</th>  <td> 5040.5460</td> <td>  161.913</td> <td>   31.131</td> <td> 0.000</td> <td> 4723.200</td> <td> 5357.892</td>\n",
              "</tr>\n",
              "<tr>\n",
              "  <th>Store_29</th>  <td>-4250.8225</td> <td>  169.418</td> <td>  -25.091</td> <td> 0.000</td> <td>-4582.877</td> <td>-3918.768</td>\n",
              "</tr>\n",
              "<tr>\n",
              "  <th>Store_3</th>   <td>-2338.3487</td> <td>  192.926</td> <td>  -12.120</td> <td> 0.000</td> <td>-2716.478</td> <td>-1960.220</td>\n",
              "</tr>\n",
              "<tr>\n",
              "  <th>Store_33</th>  <td>-4518.1970</td> <td>  246.985</td> <td>  -18.293</td> <td> 0.000</td> <td>-5002.280</td> <td>-4034.114</td>\n",
              "</tr>\n",
              "<tr>\n",
              "  <th>Store_38</th>  <td>-3142.4796</td> <td>  204.140</td> <td>  -15.394</td> <td> 0.000</td> <td>-3542.589</td> <td>-2742.371</td>\n",
              "</tr>\n",
              "<tr>\n",
              "  <th>Store_4</th>   <td> 8847.8538</td> <td>  162.329</td> <td>   54.506</td> <td> 0.000</td> <td> 8529.693</td> <td> 9166.015</td>\n",
              "</tr>\n",
              "<tr>\n",
              "  <th>Store_44</th>  <td>-4920.2563</td> <td>  206.003</td> <td>  -23.884</td> <td> 0.000</td> <td>-5324.016</td> <td>-4516.496</td>\n",
              "</tr>\n",
              "<tr>\n",
              "  <th>Store_5</th>   <td>-3471.0903</td> <td>  194.548</td> <td>  -17.842</td> <td> 0.000</td> <td>-3852.399</td> <td>-3089.782</td>\n",
              "</tr>\n",
              "<tr>\n",
              "  <th>Store_6</th>   <td> 3110.5092</td> <td>  161.916</td> <td>   19.211</td> <td> 0.000</td> <td> 2793.157</td> <td> 3427.861</td>\n",
              "</tr>\n",
              "<tr>\n",
              "  <th>Store_7</th>   <td>-2390.6882</td> <td>  174.078</td> <td>  -13.733</td> <td> 0.000</td> <td>-2731.877</td> <td>-2049.500</td>\n",
              "</tr>\n",
              "<tr>\n",
              "  <th>Store_9</th>   <td>-5979.7846</td> <td>  173.829</td> <td>  -34.400</td> <td> 0.000</td> <td>-6320.484</td> <td>-5639.085</td>\n",
              "</tr>\n",
              "<tr>\n",
              "  <th>Type_B</th>    <td>  838.2328</td> <td>   93.890</td> <td>    8.928</td> <td> 0.000</td> <td>  654.210</td> <td> 1022.255</td>\n",
              "</tr>\n",
              "<tr>\n",
              "  <th>Type_C</th>    <td>  664.0736</td> <td>  179.485</td> <td>    3.700</td> <td> 0.000</td> <td>  312.288</td> <td> 1015.859</td>\n",
              "</tr>\n",
              "</table>\n",
              "<table class=\"simpletable\">\n",
              "<tr>\n",
              "  <th>Omnibus:</th>       <td>54269.752</td> <th>  Durbin-Watson:     </th>  <td>   2.002</td> \n",
              "</tr>\n",
              "<tr>\n",
              "  <th>Prob(Omnibus):</th>  <td> 0.000</td>   <th>  Jarque-Bera (JB):  </th> <td>218208.275</td>\n",
              "</tr>\n",
              "<tr>\n",
              "  <th>Skew:</th>           <td> 0.872</td>   <th>  Prob(JB):          </th>  <td>    0.00</td> \n",
              "</tr>\n",
              "<tr>\n",
              "  <th>Kurtosis:</th>       <td> 6.835</td>   <th>  Cond. No.          </th>  <td>2.30e+06</td> \n",
              "</tr>\n",
              "</table><br/><br/>Warnings:<br/>[1] Standard Errors assume that the covariance matrix of the errors is correctly specified.<br/>[2] The condition number is large, 2.3e+06. This might indicate that there are<br/>strong multicollinearity or other numerical problems."
            ],
            "text/plain": [
              "<class 'statsmodels.iolib.summary.Summary'>\n",
              "\"\"\"\n",
              "                            OLS Regression Results                            \n",
              "==============================================================================\n",
              "Dep. Variable:           Weekly_Sales   R-squared:                       0.606\n",
              "Model:                            OLS   Adj. R-squared:                  0.606\n",
              "Method:                 Least Squares   F-statistic:                 1.227e+04\n",
              "Date:                Mon, 20 Apr 2020   Prob (F-statistic):               0.00\n",
              "Time:                        15:52:18   Log-Likelihood:            -3.2150e+06\n",
              "No. Observations:              295099   AIC:                         6.430e+06\n",
              "Df Residuals:                  295061   BIC:                         6.431e+06\n",
              "Df Model:                          37                                         \n",
              "Covariance Type:            nonrobust                                         \n",
              "==============================================================================\n",
              "                 coef    std err          t      P>|t|      [0.025      0.975]\n",
              "------------------------------------------------------------------------------\n",
              "const      -1823.9981    197.180     -9.250      0.000   -2210.466   -1437.530\n",
              "Dept_13     2.295e+04    196.156    116.984      0.000    2.26e+04    2.33e+04\n",
              "Dept_2       3.55e+04    197.003    180.181      0.000    3.51e+04    3.59e+04\n",
              "Dept_23     1.519e+04    206.140     73.687      0.000    1.48e+04    1.56e+04\n",
              "Dept_38     5.271e+04    196.634    268.054      0.000    5.23e+04    5.31e+04\n",
              "Dept_4      1.811e+04    197.154     91.863      0.000    1.77e+04    1.85e+04\n",
              "Dept_40     3.717e+04    196.591    189.064      0.000    3.68e+04    3.76e+04\n",
              "Dept_7      1.517e+04    197.604     76.764      0.000    1.48e+04    1.56e+04\n",
              "Dept_72     3.836e+04    203.469    188.542      0.000     3.8e+04    3.88e+04\n",
              "Dept_8      2.219e+04    196.837    112.716      0.000    2.18e+04    2.26e+04\n",
              "Dept_90     3.704e+04    195.808    189.143      0.000    3.67e+04    3.74e+04\n",
              "Dept_91     2.559e+04    196.273    130.391      0.000    2.52e+04     2.6e+04\n",
              "Dept_92     5.712e+04    195.823    291.694      0.000    5.67e+04    5.75e+04\n",
              "Dept_93     1.848e+04    204.507     90.371      0.000    1.81e+04    1.89e+04\n",
              "Dept_94     2.534e+04    207.127    122.338      0.000    2.49e+04    2.57e+04\n",
              "Dept_95     5.699e+04    196.307    290.311      0.000    5.66e+04    5.74e+04\n",
              "MarkDown3      2.8424      0.095     29.823      0.000       2.656       3.029\n",
              "Size           0.0666      0.001     61.361      0.000       0.064       0.069\n",
              "Store_10    1.118e+04    161.829     69.073      0.000    1.09e+04    1.15e+04\n",
              "Store_13    6285.6068    164.843     38.131      0.000    5962.519    6608.694\n",
              "Store_14    8052.6760    163.675     49.199      0.000    7731.877    8373.475\n",
              "Store_15   -5148.6205    165.560    -31.098      0.000   -5473.114   -4824.127\n",
              "Store_16   -1867.0613    180.655    -10.335      0.000   -2221.139   -1512.983\n",
              "Store_2     7065.9510    162.525     43.476      0.000    6747.407    7384.495\n",
              "Store_20    9138.4451    162.628     56.192      0.000    8819.698    9457.192\n",
              "Store_27    5040.5460    161.913     31.131      0.000    4723.200    5357.892\n",
              "Store_29   -4250.8225    169.418    -25.091      0.000   -4582.877   -3918.768\n",
              "Store_3    -2338.3487    192.926    -12.120      0.000   -2716.478   -1960.220\n",
              "Store_33   -4518.1970    246.985    -18.293      0.000   -5002.280   -4034.114\n",
              "Store_38   -3142.4796    204.140    -15.394      0.000   -3542.589   -2742.371\n",
              "Store_4     8847.8538    162.329     54.506      0.000    8529.693    9166.015\n",
              "Store_44   -4920.2563    206.003    -23.884      0.000   -5324.016   -4516.496\n",
              "Store_5    -3471.0903    194.548    -17.842      0.000   -3852.399   -3089.782\n",
              "Store_6     3110.5092    161.916     19.211      0.000    2793.157    3427.861\n",
              "Store_7    -2390.6882    174.078    -13.733      0.000   -2731.877   -2049.500\n",
              "Store_9    -5979.7846    173.829    -34.400      0.000   -6320.484   -5639.085\n",
              "Type_B       838.2328     93.890      8.928      0.000     654.210    1022.255\n",
              "Type_C       664.0736    179.485      3.700      0.000     312.288    1015.859\n",
              "==============================================================================\n",
              "Omnibus:                    54269.752   Durbin-Watson:                   2.002\n",
              "Prob(Omnibus):                  0.000   Jarque-Bera (JB):           218208.275\n",
              "Skew:                           0.872   Prob(JB):                         0.00\n",
              "Kurtosis:                       6.835   Cond. No.                     2.30e+06\n",
              "==============================================================================\n",
              "\n",
              "Warnings:\n",
              "[1] Standard Errors assume that the covariance matrix of the errors is correctly specified.\n",
              "[2] The condition number is large, 2.3e+06. This might indicate that there are\n",
              "strong multicollinearity or other numerical problems.\n",
              "\"\"\""
            ]
          },
          "metadata": {
            "tags": []
          },
          "execution_count": 75
        }
      ]
    },
    {
      "cell_type": "code",
      "metadata": {
        "id": "E6n97NZHjVyf",
        "colab_type": "code",
        "outputId": "603a1512-bd9e-4975-af84-461715c7aad3",
        "colab": {
          "base_uri": "https://localhost:8080/",
          "height": 163
        }
      },
      "source": [
        "feature_columns = train_X.columns\n",
        "feature_columns"
      ],
      "execution_count": 0,
      "outputs": [
        {
          "output_type": "execute_result",
          "data": {
            "text/plain": [
              "Index(['const', 'Dept_13', 'Dept_2', 'Dept_23', 'Dept_38', 'Dept_4', 'Dept_40',\n",
              "       'Dept_7', 'Dept_72', 'Dept_8', 'Dept_90', 'Dept_91', 'Dept_92',\n",
              "       'Dept_93', 'Dept_94', 'Dept_95', 'MarkDown3', 'Size', 'Store_10',\n",
              "       'Store_13', 'Store_14', 'Store_15', 'Store_16', 'Store_2', 'Store_20',\n",
              "       'Store_27', 'Store_29', 'Store_3', 'Store_33', 'Store_38', 'Store_4',\n",
              "       'Store_44', 'Store_5', 'Store_6', 'Store_7', 'Store_9', 'Type_B',\n",
              "       'Type_C'],\n",
              "      dtype='object')"
            ]
          },
          "metadata": {
            "tags": []
          },
          "execution_count": 76
        }
      ]
    },
    {
      "cell_type": "markdown",
      "metadata": {
        "id": "fx47kOPdsrqU",
        "colab_type": "text"
      },
      "source": [
        "# Explore different regression models and determine the best model for the prediction"
      ]
    },
    {
      "cell_type": "markdown",
      "metadata": {
        "id": "R3wYL37TtE-c",
        "colab_type": "text"
      },
      "source": [
        "## Linear Regression"
      ]
    },
    {
      "cell_type": "code",
      "metadata": {
        "id": "e4ynCRi-s45e",
        "colab_type": "code",
        "colab": {}
      },
      "source": [
        "from sklearn.linear_model import LinearRegression\n",
        "from sklearn.model_selection import train_test_split,cross_val_score, cross_val_predict"
      ],
      "execution_count": 0,
      "outputs": []
    },
    {
      "cell_type": "code",
      "metadata": {
        "id": "8aQoxNLjyF7i",
        "colab_type": "code",
        "colab": {}
      },
      "source": [
        "train_X = sm.add_constant(train_X)\n",
        "test_X = sm.add_constant(test_X)"
      ],
      "execution_count": 0,
      "outputs": []
    },
    {
      "cell_type": "code",
      "metadata": {
        "id": "WEK0B3bHvvwU",
        "colab_type": "code",
        "outputId": "17824e36-f11f-4a7a-e2a8-3e6a85f19648",
        "colab": {
          "base_uri": "https://localhost:8080/",
          "height": 54
        }
      },
      "source": [
        "lm = LinearRegression()\n",
        "lm.fit(train_X, train_Y)\n",
        "lm.predict(test_X)"
      ],
      "execution_count": 0,
      "outputs": [
        {
          "output_type": "execute_result",
          "data": {
            "text/plain": [
              "array([46617.86631203,   957.186203  ,  2176.83923912, ...,\n",
              "        1416.45149803,  6643.51862717,  6978.17783737])"
            ]
          },
          "metadata": {
            "tags": []
          },
          "execution_count": 79
        }
      ]
    },
    {
      "cell_type": "code",
      "metadata": {
        "id": "DfbRZuhwwE6W",
        "colab_type": "code",
        "outputId": "a21077a6-347e-4e78-f5ea-f10c10a3ce74",
        "colab": {
          "base_uri": "https://localhost:8080/",
          "height": 35
        }
      },
      "source": [
        "lm.score(train_X, train_Y)"
      ],
      "execution_count": 0,
      "outputs": [
        {
          "output_type": "execute_result",
          "data": {
            "text/plain": [
              "0.6060400548376681"
            ]
          },
          "metadata": {
            "tags": []
          },
          "execution_count": 80
        }
      ]
    },
    {
      "cell_type": "code",
      "metadata": {
        "id": "cn5b2dSWwWKi",
        "colab_type": "code",
        "outputId": "51702f1c-4dec-4a2b-8e85-a9c5fd636933",
        "colab": {
          "base_uri": "https://localhost:8080/",
          "height": 35
        }
      },
      "source": [
        "linear_regression_score = lm.score(test_X,test_Y)\n",
        "linear_regression_score"
      ],
      "execution_count": 0,
      "outputs": [
        {
          "output_type": "execute_result",
          "data": {
            "text/plain": [
              "0.6056371529629543"
            ]
          },
          "metadata": {
            "tags": []
          },
          "execution_count": 81
        }
      ]
    },
    {
      "cell_type": "code",
      "metadata": {
        "id": "kWDXBz7qwYmh",
        "colab_type": "code",
        "colab": {}
      },
      "source": [
        "rootMeanSquaredErrorLinReg=np.sqrt(mean_squared_error(train_Y, lm.predict(train_X)))"
      ],
      "execution_count": 0,
      "outputs": []
    },
    {
      "cell_type": "code",
      "metadata": {
        "id": "fE03VNjQwcE8",
        "colab_type": "code",
        "outputId": "c0efe0f0-c93a-4f1d-c14d-9ecf0c6392d7",
        "colab": {
          "base_uri": "https://localhost:8080/",
          "height": 35
        }
      },
      "source": [
        "print(\"rmse_train Linear Regression= \" + str(rootMeanSquaredErrorLinReg))"
      ],
      "execution_count": 0,
      "outputs": [
        {
          "output_type": "stream",
          "text": [
            "rmse_train Linear Regression= 13040.778890906318\n"
          ],
          "name": "stdout"
        }
      ]
    },
    {
      "cell_type": "code",
      "metadata": {
        "id": "WgDOyKpFwf-V",
        "colab_type": "code",
        "colab": {}
      },
      "source": [
        "rootMeanSquaredErrorLinReg=np.sqrt(mean_squared_error(test_Y, lm.predict(test_X)))"
      ],
      "execution_count": 0,
      "outputs": []
    },
    {
      "cell_type": "code",
      "metadata": {
        "id": "E-zNsBSxwnH9",
        "colab_type": "code",
        "outputId": "2beeba14-dad0-4985-b702-21de5b889183",
        "colab": {
          "base_uri": "https://localhost:8080/",
          "height": 35
        }
      },
      "source": [
        "print(\"rmse_test Linear Regression= \" + str(rootMeanSquaredErrorLinReg))"
      ],
      "execution_count": 0,
      "outputs": [
        {
          "output_type": "stream",
          "text": [
            "rmse_test Linear Regression= 13057.703618024285\n"
          ],
          "name": "stdout"
        }
      ]
    },
    {
      "cell_type": "code",
      "metadata": {
        "id": "EJef6Go_xA_w",
        "colab_type": "code",
        "colab": {}
      },
      "source": [
        "y_pred_test = lm.predict(test_X)"
      ],
      "execution_count": 0,
      "outputs": []
    },
    {
      "cell_type": "code",
      "metadata": {
        "id": "8yzpT1JUwo1m",
        "colab_type": "code",
        "colab": {}
      },
      "source": [
        "residuals = test_Y - y_pred_test"
      ],
      "execution_count": 0,
      "outputs": []
    },
    {
      "cell_type": "code",
      "metadata": {
        "id": "S09Z_21NwxzG",
        "colab_type": "code",
        "outputId": "e37d3c36-2630-47ff-9357-1787ab510bfe",
        "colab": {
          "base_uri": "https://localhost:8080/",
          "height": 459
        }
      },
      "source": [
        "sns.jointplot(  test_Y, residuals )"
      ],
      "execution_count": 0,
      "outputs": [
        {
          "output_type": "execute_result",
          "data": {
            "text/plain": [
              "<seaborn.axisgrid.JointGrid at 0x7f7c6a8892e8>"
            ]
          },
          "metadata": {
            "tags": []
          },
          "execution_count": 88
        },
        {
          "output_type": "display_data",
          "data": {
            "image/png": "[encoded data removed]",
            "text/plain": [
              "<Figure size 432x432 with 3 Axes>"
            ]
          },
          "metadata": {
            "tags": [],
            "needs_background": "light"
          }
        }
      ]
    },
    {
      "cell_type": "code",
      "metadata": {
        "id": "39ICHDIxxHRT",
        "colab_type": "code",
        "outputId": "05ff05e7-db60-4d41-91e8-d00dfac225fc",
        "colab": {
          "base_uri": "https://localhost:8080/",
          "height": 309
        }
      },
      "source": [
        "sns.distplot( residuals )"
      ],
      "execution_count": 0,
      "outputs": [
        {
          "output_type": "execute_result",
          "data": {
            "text/plain": [
              "<matplotlib.axes._subplots.AxesSubplot at 0x7f7c6a5eb748>"
            ]
          },
          "metadata": {
            "tags": []
          },
          "execution_count": 89
        },
        {
          "output_type": "display_data",
          "data": {
            "image/png": "[encoded data removed]",
            "text/plain": [
              "<Figure size 432x288 with 1 Axes>"
            ]
          },
          "metadata": {
            "tags": [],
            "needs_background": "light"
          }
        }
      ]
    },
    {
      "cell_type": "code",
      "metadata": {
        "id": "kgDoG6raxMem",
        "colab_type": "code",
        "outputId": "2fc3ad90-262c-4854-dc4c-97aac0568a76",
        "colab": {
          "base_uri": "https://localhost:8080/",
          "height": 295
        }
      },
      "source": [
        "# To ensure residues are random i.e. normally distributed a Q-Q plot can be used\n",
        "# Q-Q plot shows if the residuals are plotted along the line.\n",
        "from scipy import stats\n",
        "import pylab\n",
        "\n",
        "stats.probplot( residuals, dist=\"norm\", plot=pylab )\n",
        "pylab.show()"
      ],
      "execution_count": 0,
      "outputs": [
        {
          "output_type": "display_data",
          "data": {
            "image/png": "[encoded data removed]",
            "text/plain": [
              "<Figure size 432x288 with 1 Axes>"
            ]
          },
          "metadata": {
            "tags": [],
            "needs_background": "light"
          }
        }
      ]
    },
    {
      "cell_type": "markdown",
      "metadata": {
        "id": "3PjgPk_DxXqb",
        "colab_type": "text"
      },
      "source": [
        "## Ensemble Models"
      ]
    },
    {
      "cell_type": "markdown",
      "metadata": {
        "id": "s2zZtkfzxb6K",
        "colab_type": "text"
      },
      "source": [
        "### Random Forest"
      ]
    },
    {
      "cell_type": "code",
      "metadata": {
        "id": "lABUXEjAxXF1",
        "colab_type": "code",
        "colab": {}
      },
      "source": [
        "from sklearn.model_selection import GridSearchCV\n",
        "from sklearn.model_selection import train_test_split,cross_val_score, cross_val_predict"
      ],
      "execution_count": 0,
      "outputs": []
    },
    {
      "cell_type": "code",
      "metadata": {
        "id": "Ke3yH8aMxQpG",
        "colab_type": "code",
        "colab": {}
      },
      "source": [
        "train_X.drop('const', axis=1, inplace=True)\n",
        "test_X.drop('const', axis=1, inplace=True)"
      ],
      "execution_count": 0,
      "outputs": []
    },
    {
      "cell_type": "code",
      "metadata": {
        "id": "hhGNZ4a1xnaN",
        "colab_type": "code",
        "colab": {}
      },
      "source": [
        "param_grid = {'max_depth': np.arange(3, 8) , 'max_features': np.arange(3,20) , 'min_samples_split': np.arange(30,40) }"
      ],
      "execution_count": 0,
      "outputs": []
    },
    {
      "cell_type": "code",
      "metadata": {
        "id": "zDlAhz20y7J4",
        "colab_type": "code",
        "colab": {}
      },
      "source": [
        "import warnings\n",
        "warnings.filterwarnings(\"ignore\", category=UserWarning)"
      ],
      "execution_count": 0,
      "outputs": []
    },
    {
      "cell_type": "code",
      "metadata": {
        "id": "hss9z-IUzO2z",
        "colab_type": "code",
        "outputId": "f9e39781-100e-43f1-f02a-c9a434fc595e",
        "colab": {
          "base_uri": "https://localhost:8080/",
          "height": 381
        }
      },
      "source": [
        "# May take hours to execute\n",
        "rf = GridSearchCV(RandomForestRegressor(oob_score=True,n_estimators=10, n_jobs=-1 ), \n",
        "                        param_grid, \n",
        "                        cv=10)\n",
        "rf.fit(train_X, train_Y)"
      ],
      "execution_count": 0,
      "outputs": [
        {
          "output_type": "execute_result",
          "data": {
            "text/plain": [
              "GridSearchCV(cv=10, error_score=nan,\n",
              "             estimator=RandomForestRegressor(bootstrap=True, ccp_alpha=0.0,\n",
              "                                             criterion='mse', max_depth=None,\n",
              "                                             max_features='auto',\n",
              "                                             max_leaf_nodes=None,\n",
              "                                             max_samples=None,\n",
              "                                             min_impurity_decrease=0.0,\n",
              "                                             min_impurity_split=None,\n",
              "                                             min_samples_leaf=1,\n",
              "                                             min_samples_split=2,\n",
              "                                             min_weight_fraction_leaf=0.0,\n",
              "                                             n_estimators=10, n_jobs=-1,\n",
              "                                             oob_score=True, random_state=None,\n",
              "                                             verbose=0, warm_start=False),\n",
              "             iid='deprecated', n_jobs=None,\n",
              "             param_grid={'max_depth': array([3, 4, 5, 6, 7]),\n",
              "                         'max_features': array([ 3,  4,  5,  6,  7,  8,  9, 10, 11, 12, 13, 14, 15, 16, 17, 18, 19]),\n",
              "                         'min_samples_split': array([30, 31, 32, 33, 34, 35, 36, 37, 38, 39])},\n",
              "             pre_dispatch='2*n_jobs', refit=True, return_train_score=False,\n",
              "             scoring=None, verbose=0)"
            ]
          },
          "metadata": {
            "tags": []
          },
          "execution_count": 108
        }
      ]
    },
    {
      "cell_type": "code",
      "metadata": {
        "id": "sjmV3zMLzTlq",
        "colab_type": "code",
        "outputId": "21dd189d-582e-42ef-f4b7-a367665250c1",
        "colab": {
          "base_uri": "https://localhost:8080/",
          "height": 35
        }
      },
      "source": [
        "rf.best_params_"
      ],
      "execution_count": 0,
      "outputs": [
        {
          "output_type": "execute_result",
          "data": {
            "text/plain": [
              "{'max_depth': 7, 'max_features': 14, 'min_samples_split': 37}"
            ]
          },
          "metadata": {
            "tags": []
          },
          "execution_count": 110
        }
      ]
    },
    {
      "cell_type": "code",
      "metadata": {
        "id": "hozyzi7M1d7-",
        "colab_type": "code",
        "outputId": "d1ebce51-c1ff-481c-bb25-c0b1e9d79a3b",
        "colab": {
          "base_uri": "https://localhost:8080/",
          "height": 145
        }
      },
      "source": [
        "radm_reg = RandomForestRegressor(oob_score=True,n_estimators=100, max_features=14, min_samples_split=37,max_depth=7)\n",
        "radm_reg.fit( train_X, train_Y )"
      ],
      "execution_count": 0,
      "outputs": [
        {
          "output_type": "execute_result",
          "data": {
            "text/plain": [
              "RandomForestRegressor(bootstrap=True, ccp_alpha=0.0, criterion='mse',\n",
              "                      max_depth=7, max_features=14, max_leaf_nodes=None,\n",
              "                      max_samples=None, min_impurity_decrease=0.0,\n",
              "                      min_impurity_split=None, min_samples_leaf=1,\n",
              "                      min_samples_split=37, min_weight_fraction_leaf=0.0,\n",
              "                      n_estimators=100, n_jobs=None, oob_score=True,\n",
              "                      random_state=None, verbose=0, warm_start=False)"
            ]
          },
          "metadata": {
            "tags": []
          },
          "execution_count": 94
        }
      ]
    },
    {
      "cell_type": "code",
      "metadata": {
        "id": "NM8RxLya12Fs",
        "colab_type": "code",
        "outputId": "adf41a4b-7b48-4037-8826-57fe3a5f1212",
        "colab": {
          "base_uri": "https://localhost:8080/",
          "height": 35
        }
      },
      "source": [
        "random_forest_score = radm_reg.score(test_X,test_Y)\n",
        "random_forest_score"
      ],
      "execution_count": 0,
      "outputs": [
        {
          "output_type": "execute_result",
          "data": {
            "text/plain": [
              "0.5752216285261578"
            ]
          },
          "metadata": {
            "tags": []
          },
          "execution_count": 95
        }
      ]
    },
    {
      "cell_type": "code",
      "metadata": {
        "id": "2aYPA3KP178d",
        "colab_type": "code",
        "outputId": "ade1b28e-de22-4333-ae20-76686106b16f",
        "colab": {
          "base_uri": "https://localhost:8080/",
          "height": 35
        }
      },
      "source": [
        "radm_test_pred_cv = cross_val_predict(radm_reg, test_X,test_Y, cv=10 )\n",
        "\n",
        "metrics.r2_score(test_Y, radm_test_pred_cv)"
      ],
      "execution_count": 0,
      "outputs": [
        {
          "output_type": "execute_result",
          "data": {
            "text/plain": [
              "0.5777007900831644"
            ]
          },
          "metadata": {
            "tags": []
          },
          "execution_count": 96
        }
      ]
    },
    {
      "cell_type": "code",
      "metadata": {
        "id": "bnjtVqMx2Din",
        "colab_type": "code",
        "outputId": "98fbd960-4a55-4649-e452-663eced8b225",
        "colab": {
          "base_uri": "https://localhost:8080/",
          "height": 35
        }
      },
      "source": [
        "radm_reg.oob_score_"
      ],
      "execution_count": 0,
      "outputs": [
        {
          "output_type": "execute_result",
          "data": {
            "text/plain": [
              "0.5717400072857175"
            ]
          },
          "metadata": {
            "tags": []
          },
          "execution_count": 97
        }
      ]
    },
    {
      "cell_type": "code",
      "metadata": {
        "id": "FzZR4AdY2No0",
        "colab_type": "code",
        "outputId": "5a2599d3-8da6-4c05-ebf4-996096fff5d4",
        "colab": {
          "base_uri": "https://localhost:8080/",
          "height": 35
        }
      },
      "source": [
        "rootMeanSquaredErrorRadmForest=np.sqrt(mean_squared_error(train_Y, radm_reg.predict(train_X)))\n",
        "print(\"rmse_train Random Forest= \" + str(rootMeanSquaredErrorRadmForest))"
      ],
      "execution_count": 0,
      "outputs": [
        {
          "output_type": "stream",
          "text": [
            "rmse_train Random Forest= 13561.411443085392\n"
          ],
          "name": "stdout"
        }
      ]
    },
    {
      "cell_type": "code",
      "metadata": {
        "id": "LvgJUoaW2RZc",
        "colab_type": "code",
        "outputId": "17908cd5-c9b0-43f6-840a-dd3d24201568",
        "colab": {
          "base_uri": "https://localhost:8080/",
          "height": 35
        }
      },
      "source": [
        "rootMeanSquaredErrorRadmForest=np.sqrt(mean_squared_error(test_Y, radm_reg.predict(test_X)))\n",
        "print(\"rmse_test Random Forest= \" + str(rootMeanSquaredErrorRadmForest))"
      ],
      "execution_count": 0,
      "outputs": [
        {
          "output_type": "stream",
          "text": [
            "rmse_test Random Forest= 13551.894372414883\n"
          ],
          "name": "stdout"
        }
      ]
    },
    {
      "cell_type": "markdown",
      "metadata": {
        "id": "Vl0lz7ij2kKf",
        "colab_type": "text"
      },
      "source": [
        "### Decision Tree"
      ]
    },
    {
      "cell_type": "code",
      "metadata": {
        "id": "lnFi_f9F2VZ9",
        "colab_type": "code",
        "colab": {}
      },
      "source": [
        "from sklearn.tree import DecisionTreeRegressor"
      ],
      "execution_count": 0,
      "outputs": []
    },
    {
      "cell_type": "code",
      "metadata": {
        "id": "7wJPBayP2n2x",
        "colab_type": "code",
        "colab": {}
      },
      "source": [
        "param_grid = {'max_depth': np.arange(3,8),\n",
        "             'max_features': np.arange(3,feature_columns.size),\n",
        "              'min_samples_split': np.arange(30,40)\n",
        "             }"
      ],
      "execution_count": 0,
      "outputs": []
    },
    {
      "cell_type": "code",
      "metadata": {
        "id": "TRcK8B3f2p0O",
        "colab_type": "code",
        "outputId": "4c2bbe74-7d26-4703-c500-13ebc0942904",
        "colab": {
          "base_uri": "https://localhost:8080/",
          "height": 381
        }
      },
      "source": [
        "# May take hours to execute\n",
        "tree = GridSearchCV(DecisionTreeRegressor(), param_grid, cv = 10)\n",
        "tree.fit( train_X, train_Y )"
      ],
      "execution_count": 0,
      "outputs": [
        {
          "output_type": "execute_result",
          "data": {
            "text/plain": [
              "GridSearchCV(cv=10, error_score=nan,\n",
              "             estimator=DecisionTreeRegressor(ccp_alpha=0.0, criterion='mse',\n",
              "                                             max_depth=None, max_features=None,\n",
              "                                             max_leaf_nodes=None,\n",
              "                                             min_impurity_decrease=0.0,\n",
              "                                             min_impurity_split=None,\n",
              "                                             min_samples_leaf=1,\n",
              "                                             min_samples_split=2,\n",
              "                                             min_weight_fraction_leaf=0.0,\n",
              "                                             presort='deprecated',\n",
              "                                             random_state=None,\n",
              "                                             splitter='best'),\n",
              "             iid='deprecated', n_jobs=None,\n",
              "             param_grid={'max_depth': array([3, 4, 5, 6, 7]),\n",
              "                         'max_features': array([ 3,  4,  5,  6,  7,  8,  9, 10, 11, 12, 13, 14, 15, 16, 17, 18, 19,\n",
              "       20, 21, 22, 23, 24, 25, 26, 27, 28, 29, 30, 31, 32, 33, 34, 35, 36,\n",
              "       37]),\n",
              "                         'min_samples_split': array([30, 31, 32, 33, 34, 35, 36, 37, 38, 39])},\n",
              "             pre_dispatch='2*n_jobs', refit=True, return_train_score=False,\n",
              "             scoring=None, verbose=0)"
            ]
          },
          "metadata": {
            "tags": []
          },
          "execution_count": 120
        }
      ]
    },
    {
      "cell_type": "code",
      "metadata": {
        "id": "kCObjQiw2rYb",
        "colab_type": "code",
        "outputId": "a5d0ba6f-b71f-4b27-e367-70167bdeded6",
        "colab": {
          "base_uri": "https://localhost:8080/",
          "height": 35
        }
      },
      "source": [
        "tree.best_params_"
      ],
      "execution_count": 0,
      "outputs": [
        {
          "output_type": "execute_result",
          "data": {
            "text/plain": [
              "{'max_depth': 7, 'max_features': 36, 'min_samples_split': 39}"
            ]
          },
          "metadata": {
            "tags": []
          },
          "execution_count": 122
        }
      ]
    },
    {
      "cell_type": "code",
      "metadata": {
        "id": "8bvAdfeAAT3y",
        "colab_type": "code",
        "outputId": "e3c834c0-1527-406d-bba4-ec08ae049042",
        "colab": {
          "base_uri": "https://localhost:8080/",
          "height": 126
        }
      },
      "source": [
        "reg_tree = DecisionTreeRegressor( max_depth = 7, max_features=36, min_samples_split=39 )\n",
        "reg_tree.fit( train_X, train_Y )"
      ],
      "execution_count": 0,
      "outputs": [
        {
          "output_type": "execute_result",
          "data": {
            "text/plain": [
              "DecisionTreeRegressor(ccp_alpha=0.0, criterion='mse', max_depth=7,\n",
              "                      max_features=36, max_leaf_nodes=None,\n",
              "                      min_impurity_decrease=0.0, min_impurity_split=None,\n",
              "                      min_samples_leaf=1, min_samples_split=39,\n",
              "                      min_weight_fraction_leaf=0.0, presort='deprecated',\n",
              "                      random_state=None, splitter='best')"
            ]
          },
          "metadata": {
            "tags": []
          },
          "execution_count": 102
        }
      ]
    },
    {
      "cell_type": "code",
      "metadata": {
        "id": "AZMinx1gN8Zk",
        "colab_type": "code",
        "colab": {}
      },
      "source": [
        "tree_test_pred = pd.DataFrame( { 'actual':  test_Y,\n",
        "                            'predicted': reg_tree.predict( test_X ) } )"
      ],
      "execution_count": 0,
      "outputs": []
    },
    {
      "cell_type": "code",
      "metadata": {
        "id": "334YhVdTOB2s",
        "colab_type": "code",
        "outputId": "d54c8994-a0b0-431c-a80a-50d769ad0b58",
        "colab": {
          "base_uri": "https://localhost:8080/",
          "height": 378
        }
      },
      "source": [
        "tree_test_pred.sample( n = 10 )"
      ],
      "execution_count": 0,
      "outputs": [
        {
          "output_type": "execute_result",
          "data": {
            "text/html": [
              "<div>\n",
              "<style scoped>\n",
              "    .dataframe tbody tr th:only-of-type {\n",
              "        vertical-align: middle;\n",
              "    }\n",
              "\n",
              "    .dataframe tbody tr th {\n",
              "        vertical-align: top;\n",
              "    }\n",
              "\n",
              "    .dataframe thead th {\n",
              "        text-align: right;\n",
              "    }\n",
              "</style>\n",
              "<table border=\"1\" class=\"dataframe\">\n",
              "  <thead>\n",
              "    <tr style=\"text-align: right;\">\n",
              "      <th></th>\n",
              "      <th>actual</th>\n",
              "      <th>predicted</th>\n",
              "    </tr>\n",
              "    <tr>\n",
              "      <th>Store_Dept_Date</th>\n",
              "      <th></th>\n",
              "      <th></th>\n",
              "    </tr>\n",
              "  </thead>\n",
              "  <tbody>\n",
              "    <tr>\n",
              "      <th>22_27_2012-06-15</th>\n",
              "      <td>1615.82</td>\n",
              "      <td>8859.306349</td>\n",
              "    </tr>\n",
              "    <tr>\n",
              "      <th>12_26_2011-07-22</th>\n",
              "      <td>10823.31</td>\n",
              "      <td>8859.306349</td>\n",
              "    </tr>\n",
              "    <tr>\n",
              "      <th>3_11_2012-06-01</th>\n",
              "      <td>19064.27</td>\n",
              "      <td>8859.306349</td>\n",
              "    </tr>\n",
              "    <tr>\n",
              "      <th>25_81_2010-10-29</th>\n",
              "      <td>7224.12</td>\n",
              "      <td>8859.306349</td>\n",
              "    </tr>\n",
              "    <tr>\n",
              "      <th>40_18_2010-10-15</th>\n",
              "      <td>6292.35</td>\n",
              "      <td>8859.306349</td>\n",
              "    </tr>\n",
              "    <tr>\n",
              "      <th>40_14_2010-08-20</th>\n",
              "      <td>11486.14</td>\n",
              "      <td>8859.306349</td>\n",
              "    </tr>\n",
              "    <tr>\n",
              "      <th>43_16_2010-12-31</th>\n",
              "      <td>1308.09</td>\n",
              "      <td>8859.306349</td>\n",
              "    </tr>\n",
              "    <tr>\n",
              "      <th>31_87_2011-12-16</th>\n",
              "      <td>9142.76</td>\n",
              "      <td>16664.869425</td>\n",
              "    </tr>\n",
              "    <tr>\n",
              "      <th>42_94_2011-06-17</th>\n",
              "      <td>34642.46</td>\n",
              "      <td>8859.306349</td>\n",
              "    </tr>\n",
              "    <tr>\n",
              "      <th>41_4_2012-08-10</th>\n",
              "      <td>41777.74</td>\n",
              "      <td>16664.869425</td>\n",
              "    </tr>\n",
              "  </tbody>\n",
              "</table>\n",
              "</div>"
            ],
            "text/plain": [
              "                    actual     predicted\n",
              "Store_Dept_Date                         \n",
              "22_27_2012-06-15   1615.82   8859.306349\n",
              "12_26_2011-07-22  10823.31   8859.306349\n",
              "3_11_2012-06-01   19064.27   8859.306349\n",
              "25_81_2010-10-29   7224.12   8859.306349\n",
              "40_18_2010-10-15   6292.35   8859.306349\n",
              "40_14_2010-08-20  11486.14   8859.306349\n",
              "43_16_2010-12-31   1308.09   8859.306349\n",
              "31_87_2011-12-16   9142.76  16664.869425\n",
              "42_94_2011-06-17  34642.46   8859.306349\n",
              "41_4_2012-08-10   41777.74  16664.869425"
            ]
          },
          "metadata": {
            "tags": []
          },
          "execution_count": 105
        }
      ]
    },
    {
      "cell_type": "code",
      "metadata": {
        "id": "ZdZzFFs3OFIe",
        "colab_type": "code",
        "outputId": "15147b61-d301-481d-b52f-03e7bfd77023",
        "colab": {
          "base_uri": "https://localhost:8080/",
          "height": 35
        }
      },
      "source": [
        "decision_tree_score = reg_tree.score(test_X,test_Y)\n",
        "decision_tree_score"
      ],
      "execution_count": 0,
      "outputs": [
        {
          "output_type": "execute_result",
          "data": {
            "text/plain": [
              "0.5255501309347584"
            ]
          },
          "metadata": {
            "tags": []
          },
          "execution_count": 106
        }
      ]
    },
    {
      "cell_type": "code",
      "metadata": {
        "id": "mAiTK-EdOOLF",
        "colab_type": "code",
        "colab": {}
      },
      "source": [
        "tree_test_pred_cv = cross_val_predict(reg_tree, test_X,test_Y, cv=10 )"
      ],
      "execution_count": 0,
      "outputs": []
    },
    {
      "cell_type": "code",
      "metadata": {
        "id": "8xRecgRbOQSB",
        "colab_type": "code",
        "outputId": "9fea8a96-99d1-4d9c-c3a3-f2d1fe57f326",
        "colab": {
          "base_uri": "https://localhost:8080/",
          "height": 35
        }
      },
      "source": [
        "metrics.r2_score(test_Y, tree_test_pred_cv)"
      ],
      "execution_count": 0,
      "outputs": [
        {
          "output_type": "execute_result",
          "data": {
            "text/plain": [
              "0.5281531441410785"
            ]
          },
          "metadata": {
            "tags": []
          },
          "execution_count": 108
        }
      ]
    },
    {
      "cell_type": "code",
      "metadata": {
        "id": "s8qetohVOR4W",
        "colab_type": "code",
        "colab": {}
      },
      "source": [
        "rootMeanSquaredErrorDT=np.sqrt(mean_squared_error(train_Y, reg_tree.predict(train_X)))"
      ],
      "execution_count": 0,
      "outputs": []
    },
    {
      "cell_type": "code",
      "metadata": {
        "id": "SyhbkhHyOT61",
        "colab_type": "code",
        "outputId": "531907a7-bd8f-4fe8-c316-30ffedf8a8cf",
        "colab": {
          "base_uri": "https://localhost:8080/",
          "height": 35
        }
      },
      "source": [
        "print(\"rmse_train Decision Tree= \" + str(rootMeanSquaredErrorDT))"
      ],
      "execution_count": 0,
      "outputs": [
        {
          "output_type": "stream",
          "text": [
            "rmse_train Decision Tree= 14312.605587997177\n"
          ],
          "name": "stdout"
        }
      ]
    },
    {
      "cell_type": "code",
      "metadata": {
        "id": "RlMF-gkuOVnw",
        "colab_type": "code",
        "colab": {}
      },
      "source": [
        "rootMeanSquaredErrorDT=np.sqrt(mean_squared_error(test_Y, reg_tree.predict(test_X)))"
      ],
      "execution_count": 0,
      "outputs": []
    },
    {
      "cell_type": "code",
      "metadata": {
        "id": "5X_s9_00OZm9",
        "colab_type": "code",
        "outputId": "4fa4ac9b-864e-486f-eed4-58f62ffc2983",
        "colab": {
          "base_uri": "https://localhost:8080/",
          "height": 35
        }
      },
      "source": [
        "print(\"rmse_test Decision Tree= \" + str(rootMeanSquaredErrorDT))"
      ],
      "execution_count": 0,
      "outputs": [
        {
          "output_type": "stream",
          "text": [
            "rmse_test Decision Tree= 14322.339883200833\n"
          ],
          "name": "stdout"
        }
      ]
    },
    {
      "cell_type": "markdown",
      "metadata": {
        "id": "bpNk0QWGOitS",
        "colab_type": "text"
      },
      "source": [
        "### Bagging"
      ]
    },
    {
      "cell_type": "code",
      "metadata": {
        "id": "9KPzatQOOhYq",
        "colab_type": "code",
        "colab": {}
      },
      "source": [
        "from sklearn.ensemble import BaggingRegressor"
      ],
      "execution_count": 0,
      "outputs": []
    },
    {
      "cell_type": "code",
      "metadata": {
        "id": "N52Q8pEsOa1X",
        "colab_type": "code",
        "colab": {}
      },
      "source": [
        "param_grid = {'max_features': np.arange(3,feature_columns.size)}"
      ],
      "execution_count": 0,
      "outputs": []
    },
    {
      "cell_type": "code",
      "metadata": {
        "id": "Q-HR3qsdOoLA",
        "colab_type": "code",
        "outputId": "54c39bd6-b184-4b0a-b53d-46d9e1ce5691",
        "colab": {
          "base_uri": "https://localhost:8080/",
          "height": 254
        }
      },
      "source": [
        "# May take hours to execute\n",
        "bag_reg = GridSearchCV(BaggingRegressor(), param_grid, cv = 10)\n",
        "bag_reg.fit( train_X, train_Y )"
      ],
      "execution_count": 0,
      "outputs": [
        {
          "output_type": "execute_result",
          "data": {
            "text/plain": [
              "GridSearchCV(cv=10, error_score=nan,\n",
              "             estimator=BaggingRegressor(base_estimator=None, bootstrap=True,\n",
              "                                        bootstrap_features=False,\n",
              "                                        max_features=1.0, max_samples=1.0,\n",
              "                                        n_estimators=10, n_jobs=None,\n",
              "                                        oob_score=False, random_state=None,\n",
              "                                        verbose=0, warm_start=False),\n",
              "             iid='deprecated', n_jobs=None,\n",
              "             param_grid={'max_features': array([ 3,  4,  5,  6,  7,  8,  9, 10, 11, 12, 13, 14, 15, 16, 17, 18, 19,\n",
              "       20, 21, 22, 23, 24, 25, 26, 27, 28, 29, 30, 31, 32, 33, 34, 35, 36,\n",
              "       37])},\n",
              "             pre_dispatch='2*n_jobs', refit=True, return_train_score=False,\n",
              "             scoring=None, verbose=0)"
            ]
          },
          "metadata": {
            "tags": []
          },
          "execution_count": 136
        }
      ]
    },
    {
      "cell_type": "code",
      "metadata": {
        "id": "fSngbd8NOpTc",
        "colab_type": "code",
        "outputId": "1b786ebc-467d-4d99-985a-233517a56d9c",
        "colab": {
          "base_uri": "https://localhost:8080/",
          "height": 35
        }
      },
      "source": [
        "bag_reg.best_params_"
      ],
      "execution_count": 0,
      "outputs": [
        {
          "output_type": "execute_result",
          "data": {
            "text/plain": [
              "{'max_features': 37}"
            ]
          },
          "metadata": {
            "tags": []
          },
          "execution_count": 137
        }
      ]
    },
    {
      "cell_type": "code",
      "metadata": {
        "id": "LT0iRXzOOsFa",
        "colab_type": "code",
        "outputId": "72f30a99-16c0-41f0-e91f-e9aba8c7fdc3",
        "colab": {
          "base_uri": "https://localhost:8080/",
          "height": 90
        }
      },
      "source": [
        "bag_reg = BaggingRegressor(oob_score=True, n_estimators=100, max_features = 37)\n",
        "bag_reg.fit(train_X, train_Y)"
      ],
      "execution_count": 0,
      "outputs": [
        {
          "output_type": "execute_result",
          "data": {
            "text/plain": [
              "BaggingRegressor(base_estimator=None, bootstrap=True, bootstrap_features=False,\n",
              "                 max_features=37, max_samples=1.0, n_estimators=100,\n",
              "                 n_jobs=None, oob_score=True, random_state=None, verbose=0,\n",
              "                 warm_start=False)"
            ]
          },
          "metadata": {
            "tags": []
          },
          "execution_count": 114
        }
      ]
    },
    {
      "cell_type": "code",
      "metadata": {
        "id": "kA87aLfUUWbU",
        "colab_type": "code",
        "colab": {}
      },
      "source": [
        "y_pred = pd.DataFrame( { 'actual':  test_Y, 'predicted': bag_reg.predict( test_X) } )"
      ],
      "execution_count": 0,
      "outputs": []
    },
    {
      "cell_type": "code",
      "metadata": {
        "id": "eQdU4jP_Ukoy",
        "colab_type": "code",
        "outputId": "26c4c0ae-e875-4d58-87f0-cbf0b7e73fe8",
        "colab": {
          "base_uri": "https://localhost:8080/",
          "height": 35
        }
      },
      "source": [
        "bagging_score = bag_reg.score(test_X,test_Y)\n",
        "bagging_score"
      ],
      "execution_count": 0,
      "outputs": [
        {
          "output_type": "execute_result",
          "data": {
            "text/plain": [
              "0.8063260456416239"
            ]
          },
          "metadata": {
            "tags": []
          },
          "execution_count": 116
        }
      ]
    },
    {
      "cell_type": "code",
      "metadata": {
        "id": "dBoTKz0WUmXm",
        "colab_type": "code",
        "colab": {}
      },
      "source": [
        "bag_test_pred_cv = cross_val_predict(bag_reg, test_X,test_Y, cv=10 )"
      ],
      "execution_count": 0,
      "outputs": []
    },
    {
      "cell_type": "code",
      "metadata": {
        "id": "EWoQLHYCUp3L",
        "colab_type": "code",
        "outputId": "57d41e9b-224e-46a7-f86f-22cd2cfeb35f",
        "colab": {
          "base_uri": "https://localhost:8080/",
          "height": 35
        }
      },
      "source": [
        "metrics.r2_score(test_Y, bag_test_pred_cv)"
      ],
      "execution_count": 0,
      "outputs": [
        {
          "output_type": "execute_result",
          "data": {
            "text/plain": [
              "0.8038087493709845"
            ]
          },
          "metadata": {
            "tags": []
          },
          "execution_count": 118
        }
      ]
    },
    {
      "cell_type": "code",
      "metadata": {
        "id": "TVBvzAMtU8nc",
        "colab_type": "code",
        "outputId": "07e7df12-1e63-4f16-e465-6abd7b8ac826",
        "colab": {
          "base_uri": "https://localhost:8080/",
          "height": 35
        }
      },
      "source": [
        "rootMeanSquaredErrorBag=np.sqrt(mean_squared_error(train_Y, bag_reg.predict(train_X)))\n",
        "print(\"rmse_train Bagging= \" + str(rootMeanSquaredErrorBag))"
      ],
      "execution_count": 0,
      "outputs": [
        {
          "output_type": "stream",
          "text": [
            "rmse_train Bagging= 8884.6525893344\n"
          ],
          "name": "stdout"
        }
      ]
    },
    {
      "cell_type": "code",
      "metadata": {
        "id": "eku98OxiU9k8",
        "colab_type": "code",
        "outputId": "1abed03e-dd93-4a3e-a235-901c34fe7476",
        "colab": {
          "base_uri": "https://localhost:8080/",
          "height": 35
        }
      },
      "source": [
        "rootMeanSquaredErrorBag=np.sqrt(mean_squared_error(test_Y, bag_reg.predict(test_X)))\n",
        "print(\"rmse_test Bagging= \" + str(rootMeanSquaredErrorBag))"
      ],
      "execution_count": 0,
      "outputs": [
        {
          "output_type": "stream",
          "text": [
            "rmse_test Bagging= 9150.702162386759\n"
          ],
          "name": "stdout"
        }
      ]
    },
    {
      "cell_type": "code",
      "metadata": {
        "id": "nusFVEzHVo6z",
        "colab_type": "code",
        "outputId": "9ae57d65-2720-402c-839a-9836c9a95bab",
        "colab": {
          "base_uri": "https://localhost:8080/",
          "height": 35
        }
      },
      "source": [
        "bag_reg.oob_score_"
      ],
      "execution_count": 0,
      "outputs": [
        {
          "output_type": "execute_result",
          "data": {
            "text/plain": [
              "0.8062302426886949"
            ]
          },
          "metadata": {
            "tags": []
          },
          "execution_count": 121
        }
      ]
    },
    {
      "cell_type": "markdown",
      "metadata": {
        "id": "V7joHq04aWTy",
        "colab_type": "text"
      },
      "source": [
        "# Pre-Processing Test dataset"
      ]
    },
    {
      "cell_type": "code",
      "metadata": {
        "id": "-ZhbALLUZzJC",
        "colab_type": "code",
        "outputId": "f7768541-00da-4c43-f812-e945d23f51e1",
        "colab": {
          "base_uri": "https://localhost:8080/",
          "height": 198
        }
      },
      "source": [
        "test_data.head()"
      ],
      "execution_count": 0,
      "outputs": [
        {
          "output_type": "execute_result",
          "data": {
            "text/html": [
              "<div>\n",
              "<style scoped>\n",
              "    .dataframe tbody tr th:only-of-type {\n",
              "        vertical-align: middle;\n",
              "    }\n",
              "\n",
              "    .dataframe tbody tr th {\n",
              "        vertical-align: top;\n",
              "    }\n",
              "\n",
              "    .dataframe thead th {\n",
              "        text-align: right;\n",
              "    }\n",
              "</style>\n",
              "<table border=\"1\" class=\"dataframe\">\n",
              "  <thead>\n",
              "    <tr style=\"text-align: right;\">\n",
              "      <th></th>\n",
              "      <th>Store</th>\n",
              "      <th>Dept</th>\n",
              "      <th>Date</th>\n",
              "      <th>IsHoliday</th>\n",
              "    </tr>\n",
              "  </thead>\n",
              "  <tbody>\n",
              "    <tr>\n",
              "      <th>0</th>\n",
              "      <td>1</td>\n",
              "      <td>1</td>\n",
              "      <td>2012-11-02</td>\n",
              "      <td>False</td>\n",
              "    </tr>\n",
              "    <tr>\n",
              "      <th>1</th>\n",
              "      <td>1</td>\n",
              "      <td>1</td>\n",
              "      <td>2012-11-09</td>\n",
              "      <td>False</td>\n",
              "    </tr>\n",
              "    <tr>\n",
              "      <th>2</th>\n",
              "      <td>1</td>\n",
              "      <td>1</td>\n",
              "      <td>2012-11-16</td>\n",
              "      <td>False</td>\n",
              "    </tr>\n",
              "    <tr>\n",
              "      <th>3</th>\n",
              "      <td>1</td>\n",
              "      <td>1</td>\n",
              "      <td>2012-11-23</td>\n",
              "      <td>True</td>\n",
              "    </tr>\n",
              "    <tr>\n",
              "      <th>4</th>\n",
              "      <td>1</td>\n",
              "      <td>1</td>\n",
              "      <td>2012-11-30</td>\n",
              "      <td>False</td>\n",
              "    </tr>\n",
              "  </tbody>\n",
              "</table>\n",
              "</div>"
            ],
            "text/plain": [
              "   Store  Dept        Date  IsHoliday\n",
              "0      1     1  2012-11-02      False\n",
              "1      1     1  2012-11-09      False\n",
              "2      1     1  2012-11-16      False\n",
              "3      1     1  2012-11-23       True\n",
              "4      1     1  2012-11-30      False"
            ]
          },
          "metadata": {
            "tags": []
          },
          "execution_count": 122
        }
      ]
    },
    {
      "cell_type": "markdown",
      "metadata": {
        "id": "L6tTwvUZd-Uw",
        "colab_type": "text"
      },
      "source": [
        "## Merging Test, Features and Stores datasets"
      ]
    },
    {
      "cell_type": "code",
      "metadata": {
        "id": "bI_hdivEZy7t",
        "colab_type": "code",
        "colab": {}
      },
      "source": [
        "test_stores_merged_data = test_data.merge(stores_data, how='left', on=['Store'])"
      ],
      "execution_count": 0,
      "outputs": []
    },
    {
      "cell_type": "code",
      "metadata": {
        "id": "ITTU5qMAZyrr",
        "colab_type": "code",
        "colab": {}
      },
      "source": [
        "test_merged_data = test_stores_merged_data.merge(features_data, how='left', on=['Store','Date','IsHoliday']).fillna(0)"
      ],
      "execution_count": 0,
      "outputs": []
    },
    {
      "cell_type": "code",
      "metadata": {
        "id": "dDIOZzJZZyZj",
        "colab_type": "code",
        "outputId": "41ce5851-0d85-48f2-96c4-81476b3cfdad",
        "colab": {
          "base_uri": "https://localhost:8080/",
          "height": 305
        }
      },
      "source": [
        "test_merged_data.head()"
      ],
      "execution_count": 0,
      "outputs": [
        {
          "output_type": "execute_result",
          "data": {
            "text/html": [
              "<div>\n",
              "<style scoped>\n",
              "    .dataframe tbody tr th:only-of-type {\n",
              "        vertical-align: middle;\n",
              "    }\n",
              "\n",
              "    .dataframe tbody tr th {\n",
              "        vertical-align: top;\n",
              "    }\n",
              "\n",
              "    .dataframe thead th {\n",
              "        text-align: right;\n",
              "    }\n",
              "</style>\n",
              "<table border=\"1\" class=\"dataframe\">\n",
              "  <thead>\n",
              "    <tr style=\"text-align: right;\">\n",
              "      <th></th>\n",
              "      <th>Store</th>\n",
              "      <th>Dept</th>\n",
              "      <th>Date</th>\n",
              "      <th>IsHoliday</th>\n",
              "      <th>Type</th>\n",
              "      <th>Size</th>\n",
              "      <th>Temperature</th>\n",
              "      <th>Fuel_Price</th>\n",
              "      <th>MarkDown1</th>\n",
              "      <th>MarkDown2</th>\n",
              "      <th>MarkDown3</th>\n",
              "      <th>MarkDown4</th>\n",
              "      <th>MarkDown5</th>\n",
              "      <th>CPI</th>\n",
              "      <th>Unemployment</th>\n",
              "    </tr>\n",
              "  </thead>\n",
              "  <tbody>\n",
              "    <tr>\n",
              "      <th>0</th>\n",
              "      <td>1</td>\n",
              "      <td>1</td>\n",
              "      <td>2012-11-02</td>\n",
              "      <td>False</td>\n",
              "      <td>A</td>\n",
              "      <td>151315</td>\n",
              "      <td>55.32</td>\n",
              "      <td>3.386</td>\n",
              "      <td>6766.44</td>\n",
              "      <td>5147.70</td>\n",
              "      <td>50.82</td>\n",
              "      <td>3639.90</td>\n",
              "      <td>2737.42</td>\n",
              "      <td>223.462779</td>\n",
              "      <td>6.573</td>\n",
              "    </tr>\n",
              "    <tr>\n",
              "      <th>1</th>\n",
              "      <td>1</td>\n",
              "      <td>1</td>\n",
              "      <td>2012-11-09</td>\n",
              "      <td>False</td>\n",
              "      <td>A</td>\n",
              "      <td>151315</td>\n",
              "      <td>61.24</td>\n",
              "      <td>3.314</td>\n",
              "      <td>11421.32</td>\n",
              "      <td>3370.89</td>\n",
              "      <td>40.28</td>\n",
              "      <td>4646.79</td>\n",
              "      <td>6154.16</td>\n",
              "      <td>223.481307</td>\n",
              "      <td>6.573</td>\n",
              "    </tr>\n",
              "    <tr>\n",
              "      <th>2</th>\n",
              "      <td>1</td>\n",
              "      <td>1</td>\n",
              "      <td>2012-11-16</td>\n",
              "      <td>False</td>\n",
              "      <td>A</td>\n",
              "      <td>151315</td>\n",
              "      <td>52.92</td>\n",
              "      <td>3.252</td>\n",
              "      <td>9696.28</td>\n",
              "      <td>292.10</td>\n",
              "      <td>103.78</td>\n",
              "      <td>1133.15</td>\n",
              "      <td>6612.69</td>\n",
              "      <td>223.512911</td>\n",
              "      <td>6.573</td>\n",
              "    </tr>\n",
              "    <tr>\n",
              "      <th>3</th>\n",
              "      <td>1</td>\n",
              "      <td>1</td>\n",
              "      <td>2012-11-23</td>\n",
              "      <td>True</td>\n",
              "      <td>A</td>\n",
              "      <td>151315</td>\n",
              "      <td>56.23</td>\n",
              "      <td>3.211</td>\n",
              "      <td>883.59</td>\n",
              "      <td>4.17</td>\n",
              "      <td>74910.32</td>\n",
              "      <td>209.91</td>\n",
              "      <td>303.32</td>\n",
              "      <td>223.561947</td>\n",
              "      <td>6.573</td>\n",
              "    </tr>\n",
              "    <tr>\n",
              "      <th>4</th>\n",
              "      <td>1</td>\n",
              "      <td>1</td>\n",
              "      <td>2012-11-30</td>\n",
              "      <td>False</td>\n",
              "      <td>A</td>\n",
              "      <td>151315</td>\n",
              "      <td>52.34</td>\n",
              "      <td>3.207</td>\n",
              "      <td>2460.03</td>\n",
              "      <td>0.00</td>\n",
              "      <td>3838.35</td>\n",
              "      <td>150.57</td>\n",
              "      <td>6966.34</td>\n",
              "      <td>223.610984</td>\n",
              "      <td>6.573</td>\n",
              "    </tr>\n",
              "  </tbody>\n",
              "</table>\n",
              "</div>"
            ],
            "text/plain": [
              "   Store  Dept        Date  ...  MarkDown5         CPI  Unemployment\n",
              "0      1     1  2012-11-02  ...    2737.42  223.462779         6.573\n",
              "1      1     1  2012-11-09  ...    6154.16  223.481307         6.573\n",
              "2      1     1  2012-11-16  ...    6612.69  223.512911         6.573\n",
              "3      1     1  2012-11-23  ...     303.32  223.561947         6.573\n",
              "4      1     1  2012-11-30  ...    6966.34  223.610984         6.573\n",
              "\n",
              "[5 rows x 15 columns]"
            ]
          },
          "metadata": {
            "tags": []
          },
          "execution_count": 125
        }
      ]
    },
    {
      "cell_type": "code",
      "metadata": {
        "id": "O6TQRMrzZyLg",
        "colab_type": "code",
        "colab": {}
      },
      "source": [
        "test_merged_data['Date'] = pd.to_datetime(test_merged_data['Date'])"
      ],
      "execution_count": 0,
      "outputs": []
    },
    {
      "cell_type": "code",
      "metadata": {
        "id": "TskUG5jBZx-D",
        "colab_type": "code",
        "colab": {}
      },
      "source": [
        "test_merged_data['IsHolidayInt'] = test_merged_data.IsHoliday.map({False:0,True:1})"
      ],
      "execution_count": 0,
      "outputs": []
    },
    {
      "cell_type": "code",
      "metadata": {
        "id": "WwuU5JQvZxwt",
        "colab_type": "code",
        "outputId": "e025d871-ce07-405d-9b7b-b239ef588123",
        "colab": {
          "base_uri": "https://localhost:8080/",
          "height": 126
        }
      },
      "source": [
        "test_merged_data['Store_Dept_Date'] = test_merged_data['Store'].astype(str) + \"_\" + test_merged_data['Dept'].astype(str) + \"_\"+ test_merged_data['Date'].astype(str)\n",
        "test_merged_data['Store_Dept_Date'].head()"
      ],
      "execution_count": 0,
      "outputs": [
        {
          "output_type": "execute_result",
          "data": {
            "text/plain": [
              "0    1_1_2012-11-02\n",
              "1    1_1_2012-11-09\n",
              "2    1_1_2012-11-16\n",
              "3    1_1_2012-11-23\n",
              "4    1_1_2012-11-30\n",
              "Name: Store_Dept_Date, dtype: object"
            ]
          },
          "metadata": {
            "tags": []
          },
          "execution_count": 128
        }
      ]
    },
    {
      "cell_type": "code",
      "metadata": {
        "id": "f3xkSXt3Zxh-",
        "colab_type": "code",
        "outputId": "4cfd0505-7aa3-4492-ed8c-7db8ad9b8a31",
        "colab": {
          "base_uri": "https://localhost:8080/",
          "height": 335
        }
      },
      "source": [
        "test_merged_data.set_index('Store_Dept_Date', inplace=True)\n",
        "test_merged_data.head()"
      ],
      "execution_count": 0,
      "outputs": [
        {
          "output_type": "execute_result",
          "data": {
            "text/html": [
              "<div>\n",
              "<style scoped>\n",
              "    .dataframe tbody tr th:only-of-type {\n",
              "        vertical-align: middle;\n",
              "    }\n",
              "\n",
              "    .dataframe tbody tr th {\n",
              "        vertical-align: top;\n",
              "    }\n",
              "\n",
              "    .dataframe thead th {\n",
              "        text-align: right;\n",
              "    }\n",
              "</style>\n",
              "<table border=\"1\" class=\"dataframe\">\n",
              "  <thead>\n",
              "    <tr style=\"text-align: right;\">\n",
              "      <th></th>\n",
              "      <th>Store</th>\n",
              "      <th>Dept</th>\n",
              "      <th>Date</th>\n",
              "      <th>IsHoliday</th>\n",
              "      <th>Type</th>\n",
              "      <th>Size</th>\n",
              "      <th>Temperature</th>\n",
              "      <th>Fuel_Price</th>\n",
              "      <th>MarkDown1</th>\n",
              "      <th>MarkDown2</th>\n",
              "      <th>MarkDown3</th>\n",
              "      <th>MarkDown4</th>\n",
              "      <th>MarkDown5</th>\n",
              "      <th>CPI</th>\n",
              "      <th>Unemployment</th>\n",
              "      <th>IsHolidayInt</th>\n",
              "    </tr>\n",
              "    <tr>\n",
              "      <th>Store_Dept_Date</th>\n",
              "      <th></th>\n",
              "      <th></th>\n",
              "      <th></th>\n",
              "      <th></th>\n",
              "      <th></th>\n",
              "      <th></th>\n",
              "      <th></th>\n",
              "      <th></th>\n",
              "      <th></th>\n",
              "      <th></th>\n",
              "      <th></th>\n",
              "      <th></th>\n",
              "      <th></th>\n",
              "      <th></th>\n",
              "      <th></th>\n",
              "      <th></th>\n",
              "    </tr>\n",
              "  </thead>\n",
              "  <tbody>\n",
              "    <tr>\n",
              "      <th>1_1_2012-11-02</th>\n",
              "      <td>1</td>\n",
              "      <td>1</td>\n",
              "      <td>2012-11-02</td>\n",
              "      <td>False</td>\n",
              "      <td>A</td>\n",
              "      <td>151315</td>\n",
              "      <td>55.32</td>\n",
              "      <td>3.386</td>\n",
              "      <td>6766.44</td>\n",
              "      <td>5147.70</td>\n",
              "      <td>50.82</td>\n",
              "      <td>3639.90</td>\n",
              "      <td>2737.42</td>\n",
              "      <td>223.462779</td>\n",
              "      <td>6.573</td>\n",
              "      <td>0</td>\n",
              "    </tr>\n",
              "    <tr>\n",
              "      <th>1_1_2012-11-09</th>\n",
              "      <td>1</td>\n",
              "      <td>1</td>\n",
              "      <td>2012-11-09</td>\n",
              "      <td>False</td>\n",
              "      <td>A</td>\n",
              "      <td>151315</td>\n",
              "      <td>61.24</td>\n",
              "      <td>3.314</td>\n",
              "      <td>11421.32</td>\n",
              "      <td>3370.89</td>\n",
              "      <td>40.28</td>\n",
              "      <td>4646.79</td>\n",
              "      <td>6154.16</td>\n",
              "      <td>223.481307</td>\n",
              "      <td>6.573</td>\n",
              "      <td>0</td>\n",
              "    </tr>\n",
              "    <tr>\n",
              "      <th>1_1_2012-11-16</th>\n",
              "      <td>1</td>\n",
              "      <td>1</td>\n",
              "      <td>2012-11-16</td>\n",
              "      <td>False</td>\n",
              "      <td>A</td>\n",
              "      <td>151315</td>\n",
              "      <td>52.92</td>\n",
              "      <td>3.252</td>\n",
              "      <td>9696.28</td>\n",
              "      <td>292.10</td>\n",
              "      <td>103.78</td>\n",
              "      <td>1133.15</td>\n",
              "      <td>6612.69</td>\n",
              "      <td>223.512911</td>\n",
              "      <td>6.573</td>\n",
              "      <td>0</td>\n",
              "    </tr>\n",
              "    <tr>\n",
              "      <th>1_1_2012-11-23</th>\n",
              "      <td>1</td>\n",
              "      <td>1</td>\n",
              "      <td>2012-11-23</td>\n",
              "      <td>True</td>\n",
              "      <td>A</td>\n",
              "      <td>151315</td>\n",
              "      <td>56.23</td>\n",
              "      <td>3.211</td>\n",
              "      <td>883.59</td>\n",
              "      <td>4.17</td>\n",
              "      <td>74910.32</td>\n",
              "      <td>209.91</td>\n",
              "      <td>303.32</td>\n",
              "      <td>223.561947</td>\n",
              "      <td>6.573</td>\n",
              "      <td>1</td>\n",
              "    </tr>\n",
              "    <tr>\n",
              "      <th>1_1_2012-11-30</th>\n",
              "      <td>1</td>\n",
              "      <td>1</td>\n",
              "      <td>2012-11-30</td>\n",
              "      <td>False</td>\n",
              "      <td>A</td>\n",
              "      <td>151315</td>\n",
              "      <td>52.34</td>\n",
              "      <td>3.207</td>\n",
              "      <td>2460.03</td>\n",
              "      <td>0.00</td>\n",
              "      <td>3838.35</td>\n",
              "      <td>150.57</td>\n",
              "      <td>6966.34</td>\n",
              "      <td>223.610984</td>\n",
              "      <td>6.573</td>\n",
              "      <td>0</td>\n",
              "    </tr>\n",
              "  </tbody>\n",
              "</table>\n",
              "</div>"
            ],
            "text/plain": [
              "                 Store  Dept       Date  ...         CPI Unemployment  IsHolidayInt\n",
              "Store_Dept_Date                          ...                                       \n",
              "1_1_2012-11-02       1     1 2012-11-02  ...  223.462779        6.573             0\n",
              "1_1_2012-11-09       1     1 2012-11-09  ...  223.481307        6.573             0\n",
              "1_1_2012-11-16       1     1 2012-11-16  ...  223.512911        6.573             0\n",
              "1_1_2012-11-23       1     1 2012-11-23  ...  223.561947        6.573             1\n",
              "1_1_2012-11-30       1     1 2012-11-30  ...  223.610984        6.573             0\n",
              "\n",
              "[5 rows x 16 columns]"
            ]
          },
          "metadata": {
            "tags": []
          },
          "execution_count": 129
        }
      ]
    },
    {
      "cell_type": "code",
      "metadata": {
        "id": "nwKiOj9yeveE",
        "colab_type": "code",
        "colab": {}
      },
      "source": [
        "test_merged_data.drop(['IsHoliday', 'Date'], axis=1, inplace=True)"
      ],
      "execution_count": 0,
      "outputs": []
    },
    {
      "cell_type": "code",
      "metadata": {
        "id": "20nVj_BaevKq",
        "colab_type": "code",
        "outputId": "87e73116-fc7b-4f14-82f2-adfcc261666f",
        "colab": {
          "base_uri": "https://localhost:8080/",
          "height": 35
        }
      },
      "source": [
        "cat_var_names=['Store', 'Dept', 'Type']\n",
        "print(cat_var_names)"
      ],
      "execution_count": 0,
      "outputs": [
        {
          "output_type": "stream",
          "text": [
            "['Store', 'Dept', 'Type']\n"
          ],
          "name": "stdout"
        }
      ]
    },
    {
      "cell_type": "code",
      "metadata": {
        "id": "7hGpcWdfeu6p",
        "colab_type": "code",
        "outputId": "9f22f4cb-729f-4051-dd63-e631f29e3f24",
        "colab": {
          "base_uri": "https://localhost:8080/",
          "height": 55
        }
      },
      "source": [
        "num_var_names = []\n",
        "for col in test_merged_data.columns:\n",
        "    if col not in cat_var_names:\n",
        "        num_var_names.append(col)\n",
        "\n",
        "print(num_var_names)"
      ],
      "execution_count": 0,
      "outputs": [
        {
          "output_type": "stream",
          "text": [
            "['Size', 'Temperature', 'Fuel_Price', 'MarkDown1', 'MarkDown2', 'MarkDown3', 'MarkDown4', 'MarkDown5', 'CPI', 'Unemployment', 'IsHolidayInt']\n"
          ],
          "name": "stdout"
        }
      ]
    },
    {
      "cell_type": "markdown",
      "metadata": {
        "id": "aYPNBhYlfU2L",
        "colab_type": "text"
      },
      "source": [
        "## Handling Numeric data"
      ]
    },
    {
      "cell_type": "code",
      "metadata": {
        "id": "Yt9S-nDofTIq",
        "colab_type": "code",
        "colab": {}
      },
      "source": [
        "test_num_data = test_merged_data[num_var_names]"
      ],
      "execution_count": 0,
      "outputs": []
    },
    {
      "cell_type": "code",
      "metadata": {
        "id": "7oLDWEXlfS3n",
        "colab_type": "code",
        "outputId": "7ae046bc-618e-4e94-fdce-f774abc41fa0",
        "colab": {
          "base_uri": "https://localhost:8080/",
          "height": 398
        }
      },
      "source": [
        "test_num_data.apply(lambda x: var_summary(x)).T"
      ],
      "execution_count": 0,
      "outputs": [
        {
          "output_type": "execute_result",
          "data": {
            "text/html": [
              "<div>\n",
              "<style scoped>\n",
              "    .dataframe tbody tr th:only-of-type {\n",
              "        vertical-align: middle;\n",
              "    }\n",
              "\n",
              "    .dataframe tbody tr th {\n",
              "        vertical-align: top;\n",
              "    }\n",
              "\n",
              "    .dataframe thead th {\n",
              "        text-align: right;\n",
              "    }\n",
              "</style>\n",
              "<table border=\"1\" class=\"dataframe\">\n",
              "  <thead>\n",
              "    <tr style=\"text-align: right;\">\n",
              "      <th></th>\n",
              "      <th>N</th>\n",
              "      <th>NMISS</th>\n",
              "      <th>SUM</th>\n",
              "      <th>MEAN</th>\n",
              "      <th>MEDIAN</th>\n",
              "      <th>STD</th>\n",
              "      <th>VAR</th>\n",
              "      <th>MIN</th>\n",
              "      <th>P1</th>\n",
              "      <th>P5</th>\n",
              "      <th>P10</th>\n",
              "      <th>P25</th>\n",
              "      <th>P50</th>\n",
              "      <th>P75</th>\n",
              "      <th>P90</th>\n",
              "      <th>P95</th>\n",
              "      <th>P99</th>\n",
              "      <th>MAX</th>\n",
              "    </tr>\n",
              "  </thead>\n",
              "  <tbody>\n",
              "    <tr>\n",
              "      <th>Size</th>\n",
              "      <td>115064.0</td>\n",
              "      <td>0.0</td>\n",
              "      <td>1.570597e+10</td>\n",
              "      <td>136497.688921</td>\n",
              "      <td>140167.000000</td>\n",
              "      <td>61106.926438</td>\n",
              "      <td>3.734056e+09</td>\n",
              "      <td>34875.000</td>\n",
              "      <td>34875.000</td>\n",
              "      <td>39690.0000</td>\n",
              "      <td>39910.000</td>\n",
              "      <td>93638.000</td>\n",
              "      <td>140167.000000</td>\n",
              "      <td>202505.00000</td>\n",
              "      <td>204184.000000</td>\n",
              "      <td>206302.000000</td>\n",
              "      <td>219622.000000</td>\n",
              "      <td>219622.000000</td>\n",
              "    </tr>\n",
              "    <tr>\n",
              "      <th>Temperature</th>\n",
              "      <td>115064.0</td>\n",
              "      <td>0.0</td>\n",
              "      <td>6.206760e+06</td>\n",
              "      <td>53.941804</td>\n",
              "      <td>54.470000</td>\n",
              "      <td>18.724153</td>\n",
              "      <td>3.505939e+02</td>\n",
              "      <td>-7.290</td>\n",
              "      <td>11.440</td>\n",
              "      <td>23.9800</td>\n",
              "      <td>29.970</td>\n",
              "      <td>39.820</td>\n",
              "      <td>54.470000</td>\n",
              "      <td>67.35000</td>\n",
              "      <td>79.480000</td>\n",
              "      <td>83.820000</td>\n",
              "      <td>92.140000</td>\n",
              "      <td>101.950000</td>\n",
              "    </tr>\n",
              "    <tr>\n",
              "      <th>Fuel_Price</th>\n",
              "      <td>115064.0</td>\n",
              "      <td>0.0</td>\n",
              "      <td>4.121070e+05</td>\n",
              "      <td>3.581546</td>\n",
              "      <td>3.606000</td>\n",
              "      <td>0.239442</td>\n",
              "      <td>5.733244e-02</td>\n",
              "      <td>2.872</td>\n",
              "      <td>2.957</td>\n",
              "      <td>3.1610</td>\n",
              "      <td>3.227</td>\n",
              "      <td>3.431</td>\n",
              "      <td>3.606000</td>\n",
              "      <td>3.76600</td>\n",
              "      <td>3.866000</td>\n",
              "      <td>3.951000</td>\n",
              "      <td>4.079000</td>\n",
              "      <td>4.125000</td>\n",
              "    </tr>\n",
              "    <tr>\n",
              "      <th>MarkDown1</th>\n",
              "      <td>115064.0</td>\n",
              "      <td>0.0</td>\n",
              "      <td>8.836063e+08</td>\n",
              "      <td>7679.259430</td>\n",
              "      <td>4828.720000</td>\n",
              "      <td>10695.406505</td>\n",
              "      <td>1.143917e+08</td>\n",
              "      <td>-2781.450</td>\n",
              "      <td>17.010</td>\n",
              "      <td>178.4305</td>\n",
              "      <td>448.820</td>\n",
              "      <td>1963.550</td>\n",
              "      <td>4828.720000</td>\n",
              "      <td>9427.41000</td>\n",
              "      <td>15325.040000</td>\n",
              "      <td>23140.880000</td>\n",
              "      <td>65757.570000</td>\n",
              "      <td>103184.980000</td>\n",
              "    </tr>\n",
              "    <tr>\n",
              "      <th>MarkDown2</th>\n",
              "      <td>115064.0</td>\n",
              "      <td>0.0</td>\n",
              "      <td>3.227602e+08</td>\n",
              "      <td>2805.049619</td>\n",
              "      <td>316.880000</td>\n",
              "      <td>7392.556347</td>\n",
              "      <td>5.464989e+07</td>\n",
              "      <td>-35.740</td>\n",
              "      <td>0.000</td>\n",
              "      <td>0.0000</td>\n",
              "      <td>0.000</td>\n",
              "      <td>0.000</td>\n",
              "      <td>316.880000</td>\n",
              "      <td>1575.85000</td>\n",
              "      <td>6665.520000</td>\n",
              "      <td>15810.180000</td>\n",
              "      <td>38836.380000</td>\n",
              "      <td>71074.170000</td>\n",
              "    </tr>\n",
              "    <tr>\n",
              "      <th>MarkDown3</th>\n",
              "      <td>115064.0</td>\n",
              "      <td>0.0</td>\n",
              "      <td>2.528890e+08</td>\n",
              "      <td>2197.811964</td>\n",
              "      <td>60.000000</td>\n",
              "      <td>13183.888087</td>\n",
              "      <td>1.738149e+08</td>\n",
              "      <td>-179.260</td>\n",
              "      <td>0.000</td>\n",
              "      <td>0.0000</td>\n",
              "      <td>0.240</td>\n",
              "      <td>7.770</td>\n",
              "      <td>60.000000</td>\n",
              "      <td>244.20000</td>\n",
              "      <td>649.000000</td>\n",
              "      <td>1621.470000</td>\n",
              "      <td>82544.960000</td>\n",
              "      <td>149483.310000</td>\n",
              "    </tr>\n",
              "    <tr>\n",
              "      <th>MarkDown4</th>\n",
              "      <td>115064.0</td>\n",
              "      <td>0.0</td>\n",
              "      <td>3.429250e+08</td>\n",
              "      <td>2980.298267</td>\n",
              "      <td>600.580000</td>\n",
              "      <td>7212.030921</td>\n",
              "      <td>5.201339e+07</td>\n",
              "      <td>0.000</td>\n",
              "      <td>0.000</td>\n",
              "      <td>0.0000</td>\n",
              "      <td>0.000</td>\n",
              "      <td>70.370</td>\n",
              "      <td>600.580000</td>\n",
              "      <td>2627.85000</td>\n",
              "      <td>7170.570000</td>\n",
              "      <td>12723.810000</td>\n",
              "      <td>43631.940000</td>\n",
              "      <td>65344.640000</td>\n",
              "    </tr>\n",
              "    <tr>\n",
              "      <th>MarkDown5</th>\n",
              "      <td>115064.0</td>\n",
              "      <td>0.0</td>\n",
              "      <td>4.513594e+08</td>\n",
              "      <td>3922.681189</td>\n",
              "      <td>2390.430000</td>\n",
              "      <td>19445.150745</td>\n",
              "      <td>3.781139e+08</td>\n",
              "      <td>-185.170</td>\n",
              "      <td>269.300</td>\n",
              "      <td>540.8900</td>\n",
              "      <td>770.883</td>\n",
              "      <td>1309.300</td>\n",
              "      <td>2390.430000</td>\n",
              "      <td>4227.27000</td>\n",
              "      <td>6966.340000</td>\n",
              "      <td>9316.710000</td>\n",
              "      <td>18599.300000</td>\n",
              "      <td>771448.100000</td>\n",
              "    </tr>\n",
              "    <tr>\n",
              "      <th>CPI</th>\n",
              "      <td>115064.0</td>\n",
              "      <td>0.0</td>\n",
              "      <td>1.360868e+07</td>\n",
              "      <td>118.270541</td>\n",
              "      <td>138.402033</td>\n",
              "      <td>89.878361</td>\n",
              "      <td>8.078120e+03</td>\n",
              "      <td>0.000</td>\n",
              "      <td>0.000</td>\n",
              "      <td>0.0000</td>\n",
              "      <td>0.000</td>\n",
              "      <td>0.000</td>\n",
              "      <td>138.402033</td>\n",
              "      <td>201.21223</td>\n",
              "      <td>224.635985</td>\n",
              "      <td>227.251326</td>\n",
              "      <td>228.642888</td>\n",
              "      <td>228.976456</td>\n",
              "    </tr>\n",
              "    <tr>\n",
              "      <th>Unemployment</th>\n",
              "      <td>115064.0</td>\n",
              "      <td>0.0</td>\n",
              "      <td>5.282193e+05</td>\n",
              "      <td>4.590657</td>\n",
              "      <td>5.771000</td>\n",
              "      <td>3.483338</td>\n",
              "      <td>1.213364e+01</td>\n",
              "      <td>0.000</td>\n",
              "      <td>0.000</td>\n",
              "      <td>0.0000</td>\n",
              "      <td>0.000</td>\n",
              "      <td>0.000</td>\n",
              "      <td>5.771000</td>\n",
              "      <td>7.29300</td>\n",
              "      <td>8.667000</td>\n",
              "      <td>8.951000</td>\n",
              "      <td>10.199000</td>\n",
              "      <td>10.199000</td>\n",
              "    </tr>\n",
              "    <tr>\n",
              "      <th>IsHolidayInt</th>\n",
              "      <td>115064.0</td>\n",
              "      <td>0.0</td>\n",
              "      <td>8.928000e+03</td>\n",
              "      <td>0.077592</td>\n",
              "      <td>0.000000</td>\n",
              "      <td>0.267529</td>\n",
              "      <td>7.157177e-02</td>\n",
              "      <td>0.000</td>\n",
              "      <td>0.000</td>\n",
              "      <td>0.0000</td>\n",
              "      <td>0.000</td>\n",
              "      <td>0.000</td>\n",
              "      <td>0.000000</td>\n",
              "      <td>0.00000</td>\n",
              "      <td>0.000000</td>\n",
              "      <td>1.000000</td>\n",
              "      <td>1.000000</td>\n",
              "      <td>1.000000</td>\n",
              "    </tr>\n",
              "  </tbody>\n",
              "</table>\n",
              "</div>"
            ],
            "text/plain": [
              "                     N  NMISS  ...            P99            MAX\n",
              "Size          115064.0    0.0  ...  219622.000000  219622.000000\n",
              "Temperature   115064.0    0.0  ...      92.140000     101.950000\n",
              "Fuel_Price    115064.0    0.0  ...       4.079000       4.125000\n",
              "MarkDown1     115064.0    0.0  ...   65757.570000  103184.980000\n",
              "MarkDown2     115064.0    0.0  ...   38836.380000   71074.170000\n",
              "MarkDown3     115064.0    0.0  ...   82544.960000  149483.310000\n",
              "MarkDown4     115064.0    0.0  ...   43631.940000   65344.640000\n",
              "MarkDown5     115064.0    0.0  ...   18599.300000  771448.100000\n",
              "CPI           115064.0    0.0  ...     228.642888     228.976456\n",
              "Unemployment  115064.0    0.0  ...      10.199000      10.199000\n",
              "IsHolidayInt  115064.0    0.0  ...       1.000000       1.000000\n",
              "\n",
              "[11 rows x 18 columns]"
            ]
          },
          "metadata": {
            "tags": []
          },
          "execution_count": 134
        }
      ]
    },
    {
      "cell_type": "markdown",
      "metadata": {
        "id": "JWbeRT4nfIbR",
        "colab_type": "text"
      },
      "source": [
        "### Handling outliers"
      ]
    },
    {
      "cell_type": "code",
      "metadata": {
        "id": "AdyGdpSreuop",
        "colab_type": "code",
        "colab": {}
      },
      "source": [
        "test_num_data=test_num_data.apply(lambda x: outlier_capping(x))"
      ],
      "execution_count": 0,
      "outputs": []
    },
    {
      "cell_type": "markdown",
      "metadata": {
        "id": "Fc4jypYZfuhU",
        "colab_type": "text"
      },
      "source": [
        "## Handling Categorical data"
      ]
    },
    {
      "cell_type": "code",
      "metadata": {
        "id": "NBDGmRhqeuVf",
        "colab_type": "code",
        "colab": {}
      },
      "source": [
        "test_cat_data = test_merged_data[cat_var_names]"
      ],
      "execution_count": 0,
      "outputs": []
    },
    {
      "cell_type": "code",
      "metadata": {
        "id": "U7EkQVureuFi",
        "colab_type": "code",
        "outputId": "31d534c5-d9a1-4d5f-be26-04d73934317b",
        "colab": {
          "base_uri": "https://localhost:8080/",
          "height": 228
        }
      },
      "source": [
        "test_cat_data.head()"
      ],
      "execution_count": 0,
      "outputs": [
        {
          "output_type": "execute_result",
          "data": {
            "text/html": [
              "<div>\n",
              "<style scoped>\n",
              "    .dataframe tbody tr th:only-of-type {\n",
              "        vertical-align: middle;\n",
              "    }\n",
              "\n",
              "    .dataframe tbody tr th {\n",
              "        vertical-align: top;\n",
              "    }\n",
              "\n",
              "    .dataframe thead th {\n",
              "        text-align: right;\n",
              "    }\n",
              "</style>\n",
              "<table border=\"1\" class=\"dataframe\">\n",
              "  <thead>\n",
              "    <tr style=\"text-align: right;\">\n",
              "      <th></th>\n",
              "      <th>Store</th>\n",
              "      <th>Dept</th>\n",
              "      <th>Type</th>\n",
              "    </tr>\n",
              "    <tr>\n",
              "      <th>Store_Dept_Date</th>\n",
              "      <th></th>\n",
              "      <th></th>\n",
              "      <th></th>\n",
              "    </tr>\n",
              "  </thead>\n",
              "  <tbody>\n",
              "    <tr>\n",
              "      <th>1_1_2012-11-02</th>\n",
              "      <td>1</td>\n",
              "      <td>1</td>\n",
              "      <td>A</td>\n",
              "    </tr>\n",
              "    <tr>\n",
              "      <th>1_1_2012-11-09</th>\n",
              "      <td>1</td>\n",
              "      <td>1</td>\n",
              "      <td>A</td>\n",
              "    </tr>\n",
              "    <tr>\n",
              "      <th>1_1_2012-11-16</th>\n",
              "      <td>1</td>\n",
              "      <td>1</td>\n",
              "      <td>A</td>\n",
              "    </tr>\n",
              "    <tr>\n",
              "      <th>1_1_2012-11-23</th>\n",
              "      <td>1</td>\n",
              "      <td>1</td>\n",
              "      <td>A</td>\n",
              "    </tr>\n",
              "    <tr>\n",
              "      <th>1_1_2012-11-30</th>\n",
              "      <td>1</td>\n",
              "      <td>1</td>\n",
              "      <td>A</td>\n",
              "    </tr>\n",
              "  </tbody>\n",
              "</table>\n",
              "</div>"
            ],
            "text/plain": [
              "                 Store  Dept Type\n",
              "Store_Dept_Date                  \n",
              "1_1_2012-11-02       1     1    A\n",
              "1_1_2012-11-09       1     1    A\n",
              "1_1_2012-11-16       1     1    A\n",
              "1_1_2012-11-23       1     1    A\n",
              "1_1_2012-11-30       1     1    A"
            ]
          },
          "metadata": {
            "tags": []
          },
          "execution_count": 137
        }
      ]
    },
    {
      "cell_type": "code",
      "metadata": {
        "id": "q3TzO6Niet05",
        "colab_type": "code",
        "outputId": "801f82de-484d-408c-d4aa-5eece6e46b0a",
        "colab": {
          "base_uri": "https://localhost:8080/",
          "height": 138
        }
      },
      "source": [
        "test_cat_data.apply(lambda x: cat_summary(x))"
      ],
      "execution_count": 0,
      "outputs": [
        {
          "output_type": "execute_result",
          "data": {
            "text/html": [
              "<div>\n",
              "<style scoped>\n",
              "    .dataframe tbody tr th:only-of-type {\n",
              "        vertical-align: middle;\n",
              "    }\n",
              "\n",
              "    .dataframe tbody tr th {\n",
              "        vertical-align: top;\n",
              "    }\n",
              "\n",
              "    .dataframe thead th {\n",
              "        text-align: right;\n",
              "    }\n",
              "</style>\n",
              "<table border=\"1\" class=\"dataframe\">\n",
              "  <thead>\n",
              "    <tr style=\"text-align: right;\">\n",
              "      <th></th>\n",
              "      <th>Store</th>\n",
              "      <th>Dept</th>\n",
              "      <th>Type</th>\n",
              "    </tr>\n",
              "  </thead>\n",
              "  <tbody>\n",
              "    <tr>\n",
              "      <th>N</th>\n",
              "      <td>115064</td>\n",
              "      <td>115064</td>\n",
              "      <td>115064</td>\n",
              "    </tr>\n",
              "    <tr>\n",
              "      <th>NMISS</th>\n",
              "      <td>0</td>\n",
              "      <td>0</td>\n",
              "      <td>0</td>\n",
              "    </tr>\n",
              "    <tr>\n",
              "      <th>ColumnsNames</th>\n",
              "      <td>13    2836\n",
              "4     2803\n",
              "19    2799\n",
              "2     2797\n",
              "27...</td>\n",
              "      <td>1     1755\n",
              "13    1755\n",
              "91    1755\n",
              "90    1755\n",
              "21...</td>\n",
              "      <td>A    58713\n",
              "B    44500\n",
              "C    11851\n",
              "Name: Type, d...</td>\n",
              "    </tr>\n",
              "  </tbody>\n",
              "</table>\n",
              "</div>"
            ],
            "text/plain": [
              "                                                          Store  ...                                               Type\n",
              "N                                                        115064  ...                                             115064\n",
              "NMISS                                                         0  ...                                                  0\n",
              "ColumnsNames  13    2836\n",
              "4     2803\n",
              "19    2799\n",
              "2     2797\n",
              "27...  ...  A    58713\n",
              "B    44500\n",
              "C    11851\n",
              "Name: Type, d...\n",
              "\n",
              "[3 rows x 3 columns]"
            ]
          },
          "metadata": {
            "tags": []
          },
          "execution_count": 138
        }
      ]
    },
    {
      "cell_type": "markdown",
      "metadata": {
        "id": "PJAFtG65gGPE",
        "colab_type": "text"
      },
      "source": [
        "### Creating Dummies for Categorical columns"
      ]
    },
    {
      "cell_type": "code",
      "metadata": {
        "id": "y_p_rabYetk-",
        "colab_type": "code",
        "colab": {}
      },
      "source": [
        "for c_feature in cat_var_names:\n",
        "    test_cat_data = create_dummies(test_cat_data , c_feature )"
      ],
      "execution_count": 0,
      "outputs": []
    },
    {
      "cell_type": "code",
      "metadata": {
        "id": "AuWAHdeKetVK",
        "colab_type": "code",
        "outputId": "073f91a9-8fb7-4219-9e4d-5585a9820079",
        "colab": {
          "base_uri": "https://localhost:8080/",
          "height": 277
        }
      },
      "source": [
        "test_cat_data.head()"
      ],
      "execution_count": 0,
      "outputs": [
        {
          "output_type": "execute_result",
          "data": {
            "text/html": [
              "<div>\n",
              "<style scoped>\n",
              "    .dataframe tbody tr th:only-of-type {\n",
              "        vertical-align: middle;\n",
              "    }\n",
              "\n",
              "    .dataframe tbody tr th {\n",
              "        vertical-align: top;\n",
              "    }\n",
              "\n",
              "    .dataframe thead th {\n",
              "        text-align: right;\n",
              "    }\n",
              "</style>\n",
              "<table border=\"1\" class=\"dataframe\">\n",
              "  <thead>\n",
              "    <tr style=\"text-align: right;\">\n",
              "      <th></th>\n",
              "      <th>Store_2</th>\n",
              "      <th>Store_3</th>\n",
              "      <th>Store_4</th>\n",
              "      <th>Store_5</th>\n",
              "      <th>Store_6</th>\n",
              "      <th>Store_7</th>\n",
              "      <th>Store_8</th>\n",
              "      <th>Store_9</th>\n",
              "      <th>Store_10</th>\n",
              "      <th>Store_11</th>\n",
              "      <th>Store_12</th>\n",
              "      <th>Store_13</th>\n",
              "      <th>Store_14</th>\n",
              "      <th>Store_15</th>\n",
              "      <th>Store_16</th>\n",
              "      <th>Store_17</th>\n",
              "      <th>Store_18</th>\n",
              "      <th>Store_19</th>\n",
              "      <th>Store_20</th>\n",
              "      <th>Store_21</th>\n",
              "      <th>Store_22</th>\n",
              "      <th>Store_23</th>\n",
              "      <th>Store_24</th>\n",
              "      <th>Store_25</th>\n",
              "      <th>Store_26</th>\n",
              "      <th>Store_27</th>\n",
              "      <th>Store_28</th>\n",
              "      <th>Store_29</th>\n",
              "      <th>Store_30</th>\n",
              "      <th>Store_31</th>\n",
              "      <th>Store_32</th>\n",
              "      <th>Store_33</th>\n",
              "      <th>Store_34</th>\n",
              "      <th>Store_35</th>\n",
              "      <th>Store_36</th>\n",
              "      <th>Store_37</th>\n",
              "      <th>Store_38</th>\n",
              "      <th>Store_39</th>\n",
              "      <th>Store_40</th>\n",
              "      <th>Store_41</th>\n",
              "      <th>...</th>\n",
              "      <th>Dept_45</th>\n",
              "      <th>Dept_46</th>\n",
              "      <th>Dept_47</th>\n",
              "      <th>Dept_48</th>\n",
              "      <th>Dept_49</th>\n",
              "      <th>Dept_50</th>\n",
              "      <th>Dept_51</th>\n",
              "      <th>Dept_52</th>\n",
              "      <th>Dept_54</th>\n",
              "      <th>Dept_55</th>\n",
              "      <th>Dept_56</th>\n",
              "      <th>Dept_58</th>\n",
              "      <th>Dept_59</th>\n",
              "      <th>Dept_60</th>\n",
              "      <th>Dept_65</th>\n",
              "      <th>Dept_67</th>\n",
              "      <th>Dept_71</th>\n",
              "      <th>Dept_72</th>\n",
              "      <th>Dept_74</th>\n",
              "      <th>Dept_77</th>\n",
              "      <th>Dept_78</th>\n",
              "      <th>Dept_79</th>\n",
              "      <th>Dept_80</th>\n",
              "      <th>Dept_81</th>\n",
              "      <th>Dept_82</th>\n",
              "      <th>Dept_83</th>\n",
              "      <th>Dept_85</th>\n",
              "      <th>Dept_87</th>\n",
              "      <th>Dept_90</th>\n",
              "      <th>Dept_91</th>\n",
              "      <th>Dept_92</th>\n",
              "      <th>Dept_93</th>\n",
              "      <th>Dept_94</th>\n",
              "      <th>Dept_95</th>\n",
              "      <th>Dept_96</th>\n",
              "      <th>Dept_97</th>\n",
              "      <th>Dept_98</th>\n",
              "      <th>Dept_99</th>\n",
              "      <th>Type_B</th>\n",
              "      <th>Type_C</th>\n",
              "    </tr>\n",
              "    <tr>\n",
              "      <th>Store_Dept_Date</th>\n",
              "      <th></th>\n",
              "      <th></th>\n",
              "      <th></th>\n",
              "      <th></th>\n",
              "      <th></th>\n",
              "      <th></th>\n",
              "      <th></th>\n",
              "      <th></th>\n",
              "      <th></th>\n",
              "      <th></th>\n",
              "      <th></th>\n",
              "      <th></th>\n",
              "      <th></th>\n",
              "      <th></th>\n",
              "      <th></th>\n",
              "      <th></th>\n",
              "      <th></th>\n",
              "      <th></th>\n",
              "      <th></th>\n",
              "      <th></th>\n",
              "      <th></th>\n",
              "      <th></th>\n",
              "      <th></th>\n",
              "      <th></th>\n",
              "      <th></th>\n",
              "      <th></th>\n",
              "      <th></th>\n",
              "      <th></th>\n",
              "      <th></th>\n",
              "      <th></th>\n",
              "      <th></th>\n",
              "      <th></th>\n",
              "      <th></th>\n",
              "      <th></th>\n",
              "      <th></th>\n",
              "      <th></th>\n",
              "      <th></th>\n",
              "      <th></th>\n",
              "      <th></th>\n",
              "      <th></th>\n",
              "      <th></th>\n",
              "      <th></th>\n",
              "      <th></th>\n",
              "      <th></th>\n",
              "      <th></th>\n",
              "      <th></th>\n",
              "      <th></th>\n",
              "      <th></th>\n",
              "      <th></th>\n",
              "      <th></th>\n",
              "      <th></th>\n",
              "      <th></th>\n",
              "      <th></th>\n",
              "      <th></th>\n",
              "      <th></th>\n",
              "      <th></th>\n",
              "      <th></th>\n",
              "      <th></th>\n",
              "      <th></th>\n",
              "      <th></th>\n",
              "      <th></th>\n",
              "      <th></th>\n",
              "      <th></th>\n",
              "      <th></th>\n",
              "      <th></th>\n",
              "      <th></th>\n",
              "      <th></th>\n",
              "      <th></th>\n",
              "      <th></th>\n",
              "      <th></th>\n",
              "      <th></th>\n",
              "      <th></th>\n",
              "      <th></th>\n",
              "      <th></th>\n",
              "      <th></th>\n",
              "      <th></th>\n",
              "      <th></th>\n",
              "      <th></th>\n",
              "      <th></th>\n",
              "      <th></th>\n",
              "      <th></th>\n",
              "    </tr>\n",
              "  </thead>\n",
              "  <tbody>\n",
              "    <tr>\n",
              "      <th>1_1_2012-11-02</th>\n",
              "      <td>0</td>\n",
              "      <td>0</td>\n",
              "      <td>0</td>\n",
              "      <td>0</td>\n",
              "      <td>0</td>\n",
              "      <td>0</td>\n",
              "      <td>0</td>\n",
              "      <td>0</td>\n",
              "      <td>0</td>\n",
              "      <td>0</td>\n",
              "      <td>0</td>\n",
              "      <td>0</td>\n",
              "      <td>0</td>\n",
              "      <td>0</td>\n",
              "      <td>0</td>\n",
              "      <td>0</td>\n",
              "      <td>0</td>\n",
              "      <td>0</td>\n",
              "      <td>0</td>\n",
              "      <td>0</td>\n",
              "      <td>0</td>\n",
              "      <td>0</td>\n",
              "      <td>0</td>\n",
              "      <td>0</td>\n",
              "      <td>0</td>\n",
              "      <td>0</td>\n",
              "      <td>0</td>\n",
              "      <td>0</td>\n",
              "      <td>0</td>\n",
              "      <td>0</td>\n",
              "      <td>0</td>\n",
              "      <td>0</td>\n",
              "      <td>0</td>\n",
              "      <td>0</td>\n",
              "      <td>0</td>\n",
              "      <td>0</td>\n",
              "      <td>0</td>\n",
              "      <td>0</td>\n",
              "      <td>0</td>\n",
              "      <td>0</td>\n",
              "      <td>...</td>\n",
              "      <td>0</td>\n",
              "      <td>0</td>\n",
              "      <td>0</td>\n",
              "      <td>0</td>\n",
              "      <td>0</td>\n",
              "      <td>0</td>\n",
              "      <td>0</td>\n",
              "      <td>0</td>\n",
              "      <td>0</td>\n",
              "      <td>0</td>\n",
              "      <td>0</td>\n",
              "      <td>0</td>\n",
              "      <td>0</td>\n",
              "      <td>0</td>\n",
              "      <td>0</td>\n",
              "      <td>0</td>\n",
              "      <td>0</td>\n",
              "      <td>0</td>\n",
              "      <td>0</td>\n",
              "      <td>0</td>\n",
              "      <td>0</td>\n",
              "      <td>0</td>\n",
              "      <td>0</td>\n",
              "      <td>0</td>\n",
              "      <td>0</td>\n",
              "      <td>0</td>\n",
              "      <td>0</td>\n",
              "      <td>0</td>\n",
              "      <td>0</td>\n",
              "      <td>0</td>\n",
              "      <td>0</td>\n",
              "      <td>0</td>\n",
              "      <td>0</td>\n",
              "      <td>0</td>\n",
              "      <td>0</td>\n",
              "      <td>0</td>\n",
              "      <td>0</td>\n",
              "      <td>0</td>\n",
              "      <td>0</td>\n",
              "      <td>0</td>\n",
              "    </tr>\n",
              "    <tr>\n",
              "      <th>1_1_2012-11-09</th>\n",
              "      <td>0</td>\n",
              "      <td>0</td>\n",
              "      <td>0</td>\n",
              "      <td>0</td>\n",
              "      <td>0</td>\n",
              "      <td>0</td>\n",
              "      <td>0</td>\n",
              "      <td>0</td>\n",
              "      <td>0</td>\n",
              "      <td>0</td>\n",
              "      <td>0</td>\n",
              "      <td>0</td>\n",
              "      <td>0</td>\n",
              "      <td>0</td>\n",
              "      <td>0</td>\n",
              "      <td>0</td>\n",
              "      <td>0</td>\n",
              "      <td>0</td>\n",
              "      <td>0</td>\n",
              "      <td>0</td>\n",
              "      <td>0</td>\n",
              "      <td>0</td>\n",
              "      <td>0</td>\n",
              "      <td>0</td>\n",
              "      <td>0</td>\n",
              "      <td>0</td>\n",
              "      <td>0</td>\n",
              "      <td>0</td>\n",
              "      <td>0</td>\n",
              "      <td>0</td>\n",
              "      <td>0</td>\n",
              "      <td>0</td>\n",
              "      <td>0</td>\n",
              "      <td>0</td>\n",
              "      <td>0</td>\n",
              "      <td>0</td>\n",
              "      <td>0</td>\n",
              "      <td>0</td>\n",
              "      <td>0</td>\n",
              "      <td>0</td>\n",
              "      <td>...</td>\n",
              "      <td>0</td>\n",
              "      <td>0</td>\n",
              "      <td>0</td>\n",
              "      <td>0</td>\n",
              "      <td>0</td>\n",
              "      <td>0</td>\n",
              "      <td>0</td>\n",
              "      <td>0</td>\n",
              "      <td>0</td>\n",
              "      <td>0</td>\n",
              "      <td>0</td>\n",
              "      <td>0</td>\n",
              "      <td>0</td>\n",
              "      <td>0</td>\n",
              "      <td>0</td>\n",
              "      <td>0</td>\n",
              "      <td>0</td>\n",
              "      <td>0</td>\n",
              "      <td>0</td>\n",
              "      <td>0</td>\n",
              "      <td>0</td>\n",
              "      <td>0</td>\n",
              "      <td>0</td>\n",
              "      <td>0</td>\n",
              "      <td>0</td>\n",
              "      <td>0</td>\n",
              "      <td>0</td>\n",
              "      <td>0</td>\n",
              "      <td>0</td>\n",
              "      <td>0</td>\n",
              "      <td>0</td>\n",
              "      <td>0</td>\n",
              "      <td>0</td>\n",
              "      <td>0</td>\n",
              "      <td>0</td>\n",
              "      <td>0</td>\n",
              "      <td>0</td>\n",
              "      <td>0</td>\n",
              "      <td>0</td>\n",
              "      <td>0</td>\n",
              "    </tr>\n",
              "    <tr>\n",
              "      <th>1_1_2012-11-16</th>\n",
              "      <td>0</td>\n",
              "      <td>0</td>\n",
              "      <td>0</td>\n",
              "      <td>0</td>\n",
              "      <td>0</td>\n",
              "      <td>0</td>\n",
              "      <td>0</td>\n",
              "      <td>0</td>\n",
              "      <td>0</td>\n",
              "      <td>0</td>\n",
              "      <td>0</td>\n",
              "      <td>0</td>\n",
              "      <td>0</td>\n",
              "      <td>0</td>\n",
              "      <td>0</td>\n",
              "      <td>0</td>\n",
              "      <td>0</td>\n",
              "      <td>0</td>\n",
              "      <td>0</td>\n",
              "      <td>0</td>\n",
              "      <td>0</td>\n",
              "      <td>0</td>\n",
              "      <td>0</td>\n",
              "      <td>0</td>\n",
              "      <td>0</td>\n",
              "      <td>0</td>\n",
              "      <td>0</td>\n",
              "      <td>0</td>\n",
              "      <td>0</td>\n",
              "      <td>0</td>\n",
              "      <td>0</td>\n",
              "      <td>0</td>\n",
              "      <td>0</td>\n",
              "      <td>0</td>\n",
              "      <td>0</td>\n",
              "      <td>0</td>\n",
              "      <td>0</td>\n",
              "      <td>0</td>\n",
              "      <td>0</td>\n",
              "      <td>0</td>\n",
              "      <td>...</td>\n",
              "      <td>0</td>\n",
              "      <td>0</td>\n",
              "      <td>0</td>\n",
              "      <td>0</td>\n",
              "      <td>0</td>\n",
              "      <td>0</td>\n",
              "      <td>0</td>\n",
              "      <td>0</td>\n",
              "      <td>0</td>\n",
              "      <td>0</td>\n",
              "      <td>0</td>\n",
              "      <td>0</td>\n",
              "      <td>0</td>\n",
              "      <td>0</td>\n",
              "      <td>0</td>\n",
              "      <td>0</td>\n",
              "      <td>0</td>\n",
              "      <td>0</td>\n",
              "      <td>0</td>\n",
              "      <td>0</td>\n",
              "      <td>0</td>\n",
              "      <td>0</td>\n",
              "      <td>0</td>\n",
              "      <td>0</td>\n",
              "      <td>0</td>\n",
              "      <td>0</td>\n",
              "      <td>0</td>\n",
              "      <td>0</td>\n",
              "      <td>0</td>\n",
              "      <td>0</td>\n",
              "      <td>0</td>\n",
              "      <td>0</td>\n",
              "      <td>0</td>\n",
              "      <td>0</td>\n",
              "      <td>0</td>\n",
              "      <td>0</td>\n",
              "      <td>0</td>\n",
              "      <td>0</td>\n",
              "      <td>0</td>\n",
              "      <td>0</td>\n",
              "    </tr>\n",
              "    <tr>\n",
              "      <th>1_1_2012-11-23</th>\n",
              "      <td>0</td>\n",
              "      <td>0</td>\n",
              "      <td>0</td>\n",
              "      <td>0</td>\n",
              "      <td>0</td>\n",
              "      <td>0</td>\n",
              "      <td>0</td>\n",
              "      <td>0</td>\n",
              "      <td>0</td>\n",
              "      <td>0</td>\n",
              "      <td>0</td>\n",
              "      <td>0</td>\n",
              "      <td>0</td>\n",
              "      <td>0</td>\n",
              "      <td>0</td>\n",
              "      <td>0</td>\n",
              "      <td>0</td>\n",
              "      <td>0</td>\n",
              "      <td>0</td>\n",
              "      <td>0</td>\n",
              "      <td>0</td>\n",
              "      <td>0</td>\n",
              "      <td>0</td>\n",
              "      <td>0</td>\n",
              "      <td>0</td>\n",
              "      <td>0</td>\n",
              "      <td>0</td>\n",
              "      <td>0</td>\n",
              "      <td>0</td>\n",
              "      <td>0</td>\n",
              "      <td>0</td>\n",
              "      <td>0</td>\n",
              "      <td>0</td>\n",
              "      <td>0</td>\n",
              "      <td>0</td>\n",
              "      <td>0</td>\n",
              "      <td>0</td>\n",
              "      <td>0</td>\n",
              "      <td>0</td>\n",
              "      <td>0</td>\n",
              "      <td>...</td>\n",
              "      <td>0</td>\n",
              "      <td>0</td>\n",
              "      <td>0</td>\n",
              "      <td>0</td>\n",
              "      <td>0</td>\n",
              "      <td>0</td>\n",
              "      <td>0</td>\n",
              "      <td>0</td>\n",
              "      <td>0</td>\n",
              "      <td>0</td>\n",
              "      <td>0</td>\n",
              "      <td>0</td>\n",
              "      <td>0</td>\n",
              "      <td>0</td>\n",
              "      <td>0</td>\n",
              "      <td>0</td>\n",
              "      <td>0</td>\n",
              "      <td>0</td>\n",
              "      <td>0</td>\n",
              "      <td>0</td>\n",
              "      <td>0</td>\n",
              "      <td>0</td>\n",
              "      <td>0</td>\n",
              "      <td>0</td>\n",
              "      <td>0</td>\n",
              "      <td>0</td>\n",
              "      <td>0</td>\n",
              "      <td>0</td>\n",
              "      <td>0</td>\n",
              "      <td>0</td>\n",
              "      <td>0</td>\n",
              "      <td>0</td>\n",
              "      <td>0</td>\n",
              "      <td>0</td>\n",
              "      <td>0</td>\n",
              "      <td>0</td>\n",
              "      <td>0</td>\n",
              "      <td>0</td>\n",
              "      <td>0</td>\n",
              "      <td>0</td>\n",
              "    </tr>\n",
              "    <tr>\n",
              "      <th>1_1_2012-11-30</th>\n",
              "      <td>0</td>\n",
              "      <td>0</td>\n",
              "      <td>0</td>\n",
              "      <td>0</td>\n",
              "      <td>0</td>\n",
              "      <td>0</td>\n",
              "      <td>0</td>\n",
              "      <td>0</td>\n",
              "      <td>0</td>\n",
              "      <td>0</td>\n",
              "      <td>0</td>\n",
              "      <td>0</td>\n",
              "      <td>0</td>\n",
              "      <td>0</td>\n",
              "      <td>0</td>\n",
              "      <td>0</td>\n",
              "      <td>0</td>\n",
              "      <td>0</td>\n",
              "      <td>0</td>\n",
              "      <td>0</td>\n",
              "      <td>0</td>\n",
              "      <td>0</td>\n",
              "      <td>0</td>\n",
              "      <td>0</td>\n",
              "      <td>0</td>\n",
              "      <td>0</td>\n",
              "      <td>0</td>\n",
              "      <td>0</td>\n",
              "      <td>0</td>\n",
              "      <td>0</td>\n",
              "      <td>0</td>\n",
              "      <td>0</td>\n",
              "      <td>0</td>\n",
              "      <td>0</td>\n",
              "      <td>0</td>\n",
              "      <td>0</td>\n",
              "      <td>0</td>\n",
              "      <td>0</td>\n",
              "      <td>0</td>\n",
              "      <td>0</td>\n",
              "      <td>...</td>\n",
              "      <td>0</td>\n",
              "      <td>0</td>\n",
              "      <td>0</td>\n",
              "      <td>0</td>\n",
              "      <td>0</td>\n",
              "      <td>0</td>\n",
              "      <td>0</td>\n",
              "      <td>0</td>\n",
              "      <td>0</td>\n",
              "      <td>0</td>\n",
              "      <td>0</td>\n",
              "      <td>0</td>\n",
              "      <td>0</td>\n",
              "      <td>0</td>\n",
              "      <td>0</td>\n",
              "      <td>0</td>\n",
              "      <td>0</td>\n",
              "      <td>0</td>\n",
              "      <td>0</td>\n",
              "      <td>0</td>\n",
              "      <td>0</td>\n",
              "      <td>0</td>\n",
              "      <td>0</td>\n",
              "      <td>0</td>\n",
              "      <td>0</td>\n",
              "      <td>0</td>\n",
              "      <td>0</td>\n",
              "      <td>0</td>\n",
              "      <td>0</td>\n",
              "      <td>0</td>\n",
              "      <td>0</td>\n",
              "      <td>0</td>\n",
              "      <td>0</td>\n",
              "      <td>0</td>\n",
              "      <td>0</td>\n",
              "      <td>0</td>\n",
              "      <td>0</td>\n",
              "      <td>0</td>\n",
              "      <td>0</td>\n",
              "      <td>0</td>\n",
              "    </tr>\n",
              "  </tbody>\n",
              "</table>\n",
              "<p>5 rows × 126 columns</p>\n",
              "</div>"
            ],
            "text/plain": [
              "                 Store_2  Store_3  Store_4  ...  Dept_99  Type_B  Type_C\n",
              "Store_Dept_Date                             ...                         \n",
              "1_1_2012-11-02         0        0        0  ...        0       0       0\n",
              "1_1_2012-11-09         0        0        0  ...        0       0       0\n",
              "1_1_2012-11-16         0        0        0  ...        0       0       0\n",
              "1_1_2012-11-23         0        0        0  ...        0       0       0\n",
              "1_1_2012-11-30         0        0        0  ...        0       0       0\n",
              "\n",
              "[5 rows x 126 columns]"
            ]
          },
          "metadata": {
            "tags": []
          },
          "execution_count": 140
        }
      ]
    },
    {
      "cell_type": "markdown",
      "metadata": {
        "id": "ByE9X7Zvgd8h",
        "colab_type": "text"
      },
      "source": [
        "## Concatenate Numerical and Categorical datasets"
      ]
    },
    {
      "cell_type": "code",
      "metadata": {
        "id": "84nVaxelgb5a",
        "colab_type": "code",
        "outputId": "d4953635-82e6-4fb4-e03a-d25cd2bb7182",
        "colab": {
          "base_uri": "https://localhost:8080/",
          "height": 277
        }
      },
      "source": [
        "test_cat_num_merged_data = pd.merge(test_num_data, test_cat_data, left_index=True, right_index=True)\n",
        "test_cat_num_merged_data.head()"
      ],
      "execution_count": 0,
      "outputs": [
        {
          "output_type": "execute_result",
          "data": {
            "text/html": [
              "<div>\n",
              "<style scoped>\n",
              "    .dataframe tbody tr th:only-of-type {\n",
              "        vertical-align: middle;\n",
              "    }\n",
              "\n",
              "    .dataframe tbody tr th {\n",
              "        vertical-align: top;\n",
              "    }\n",
              "\n",
              "    .dataframe thead th {\n",
              "        text-align: right;\n",
              "    }\n",
              "</style>\n",
              "<table border=\"1\" class=\"dataframe\">\n",
              "  <thead>\n",
              "    <tr style=\"text-align: right;\">\n",
              "      <th></th>\n",
              "      <th>Size</th>\n",
              "      <th>Temperature</th>\n",
              "      <th>Fuel_Price</th>\n",
              "      <th>MarkDown1</th>\n",
              "      <th>MarkDown2</th>\n",
              "      <th>MarkDown3</th>\n",
              "      <th>MarkDown4</th>\n",
              "      <th>MarkDown5</th>\n",
              "      <th>CPI</th>\n",
              "      <th>Unemployment</th>\n",
              "      <th>IsHolidayInt</th>\n",
              "      <th>Store_2</th>\n",
              "      <th>Store_3</th>\n",
              "      <th>Store_4</th>\n",
              "      <th>Store_5</th>\n",
              "      <th>Store_6</th>\n",
              "      <th>Store_7</th>\n",
              "      <th>Store_8</th>\n",
              "      <th>Store_9</th>\n",
              "      <th>Store_10</th>\n",
              "      <th>Store_11</th>\n",
              "      <th>Store_12</th>\n",
              "      <th>Store_13</th>\n",
              "      <th>Store_14</th>\n",
              "      <th>Store_15</th>\n",
              "      <th>Store_16</th>\n",
              "      <th>Store_17</th>\n",
              "      <th>Store_18</th>\n",
              "      <th>Store_19</th>\n",
              "      <th>Store_20</th>\n",
              "      <th>Store_21</th>\n",
              "      <th>Store_22</th>\n",
              "      <th>Store_23</th>\n",
              "      <th>Store_24</th>\n",
              "      <th>Store_25</th>\n",
              "      <th>Store_26</th>\n",
              "      <th>Store_27</th>\n",
              "      <th>Store_28</th>\n",
              "      <th>Store_29</th>\n",
              "      <th>Store_30</th>\n",
              "      <th>...</th>\n",
              "      <th>Dept_45</th>\n",
              "      <th>Dept_46</th>\n",
              "      <th>Dept_47</th>\n",
              "      <th>Dept_48</th>\n",
              "      <th>Dept_49</th>\n",
              "      <th>Dept_50</th>\n",
              "      <th>Dept_51</th>\n",
              "      <th>Dept_52</th>\n",
              "      <th>Dept_54</th>\n",
              "      <th>Dept_55</th>\n",
              "      <th>Dept_56</th>\n",
              "      <th>Dept_58</th>\n",
              "      <th>Dept_59</th>\n",
              "      <th>Dept_60</th>\n",
              "      <th>Dept_65</th>\n",
              "      <th>Dept_67</th>\n",
              "      <th>Dept_71</th>\n",
              "      <th>Dept_72</th>\n",
              "      <th>Dept_74</th>\n",
              "      <th>Dept_77</th>\n",
              "      <th>Dept_78</th>\n",
              "      <th>Dept_79</th>\n",
              "      <th>Dept_80</th>\n",
              "      <th>Dept_81</th>\n",
              "      <th>Dept_82</th>\n",
              "      <th>Dept_83</th>\n",
              "      <th>Dept_85</th>\n",
              "      <th>Dept_87</th>\n",
              "      <th>Dept_90</th>\n",
              "      <th>Dept_91</th>\n",
              "      <th>Dept_92</th>\n",
              "      <th>Dept_93</th>\n",
              "      <th>Dept_94</th>\n",
              "      <th>Dept_95</th>\n",
              "      <th>Dept_96</th>\n",
              "      <th>Dept_97</th>\n",
              "      <th>Dept_98</th>\n",
              "      <th>Dept_99</th>\n",
              "      <th>Type_B</th>\n",
              "      <th>Type_C</th>\n",
              "    </tr>\n",
              "    <tr>\n",
              "      <th>Store_Dept_Date</th>\n",
              "      <th></th>\n",
              "      <th></th>\n",
              "      <th></th>\n",
              "      <th></th>\n",
              "      <th></th>\n",
              "      <th></th>\n",
              "      <th></th>\n",
              "      <th></th>\n",
              "      <th></th>\n",
              "      <th></th>\n",
              "      <th></th>\n",
              "      <th></th>\n",
              "      <th></th>\n",
              "      <th></th>\n",
              "      <th></th>\n",
              "      <th></th>\n",
              "      <th></th>\n",
              "      <th></th>\n",
              "      <th></th>\n",
              "      <th></th>\n",
              "      <th></th>\n",
              "      <th></th>\n",
              "      <th></th>\n",
              "      <th></th>\n",
              "      <th></th>\n",
              "      <th></th>\n",
              "      <th></th>\n",
              "      <th></th>\n",
              "      <th></th>\n",
              "      <th></th>\n",
              "      <th></th>\n",
              "      <th></th>\n",
              "      <th></th>\n",
              "      <th></th>\n",
              "      <th></th>\n",
              "      <th></th>\n",
              "      <th></th>\n",
              "      <th></th>\n",
              "      <th></th>\n",
              "      <th></th>\n",
              "      <th></th>\n",
              "      <th></th>\n",
              "      <th></th>\n",
              "      <th></th>\n",
              "      <th></th>\n",
              "      <th></th>\n",
              "      <th></th>\n",
              "      <th></th>\n",
              "      <th></th>\n",
              "      <th></th>\n",
              "      <th></th>\n",
              "      <th></th>\n",
              "      <th></th>\n",
              "      <th></th>\n",
              "      <th></th>\n",
              "      <th></th>\n",
              "      <th></th>\n",
              "      <th></th>\n",
              "      <th></th>\n",
              "      <th></th>\n",
              "      <th></th>\n",
              "      <th></th>\n",
              "      <th></th>\n",
              "      <th></th>\n",
              "      <th></th>\n",
              "      <th></th>\n",
              "      <th></th>\n",
              "      <th></th>\n",
              "      <th></th>\n",
              "      <th></th>\n",
              "      <th></th>\n",
              "      <th></th>\n",
              "      <th></th>\n",
              "      <th></th>\n",
              "      <th></th>\n",
              "      <th></th>\n",
              "      <th></th>\n",
              "      <th></th>\n",
              "      <th></th>\n",
              "      <th></th>\n",
              "      <th></th>\n",
              "    </tr>\n",
              "  </thead>\n",
              "  <tbody>\n",
              "    <tr>\n",
              "      <th>1_1_2012-11-02</th>\n",
              "      <td>151315</td>\n",
              "      <td>55.32</td>\n",
              "      <td>3.386</td>\n",
              "      <td>6766.44</td>\n",
              "      <td>5147.70</td>\n",
              "      <td>50.82</td>\n",
              "      <td>3639.90</td>\n",
              "      <td>2737.42</td>\n",
              "      <td>223.462779</td>\n",
              "      <td>6.573</td>\n",
              "      <td>0</td>\n",
              "      <td>0</td>\n",
              "      <td>0</td>\n",
              "      <td>0</td>\n",
              "      <td>0</td>\n",
              "      <td>0</td>\n",
              "      <td>0</td>\n",
              "      <td>0</td>\n",
              "      <td>0</td>\n",
              "      <td>0</td>\n",
              "      <td>0</td>\n",
              "      <td>0</td>\n",
              "      <td>0</td>\n",
              "      <td>0</td>\n",
              "      <td>0</td>\n",
              "      <td>0</td>\n",
              "      <td>0</td>\n",
              "      <td>0</td>\n",
              "      <td>0</td>\n",
              "      <td>0</td>\n",
              "      <td>0</td>\n",
              "      <td>0</td>\n",
              "      <td>0</td>\n",
              "      <td>0</td>\n",
              "      <td>0</td>\n",
              "      <td>0</td>\n",
              "      <td>0</td>\n",
              "      <td>0</td>\n",
              "      <td>0</td>\n",
              "      <td>0</td>\n",
              "      <td>...</td>\n",
              "      <td>0</td>\n",
              "      <td>0</td>\n",
              "      <td>0</td>\n",
              "      <td>0</td>\n",
              "      <td>0</td>\n",
              "      <td>0</td>\n",
              "      <td>0</td>\n",
              "      <td>0</td>\n",
              "      <td>0</td>\n",
              "      <td>0</td>\n",
              "      <td>0</td>\n",
              "      <td>0</td>\n",
              "      <td>0</td>\n",
              "      <td>0</td>\n",
              "      <td>0</td>\n",
              "      <td>0</td>\n",
              "      <td>0</td>\n",
              "      <td>0</td>\n",
              "      <td>0</td>\n",
              "      <td>0</td>\n",
              "      <td>0</td>\n",
              "      <td>0</td>\n",
              "      <td>0</td>\n",
              "      <td>0</td>\n",
              "      <td>0</td>\n",
              "      <td>0</td>\n",
              "      <td>0</td>\n",
              "      <td>0</td>\n",
              "      <td>0</td>\n",
              "      <td>0</td>\n",
              "      <td>0</td>\n",
              "      <td>0</td>\n",
              "      <td>0</td>\n",
              "      <td>0</td>\n",
              "      <td>0</td>\n",
              "      <td>0</td>\n",
              "      <td>0</td>\n",
              "      <td>0</td>\n",
              "      <td>0</td>\n",
              "      <td>0</td>\n",
              "    </tr>\n",
              "    <tr>\n",
              "      <th>1_1_2012-11-09</th>\n",
              "      <td>151315</td>\n",
              "      <td>61.24</td>\n",
              "      <td>3.314</td>\n",
              "      <td>11421.32</td>\n",
              "      <td>3370.89</td>\n",
              "      <td>40.28</td>\n",
              "      <td>4646.79</td>\n",
              "      <td>6154.16</td>\n",
              "      <td>223.481307</td>\n",
              "      <td>6.573</td>\n",
              "      <td>0</td>\n",
              "      <td>0</td>\n",
              "      <td>0</td>\n",
              "      <td>0</td>\n",
              "      <td>0</td>\n",
              "      <td>0</td>\n",
              "      <td>0</td>\n",
              "      <td>0</td>\n",
              "      <td>0</td>\n",
              "      <td>0</td>\n",
              "      <td>0</td>\n",
              "      <td>0</td>\n",
              "      <td>0</td>\n",
              "      <td>0</td>\n",
              "      <td>0</td>\n",
              "      <td>0</td>\n",
              "      <td>0</td>\n",
              "      <td>0</td>\n",
              "      <td>0</td>\n",
              "      <td>0</td>\n",
              "      <td>0</td>\n",
              "      <td>0</td>\n",
              "      <td>0</td>\n",
              "      <td>0</td>\n",
              "      <td>0</td>\n",
              "      <td>0</td>\n",
              "      <td>0</td>\n",
              "      <td>0</td>\n",
              "      <td>0</td>\n",
              "      <td>0</td>\n",
              "      <td>...</td>\n",
              "      <td>0</td>\n",
              "      <td>0</td>\n",
              "      <td>0</td>\n",
              "      <td>0</td>\n",
              "      <td>0</td>\n",
              "      <td>0</td>\n",
              "      <td>0</td>\n",
              "      <td>0</td>\n",
              "      <td>0</td>\n",
              "      <td>0</td>\n",
              "      <td>0</td>\n",
              "      <td>0</td>\n",
              "      <td>0</td>\n",
              "      <td>0</td>\n",
              "      <td>0</td>\n",
              "      <td>0</td>\n",
              "      <td>0</td>\n",
              "      <td>0</td>\n",
              "      <td>0</td>\n",
              "      <td>0</td>\n",
              "      <td>0</td>\n",
              "      <td>0</td>\n",
              "      <td>0</td>\n",
              "      <td>0</td>\n",
              "      <td>0</td>\n",
              "      <td>0</td>\n",
              "      <td>0</td>\n",
              "      <td>0</td>\n",
              "      <td>0</td>\n",
              "      <td>0</td>\n",
              "      <td>0</td>\n",
              "      <td>0</td>\n",
              "      <td>0</td>\n",
              "      <td>0</td>\n",
              "      <td>0</td>\n",
              "      <td>0</td>\n",
              "      <td>0</td>\n",
              "      <td>0</td>\n",
              "      <td>0</td>\n",
              "      <td>0</td>\n",
              "    </tr>\n",
              "    <tr>\n",
              "      <th>1_1_2012-11-16</th>\n",
              "      <td>151315</td>\n",
              "      <td>52.92</td>\n",
              "      <td>3.252</td>\n",
              "      <td>9696.28</td>\n",
              "      <td>292.10</td>\n",
              "      <td>103.78</td>\n",
              "      <td>1133.15</td>\n",
              "      <td>6612.69</td>\n",
              "      <td>223.512911</td>\n",
              "      <td>6.573</td>\n",
              "      <td>0</td>\n",
              "      <td>0</td>\n",
              "      <td>0</td>\n",
              "      <td>0</td>\n",
              "      <td>0</td>\n",
              "      <td>0</td>\n",
              "      <td>0</td>\n",
              "      <td>0</td>\n",
              "      <td>0</td>\n",
              "      <td>0</td>\n",
              "      <td>0</td>\n",
              "      <td>0</td>\n",
              "      <td>0</td>\n",
              "      <td>0</td>\n",
              "      <td>0</td>\n",
              "      <td>0</td>\n",
              "      <td>0</td>\n",
              "      <td>0</td>\n",
              "      <td>0</td>\n",
              "      <td>0</td>\n",
              "      <td>0</td>\n",
              "      <td>0</td>\n",
              "      <td>0</td>\n",
              "      <td>0</td>\n",
              "      <td>0</td>\n",
              "      <td>0</td>\n",
              "      <td>0</td>\n",
              "      <td>0</td>\n",
              "      <td>0</td>\n",
              "      <td>0</td>\n",
              "      <td>...</td>\n",
              "      <td>0</td>\n",
              "      <td>0</td>\n",
              "      <td>0</td>\n",
              "      <td>0</td>\n",
              "      <td>0</td>\n",
              "      <td>0</td>\n",
              "      <td>0</td>\n",
              "      <td>0</td>\n",
              "      <td>0</td>\n",
              "      <td>0</td>\n",
              "      <td>0</td>\n",
              "      <td>0</td>\n",
              "      <td>0</td>\n",
              "      <td>0</td>\n",
              "      <td>0</td>\n",
              "      <td>0</td>\n",
              "      <td>0</td>\n",
              "      <td>0</td>\n",
              "      <td>0</td>\n",
              "      <td>0</td>\n",
              "      <td>0</td>\n",
              "      <td>0</td>\n",
              "      <td>0</td>\n",
              "      <td>0</td>\n",
              "      <td>0</td>\n",
              "      <td>0</td>\n",
              "      <td>0</td>\n",
              "      <td>0</td>\n",
              "      <td>0</td>\n",
              "      <td>0</td>\n",
              "      <td>0</td>\n",
              "      <td>0</td>\n",
              "      <td>0</td>\n",
              "      <td>0</td>\n",
              "      <td>0</td>\n",
              "      <td>0</td>\n",
              "      <td>0</td>\n",
              "      <td>0</td>\n",
              "      <td>0</td>\n",
              "      <td>0</td>\n",
              "    </tr>\n",
              "    <tr>\n",
              "      <th>1_1_2012-11-23</th>\n",
              "      <td>151315</td>\n",
              "      <td>56.23</td>\n",
              "      <td>3.211</td>\n",
              "      <td>883.59</td>\n",
              "      <td>4.17</td>\n",
              "      <td>74910.32</td>\n",
              "      <td>209.91</td>\n",
              "      <td>303.32</td>\n",
              "      <td>223.561947</td>\n",
              "      <td>6.573</td>\n",
              "      <td>1</td>\n",
              "      <td>0</td>\n",
              "      <td>0</td>\n",
              "      <td>0</td>\n",
              "      <td>0</td>\n",
              "      <td>0</td>\n",
              "      <td>0</td>\n",
              "      <td>0</td>\n",
              "      <td>0</td>\n",
              "      <td>0</td>\n",
              "      <td>0</td>\n",
              "      <td>0</td>\n",
              "      <td>0</td>\n",
              "      <td>0</td>\n",
              "      <td>0</td>\n",
              "      <td>0</td>\n",
              "      <td>0</td>\n",
              "      <td>0</td>\n",
              "      <td>0</td>\n",
              "      <td>0</td>\n",
              "      <td>0</td>\n",
              "      <td>0</td>\n",
              "      <td>0</td>\n",
              "      <td>0</td>\n",
              "      <td>0</td>\n",
              "      <td>0</td>\n",
              "      <td>0</td>\n",
              "      <td>0</td>\n",
              "      <td>0</td>\n",
              "      <td>0</td>\n",
              "      <td>...</td>\n",
              "      <td>0</td>\n",
              "      <td>0</td>\n",
              "      <td>0</td>\n",
              "      <td>0</td>\n",
              "      <td>0</td>\n",
              "      <td>0</td>\n",
              "      <td>0</td>\n",
              "      <td>0</td>\n",
              "      <td>0</td>\n",
              "      <td>0</td>\n",
              "      <td>0</td>\n",
              "      <td>0</td>\n",
              "      <td>0</td>\n",
              "      <td>0</td>\n",
              "      <td>0</td>\n",
              "      <td>0</td>\n",
              "      <td>0</td>\n",
              "      <td>0</td>\n",
              "      <td>0</td>\n",
              "      <td>0</td>\n",
              "      <td>0</td>\n",
              "      <td>0</td>\n",
              "      <td>0</td>\n",
              "      <td>0</td>\n",
              "      <td>0</td>\n",
              "      <td>0</td>\n",
              "      <td>0</td>\n",
              "      <td>0</td>\n",
              "      <td>0</td>\n",
              "      <td>0</td>\n",
              "      <td>0</td>\n",
              "      <td>0</td>\n",
              "      <td>0</td>\n",
              "      <td>0</td>\n",
              "      <td>0</td>\n",
              "      <td>0</td>\n",
              "      <td>0</td>\n",
              "      <td>0</td>\n",
              "      <td>0</td>\n",
              "      <td>0</td>\n",
              "    </tr>\n",
              "    <tr>\n",
              "      <th>1_1_2012-11-30</th>\n",
              "      <td>151315</td>\n",
              "      <td>52.34</td>\n",
              "      <td>3.207</td>\n",
              "      <td>2460.03</td>\n",
              "      <td>0.00</td>\n",
              "      <td>3838.35</td>\n",
              "      <td>150.57</td>\n",
              "      <td>6966.34</td>\n",
              "      <td>223.610984</td>\n",
              "      <td>6.573</td>\n",
              "      <td>0</td>\n",
              "      <td>0</td>\n",
              "      <td>0</td>\n",
              "      <td>0</td>\n",
              "      <td>0</td>\n",
              "      <td>0</td>\n",
              "      <td>0</td>\n",
              "      <td>0</td>\n",
              "      <td>0</td>\n",
              "      <td>0</td>\n",
              "      <td>0</td>\n",
              "      <td>0</td>\n",
              "      <td>0</td>\n",
              "      <td>0</td>\n",
              "      <td>0</td>\n",
              "      <td>0</td>\n",
              "      <td>0</td>\n",
              "      <td>0</td>\n",
              "      <td>0</td>\n",
              "      <td>0</td>\n",
              "      <td>0</td>\n",
              "      <td>0</td>\n",
              "      <td>0</td>\n",
              "      <td>0</td>\n",
              "      <td>0</td>\n",
              "      <td>0</td>\n",
              "      <td>0</td>\n",
              "      <td>0</td>\n",
              "      <td>0</td>\n",
              "      <td>0</td>\n",
              "      <td>...</td>\n",
              "      <td>0</td>\n",
              "      <td>0</td>\n",
              "      <td>0</td>\n",
              "      <td>0</td>\n",
              "      <td>0</td>\n",
              "      <td>0</td>\n",
              "      <td>0</td>\n",
              "      <td>0</td>\n",
              "      <td>0</td>\n",
              "      <td>0</td>\n",
              "      <td>0</td>\n",
              "      <td>0</td>\n",
              "      <td>0</td>\n",
              "      <td>0</td>\n",
              "      <td>0</td>\n",
              "      <td>0</td>\n",
              "      <td>0</td>\n",
              "      <td>0</td>\n",
              "      <td>0</td>\n",
              "      <td>0</td>\n",
              "      <td>0</td>\n",
              "      <td>0</td>\n",
              "      <td>0</td>\n",
              "      <td>0</td>\n",
              "      <td>0</td>\n",
              "      <td>0</td>\n",
              "      <td>0</td>\n",
              "      <td>0</td>\n",
              "      <td>0</td>\n",
              "      <td>0</td>\n",
              "      <td>0</td>\n",
              "      <td>0</td>\n",
              "      <td>0</td>\n",
              "      <td>0</td>\n",
              "      <td>0</td>\n",
              "      <td>0</td>\n",
              "      <td>0</td>\n",
              "      <td>0</td>\n",
              "      <td>0</td>\n",
              "      <td>0</td>\n",
              "    </tr>\n",
              "  </tbody>\n",
              "</table>\n",
              "<p>5 rows × 137 columns</p>\n",
              "</div>"
            ],
            "text/plain": [
              "                   Size  Temperature  Fuel_Price  ...  Dept_99  Type_B  Type_C\n",
              "Store_Dept_Date                                   ...                         \n",
              "1_1_2012-11-02   151315        55.32       3.386  ...        0       0       0\n",
              "1_1_2012-11-09   151315        61.24       3.314  ...        0       0       0\n",
              "1_1_2012-11-16   151315        52.92       3.252  ...        0       0       0\n",
              "1_1_2012-11-23   151315        56.23       3.211  ...        0       0       0\n",
              "1_1_2012-11-30   151315        52.34       3.207  ...        0       0       0\n",
              "\n",
              "[5 rows x 137 columns]"
            ]
          },
          "metadata": {
            "tags": []
          },
          "execution_count": 141
        }
      ]
    },
    {
      "cell_type": "code",
      "metadata": {
        "id": "WIresgsAgbcl",
        "colab_type": "code",
        "outputId": "72625697-808a-4e0f-d1cf-d78c7deb405b",
        "colab": {
          "base_uri": "https://localhost:8080/",
          "height": 163
        }
      },
      "source": [
        "feature_columns = test_X.columns\n",
        "feature_columns"
      ],
      "execution_count": 0,
      "outputs": [
        {
          "output_type": "execute_result",
          "data": {
            "text/plain": [
              "Index(['Dept_13', 'Dept_2', 'Dept_23', 'Dept_38', 'Dept_4', 'Dept_40',\n",
              "       'Dept_7', 'Dept_72', 'Dept_8', 'Dept_90', 'Dept_91', 'Dept_92',\n",
              "       'Dept_93', 'Dept_94', 'Dept_95', 'MarkDown3', 'Size', 'Store_10',\n",
              "       'Store_13', 'Store_14', 'Store_15', 'Store_16', 'Store_2', 'Store_20',\n",
              "       'Store_27', 'Store_29', 'Store_3', 'Store_33', 'Store_38', 'Store_4',\n",
              "       'Store_44', 'Store_5', 'Store_6', 'Store_7', 'Store_9', 'Type_B',\n",
              "       'Type_C'],\n",
              "      dtype='object')"
            ]
          },
          "metadata": {
            "tags": []
          },
          "execution_count": 142
        }
      ]
    },
    {
      "cell_type": "code",
      "metadata": {
        "id": "J-sSiAaWgbJD",
        "colab_type": "code",
        "colab": {}
      },
      "source": [
        "test_top_features_data = test_cat_num_merged_data[feature_columns]"
      ],
      "execution_count": 0,
      "outputs": []
    },
    {
      "cell_type": "code",
      "metadata": {
        "id": "uMchmQHVga1z",
        "colab_type": "code",
        "outputId": "21fc6a9c-3ec5-405e-8e73-9784c1568da3",
        "colab": {
          "base_uri": "https://localhost:8080/",
          "height": 248
        }
      },
      "source": [
        "test_top_features_data.head()"
      ],
      "execution_count": 0,
      "outputs": [
        {
          "output_type": "execute_result",
          "data": {
            "text/html": [
              "<div>\n",
              "<style scoped>\n",
              "    .dataframe tbody tr th:only-of-type {\n",
              "        vertical-align: middle;\n",
              "    }\n",
              "\n",
              "    .dataframe tbody tr th {\n",
              "        vertical-align: top;\n",
              "    }\n",
              "\n",
              "    .dataframe thead th {\n",
              "        text-align: right;\n",
              "    }\n",
              "</style>\n",
              "<table border=\"1\" class=\"dataframe\">\n",
              "  <thead>\n",
              "    <tr style=\"text-align: right;\">\n",
              "      <th></th>\n",
              "      <th>Dept_13</th>\n",
              "      <th>Dept_2</th>\n",
              "      <th>Dept_23</th>\n",
              "      <th>Dept_38</th>\n",
              "      <th>Dept_4</th>\n",
              "      <th>Dept_40</th>\n",
              "      <th>Dept_7</th>\n",
              "      <th>Dept_72</th>\n",
              "      <th>Dept_8</th>\n",
              "      <th>Dept_90</th>\n",
              "      <th>Dept_91</th>\n",
              "      <th>Dept_92</th>\n",
              "      <th>Dept_93</th>\n",
              "      <th>Dept_94</th>\n",
              "      <th>Dept_95</th>\n",
              "      <th>MarkDown3</th>\n",
              "      <th>Size</th>\n",
              "      <th>Store_10</th>\n",
              "      <th>Store_13</th>\n",
              "      <th>Store_14</th>\n",
              "      <th>Store_15</th>\n",
              "      <th>Store_16</th>\n",
              "      <th>Store_2</th>\n",
              "      <th>Store_20</th>\n",
              "      <th>Store_27</th>\n",
              "      <th>Store_29</th>\n",
              "      <th>Store_3</th>\n",
              "      <th>Store_33</th>\n",
              "      <th>Store_38</th>\n",
              "      <th>Store_4</th>\n",
              "      <th>Store_44</th>\n",
              "      <th>Store_5</th>\n",
              "      <th>Store_6</th>\n",
              "      <th>Store_7</th>\n",
              "      <th>Store_9</th>\n",
              "      <th>Type_B</th>\n",
              "      <th>Type_C</th>\n",
              "    </tr>\n",
              "    <tr>\n",
              "      <th>Store_Dept_Date</th>\n",
              "      <th></th>\n",
              "      <th></th>\n",
              "      <th></th>\n",
              "      <th></th>\n",
              "      <th></th>\n",
              "      <th></th>\n",
              "      <th></th>\n",
              "      <th></th>\n",
              "      <th></th>\n",
              "      <th></th>\n",
              "      <th></th>\n",
              "      <th></th>\n",
              "      <th></th>\n",
              "      <th></th>\n",
              "      <th></th>\n",
              "      <th></th>\n",
              "      <th></th>\n",
              "      <th></th>\n",
              "      <th></th>\n",
              "      <th></th>\n",
              "      <th></th>\n",
              "      <th></th>\n",
              "      <th></th>\n",
              "      <th></th>\n",
              "      <th></th>\n",
              "      <th></th>\n",
              "      <th></th>\n",
              "      <th></th>\n",
              "      <th></th>\n",
              "      <th></th>\n",
              "      <th></th>\n",
              "      <th></th>\n",
              "      <th></th>\n",
              "      <th></th>\n",
              "      <th></th>\n",
              "      <th></th>\n",
              "      <th></th>\n",
              "    </tr>\n",
              "  </thead>\n",
              "  <tbody>\n",
              "    <tr>\n",
              "      <th>1_1_2012-11-02</th>\n",
              "      <td>0</td>\n",
              "      <td>0</td>\n",
              "      <td>0</td>\n",
              "      <td>0</td>\n",
              "      <td>0</td>\n",
              "      <td>0</td>\n",
              "      <td>0</td>\n",
              "      <td>0</td>\n",
              "      <td>0</td>\n",
              "      <td>0</td>\n",
              "      <td>0</td>\n",
              "      <td>0</td>\n",
              "      <td>0</td>\n",
              "      <td>0</td>\n",
              "      <td>0</td>\n",
              "      <td>50.82</td>\n",
              "      <td>151315</td>\n",
              "      <td>0</td>\n",
              "      <td>0</td>\n",
              "      <td>0</td>\n",
              "      <td>0</td>\n",
              "      <td>0</td>\n",
              "      <td>0</td>\n",
              "      <td>0</td>\n",
              "      <td>0</td>\n",
              "      <td>0</td>\n",
              "      <td>0</td>\n",
              "      <td>0</td>\n",
              "      <td>0</td>\n",
              "      <td>0</td>\n",
              "      <td>0</td>\n",
              "      <td>0</td>\n",
              "      <td>0</td>\n",
              "      <td>0</td>\n",
              "      <td>0</td>\n",
              "      <td>0</td>\n",
              "      <td>0</td>\n",
              "    </tr>\n",
              "    <tr>\n",
              "      <th>1_1_2012-11-09</th>\n",
              "      <td>0</td>\n",
              "      <td>0</td>\n",
              "      <td>0</td>\n",
              "      <td>0</td>\n",
              "      <td>0</td>\n",
              "      <td>0</td>\n",
              "      <td>0</td>\n",
              "      <td>0</td>\n",
              "      <td>0</td>\n",
              "      <td>0</td>\n",
              "      <td>0</td>\n",
              "      <td>0</td>\n",
              "      <td>0</td>\n",
              "      <td>0</td>\n",
              "      <td>0</td>\n",
              "      <td>40.28</td>\n",
              "      <td>151315</td>\n",
              "      <td>0</td>\n",
              "      <td>0</td>\n",
              "      <td>0</td>\n",
              "      <td>0</td>\n",
              "      <td>0</td>\n",
              "      <td>0</td>\n",
              "      <td>0</td>\n",
              "      <td>0</td>\n",
              "      <td>0</td>\n",
              "      <td>0</td>\n",
              "      <td>0</td>\n",
              "      <td>0</td>\n",
              "      <td>0</td>\n",
              "      <td>0</td>\n",
              "      <td>0</td>\n",
              "      <td>0</td>\n",
              "      <td>0</td>\n",
              "      <td>0</td>\n",
              "      <td>0</td>\n",
              "      <td>0</td>\n",
              "    </tr>\n",
              "    <tr>\n",
              "      <th>1_1_2012-11-16</th>\n",
              "      <td>0</td>\n",
              "      <td>0</td>\n",
              "      <td>0</td>\n",
              "      <td>0</td>\n",
              "      <td>0</td>\n",
              "      <td>0</td>\n",
              "      <td>0</td>\n",
              "      <td>0</td>\n",
              "      <td>0</td>\n",
              "      <td>0</td>\n",
              "      <td>0</td>\n",
              "      <td>0</td>\n",
              "      <td>0</td>\n",
              "      <td>0</td>\n",
              "      <td>0</td>\n",
              "      <td>103.78</td>\n",
              "      <td>151315</td>\n",
              "      <td>0</td>\n",
              "      <td>0</td>\n",
              "      <td>0</td>\n",
              "      <td>0</td>\n",
              "      <td>0</td>\n",
              "      <td>0</td>\n",
              "      <td>0</td>\n",
              "      <td>0</td>\n",
              "      <td>0</td>\n",
              "      <td>0</td>\n",
              "      <td>0</td>\n",
              "      <td>0</td>\n",
              "      <td>0</td>\n",
              "      <td>0</td>\n",
              "      <td>0</td>\n",
              "      <td>0</td>\n",
              "      <td>0</td>\n",
              "      <td>0</td>\n",
              "      <td>0</td>\n",
              "      <td>0</td>\n",
              "    </tr>\n",
              "    <tr>\n",
              "      <th>1_1_2012-11-23</th>\n",
              "      <td>0</td>\n",
              "      <td>0</td>\n",
              "      <td>0</td>\n",
              "      <td>0</td>\n",
              "      <td>0</td>\n",
              "      <td>0</td>\n",
              "      <td>0</td>\n",
              "      <td>0</td>\n",
              "      <td>0</td>\n",
              "      <td>0</td>\n",
              "      <td>0</td>\n",
              "      <td>0</td>\n",
              "      <td>0</td>\n",
              "      <td>0</td>\n",
              "      <td>0</td>\n",
              "      <td>74910.32</td>\n",
              "      <td>151315</td>\n",
              "      <td>0</td>\n",
              "      <td>0</td>\n",
              "      <td>0</td>\n",
              "      <td>0</td>\n",
              "      <td>0</td>\n",
              "      <td>0</td>\n",
              "      <td>0</td>\n",
              "      <td>0</td>\n",
              "      <td>0</td>\n",
              "      <td>0</td>\n",
              "      <td>0</td>\n",
              "      <td>0</td>\n",
              "      <td>0</td>\n",
              "      <td>0</td>\n",
              "      <td>0</td>\n",
              "      <td>0</td>\n",
              "      <td>0</td>\n",
              "      <td>0</td>\n",
              "      <td>0</td>\n",
              "      <td>0</td>\n",
              "    </tr>\n",
              "    <tr>\n",
              "      <th>1_1_2012-11-30</th>\n",
              "      <td>0</td>\n",
              "      <td>0</td>\n",
              "      <td>0</td>\n",
              "      <td>0</td>\n",
              "      <td>0</td>\n",
              "      <td>0</td>\n",
              "      <td>0</td>\n",
              "      <td>0</td>\n",
              "      <td>0</td>\n",
              "      <td>0</td>\n",
              "      <td>0</td>\n",
              "      <td>0</td>\n",
              "      <td>0</td>\n",
              "      <td>0</td>\n",
              "      <td>0</td>\n",
              "      <td>3838.35</td>\n",
              "      <td>151315</td>\n",
              "      <td>0</td>\n",
              "      <td>0</td>\n",
              "      <td>0</td>\n",
              "      <td>0</td>\n",
              "      <td>0</td>\n",
              "      <td>0</td>\n",
              "      <td>0</td>\n",
              "      <td>0</td>\n",
              "      <td>0</td>\n",
              "      <td>0</td>\n",
              "      <td>0</td>\n",
              "      <td>0</td>\n",
              "      <td>0</td>\n",
              "      <td>0</td>\n",
              "      <td>0</td>\n",
              "      <td>0</td>\n",
              "      <td>0</td>\n",
              "      <td>0</td>\n",
              "      <td>0</td>\n",
              "      <td>0</td>\n",
              "    </tr>\n",
              "  </tbody>\n",
              "</table>\n",
              "</div>"
            ],
            "text/plain": [
              "                 Dept_13  Dept_2  Dept_23  ...  Store_9  Type_B  Type_C\n",
              "Store_Dept_Date                            ...                         \n",
              "1_1_2012-11-02         0       0        0  ...        0       0       0\n",
              "1_1_2012-11-09         0       0        0  ...        0       0       0\n",
              "1_1_2012-11-16         0       0        0  ...        0       0       0\n",
              "1_1_2012-11-23         0       0        0  ...        0       0       0\n",
              "1_1_2012-11-30         0       0        0  ...        0       0       0\n",
              "\n",
              "[5 rows x 37 columns]"
            ]
          },
          "metadata": {
            "tags": []
          },
          "execution_count": 144
        }
      ]
    },
    {
      "cell_type": "markdown",
      "metadata": {
        "id": "jtf_EJ8ChsST",
        "colab_type": "text"
      },
      "source": [
        "# Comparing scores of different regression models and determine the best model for the prediction"
      ]
    },
    {
      "cell_type": "code",
      "metadata": {
        "id": "nEuIwbOJgahc",
        "colab_type": "code",
        "outputId": "b0205a1e-99dd-401a-be57-c0cf0d898888",
        "colab": {
          "base_uri": "https://localhost:8080/",
          "height": 90
        }
      },
      "source": [
        "print(\"Linear Regression Model  = \" + str(linear_regression_score))\n",
        "print(\"Random Forest Model Score = \" + str(random_forest_score))\n",
        "print(\"Decision Tree Model Score = \" + str(decision_tree_score))\n",
        "print(\"Bagging Model Score= \" + str(bagging_score))"
      ],
      "execution_count": 0,
      "outputs": [
        {
          "output_type": "stream",
          "text": [
            "Linear Regression Model  = 0.6056371529629543\n",
            "Random Forest Model Score = 0.5752216285261578\n",
            "Decision Tree Model Score = 0.5255501309347584\n",
            "Bagging Model Score= 0.8063260456416239\n"
          ],
          "name": "stdout"
        }
      ]
    },
    {
      "cell_type": "markdown",
      "metadata": {
        "id": "kyoeIuKPh-qX",
        "colab_type": "text"
      },
      "source": [
        "Of all the models, Bagging Regressor model has the best score\n",
        "## Using Bagging Regressor model to predict Sales for Test dataset."
      ]
    },
    {
      "cell_type": "code",
      "metadata": {
        "id": "pb86M23xgaOg",
        "colab_type": "code",
        "colab": {}
      },
      "source": [
        "test_merged_data['Weekly_Sales_Predicted'] = bag_reg.predict(test_top_features_data)"
      ],
      "execution_count": 0,
      "outputs": []
    },
    {
      "cell_type": "code",
      "metadata": {
        "id": "r4EihwY4gZp5",
        "colab_type": "code",
        "outputId": "77204b83-f369-4506-9cf3-a44e264500ec",
        "colab": {
          "base_uri": "https://localhost:8080/",
          "height": 248
        }
      },
      "source": [
        "test_merged_data.head()"
      ],
      "execution_count": 0,
      "outputs": [
        {
          "output_type": "execute_result",
          "data": {
            "text/html": [
              "<div>\n",
              "<style scoped>\n",
              "    .dataframe tbody tr th:only-of-type {\n",
              "        vertical-align: middle;\n",
              "    }\n",
              "\n",
              "    .dataframe tbody tr th {\n",
              "        vertical-align: top;\n",
              "    }\n",
              "\n",
              "    .dataframe thead th {\n",
              "        text-align: right;\n",
              "    }\n",
              "</style>\n",
              "<table border=\"1\" class=\"dataframe\">\n",
              "  <thead>\n",
              "    <tr style=\"text-align: right;\">\n",
              "      <th></th>\n",
              "      <th>Store</th>\n",
              "      <th>Dept</th>\n",
              "      <th>Type</th>\n",
              "      <th>Size</th>\n",
              "      <th>Temperature</th>\n",
              "      <th>Fuel_Price</th>\n",
              "      <th>MarkDown1</th>\n",
              "      <th>MarkDown2</th>\n",
              "      <th>MarkDown3</th>\n",
              "      <th>MarkDown4</th>\n",
              "      <th>MarkDown5</th>\n",
              "      <th>CPI</th>\n",
              "      <th>Unemployment</th>\n",
              "      <th>IsHolidayInt</th>\n",
              "      <th>Weekly_Sales_Predicted</th>\n",
              "    </tr>\n",
              "    <tr>\n",
              "      <th>Store_Dept_Date</th>\n",
              "      <th></th>\n",
              "      <th></th>\n",
              "      <th></th>\n",
              "      <th></th>\n",
              "      <th></th>\n",
              "      <th></th>\n",
              "      <th></th>\n",
              "      <th></th>\n",
              "      <th></th>\n",
              "      <th></th>\n",
              "      <th></th>\n",
              "      <th></th>\n",
              "      <th></th>\n",
              "      <th></th>\n",
              "      <th></th>\n",
              "    </tr>\n",
              "  </thead>\n",
              "  <tbody>\n",
              "    <tr>\n",
              "      <th>1_1_2012-11-02</th>\n",
              "      <td>1</td>\n",
              "      <td>1</td>\n",
              "      <td>A</td>\n",
              "      <td>151315</td>\n",
              "      <td>55.32</td>\n",
              "      <td>3.386</td>\n",
              "      <td>6766.44</td>\n",
              "      <td>5147.70</td>\n",
              "      <td>50.82</td>\n",
              "      <td>3639.90</td>\n",
              "      <td>2737.42</td>\n",
              "      <td>223.462779</td>\n",
              "      <td>6.573</td>\n",
              "      <td>0</td>\n",
              "      <td>8163.720432</td>\n",
              "    </tr>\n",
              "    <tr>\n",
              "      <th>1_1_2012-11-09</th>\n",
              "      <td>1</td>\n",
              "      <td>1</td>\n",
              "      <td>A</td>\n",
              "      <td>151315</td>\n",
              "      <td>61.24</td>\n",
              "      <td>3.314</td>\n",
              "      <td>11421.32</td>\n",
              "      <td>3370.89</td>\n",
              "      <td>40.28</td>\n",
              "      <td>4646.79</td>\n",
              "      <td>6154.16</td>\n",
              "      <td>223.481307</td>\n",
              "      <td>6.573</td>\n",
              "      <td>0</td>\n",
              "      <td>9800.008760</td>\n",
              "    </tr>\n",
              "    <tr>\n",
              "      <th>1_1_2012-11-16</th>\n",
              "      <td>1</td>\n",
              "      <td>1</td>\n",
              "      <td>A</td>\n",
              "      <td>151315</td>\n",
              "      <td>52.92</td>\n",
              "      <td>3.252</td>\n",
              "      <td>9696.28</td>\n",
              "      <td>292.10</td>\n",
              "      <td>103.78</td>\n",
              "      <td>1133.15</td>\n",
              "      <td>6612.69</td>\n",
              "      <td>223.512911</td>\n",
              "      <td>6.573</td>\n",
              "      <td>0</td>\n",
              "      <td>14113.608322</td>\n",
              "    </tr>\n",
              "    <tr>\n",
              "      <th>1_1_2012-11-23</th>\n",
              "      <td>1</td>\n",
              "      <td>1</td>\n",
              "      <td>A</td>\n",
              "      <td>151315</td>\n",
              "      <td>56.23</td>\n",
              "      <td>3.211</td>\n",
              "      <td>883.59</td>\n",
              "      <td>4.17</td>\n",
              "      <td>74910.32</td>\n",
              "      <td>209.91</td>\n",
              "      <td>303.32</td>\n",
              "      <td>223.561947</td>\n",
              "      <td>6.573</td>\n",
              "      <td>1</td>\n",
              "      <td>16514.128346</td>\n",
              "    </tr>\n",
              "    <tr>\n",
              "      <th>1_1_2012-11-30</th>\n",
              "      <td>1</td>\n",
              "      <td>1</td>\n",
              "      <td>A</td>\n",
              "      <td>151315</td>\n",
              "      <td>52.34</td>\n",
              "      <td>3.207</td>\n",
              "      <td>2460.03</td>\n",
              "      <td>0.00</td>\n",
              "      <td>3838.35</td>\n",
              "      <td>150.57</td>\n",
              "      <td>6966.34</td>\n",
              "      <td>223.610984</td>\n",
              "      <td>6.573</td>\n",
              "      <td>0</td>\n",
              "      <td>16514.128346</td>\n",
              "    </tr>\n",
              "  </tbody>\n",
              "</table>\n",
              "</div>"
            ],
            "text/plain": [
              "                 Store  Dept  ... IsHolidayInt  Weekly_Sales_Predicted\n",
              "Store_Dept_Date               ...                                     \n",
              "1_1_2012-11-02       1     1  ...            0             8163.720432\n",
              "1_1_2012-11-09       1     1  ...            0             9800.008760\n",
              "1_1_2012-11-16       1     1  ...            0            14113.608322\n",
              "1_1_2012-11-23       1     1  ...            1            16514.128346\n",
              "1_1_2012-11-30       1     1  ...            0            16514.128346\n",
              "\n",
              "[5 rows x 15 columns]"
            ]
          },
          "metadata": {
            "tags": []
          },
          "execution_count": 151
        }
      ]
    },
    {
      "cell_type": "code",
      "metadata": {
        "id": "01jgoTqggZWn",
        "colab_type": "code",
        "outputId": "cd3400a6-6e2c-4655-97a3-efbc0628bd6e",
        "colab": {
          "base_uri": "https://localhost:8080/",
          "height": 417
        }
      },
      "source": [
        "test_merged_data.info()"
      ],
      "execution_count": 0,
      "outputs": [
        {
          "output_type": "stream",
          "text": [
            "<class 'pandas.core.frame.DataFrame'>\n",
            "Index: 115064 entries, 1_1_2012-11-02 to 45_98_2013-07-26\n",
            "Data columns (total 15 columns):\n",
            " #   Column                  Non-Null Count   Dtype  \n",
            "---  ------                  --------------   -----  \n",
            " 0   Store                   115064 non-null  int64  \n",
            " 1   Dept                    115064 non-null  int64  \n",
            " 2   Type                    115064 non-null  object \n",
            " 3   Size                    115064 non-null  int64  \n",
            " 4   Temperature             115064 non-null  float64\n",
            " 5   Fuel_Price              115064 non-null  float64\n",
            " 6   MarkDown1               115064 non-null  float64\n",
            " 7   MarkDown2               115064 non-null  float64\n",
            " 8   MarkDown3               115064 non-null  float64\n",
            " 9   MarkDown4               115064 non-null  float64\n",
            " 10  MarkDown5               115064 non-null  float64\n",
            " 11  CPI                     115064 non-null  float64\n",
            " 12  Unemployment            115064 non-null  float64\n",
            " 13  IsHolidayInt            115064 non-null  int64  \n",
            " 14  Weekly_Sales_Predicted  115064 non-null  float64\n",
            "dtypes: float64(10), int64(4), object(1)\n",
            "memory usage: 19.0+ MB\n"
          ],
          "name": "stdout"
        }
      ]
    },
    {
      "cell_type": "markdown",
      "metadata": {
        "id": "MKImTIDURp_T",
        "colab_type": "text"
      },
      "source": [
        "## Export Predicted Weekly Sales in Excel format for Submission"
      ]
    },
    {
      "cell_type": "code",
      "metadata": {
        "id": "gwLb-Hw1etFi",
        "colab_type": "code",
        "colab": {}
      },
      "source": [
        "test_merged_data.to_excel(\"Submition.xlsx\")"
      ],
      "execution_count": 0,
      "outputs": []
    },
    {
      "cell_type": "code",
      "metadata": {
        "id": "zJzXzNU7V_b6",
        "colab_type": "code",
        "colab": {}
      },
      "source": [
        ""
      ],
      "execution_count": 0,
      "outputs": []
    }
  ]
}