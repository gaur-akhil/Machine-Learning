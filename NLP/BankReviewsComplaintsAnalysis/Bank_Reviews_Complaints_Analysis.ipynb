{
  "nbformat": 4,
  "nbformat_minor": 0,
  "metadata": {
    "kernelspec": {
      "display_name": "Python 3",
      "language": "python",
      "name": "python3"
    },
    "language_info": {
      "codemirror_mode": {
        "name": "ipython",
        "version": 3
      },
      "file_extension": ".py",
      "mimetype": "text/x-python",
      "name": "python",
      "nbconvert_exporter": "python",
      "pygments_lexer": "ipython3",
      "version": "3.7.1"
    },
    "colab": {
      "name": "Bank Reviews Complaints Analysis - Colab.ipynb",
      "provenance": [],
      "collapsed_sections": []
    }
  },
  "cells": [
    {
      "cell_type": "code",
      "metadata": {
        "scrolled": true,
        "id": "vBR7RhyPmdXb",
        "colab_type": "code",
        "outputId": "6ca451fe-511b-4f07-81fc-9d2454d3205d",
        "colab": {
          "base_uri": "https://localhost:8080/",
          "height": 74
        }
      },
      "source": [
        "# Importing the libraries\n",
        "import numpy as np\n",
        "import re\n",
        "import nltk\n",
        "from nltk.corpus import stopwords\n",
        "import pandas as pd\n",
        "import matplotlib.pyplot as plt\n",
        "%matplotlib inline\n",
        "import seaborn as sns\n",
        "from sklearn.naive_bayes import MultinomialNB\n",
        "from sklearn import metrics\n",
        "from wordcloud import WordCloud\n",
        "\n",
        "from pprint import pprint\n",
        "\n",
        "# Gensim\n",
        "import gensim\n",
        "import gensim.corpora as corpora\n",
        "from gensim.utils import simple_preprocess\n",
        "from gensim.models import CoherenceModel\n",
        "\n",
        "# spacy for lemmatization\n",
        "import spacy\n",
        "\n",
        "import warnings\n",
        "warnings.filterwarnings(\"ignore\",category=DeprecationWarning)"
      ],
      "execution_count": 1,
      "outputs": [
        {
          "output_type": "stream",
          "text": [
            "/usr/local/lib/python3.6/dist-packages/statsmodels/tools/_testing.py:19: FutureWarning: pandas.util.testing is deprecated. Use the functions in the public API at pandas.testing instead.\n",
            "  import pandas.util.testing as tm\n"
          ],
          "name": "stderr"
        }
      ]
    },
    {
      "cell_type": "code",
      "metadata": {
        "scrolled": true,
        "id": "QaCxAu7NmdXl",
        "colab_type": "code",
        "outputId": "d0f6dee1-7015-4e98-8246-a91094cb4d61",
        "colab": {
          "base_uri": "https://localhost:8080/",
          "height": 1000
        }
      },
      "source": [
        "nltk.download('all')"
      ],
      "execution_count": 2,
      "outputs": [
        {
          "output_type": "stream",
          "text": [
            "[nltk_data] Downloading collection 'all'\n",
            "[nltk_data]    | \n",
            "[nltk_data]    | Downloading package abc to /root/nltk_data...\n",
            "[nltk_data]    |   Package abc is already up-to-date!\n",
            "[nltk_data]    | Downloading package alpino to /root/nltk_data...\n",
            "[nltk_data]    |   Package alpino is already up-to-date!\n",
            "[nltk_data]    | Downloading package biocreative_ppi to\n",
            "[nltk_data]    |     /root/nltk_data...\n",
            "[nltk_data]    |   Package biocreative_ppi is already up-to-date!\n",
            "[nltk_data]    | Downloading package brown to /root/nltk_data...\n",
            "[nltk_data]    |   Package brown is already up-to-date!\n",
            "[nltk_data]    | Downloading package brown_tei to /root/nltk_data...\n",
            "[nltk_data]    |   Package brown_tei is already up-to-date!\n",
            "[nltk_data]    | Downloading package cess_cat to /root/nltk_data...\n",
            "[nltk_data]    |   Package cess_cat is already up-to-date!\n",
            "[nltk_data]    | Downloading package cess_esp to /root/nltk_data...\n",
            "[nltk_data]    |   Package cess_esp is already up-to-date!\n",
            "[nltk_data]    | Downloading package chat80 to /root/nltk_data...\n",
            "[nltk_data]    |   Package chat80 is already up-to-date!\n",
            "[nltk_data]    | Downloading package city_database to\n",
            "[nltk_data]    |     /root/nltk_data...\n",
            "[nltk_data]    |   Package city_database is already up-to-date!\n",
            "[nltk_data]    | Downloading package cmudict to /root/nltk_data...\n",
            "[nltk_data]    |   Package cmudict is already up-to-date!\n",
            "[nltk_data]    | Downloading package comparative_sentences to\n",
            "[nltk_data]    |     /root/nltk_data...\n",
            "[nltk_data]    |   Package comparative_sentences is already up-to-\n",
            "[nltk_data]    |       date!\n",
            "[nltk_data]    | Downloading package comtrans to /root/nltk_data...\n",
            "[nltk_data]    |   Package comtrans is already up-to-date!\n",
            "[nltk_data]    | Downloading package conll2000 to /root/nltk_data...\n",
            "[nltk_data]    |   Package conll2000 is already up-to-date!\n",
            "[nltk_data]    | Downloading package conll2002 to /root/nltk_data...\n",
            "[nltk_data]    |   Package conll2002 is already up-to-date!\n",
            "[nltk_data]    | Downloading package conll2007 to /root/nltk_data...\n",
            "[nltk_data]    |   Package conll2007 is already up-to-date!\n",
            "[nltk_data]    | Downloading package crubadan to /root/nltk_data...\n",
            "[nltk_data]    |   Package crubadan is already up-to-date!\n",
            "[nltk_data]    | Downloading package dependency_treebank to\n",
            "[nltk_data]    |     /root/nltk_data...\n",
            "[nltk_data]    |   Package dependency_treebank is already up-to-date!\n",
            "[nltk_data]    | Downloading package dolch to /root/nltk_data...\n",
            "[nltk_data]    |   Package dolch is already up-to-date!\n",
            "[nltk_data]    | Downloading package europarl_raw to\n",
            "[nltk_data]    |     /root/nltk_data...\n",
            "[nltk_data]    |   Package europarl_raw is already up-to-date!\n",
            "[nltk_data]    | Downloading package floresta to /root/nltk_data...\n",
            "[nltk_data]    |   Package floresta is already up-to-date!\n",
            "[nltk_data]    | Downloading package framenet_v15 to\n",
            "[nltk_data]    |     /root/nltk_data...\n",
            "[nltk_data]    |   Package framenet_v15 is already up-to-date!\n",
            "[nltk_data]    | Downloading package framenet_v17 to\n",
            "[nltk_data]    |     /root/nltk_data...\n",
            "[nltk_data]    |   Package framenet_v17 is already up-to-date!\n",
            "[nltk_data]    | Downloading package gazetteers to /root/nltk_data...\n",
            "[nltk_data]    |   Package gazetteers is already up-to-date!\n",
            "[nltk_data]    | Downloading package genesis to /root/nltk_data...\n",
            "[nltk_data]    |   Package genesis is already up-to-date!\n",
            "[nltk_data]    | Downloading package gutenberg to /root/nltk_data...\n",
            "[nltk_data]    |   Package gutenberg is already up-to-date!\n",
            "[nltk_data]    | Downloading package ieer to /root/nltk_data...\n",
            "[nltk_data]    |   Package ieer is already up-to-date!\n",
            "[nltk_data]    | Downloading package inaugural to /root/nltk_data...\n",
            "[nltk_data]    |   Package inaugural is already up-to-date!\n",
            "[nltk_data]    | Downloading package indian to /root/nltk_data...\n",
            "[nltk_data]    |   Package indian is already up-to-date!\n",
            "[nltk_data]    | Downloading package jeita to /root/nltk_data...\n",
            "[nltk_data]    |   Package jeita is already up-to-date!\n",
            "[nltk_data]    | Downloading package kimmo to /root/nltk_data...\n",
            "[nltk_data]    |   Package kimmo is already up-to-date!\n",
            "[nltk_data]    | Downloading package knbc to /root/nltk_data...\n",
            "[nltk_data]    |   Package knbc is already up-to-date!\n",
            "[nltk_data]    | Downloading package lin_thesaurus to\n",
            "[nltk_data]    |     /root/nltk_data...\n",
            "[nltk_data]    |   Package lin_thesaurus is already up-to-date!\n",
            "[nltk_data]    | Downloading package mac_morpho to /root/nltk_data...\n",
            "[nltk_data]    |   Package mac_morpho is already up-to-date!\n",
            "[nltk_data]    | Downloading package machado to /root/nltk_data...\n",
            "[nltk_data]    |   Package machado is already up-to-date!\n",
            "[nltk_data]    | Downloading package masc_tagged to /root/nltk_data...\n",
            "[nltk_data]    |   Package masc_tagged is already up-to-date!\n",
            "[nltk_data]    | Downloading package moses_sample to\n",
            "[nltk_data]    |     /root/nltk_data...\n",
            "[nltk_data]    |   Package moses_sample is already up-to-date!\n",
            "[nltk_data]    | Downloading package movie_reviews to\n",
            "[nltk_data]    |     /root/nltk_data...\n",
            "[nltk_data]    |   Package movie_reviews is already up-to-date!\n",
            "[nltk_data]    | Downloading package names to /root/nltk_data...\n",
            "[nltk_data]    |   Package names is already up-to-date!\n",
            "[nltk_data]    | Downloading package nombank.1.0 to /root/nltk_data...\n",
            "[nltk_data]    |   Package nombank.1.0 is already up-to-date!\n",
            "[nltk_data]    | Downloading package nps_chat to /root/nltk_data...\n",
            "[nltk_data]    |   Package nps_chat is already up-to-date!\n",
            "[nltk_data]    | Downloading package omw to /root/nltk_data...\n",
            "[nltk_data]    |   Package omw is already up-to-date!\n",
            "[nltk_data]    | Downloading package opinion_lexicon to\n",
            "[nltk_data]    |     /root/nltk_data...\n",
            "[nltk_data]    |   Package opinion_lexicon is already up-to-date!\n",
            "[nltk_data]    | Downloading package paradigms to /root/nltk_data...\n",
            "[nltk_data]    |   Package paradigms is already up-to-date!\n",
            "[nltk_data]    | Downloading package pil to /root/nltk_data...\n",
            "[nltk_data]    |   Package pil is already up-to-date!\n",
            "[nltk_data]    | Downloading package pl196x to /root/nltk_data...\n",
            "[nltk_data]    |   Package pl196x is already up-to-date!\n",
            "[nltk_data]    | Downloading package ppattach to /root/nltk_data...\n",
            "[nltk_data]    |   Package ppattach is already up-to-date!\n",
            "[nltk_data]    | Downloading package problem_reports to\n",
            "[nltk_data]    |     /root/nltk_data...\n",
            "[nltk_data]    |   Package problem_reports is already up-to-date!\n",
            "[nltk_data]    | Downloading package propbank to /root/nltk_data...\n",
            "[nltk_data]    |   Package propbank is already up-to-date!\n",
            "[nltk_data]    | Downloading package ptb to /root/nltk_data...\n",
            "[nltk_data]    |   Package ptb is already up-to-date!\n",
            "[nltk_data]    | Downloading package product_reviews_1 to\n",
            "[nltk_data]    |     /root/nltk_data...\n",
            "[nltk_data]    |   Package product_reviews_1 is already up-to-date!\n",
            "[nltk_data]    | Downloading package product_reviews_2 to\n",
            "[nltk_data]    |     /root/nltk_data...\n",
            "[nltk_data]    |   Package product_reviews_2 is already up-to-date!\n",
            "[nltk_data]    | Downloading package pros_cons to /root/nltk_data...\n",
            "[nltk_data]    |   Package pros_cons is already up-to-date!\n",
            "[nltk_data]    | Downloading package qc to /root/nltk_data...\n",
            "[nltk_data]    |   Package qc is already up-to-date!\n",
            "[nltk_data]    | Downloading package reuters to /root/nltk_data...\n",
            "[nltk_data]    |   Package reuters is already up-to-date!\n",
            "[nltk_data]    | Downloading package rte to /root/nltk_data...\n",
            "[nltk_data]    |   Package rte is already up-to-date!\n",
            "[nltk_data]    | Downloading package semcor to /root/nltk_data...\n",
            "[nltk_data]    |   Package semcor is already up-to-date!\n",
            "[nltk_data]    | Downloading package senseval to /root/nltk_data...\n",
            "[nltk_data]    |   Package senseval is already up-to-date!\n",
            "[nltk_data]    | Downloading package sentiwordnet to\n",
            "[nltk_data]    |     /root/nltk_data...\n",
            "[nltk_data]    |   Package sentiwordnet is already up-to-date!\n",
            "[nltk_data]    | Downloading package sentence_polarity to\n",
            "[nltk_data]    |     /root/nltk_data...\n",
            "[nltk_data]    |   Package sentence_polarity is already up-to-date!\n",
            "[nltk_data]    | Downloading package shakespeare to /root/nltk_data...\n",
            "[nltk_data]    |   Package shakespeare is already up-to-date!\n",
            "[nltk_data]    | Downloading package sinica_treebank to\n",
            "[nltk_data]    |     /root/nltk_data...\n",
            "[nltk_data]    |   Package sinica_treebank is already up-to-date!\n",
            "[nltk_data]    | Downloading package smultron to /root/nltk_data...\n",
            "[nltk_data]    |   Package smultron is already up-to-date!\n",
            "[nltk_data]    | Downloading package state_union to /root/nltk_data...\n",
            "[nltk_data]    |   Package state_union is already up-to-date!\n",
            "[nltk_data]    | Downloading package stopwords to /root/nltk_data...\n",
            "[nltk_data]    |   Package stopwords is already up-to-date!\n",
            "[nltk_data]    | Downloading package subjectivity to\n",
            "[nltk_data]    |     /root/nltk_data...\n",
            "[nltk_data]    |   Package subjectivity is already up-to-date!\n",
            "[nltk_data]    | Downloading package swadesh to /root/nltk_data...\n",
            "[nltk_data]    |   Package swadesh is already up-to-date!\n",
            "[nltk_data]    | Downloading package switchboard to /root/nltk_data...\n",
            "[nltk_data]    |   Package switchboard is already up-to-date!\n",
            "[nltk_data]    | Downloading package timit to /root/nltk_data...\n",
            "[nltk_data]    |   Package timit is already up-to-date!\n",
            "[nltk_data]    | Downloading package toolbox to /root/nltk_data...\n",
            "[nltk_data]    |   Package toolbox is already up-to-date!\n",
            "[nltk_data]    | Downloading package treebank to /root/nltk_data...\n",
            "[nltk_data]    |   Package treebank is already up-to-date!\n",
            "[nltk_data]    | Downloading package twitter_samples to\n",
            "[nltk_data]    |     /root/nltk_data...\n",
            "[nltk_data]    |   Package twitter_samples is already up-to-date!\n",
            "[nltk_data]    | Downloading package udhr to /root/nltk_data...\n",
            "[nltk_data]    |   Package udhr is already up-to-date!\n",
            "[nltk_data]    | Downloading package udhr2 to /root/nltk_data...\n",
            "[nltk_data]    |   Package udhr2 is already up-to-date!\n",
            "[nltk_data]    | Downloading package unicode_samples to\n",
            "[nltk_data]    |     /root/nltk_data...\n",
            "[nltk_data]    |   Package unicode_samples is already up-to-date!\n",
            "[nltk_data]    | Downloading package universal_treebanks_v20 to\n",
            "[nltk_data]    |     /root/nltk_data...\n",
            "[nltk_data]    |   Package universal_treebanks_v20 is already up-to-\n",
            "[nltk_data]    |       date!\n",
            "[nltk_data]    | Downloading package verbnet to /root/nltk_data...\n",
            "[nltk_data]    |   Package verbnet is already up-to-date!\n",
            "[nltk_data]    | Downloading package verbnet3 to /root/nltk_data...\n",
            "[nltk_data]    |   Package verbnet3 is already up-to-date!\n",
            "[nltk_data]    | Downloading package webtext to /root/nltk_data...\n",
            "[nltk_data]    |   Package webtext is already up-to-date!\n",
            "[nltk_data]    | Downloading package wordnet to /root/nltk_data...\n",
            "[nltk_data]    |   Package wordnet is already up-to-date!\n",
            "[nltk_data]    | Downloading package wordnet_ic to /root/nltk_data...\n",
            "[nltk_data]    |   Package wordnet_ic is already up-to-date!\n",
            "[nltk_data]    | Downloading package words to /root/nltk_data...\n",
            "[nltk_data]    |   Package words is already up-to-date!\n",
            "[nltk_data]    | Downloading package ycoe to /root/nltk_data...\n",
            "[nltk_data]    |   Package ycoe is already up-to-date!\n",
            "[nltk_data]    | Downloading package rslp to /root/nltk_data...\n",
            "[nltk_data]    |   Package rslp is already up-to-date!\n",
            "[nltk_data]    | Downloading package maxent_treebank_pos_tagger to\n",
            "[nltk_data]    |     /root/nltk_data...\n",
            "[nltk_data]    |   Package maxent_treebank_pos_tagger is already up-\n",
            "[nltk_data]    |       to-date!\n",
            "[nltk_data]    | Downloading package universal_tagset to\n",
            "[nltk_data]    |     /root/nltk_data...\n",
            "[nltk_data]    |   Package universal_tagset is already up-to-date!\n",
            "[nltk_data]    | Downloading package maxent_ne_chunker to\n",
            "[nltk_data]    |     /root/nltk_data...\n",
            "[nltk_data]    |   Package maxent_ne_chunker is already up-to-date!\n",
            "[nltk_data]    | Downloading package punkt to /root/nltk_data...\n",
            "[nltk_data]    |   Package punkt is already up-to-date!\n",
            "[nltk_data]    | Downloading package book_grammars to\n",
            "[nltk_data]    |     /root/nltk_data...\n",
            "[nltk_data]    |   Package book_grammars is already up-to-date!\n",
            "[nltk_data]    | Downloading package sample_grammars to\n",
            "[nltk_data]    |     /root/nltk_data...\n",
            "[nltk_data]    |   Package sample_grammars is already up-to-date!\n",
            "[nltk_data]    | Downloading package spanish_grammars to\n",
            "[nltk_data]    |     /root/nltk_data...\n",
            "[nltk_data]    |   Package spanish_grammars is already up-to-date!\n",
            "[nltk_data]    | Downloading package basque_grammars to\n",
            "[nltk_data]    |     /root/nltk_data...\n",
            "[nltk_data]    |   Package basque_grammars is already up-to-date!\n",
            "[nltk_data]    | Downloading package large_grammars to\n",
            "[nltk_data]    |     /root/nltk_data...\n",
            "[nltk_data]    |   Package large_grammars is already up-to-date!\n",
            "[nltk_data]    | Downloading package tagsets to /root/nltk_data...\n",
            "[nltk_data]    |   Package tagsets is already up-to-date!\n",
            "[nltk_data]    | Downloading package snowball_data to\n",
            "[nltk_data]    |     /root/nltk_data...\n",
            "[nltk_data]    |   Package snowball_data is already up-to-date!\n",
            "[nltk_data]    | Downloading package bllip_wsj_no_aux to\n",
            "[nltk_data]    |     /root/nltk_data...\n",
            "[nltk_data]    |   Package bllip_wsj_no_aux is already up-to-date!\n",
            "[nltk_data]    | Downloading package word2vec_sample to\n",
            "[nltk_data]    |     /root/nltk_data...\n",
            "[nltk_data]    |   Package word2vec_sample is already up-to-date!\n",
            "[nltk_data]    | Downloading package panlex_swadesh to\n",
            "[nltk_data]    |     /root/nltk_data...\n",
            "[nltk_data]    |   Package panlex_swadesh is already up-to-date!\n",
            "[nltk_data]    | Downloading package mte_teip5 to /root/nltk_data...\n",
            "[nltk_data]    |   Package mte_teip5 is already up-to-date!\n",
            "[nltk_data]    | Downloading package averaged_perceptron_tagger to\n",
            "[nltk_data]    |     /root/nltk_data...\n",
            "[nltk_data]    |   Package averaged_perceptron_tagger is already up-\n",
            "[nltk_data]    |       to-date!\n",
            "[nltk_data]    | Downloading package averaged_perceptron_tagger_ru to\n",
            "[nltk_data]    |     /root/nltk_data...\n",
            "[nltk_data]    |   Package averaged_perceptron_tagger_ru is already\n",
            "[nltk_data]    |       up-to-date!\n",
            "[nltk_data]    | Downloading package perluniprops to\n",
            "[nltk_data]    |     /root/nltk_data...\n",
            "[nltk_data]    |   Package perluniprops is already up-to-date!\n",
            "[nltk_data]    | Downloading package nonbreaking_prefixes to\n",
            "[nltk_data]    |     /root/nltk_data...\n",
            "[nltk_data]    |   Package nonbreaking_prefixes is already up-to-date!\n",
            "[nltk_data]    | Downloading package vader_lexicon to\n",
            "[nltk_data]    |     /root/nltk_data...\n",
            "[nltk_data]    |   Package vader_lexicon is already up-to-date!\n",
            "[nltk_data]    | Downloading package porter_test to /root/nltk_data...\n",
            "[nltk_data]    |   Package porter_test is already up-to-date!\n",
            "[nltk_data]    | Downloading package wmt15_eval to /root/nltk_data...\n",
            "[nltk_data]    |   Package wmt15_eval is already up-to-date!\n",
            "[nltk_data]    | Downloading package mwa_ppdb to /root/nltk_data...\n",
            "[nltk_data]    |   Package mwa_ppdb is already up-to-date!\n",
            "[nltk_data]    | \n",
            "[nltk_data]  Done downloading collection all\n"
          ],
          "name": "stdout"
        },
        {
          "output_type": "execute_result",
          "data": {
            "text/plain": [
              "True"
            ]
          },
          "metadata": {
            "tags": []
          },
          "execution_count": 2
        }
      ]
    },
    {
      "cell_type": "code",
      "metadata": {
        "id": "Mtfv5Cc6o6Sc",
        "colab_type": "code",
        "outputId": "ef0ca991-bc2f-4cd2-da4a-89f096a4ac55",
        "colab": {
          "base_uri": "https://localhost:8080/",
          "height": 35
        }
      },
      "source": [
        "from google.colab import drive\n",
        "drive.mount('/content/gdrive')"
      ],
      "execution_count": 3,
      "outputs": [
        {
          "output_type": "stream",
          "text": [
            "Drive already mounted at /content/gdrive; to attempt to forcibly remount, call drive.mount(\"/content/gdrive\", force_remount=True).\n"
          ],
          "name": "stdout"
        }
      ]
    },
    {
      "cell_type": "code",
      "metadata": {
        "id": "omEoR6d0pSiU",
        "colab_type": "code",
        "outputId": "b1516a71-7d46-40a9-cc29-6b7fb31ce46d",
        "colab": {
          "base_uri": "https://localhost:8080/",
          "height": 35
        }
      },
      "source": [
        "%cd '/content/gdrive/My Drive/Colab Notebooks/Bank Reviews Complaints Analysis/'"
      ],
      "execution_count": 4,
      "outputs": [
        {
          "output_type": "stream",
          "text": [
            "/content/gdrive/My Drive/Colab Notebooks/Bank Reviews Complaints Analysis\n"
          ],
          "name": "stdout"
        }
      ]
    },
    {
      "cell_type": "markdown",
      "metadata": {
        "id": "6J73NwqHplz-",
        "colab_type": "text"
      },
      "source": [
        "#1. Reading and Processing Data"
      ]
    },
    {
      "cell_type": "code",
      "metadata": {
        "id": "3Ort1ONImdXu",
        "colab_type": "code",
        "outputId": "c30a166c-d7c6-48f6-9889-1ab0f21e0893",
        "colab": {
          "base_uri": "https://localhost:8080/",
          "height": 198
        }
      },
      "source": [
        "reviews_df = pd.read_excel(\"BankReviews.xlsx\")\n",
        "reviews_df.head()"
      ],
      "execution_count": 5,
      "outputs": [
        {
          "output_type": "execute_result",
          "data": {
            "text/html": [
              "<div>\n",
              "<style scoped>\n",
              "    .dataframe tbody tr th:only-of-type {\n",
              "        vertical-align: middle;\n",
              "    }\n",
              "\n",
              "    .dataframe tbody tr th {\n",
              "        vertical-align: top;\n",
              "    }\n",
              "\n",
              "    .dataframe thead th {\n",
              "        text-align: right;\n",
              "    }\n",
              "</style>\n",
              "<table border=\"1\" class=\"dataframe\">\n",
              "  <thead>\n",
              "    <tr style=\"text-align: right;\">\n",
              "      <th></th>\n",
              "      <th>Date</th>\n",
              "      <th>Stars</th>\n",
              "      <th>Reviews</th>\n",
              "      <th>BankName</th>\n",
              "    </tr>\n",
              "  </thead>\n",
              "  <tbody>\n",
              "    <tr>\n",
              "      <th>0</th>\n",
              "      <td>2017-04-10</td>\n",
              "      <td>5</td>\n",
              "      <td>Great job, Wyndham Capital! Each person was pr...</td>\n",
              "      <td>Wyndham Capital Mortgage</td>\n",
              "    </tr>\n",
              "    <tr>\n",
              "      <th>1</th>\n",
              "      <td>2017-02-10</td>\n",
              "      <td>5</td>\n",
              "      <td>Matthew Richardson is professional and helpful...</td>\n",
              "      <td>Wyndham Capital Mortgage</td>\n",
              "    </tr>\n",
              "    <tr>\n",
              "      <th>2</th>\n",
              "      <td>2017-08-21</td>\n",
              "      <td>5</td>\n",
              "      <td>We had a past experience with Wyndham Mortgage...</td>\n",
              "      <td>Wyndham Capital Mortgage</td>\n",
              "    </tr>\n",
              "    <tr>\n",
              "      <th>3</th>\n",
              "      <td>2017-12-17</td>\n",
              "      <td>5</td>\n",
              "      <td>We have been dealing with Brad Thomka from the...</td>\n",
              "      <td>Wyndham Capital Mortgage</td>\n",
              "    </tr>\n",
              "    <tr>\n",
              "      <th>4</th>\n",
              "      <td>2016-05-27</td>\n",
              "      <td>5</td>\n",
              "      <td>I can't express how grateful I am for the supp...</td>\n",
              "      <td>Wyndham Capital Mortgage</td>\n",
              "    </tr>\n",
              "  </tbody>\n",
              "</table>\n",
              "</div>"
            ],
            "text/plain": [
              "        Date  ...                  BankName\n",
              "0 2017-04-10  ...  Wyndham Capital Mortgage\n",
              "1 2017-02-10  ...  Wyndham Capital Mortgage\n",
              "2 2017-08-21  ...  Wyndham Capital Mortgage\n",
              "3 2017-12-17  ...  Wyndham Capital Mortgage\n",
              "4 2016-05-27  ...  Wyndham Capital Mortgage\n",
              "\n",
              "[5 rows x 4 columns]"
            ]
          },
          "metadata": {
            "tags": []
          },
          "execution_count": 5
        }
      ]
    },
    {
      "cell_type": "code",
      "metadata": {
        "id": "MeAVxLiggcwe",
        "colab_type": "code",
        "outputId": "4cfed66b-a400-414b-fc52-006862f76b97",
        "colab": {
          "base_uri": "https://localhost:8080/",
          "height": 217
        }
      },
      "source": [
        "reviews_df.info()"
      ],
      "execution_count": 6,
      "outputs": [
        {
          "output_type": "stream",
          "text": [
            "<class 'pandas.core.frame.DataFrame'>\n",
            "RangeIndex: 505 entries, 0 to 504\n",
            "Data columns (total 4 columns):\n",
            " #   Column    Non-Null Count  Dtype         \n",
            "---  ------    --------------  -----         \n",
            " 0   Date      505 non-null    datetime64[ns]\n",
            " 1   Stars     505 non-null    int64         \n",
            " 2   Reviews   505 non-null    object        \n",
            " 3   BankName  505 non-null    object        \n",
            "dtypes: datetime64[ns](1), int64(1), object(2)\n",
            "memory usage: 15.9+ KB\n"
          ],
          "name": "stdout"
        }
      ]
    },
    {
      "cell_type": "code",
      "metadata": {
        "id": "qZfdyS5sgf9M",
        "colab_type": "code",
        "outputId": "6c281081-ec34-4181-c6d1-3ec4e2f0ffcf",
        "colab": {
          "base_uri": "https://localhost:8080/",
          "height": 35
        }
      },
      "source": [
        "reviews_df.shape"
      ],
      "execution_count": 7,
      "outputs": [
        {
          "output_type": "execute_result",
          "data": {
            "text/plain": [
              "(505, 4)"
            ]
          },
          "metadata": {
            "tags": []
          },
          "execution_count": 7
        }
      ]
    },
    {
      "cell_type": "markdown",
      "metadata": {
        "id": "XnOdB2vtglwS",
        "colab_type": "text"
      },
      "source": [
        "## Dropping the irrelevant variables"
      ]
    },
    {
      "cell_type": "code",
      "metadata": {
        "id": "xOB04EI0mdX1",
        "colab_type": "code",
        "colab": {}
      },
      "source": [
        "reviews_df.drop(['Date','BankName'],axis=1,inplace=True)"
      ],
      "execution_count": 0,
      "outputs": []
    },
    {
      "cell_type": "code",
      "metadata": {
        "id": "qGvBo7PRmdX7",
        "colab_type": "code",
        "outputId": "43991e86-2497-4182-f285-5d73b4b7539a",
        "colab": {
          "base_uri": "https://localhost:8080/",
          "height": 198
        }
      },
      "source": [
        "reviews_df.head()"
      ],
      "execution_count": 9,
      "outputs": [
        {
          "output_type": "execute_result",
          "data": {
            "text/html": [
              "<div>\n",
              "<style scoped>\n",
              "    .dataframe tbody tr th:only-of-type {\n",
              "        vertical-align: middle;\n",
              "    }\n",
              "\n",
              "    .dataframe tbody tr th {\n",
              "        vertical-align: top;\n",
              "    }\n",
              "\n",
              "    .dataframe thead th {\n",
              "        text-align: right;\n",
              "    }\n",
              "</style>\n",
              "<table border=\"1\" class=\"dataframe\">\n",
              "  <thead>\n",
              "    <tr style=\"text-align: right;\">\n",
              "      <th></th>\n",
              "      <th>Stars</th>\n",
              "      <th>Reviews</th>\n",
              "    </tr>\n",
              "  </thead>\n",
              "  <tbody>\n",
              "    <tr>\n",
              "      <th>0</th>\n",
              "      <td>5</td>\n",
              "      <td>Great job, Wyndham Capital! Each person was pr...</td>\n",
              "    </tr>\n",
              "    <tr>\n",
              "      <th>1</th>\n",
              "      <td>5</td>\n",
              "      <td>Matthew Richardson is professional and helpful...</td>\n",
              "    </tr>\n",
              "    <tr>\n",
              "      <th>2</th>\n",
              "      <td>5</td>\n",
              "      <td>We had a past experience with Wyndham Mortgage...</td>\n",
              "    </tr>\n",
              "    <tr>\n",
              "      <th>3</th>\n",
              "      <td>5</td>\n",
              "      <td>We have been dealing with Brad Thomka from the...</td>\n",
              "    </tr>\n",
              "    <tr>\n",
              "      <th>4</th>\n",
              "      <td>5</td>\n",
              "      <td>I can't express how grateful I am for the supp...</td>\n",
              "    </tr>\n",
              "  </tbody>\n",
              "</table>\n",
              "</div>"
            ],
            "text/plain": [
              "   Stars                                            Reviews\n",
              "0      5  Great job, Wyndham Capital! Each person was pr...\n",
              "1      5  Matthew Richardson is professional and helpful...\n",
              "2      5  We had a past experience with Wyndham Mortgage...\n",
              "3      5  We have been dealing with Brad Thomka from the...\n",
              "4      5  I can't express how grateful I am for the supp..."
            ]
          },
          "metadata": {
            "tags": []
          },
          "execution_count": 9
        }
      ]
    },
    {
      "cell_type": "code",
      "metadata": {
        "id": "FrW_VIGJmdYD",
        "colab_type": "code",
        "outputId": "2c8c1bdc-324b-4350-9bbb-058a2a6735a0",
        "colab": {
          "base_uri": "https://localhost:8080/",
          "height": 35
        }
      },
      "source": [
        "reviews_df.shape"
      ],
      "execution_count": 10,
      "outputs": [
        {
          "output_type": "execute_result",
          "data": {
            "text/plain": [
              "(505, 2)"
            ]
          },
          "metadata": {
            "tags": []
          },
          "execution_count": 10
        }
      ]
    },
    {
      "cell_type": "code",
      "metadata": {
        "id": "Ajouc_EnmdYK",
        "colab_type": "code",
        "outputId": "deeadebc-e146-4def-c518-d7702689c531",
        "colab": {
          "base_uri": "https://localhost:8080/",
          "height": 72
        }
      },
      "source": [
        "reviews_df.isnull().sum()"
      ],
      "execution_count": 11,
      "outputs": [
        {
          "output_type": "execute_result",
          "data": {
            "text/plain": [
              "Stars      0\n",
              "Reviews    0\n",
              "dtype: int64"
            ]
          },
          "metadata": {
            "tags": []
          },
          "execution_count": 11
        }
      ]
    },
    {
      "cell_type": "markdown",
      "metadata": {
        "id": "iSlA7s_agysC",
        "colab_type": "text"
      },
      "source": [
        "## Exploring Data"
      ]
    },
    {
      "cell_type": "code",
      "metadata": {
        "id": "hGQe_ipEmdYR",
        "colab_type": "code",
        "outputId": "9fc4eac2-6b1a-4e4f-8e85-96ed174f111c",
        "colab": {
          "base_uri": "https://localhost:8080/",
          "height": 72
        }
      },
      "source": [
        "reviews_df['Stars'].value_counts()"
      ],
      "execution_count": 12,
      "outputs": [
        {
          "output_type": "execute_result",
          "data": {
            "text/plain": [
              "5    410\n",
              "1     95\n",
              "Name: Stars, dtype: int64"
            ]
          },
          "metadata": {
            "tags": []
          },
          "execution_count": 12
        }
      ]
    },
    {
      "cell_type": "code",
      "metadata": {
        "scrolled": true,
        "id": "62-FA3QPmdYX",
        "colab_type": "code",
        "outputId": "fb638943-ee78-439b-9ba1-aa871dac25b1",
        "colab": {
          "base_uri": "https://localhost:8080/",
          "height": 388
        }
      },
      "source": [
        "plt.figure(figsize=(8,6))\n",
        "sns.countplot(reviews_df.Stars)\n",
        "plt.show()"
      ],
      "execution_count": 13,
      "outputs": [
        {
          "output_type": "display_data",
          "data": {
            "image/png": "[encoded data removed]",
            "text/plain": [
              "<Figure size 576x432 with 1 Axes>"
            ]
          },
          "metadata": {
            "tags": [],
            "needs_background": "light"
          }
        }
      ]
    },
    {
      "cell_type": "markdown",
      "metadata": {
        "id": "0TrUWI-khryM",
        "colab_type": "text"
      },
      "source": [
        "## Cleaning the data"
      ]
    },
    {
      "cell_type": "code",
      "metadata": {
        "id": "VnA-e1OGLGh8",
        "colab_type": "code",
        "colab": {}
      },
      "source": [
        "# Taking backup before cleaning the data for final representation\n",
        "reviews_df_bkp = reviews_df[reviews_df.columns]"
      ],
      "execution_count": 0,
      "outputs": []
    },
    {
      "cell_type": "code",
      "metadata": {
        "id": "5uyz6HRkhpqs",
        "colab_type": "code",
        "colab": {}
      },
      "source": [
        "#Abbrevations and Words correction\n",
        "def clean_text(text):\n",
        "    text = str(text).lower()\n",
        "    text = text.strip()\n",
        "    text = re.sub(r'\\n',' ',text)\n",
        "    text = re.sub(r'\\S+@\\S+','',text)\n",
        "    text = re.sub(r'\\S+\\S+@','',text)\n",
        "    text = re.sub(r'^br$', ' ', text)\n",
        "    text = re.sub(r'\\s+', ' ', text)\n",
        "    text = re.sub(r' +', ' ', text)\n",
        "    text = re.sub(r\"[-()$\\#;{}+=~|!?.:`,'0-9',/]\", \"\", text)\n",
        "    return(text)\n",
        "\n",
        "# From the above function , we have handled Newlines, Single Quotes,Digits [0-9],Converted into Lower case."
      ],
      "execution_count": 0,
      "outputs": []
    },
    {
      "cell_type": "code",
      "metadata": {
        "id": "bdYZu8hcp8cR",
        "colab_type": "code",
        "colab": {}
      },
      "source": [
        "def decontracted(text):\n",
        "    # specific\n",
        "    text = re.sub(r\"won\\'t\", \"will not\", text)\n",
        "    text = re.sub(r\"can\\'t\", \"can not\", text)\n",
        "\n",
        "    # general\n",
        "    text = re.sub(r\"n\\'t\", \" not\", text)\n",
        "    text = re.sub(r\"\\'re\", \" are\", text)\n",
        "    text = re.sub(r\"\\'s\", \" is\", text)\n",
        "    text = re.sub(r\"\\'d\", \" would\", text)\n",
        "    text = re.sub(r\"\\'ll\", \" will\", text)\n",
        "    text = re.sub(r\"\\'t\", \" not\", text)\n",
        "    text = re.sub(r\"\\'ve\", \" have\", text)\n",
        "    text = re.sub(r\"\\'m\", \" am\", text)\n",
        "    return text"
      ],
      "execution_count": 0,
      "outputs": []
    },
    {
      "cell_type": "code",
      "metadata": {
        "id": "h5PLjGdIiu7b",
        "colab_type": "code",
        "outputId": "c085fd22-c7f8-4ce6-8832-6976d5c658a1",
        "colab": {
          "base_uri": "https://localhost:8080/",
          "height": 235
        }
      },
      "source": [
        "reviews_df['Reviews']"
      ],
      "execution_count": 17,
      "outputs": [
        {
          "output_type": "execute_result",
          "data": {
            "text/plain": [
              "0      Great job, Wyndham Capital! Each person was pr...\n",
              "1      Matthew Richardson is professional and helpful...\n",
              "2      We had a past experience with Wyndham Mortgage...\n",
              "3      We have been dealing with Brad Thomka from the...\n",
              "4      I can't express how grateful I am for the supp...\n",
              "                             ...                        \n",
              "500    \\r\\nI never write reviews but had to this time...\n",
              "501    \\r\\nIt all started when Bob G ran a credit che...\n",
              "502    \\r\\nWhat a horrible experience. We have excell...\n",
              "503    \\r\\nRep was extremely professional, friendly, ...\n",
              "504    \\r\\nI was working with a loan consultant from ...\n",
              "Name: Reviews, Length: 505, dtype: object"
            ]
          },
          "metadata": {
            "tags": []
          },
          "execution_count": 17
        }
      ]
    },
    {
      "cell_type": "code",
      "metadata": {
        "id": "Zpn3rRhohpkS",
        "colab_type": "code",
        "colab": {}
      },
      "source": [
        "reviews_df['Reviews'] = reviews_df['Reviews'].apply(lambda x:decontracted(x))\n",
        "reviews_df['Reviews'] = reviews_df['Reviews'].apply(lambda x:clean_text(x))"
      ],
      "execution_count": 0,
      "outputs": []
    },
    {
      "cell_type": "code",
      "metadata": {
        "id": "zAvh975Hhpd5",
        "colab_type": "code",
        "outputId": "233ffdcd-420c-4e30-ba4c-d9c491bfd23b",
        "colab": {
          "base_uri": "https://localhost:8080/",
          "height": 235
        }
      },
      "source": [
        "reviews_df['Reviews']"
      ],
      "execution_count": 19,
      "outputs": [
        {
          "output_type": "execute_result",
          "data": {
            "text/plain": [
              "0      great job wyndham capital each person was prof...\n",
              "1      matthew richardson is professional and helpful...\n",
              "2      we had a past experience with wyndham mortgage...\n",
              "3      we have been dealing with brad thomka from the...\n",
              "4      i can not express how grateful i am for the su...\n",
              "                             ...                        \n",
              "500    i never write reviews but had to this time to ...\n",
              "501    it all started when bob g ran a credit check w...\n",
              "502    what a horrible experience we have excellent c...\n",
              "503    rep was extremely professional friendly and he...\n",
              "504    i was working with a loan consultant from nasb...\n",
              "Name: Reviews, Length: 505, dtype: object"
            ]
          },
          "metadata": {
            "tags": []
          },
          "execution_count": 19
        }
      ]
    },
    {
      "cell_type": "markdown",
      "metadata": {
        "id": "8dVB_Kl-uO3X",
        "colab_type": "text"
      },
      "source": [
        "## Removing Stopwords"
      ]
    },
    {
      "cell_type": "code",
      "metadata": {
        "id": "FL4LZTP7hpTl",
        "colab_type": "code",
        "colab": {}
      },
      "source": [
        "stop_words = stopwords.words('english')"
      ],
      "execution_count": 0,
      "outputs": []
    },
    {
      "cell_type": "code",
      "metadata": {
        "id": "i6Jo6EVqhpMo",
        "colab_type": "code",
        "colab": {}
      },
      "source": [
        "def remove_stopwords(text):\n",
        "    words = nltk.word_tokenize(text)\n",
        "    words = [word for word in words if word not in stop_words]\n",
        "    text = ' '.join(words)\n",
        "    return text"
      ],
      "execution_count": 0,
      "outputs": []
    },
    {
      "cell_type": "code",
      "metadata": {
        "id": "q9VDzWychpFm",
        "colab_type": "code",
        "colab": {}
      },
      "source": [
        "reviews_df['Reviews'] = reviews_df['Reviews'].apply(lambda x:remove_stopwords(x))"
      ],
      "execution_count": 0,
      "outputs": []
    },
    {
      "cell_type": "code",
      "metadata": {
        "id": "1hwbkQS7ho-Z",
        "colab_type": "code",
        "outputId": "e7c17129-d697-46b9-b185-b62cd8553f90",
        "colab": {
          "base_uri": "https://localhost:8080/",
          "height": 235
        }
      },
      "source": [
        "reviews_df['Reviews']"
      ],
      "execution_count": 23,
      "outputs": [
        {
          "output_type": "execute_result",
          "data": {
            "text/plain": [
              "0      great job wyndham capital person professional ...\n",
              "1      matthew richardson professional helpful helped...\n",
              "2      past experience wyndham mortgage would without...\n",
              "3      dealing brad thomka beginning started stressfu...\n",
              "4      express grateful support zach provided family ...\n",
              "                             ...                        \n",
              "500    never write reviews time prevent anyone making...\n",
              "501    started bob g ran credit check without knowled...\n",
              "502    horrible experience excellent credit plenty in...\n",
              "503    rep extremely professional friendly helpful fi...\n",
              "504    working loan consultant nasb told would give r...\n",
              "Name: Reviews, Length: 505, dtype: object"
            ]
          },
          "metadata": {
            "tags": []
          },
          "execution_count": 23
        }
      ]
    },
    {
      "cell_type": "markdown",
      "metadata": {
        "id": "lT0XXKfLvDDf",
        "colab_type": "text"
      },
      "source": [
        "## Lemmatization"
      ]
    },
    {
      "cell_type": "code",
      "metadata": {
        "id": "GP2MkHQQvgMn",
        "colab_type": "code",
        "colab": {}
      },
      "source": [
        "from nltk.stem import WordNetLemmatizer\n",
        "lemmatizer = WordNetLemmatizer()"
      ],
      "execution_count": 0,
      "outputs": []
    },
    {
      "cell_type": "code",
      "metadata": {
        "id": "JDH4UtEFkYZc",
        "colab_type": "code",
        "colab": {}
      },
      "source": [
        "def lemmatization(text):\n",
        "    words = nltk.word_tokenize(text)\n",
        "    words = [lemmatizer.lemmatize(word) for word in words]\n",
        "    text = ' '.join(words)\n",
        "    return text"
      ],
      "execution_count": 0,
      "outputs": []
    },
    {
      "cell_type": "code",
      "metadata": {
        "id": "__f6agY7vAD5",
        "colab_type": "code",
        "colab": {}
      },
      "source": [
        "reviews_df['Reviews'] = reviews_df['Reviews'].apply(lambda x:lemmatization(x))"
      ],
      "execution_count": 0,
      "outputs": []
    },
    {
      "cell_type": "code",
      "metadata": {
        "id": "dOzL2H7nu_2p",
        "colab_type": "code",
        "outputId": "8bf9d35d-5238-4b05-f25f-1b095fa26e49",
        "colab": {
          "base_uri": "https://localhost:8080/",
          "height": 235
        }
      },
      "source": [
        "reviews_df['Reviews']"
      ],
      "execution_count": 27,
      "outputs": [
        {
          "output_type": "execute_result",
          "data": {
            "text/plain": [
              "0      great job wyndham capital person professional ...\n",
              "1      matthew richardson professional helpful helped...\n",
              "2      past experience wyndham mortgage would without...\n",
              "3      dealing brad thomka beginning started stressfu...\n",
              "4      express grateful support zach provided family ...\n",
              "                             ...                        \n",
              "500    never write review time prevent anyone making ...\n",
              "501    started bob g ran credit check without knowled...\n",
              "502    horrible experience excellent credit plenty in...\n",
              "503    rep extremely professional friendly helpful fi...\n",
              "504    working loan consultant nasb told would give r...\n",
              "Name: Reviews, Length: 505, dtype: object"
            ]
          },
          "metadata": {
            "tags": []
          },
          "execution_count": 27
        }
      ]
    },
    {
      "cell_type": "markdown",
      "metadata": {
        "id": "02Ci3NCxxMFh",
        "colab_type": "text"
      },
      "source": [
        "#2. Key positive words/negative words (most frequent words)"
      ]
    },
    {
      "cell_type": "code",
      "metadata": {
        "id": "ZKdvvsmlw_hM",
        "colab_type": "code",
        "colab": {
          "base_uri": "https://localhost:8080/",
          "height": 235
        },
        "outputId": "8b2706f5-359a-4e4f-b22c-9c19db2c2828"
      },
      "source": [
        "reviews_df['Reviews']"
      ],
      "execution_count": 28,
      "outputs": [
        {
          "output_type": "execute_result",
          "data": {
            "text/plain": [
              "0      great job wyndham capital person professional ...\n",
              "1      matthew richardson professional helpful helped...\n",
              "2      past experience wyndham mortgage would without...\n",
              "3      dealing brad thomka beginning started stressfu...\n",
              "4      express grateful support zach provided family ...\n",
              "                             ...                        \n",
              "500    never write review time prevent anyone making ...\n",
              "501    started bob g ran credit check without knowled...\n",
              "502    horrible experience excellent credit plenty in...\n",
              "503    rep extremely professional friendly helpful fi...\n",
              "504    working loan consultant nasb told would give r...\n",
              "Name: Reviews, Length: 505, dtype: object"
            ]
          },
          "metadata": {
            "tags": []
          },
          "execution_count": 28
        }
      ]
    },
    {
      "cell_type": "code",
      "metadata": {
        "id": "ia93CYi4w_Y4",
        "colab_type": "code",
        "colab": {}
      },
      "source": [
        "# Creating the BOW model\n",
        "from sklearn.feature_extraction.text import CountVectorizer\n",
        "bow_vectorizer = CountVectorizer(max_features = 2000, min_df = 3, max_df = 0.6, stop_words = stopwords.words('english'))\n",
        "reviews_bow = bow_vectorizer.fit_transform(reviews_df['Reviews'])"
      ],
      "execution_count": 0,
      "outputs": []
    },
    {
      "cell_type": "code",
      "metadata": {
        "id": "Pt4dU1Uhw_Qv",
        "colab_type": "code",
        "outputId": "3cdeb6b9-ae11-468f-f0b5-8af14419c63e",
        "colab": {
          "base_uri": "https://localhost:8080/",
          "height": 35
        }
      },
      "source": [
        "reviews_bow.shape"
      ],
      "execution_count": 30,
      "outputs": [
        {
          "output_type": "execute_result",
          "data": {
            "text/plain": [
              "(505, 1168)"
            ]
          },
          "metadata": {
            "tags": []
          },
          "execution_count": 30
        }
      ]
    },
    {
      "cell_type": "code",
      "metadata": {
        "id": "T-XcfYMpw_Ad",
        "colab_type": "code",
        "outputId": "ce7342b4-c406-4b89-e449-3f6a77583925",
        "colab": {
          "base_uri": "https://localhost:8080/",
          "height": 407
        }
      },
      "source": [
        "# creating a dataframe which shows the count of how many times a word is coming in the dataset\n",
        "count_df = pd.DataFrame(np.sum(reviews_bow.toarray(),axis=0), bow_vectorizer.get_feature_names()).reset_index()\n",
        "count_df.columns =['Word','Count']\n",
        "count_df"
      ],
      "execution_count": 31,
      "outputs": [
        {
          "output_type": "execute_result",
          "data": {
            "text/html": [
              "<div>\n",
              "<style scoped>\n",
              "    .dataframe tbody tr th:only-of-type {\n",
              "        vertical-align: middle;\n",
              "    }\n",
              "\n",
              "    .dataframe tbody tr th {\n",
              "        vertical-align: top;\n",
              "    }\n",
              "\n",
              "    .dataframe thead th {\n",
              "        text-align: right;\n",
              "    }\n",
              "</style>\n",
              "<table border=\"1\" class=\"dataframe\">\n",
              "  <thead>\n",
              "    <tr style=\"text-align: right;\">\n",
              "      <th></th>\n",
              "      <th>Word</th>\n",
              "      <th>Count</th>\n",
              "    </tr>\n",
              "  </thead>\n",
              "  <tbody>\n",
              "    <tr>\n",
              "      <th>0</th>\n",
              "      <td>aaron</td>\n",
              "      <td>23</td>\n",
              "    </tr>\n",
              "    <tr>\n",
              "      <th>1</th>\n",
              "      <td>ability</td>\n",
              "      <td>5</td>\n",
              "    </tr>\n",
              "    <tr>\n",
              "      <th>2</th>\n",
              "      <td>able</td>\n",
              "      <td>47</td>\n",
              "    </tr>\n",
              "    <tr>\n",
              "      <th>3</th>\n",
              "      <td>absolutely</td>\n",
              "      <td>13</td>\n",
              "    </tr>\n",
              "    <tr>\n",
              "      <th>4</th>\n",
              "      <td>accept</td>\n",
              "      <td>6</td>\n",
              "    </tr>\n",
              "    <tr>\n",
              "      <th>...</th>\n",
              "      <td>...</td>\n",
              "      <td>...</td>\n",
              "    </tr>\n",
              "    <tr>\n",
              "      <th>1163</th>\n",
              "      <td>wrong</td>\n",
              "      <td>7</td>\n",
              "    </tr>\n",
              "    <tr>\n",
              "      <th>1164</th>\n",
              "      <td>wyndham</td>\n",
              "      <td>16</td>\n",
              "    </tr>\n",
              "    <tr>\n",
              "      <th>1165</th>\n",
              "      <td>year</td>\n",
              "      <td>59</td>\n",
              "    </tr>\n",
              "    <tr>\n",
              "      <th>1166</th>\n",
              "      <td>yes</td>\n",
              "      <td>3</td>\n",
              "    </tr>\n",
              "    <tr>\n",
              "      <th>1167</th>\n",
              "      <td>yet</td>\n",
              "      <td>11</td>\n",
              "    </tr>\n",
              "  </tbody>\n",
              "</table>\n",
              "<p>1168 rows × 2 columns</p>\n",
              "</div>"
            ],
            "text/plain": [
              "            Word  Count\n",
              "0          aaron     23\n",
              "1        ability      5\n",
              "2           able     47\n",
              "3     absolutely     13\n",
              "4         accept      6\n",
              "...          ...    ...\n",
              "1163       wrong      7\n",
              "1164     wyndham     16\n",
              "1165        year     59\n",
              "1166         yes      3\n",
              "1167         yet     11\n",
              "\n",
              "[1168 rows x 2 columns]"
            ]
          },
          "metadata": {
            "tags": []
          },
          "execution_count": 31
        }
      ]
    },
    {
      "cell_type": "markdown",
      "metadata": {
        "id": "fsZm0h1GCItC",
        "colab_type": "text"
      },
      "source": [
        "Using vaderSentiment to analyze sentiment of the text"
      ]
    },
    {
      "cell_type": "code",
      "metadata": {
        "id": "0fdxTdGcCWEO",
        "colab_type": "code",
        "colab": {}
      },
      "source": [
        "!pip install -q vaderSentiment"
      ],
      "execution_count": 0,
      "outputs": []
    },
    {
      "cell_type": "code",
      "metadata": {
        "id": "5zvWZch9CZE1",
        "colab_type": "code",
        "colab": {}
      },
      "source": [
        "from vaderSentiment.vaderSentiment import SentimentIntensityAnalyzer"
      ],
      "execution_count": 0,
      "outputs": []
    },
    {
      "cell_type": "code",
      "metadata": {
        "id": "Y8Kjhq8e2SNP",
        "colab_type": "code",
        "colab": {}
      },
      "source": [
        "# function that returns sentiment value\n",
        "def vader_sentiment_value(sentence): \n",
        "    vader_analysis = SentimentIntensityAnalyzer() \n",
        "    # polarity_scores method of SentimentIntensityAnalyzer oject gives a sentiment dictionary. \n",
        "    # which contains positive, negative, neutral, and compound scores. \n",
        "    sentiment_dict = vader_analysis.polarity_scores(sentence)\n",
        "    # decide sentiment as positive, negative and neutral \n",
        "    if sentiment_dict['compound'] >= 0.05 : \n",
        "        return \"Positive\"\n",
        "    elif sentiment_dict['compound'] <= -0.05 : \n",
        "        return \"Negative\"\n",
        "    else : \n",
        "        return \"Neutral\""
      ],
      "execution_count": 0,
      "outputs": []
    },
    {
      "cell_type": "code",
      "metadata": {
        "id": "6Rx5iW81w-24",
        "colab_type": "code",
        "colab": {}
      },
      "source": [
        "#adding sentiment column which shows sentiment polarity of each word\n",
        "sentiment_word = []\n",
        "for word in count_df['Word']:\n",
        "    sentiment_word.append(vader_sentiment_value(word))\n",
        "count_df['Sentiment'] = sentiment_word"
      ],
      "execution_count": 0,
      "outputs": []
    },
    {
      "cell_type": "code",
      "metadata": {
        "id": "3kSuVN70w-uQ",
        "colab_type": "code",
        "outputId": "24f4b993-0c31-4c67-855f-bde4218be988",
        "colab": {
          "base_uri": "https://localhost:8080/",
          "height": 407
        }
      },
      "source": [
        "count_df"
      ],
      "execution_count": 37,
      "outputs": [
        {
          "output_type": "execute_result",
          "data": {
            "text/html": [
              "<div>\n",
              "<style scoped>\n",
              "    .dataframe tbody tr th:only-of-type {\n",
              "        vertical-align: middle;\n",
              "    }\n",
              "\n",
              "    .dataframe tbody tr th {\n",
              "        vertical-align: top;\n",
              "    }\n",
              "\n",
              "    .dataframe thead th {\n",
              "        text-align: right;\n",
              "    }\n",
              "</style>\n",
              "<table border=\"1\" class=\"dataframe\">\n",
              "  <thead>\n",
              "    <tr style=\"text-align: right;\">\n",
              "      <th></th>\n",
              "      <th>Word</th>\n",
              "      <th>Count</th>\n",
              "      <th>Sentiment</th>\n",
              "    </tr>\n",
              "  </thead>\n",
              "  <tbody>\n",
              "    <tr>\n",
              "      <th>0</th>\n",
              "      <td>aaron</td>\n",
              "      <td>23</td>\n",
              "      <td>Neutral</td>\n",
              "    </tr>\n",
              "    <tr>\n",
              "      <th>1</th>\n",
              "      <td>ability</td>\n",
              "      <td>5</td>\n",
              "      <td>Positive</td>\n",
              "    </tr>\n",
              "    <tr>\n",
              "      <th>2</th>\n",
              "      <td>able</td>\n",
              "      <td>47</td>\n",
              "      <td>Neutral</td>\n",
              "    </tr>\n",
              "    <tr>\n",
              "      <th>3</th>\n",
              "      <td>absolutely</td>\n",
              "      <td>13</td>\n",
              "      <td>Neutral</td>\n",
              "    </tr>\n",
              "    <tr>\n",
              "      <th>4</th>\n",
              "      <td>accept</td>\n",
              "      <td>6</td>\n",
              "      <td>Positive</td>\n",
              "    </tr>\n",
              "    <tr>\n",
              "      <th>...</th>\n",
              "      <td>...</td>\n",
              "      <td>...</td>\n",
              "      <td>...</td>\n",
              "    </tr>\n",
              "    <tr>\n",
              "      <th>1163</th>\n",
              "      <td>wrong</td>\n",
              "      <td>7</td>\n",
              "      <td>Negative</td>\n",
              "    </tr>\n",
              "    <tr>\n",
              "      <th>1164</th>\n",
              "      <td>wyndham</td>\n",
              "      <td>16</td>\n",
              "      <td>Neutral</td>\n",
              "    </tr>\n",
              "    <tr>\n",
              "      <th>1165</th>\n",
              "      <td>year</td>\n",
              "      <td>59</td>\n",
              "      <td>Neutral</td>\n",
              "    </tr>\n",
              "    <tr>\n",
              "      <th>1166</th>\n",
              "      <td>yes</td>\n",
              "      <td>3</td>\n",
              "      <td>Positive</td>\n",
              "    </tr>\n",
              "    <tr>\n",
              "      <th>1167</th>\n",
              "      <td>yet</td>\n",
              "      <td>11</td>\n",
              "      <td>Neutral</td>\n",
              "    </tr>\n",
              "  </tbody>\n",
              "</table>\n",
              "<p>1168 rows × 3 columns</p>\n",
              "</div>"
            ],
            "text/plain": [
              "            Word  Count Sentiment\n",
              "0          aaron     23   Neutral\n",
              "1        ability      5  Positive\n",
              "2           able     47   Neutral\n",
              "3     absolutely     13   Neutral\n",
              "4         accept      6  Positive\n",
              "...          ...    ...       ...\n",
              "1163       wrong      7  Negative\n",
              "1164     wyndham     16   Neutral\n",
              "1165        year     59   Neutral\n",
              "1166         yes      3  Positive\n",
              "1167         yet     11   Neutral\n",
              "\n",
              "[1168 rows x 3 columns]"
            ]
          },
          "metadata": {
            "tags": []
          },
          "execution_count": 37
        }
      ]
    },
    {
      "cell_type": "markdown",
      "metadata": {
        "id": "r-4cgIL27xo8",
        "colab_type": "text"
      },
      "source": [
        "### Key Positive Words"
      ]
    },
    {
      "cell_type": "code",
      "metadata": {
        "id": "gWskiAR3w-ir",
        "colab_type": "code",
        "outputId": "23d008fd-721f-4840-bf31-d9b435877c97",
        "colab": {
          "base_uri": "https://localhost:8080/",
          "height": 407
        }
      },
      "source": [
        "# separating positive words\n",
        "positive_words_df = count_df[count_df['Sentiment']=='Positive'].sort_values('Count',ascending=False)\n",
        "positive_words_df"
      ],
      "execution_count": 38,
      "outputs": [
        {
          "output_type": "execute_result",
          "data": {
            "text/html": [
              "<div>\n",
              "<style scoped>\n",
              "    .dataframe tbody tr th:only-of-type {\n",
              "        vertical-align: middle;\n",
              "    }\n",
              "\n",
              "    .dataframe tbody tr th {\n",
              "        vertical-align: top;\n",
              "    }\n",
              "\n",
              "    .dataframe thead th {\n",
              "        text-align: right;\n",
              "    }\n",
              "</style>\n",
              "<table border=\"1\" class=\"dataframe\">\n",
              "  <thead>\n",
              "    <tr style=\"text-align: right;\">\n",
              "      <th></th>\n",
              "      <th>Word</th>\n",
              "      <th>Count</th>\n",
              "      <th>Sentiment</th>\n",
              "    </tr>\n",
              "  </thead>\n",
              "  <tbody>\n",
              "    <tr>\n",
              "      <th>831</th>\n",
              "      <td>recommend</td>\n",
              "      <td>156</td>\n",
              "      <td>Positive</td>\n",
              "    </tr>\n",
              "    <tr>\n",
              "      <th>452</th>\n",
              "      <td>great</td>\n",
              "      <td>139</td>\n",
              "      <td>Positive</td>\n",
              "    </tr>\n",
              "    <tr>\n",
              "      <th>109</th>\n",
              "      <td>best</td>\n",
              "      <td>99</td>\n",
              "      <td>Positive</td>\n",
              "    </tr>\n",
              "    <tr>\n",
              "      <th>321</th>\n",
              "      <td>easy</td>\n",
              "      <td>65</td>\n",
              "      <td>Positive</td>\n",
              "    </tr>\n",
              "    <tr>\n",
              "      <th>1037</th>\n",
              "      <td>thanks</td>\n",
              "      <td>61</td>\n",
              "      <td>Positive</td>\n",
              "    </tr>\n",
              "    <tr>\n",
              "      <th>...</th>\n",
              "      <td>...</td>\n",
              "      <td>...</td>\n",
              "      <td>...</td>\n",
              "    </tr>\n",
              "    <tr>\n",
              "      <th>217</th>\n",
              "      <td>congratulation</td>\n",
              "      <td>3</td>\n",
              "      <td>Positive</td>\n",
              "    </tr>\n",
              "    <tr>\n",
              "      <th>378</th>\n",
              "      <td>fair</td>\n",
              "      <td>3</td>\n",
              "      <td>Positive</td>\n",
              "    </tr>\n",
              "    <tr>\n",
              "      <th>441</th>\n",
              "      <td>glad</td>\n",
              "      <td>3</td>\n",
              "      <td>Positive</td>\n",
              "    </tr>\n",
              "    <tr>\n",
              "      <th>828</th>\n",
              "      <td>reassured</td>\n",
              "      <td>3</td>\n",
              "      <td>Positive</td>\n",
              "    </tr>\n",
              "    <tr>\n",
              "      <th>1166</th>\n",
              "      <td>yes</td>\n",
              "      <td>3</td>\n",
              "      <td>Positive</td>\n",
              "    </tr>\n",
              "  </tbody>\n",
              "</table>\n",
              "<p>158 rows × 3 columns</p>\n",
              "</div>"
            ],
            "text/plain": [
              "                Word  Count Sentiment\n",
              "831        recommend    156  Positive\n",
              "452            great    139  Positive\n",
              "109             best     99  Positive\n",
              "321             easy     65  Positive\n",
              "1037          thanks     61  Positive\n",
              "...              ...    ...       ...\n",
              "217   congratulation      3  Positive\n",
              "378             fair      3  Positive\n",
              "441             glad      3  Positive\n",
              "828        reassured      3  Positive\n",
              "1166             yes      3  Positive\n",
              "\n",
              "[158 rows x 3 columns]"
            ]
          },
          "metadata": {
            "tags": []
          },
          "execution_count": 38
        }
      ]
    },
    {
      "cell_type": "code",
      "metadata": {
        "id": "sFaPsYjSw-WA",
        "colab_type": "code",
        "outputId": "1ddbcaa0-77da-47d4-8d1e-edc33c7d824b",
        "colab": {
          "base_uri": "https://localhost:8080/",
          "height": 319
        }
      },
      "source": [
        "# plotting word cloud for most frequently used positive words\n",
        "wordcloud = WordCloud(width = 1000, height = 500).generate(' '.join(positive_words_df['Word']))\n",
        "# plot the WordCloud image                        \n",
        "plt.figure(figsize = (8, 8), facecolor = None) \n",
        "plt.imshow(wordcloud) \n",
        "plt.axis(\"off\") \n",
        "plt.tight_layout(pad = 0) \n",
        "  \n",
        "plt.show()"
      ],
      "execution_count": 39,
      "outputs": [
        {
          "output_type": "display_data",
          "data": {
            "image/png": "[encoded data removed]",
            "text/plain": [
              "<Figure size 576x576 with 1 Axes>"
            ]
          },
          "metadata": {
            "tags": [],
            "needs_background": "light"
          }
        }
      ]
    },
    {
      "cell_type": "markdown",
      "metadata": {
        "id": "t0l0bVcG88O-",
        "colab_type": "text"
      },
      "source": [
        "### Key Negative Words"
      ]
    },
    {
      "cell_type": "code",
      "metadata": {
        "id": "9mX0VX36w984",
        "colab_type": "code",
        "outputId": "6732535a-373e-4d98-a3d0-cfe5a5f5f7b5",
        "colab": {
          "base_uri": "https://localhost:8080/",
          "height": 407
        }
      },
      "source": [
        "# separating negative words\n",
        "negative_words_df = count_df[count_df['Sentiment']=='Negative'].sort_values('Count',ascending=False)\n",
        "negative_words_df"
      ],
      "execution_count": 40,
      "outputs": [
        {
          "output_type": "execute_result",
          "data": {
            "text/html": [
              "<div>\n",
              "<style scoped>\n",
              "    .dataframe tbody tr th:only-of-type {\n",
              "        vertical-align: middle;\n",
              "    }\n",
              "\n",
              "    .dataframe tbody tr th {\n",
              "        vertical-align: top;\n",
              "    }\n",
              "\n",
              "    .dataframe thead th {\n",
              "        text-align: right;\n",
              "    }\n",
              "</style>\n",
              "<table border=\"1\" class=\"dataframe\">\n",
              "  <thead>\n",
              "    <tr style=\"text-align: right;\">\n",
              "      <th></th>\n",
              "      <th>Word</th>\n",
              "      <th>Count</th>\n",
              "      <th>Sentiment</th>\n",
              "    </tr>\n",
              "  </thead>\n",
              "  <tbody>\n",
              "    <tr>\n",
              "      <th>467</th>\n",
              "      <td>hard</td>\n",
              "      <td>40</td>\n",
              "      <td>Negative</td>\n",
              "    </tr>\n",
              "    <tr>\n",
              "      <th>780</th>\n",
              "      <td>problem</td>\n",
              "      <td>34</td>\n",
              "      <td>Negative</td>\n",
              "    </tr>\n",
              "    <tr>\n",
              "      <th>761</th>\n",
              "      <td>poor</td>\n",
              "      <td>32</td>\n",
              "      <td>Negative</td>\n",
              "    </tr>\n",
              "    <tr>\n",
              "      <th>731</th>\n",
              "      <td>pay</td>\n",
              "      <td>25</td>\n",
              "      <td>Negative</td>\n",
              "    </tr>\n",
              "    <tr>\n",
              "      <th>998</th>\n",
              "      <td>stressful</td>\n",
              "      <td>24</td>\n",
              "      <td>Negative</td>\n",
              "    </tr>\n",
              "    <tr>\n",
              "      <th>...</th>\n",
              "      <td>...</td>\n",
              "      <td>...</td>\n",
              "      <td>...</td>\n",
              "    </tr>\n",
              "    <tr>\n",
              "      <th>603</th>\n",
              "      <td>lost</td>\n",
              "      <td>3</td>\n",
              "      <td>Negative</td>\n",
              "    </tr>\n",
              "    <tr>\n",
              "      <th>295</th>\n",
              "      <td>disaster</td>\n",
              "      <td>3</td>\n",
              "      <td>Negative</td>\n",
              "    </tr>\n",
              "    <tr>\n",
              "      <th>666</th>\n",
              "      <td>nervous</td>\n",
              "      <td>3</td>\n",
              "      <td>Negative</td>\n",
              "    </tr>\n",
              "    <tr>\n",
              "      <th>293</th>\n",
              "      <td>disappeared</td>\n",
              "      <td>3</td>\n",
              "      <td>Negative</td>\n",
              "    </tr>\n",
              "    <tr>\n",
              "      <th>310</th>\n",
              "      <td>dread</td>\n",
              "      <td>3</td>\n",
              "      <td>Negative</td>\n",
              "    </tr>\n",
              "  </tbody>\n",
              "</table>\n",
              "<p>68 rows × 3 columns</p>\n",
              "</div>"
            ],
            "text/plain": [
              "            Word  Count Sentiment\n",
              "467         hard     40  Negative\n",
              "780      problem     34  Negative\n",
              "761         poor     32  Negative\n",
              "731          pay     25  Negative\n",
              "998    stressful     24  Negative\n",
              "..           ...    ...       ...\n",
              "603         lost      3  Negative\n",
              "295     disaster      3  Negative\n",
              "666      nervous      3  Negative\n",
              "293  disappeared      3  Negative\n",
              "310        dread      3  Negative\n",
              "\n",
              "[68 rows x 3 columns]"
            ]
          },
          "metadata": {
            "tags": []
          },
          "execution_count": 40
        }
      ]
    },
    {
      "cell_type": "code",
      "metadata": {
        "id": "Ef_rfRXp8kCu",
        "colab_type": "code",
        "outputId": "6439c45a-1128-4b09-cdfb-79282c0a4bf8",
        "colab": {
          "base_uri": "https://localhost:8080/",
          "height": 319
        }
      },
      "source": [
        "# plotting word cloud for most frequently used negative words\n",
        "wordcloud = WordCloud(width = 1000, height = 500).generate(' '.join(negative_words_df['Word']))\n",
        "# plot the WordCloud image                        \n",
        "plt.figure(figsize = (8, 8), facecolor = None) \n",
        "plt.imshow(wordcloud) \n",
        "plt.axis(\"off\") \n",
        "plt.tight_layout(pad = 0) \n",
        "  \n",
        "plt.show()"
      ],
      "execution_count": 41,
      "outputs": [
        {
          "output_type": "display_data",
          "data": {
            "image/png": "[encoded data removed]",
            "text/plain": [
              "<Figure size 576x576 with 1 Axes>"
            ]
          },
          "metadata": {
            "tags": [],
            "needs_background": "light"
          }
        }
      ]
    },
    {
      "cell_type": "markdown",
      "metadata": {
        "id": "Xl2pB4Qs9KlL",
        "colab_type": "text"
      },
      "source": [
        "#3. Classification of reviews into positive, negative and neutral"
      ]
    },
    {
      "cell_type": "code",
      "metadata": {
        "id": "arYG3l4H8xek",
        "colab_type": "code",
        "colab": {}
      },
      "source": [
        "sentiment_df = reviews_df[reviews_df.columns]"
      ],
      "execution_count": 0,
      "outputs": []
    },
    {
      "cell_type": "code",
      "metadata": {
        "id": "NJwwQO6OCs_N",
        "colab_type": "code",
        "colab": {}
      },
      "source": [
        "sentiment_df['Sentiment'] = sentiment_df['Reviews'].apply(lambda x: vader_sentiment_value(x))"
      ],
      "execution_count": 0,
      "outputs": []
    },
    {
      "cell_type": "markdown",
      "metadata": {
        "id": "ELL02q0vCet-",
        "colab_type": "text"
      },
      "source": [
        "Positive Reviews"
      ]
    },
    {
      "cell_type": "code",
      "metadata": {
        "id": "MYUh_KJL9wDZ",
        "colab_type": "code",
        "outputId": "27273e7e-db36-4a48-f493-3eb68d14f002",
        "colab": {
          "base_uri": "https://localhost:8080/",
          "height": 348
        }
      },
      "source": [
        "reviews_df_bkp[sentiment_df['Sentiment']=='Positive'].head(10)"
      ],
      "execution_count": 47,
      "outputs": [
        {
          "output_type": "execute_result",
          "data": {
            "text/html": [
              "<div>\n",
              "<style scoped>\n",
              "    .dataframe tbody tr th:only-of-type {\n",
              "        vertical-align: middle;\n",
              "    }\n",
              "\n",
              "    .dataframe tbody tr th {\n",
              "        vertical-align: top;\n",
              "    }\n",
              "\n",
              "    .dataframe thead th {\n",
              "        text-align: right;\n",
              "    }\n",
              "</style>\n",
              "<table border=\"1\" class=\"dataframe\">\n",
              "  <thead>\n",
              "    <tr style=\"text-align: right;\">\n",
              "      <th></th>\n",
              "      <th>Stars</th>\n",
              "      <th>Reviews</th>\n",
              "    </tr>\n",
              "  </thead>\n",
              "  <tbody>\n",
              "    <tr>\n",
              "      <th>0</th>\n",
              "      <td>5</td>\n",
              "      <td>Great job, Wyndham Capital! Each person was pr...</td>\n",
              "    </tr>\n",
              "    <tr>\n",
              "      <th>1</th>\n",
              "      <td>5</td>\n",
              "      <td>Matthew Richardson is professional and helpful...</td>\n",
              "    </tr>\n",
              "    <tr>\n",
              "      <th>2</th>\n",
              "      <td>5</td>\n",
              "      <td>We had a past experience with Wyndham Mortgage...</td>\n",
              "    </tr>\n",
              "    <tr>\n",
              "      <th>3</th>\n",
              "      <td>5</td>\n",
              "      <td>We have been dealing with Brad Thomka from the...</td>\n",
              "    </tr>\n",
              "    <tr>\n",
              "      <th>4</th>\n",
              "      <td>5</td>\n",
              "      <td>I can't express how grateful I am for the supp...</td>\n",
              "    </tr>\n",
              "    <tr>\n",
              "      <th>5</th>\n",
              "      <td>5</td>\n",
              "      <td>I had the pleasure of working with Wyndham Cap...</td>\n",
              "    </tr>\n",
              "    <tr>\n",
              "      <th>6</th>\n",
              "      <td>5</td>\n",
              "      <td>My experience with Mattison was beyond greatly...</td>\n",
              "    </tr>\n",
              "    <tr>\n",
              "      <th>7</th>\n",
              "      <td>5</td>\n",
              "      <td>Patrick answered all my questions by email imm...</td>\n",
              "    </tr>\n",
              "    <tr>\n",
              "      <th>8</th>\n",
              "      <td>5</td>\n",
              "      <td>I loved working with this group of people! The...</td>\n",
              "    </tr>\n",
              "    <tr>\n",
              "      <th>9</th>\n",
              "      <td>5</td>\n",
              "      <td>Great web interface for both the loan applicat...</td>\n",
              "    </tr>\n",
              "  </tbody>\n",
              "</table>\n",
              "</div>"
            ],
            "text/plain": [
              "   Stars                                            Reviews\n",
              "0      5  Great job, Wyndham Capital! Each person was pr...\n",
              "1      5  Matthew Richardson is professional and helpful...\n",
              "2      5  We had a past experience with Wyndham Mortgage...\n",
              "3      5  We have been dealing with Brad Thomka from the...\n",
              "4      5  I can't express how grateful I am for the supp...\n",
              "5      5  I had the pleasure of working with Wyndham Cap...\n",
              "6      5  My experience with Mattison was beyond greatly...\n",
              "7      5  Patrick answered all my questions by email imm...\n",
              "8      5  I loved working with this group of people! The...\n",
              "9      5  Great web interface for both the loan applicat..."
            ]
          },
          "metadata": {
            "tags": []
          },
          "execution_count": 47
        }
      ]
    },
    {
      "cell_type": "markdown",
      "metadata": {
        "colab_type": "text",
        "id": "VIYKT6tbC1oh"
      },
      "source": [
        "Negative Reviews"
      ]
    },
    {
      "cell_type": "code",
      "metadata": {
        "colab_type": "code",
        "outputId": "54126850-f8e8-4a0f-e122-88b51ab81e2d",
        "id": "qI7sYMvGC1oj",
        "colab": {
          "base_uri": "https://localhost:8080/",
          "height": 348
        }
      },
      "source": [
        "reviews_df_bkp[sentiment_df['Sentiment']=='Negative'].head(10)"
      ],
      "execution_count": 48,
      "outputs": [
        {
          "output_type": "execute_result",
          "data": {
            "text/html": [
              "<div>\n",
              "<style scoped>\n",
              "    .dataframe tbody tr th:only-of-type {\n",
              "        vertical-align: middle;\n",
              "    }\n",
              "\n",
              "    .dataframe tbody tr th {\n",
              "        vertical-align: top;\n",
              "    }\n",
              "\n",
              "    .dataframe thead th {\n",
              "        text-align: right;\n",
              "    }\n",
              "</style>\n",
              "<table border=\"1\" class=\"dataframe\">\n",
              "  <thead>\n",
              "    <tr style=\"text-align: right;\">\n",
              "      <th></th>\n",
              "      <th>Stars</th>\n",
              "      <th>Reviews</th>\n",
              "    </tr>\n",
              "  </thead>\n",
              "  <tbody>\n",
              "    <tr>\n",
              "      <th>17</th>\n",
              "      <td>1</td>\n",
              "      <td>This was the worst experience ever. It was lik...</td>\n",
              "    </tr>\n",
              "    <tr>\n",
              "      <th>36</th>\n",
              "      <td>5</td>\n",
              "      <td>Rob was very helpful in getting this loan clos...</td>\n",
              "    </tr>\n",
              "    <tr>\n",
              "      <th>39</th>\n",
              "      <td>1</td>\n",
              "      <td>The closing process for a VA loan went smoothl...</td>\n",
              "    </tr>\n",
              "    <tr>\n",
              "      <th>40</th>\n",
              "      <td>1</td>\n",
              "      <td>Miserable experience. They screwed up everythi...</td>\n",
              "    </tr>\n",
              "    <tr>\n",
              "      <th>44</th>\n",
              "      <td>1</td>\n",
              "      <td>This Lender contacted my previous phone number...</td>\n",
              "    </tr>\n",
              "    <tr>\n",
              "      <th>91</th>\n",
              "      <td>1</td>\n",
              "      <td>\\r\\nThe team was not aware of some critical in...</td>\n",
              "    </tr>\n",
              "    <tr>\n",
              "      <th>93</th>\n",
              "      <td>1</td>\n",
              "      <td>\\r\\nIf you use Reliance First Capitol...DO NOT...</td>\n",
              "    </tr>\n",
              "    <tr>\n",
              "      <th>96</th>\n",
              "      <td>1</td>\n",
              "      <td>\\r\\nThe experience with Reliance was extremely...</td>\n",
              "    </tr>\n",
              "    <tr>\n",
              "      <th>97</th>\n",
              "      <td>1</td>\n",
              "      <td>\\r\\nPerson with whom I spoke kept interrupting...</td>\n",
              "    </tr>\n",
              "    <tr>\n",
              "      <th>100</th>\n",
              "      <td>1</td>\n",
              "      <td>\\r\\n Lisa Podorson has set my closing date thr...</td>\n",
              "    </tr>\n",
              "  </tbody>\n",
              "</table>\n",
              "</div>"
            ],
            "text/plain": [
              "     Stars                                            Reviews\n",
              "17       1  This was the worst experience ever. It was lik...\n",
              "36       5  Rob was very helpful in getting this loan clos...\n",
              "39       1  The closing process for a VA loan went smoothl...\n",
              "40       1  Miserable experience. They screwed up everythi...\n",
              "44       1  This Lender contacted my previous phone number...\n",
              "91       1  \\r\\nThe team was not aware of some critical in...\n",
              "93       1  \\r\\nIf you use Reliance First Capitol...DO NOT...\n",
              "96       1  \\r\\nThe experience with Reliance was extremely...\n",
              "97       1  \\r\\nPerson with whom I spoke kept interrupting...\n",
              "100      1  \\r\\n Lisa Podorson has set my closing date thr..."
            ]
          },
          "metadata": {
            "tags": []
          },
          "execution_count": 48
        }
      ]
    },
    {
      "cell_type": "markdown",
      "metadata": {
        "colab_type": "text",
        "id": "71r72_IHDeup"
      },
      "source": [
        "Neutral Reviews"
      ]
    },
    {
      "cell_type": "code",
      "metadata": {
        "colab_type": "code",
        "outputId": "bb9e97bc-0cf6-473f-8f86-55cbcefcb9e2",
        "id": "sp_KfwgODeus",
        "colab": {
          "base_uri": "https://localhost:8080/",
          "height": 348
        }
      },
      "source": [
        "reviews_df_bkp[sentiment_df['Sentiment']=='Neutral'].head(10)"
      ],
      "execution_count": 49,
      "outputs": [
        {
          "output_type": "execute_result",
          "data": {
            "text/html": [
              "<div>\n",
              "<style scoped>\n",
              "    .dataframe tbody tr th:only-of-type {\n",
              "        vertical-align: middle;\n",
              "    }\n",
              "\n",
              "    .dataframe tbody tr th {\n",
              "        vertical-align: top;\n",
              "    }\n",
              "\n",
              "    .dataframe thead th {\n",
              "        text-align: right;\n",
              "    }\n",
              "</style>\n",
              "<table border=\"1\" class=\"dataframe\">\n",
              "  <thead>\n",
              "    <tr style=\"text-align: right;\">\n",
              "      <th></th>\n",
              "      <th>Stars</th>\n",
              "      <th>Reviews</th>\n",
              "    </tr>\n",
              "  </thead>\n",
              "  <tbody>\n",
              "    <tr>\n",
              "      <th>41</th>\n",
              "      <td>1</td>\n",
              "      <td>Our loan officer was happy to communicate befo...</td>\n",
              "    </tr>\n",
              "    <tr>\n",
              "      <th>45</th>\n",
              "      <td>1</td>\n",
              "      <td>I never write reviews but had to this time to ...</td>\n",
              "    </tr>\n",
              "    <tr>\n",
              "      <th>57</th>\n",
              "      <td>5</td>\n",
              "      <td>\\r\\nVery receptive\\r\\nThorough\\r\\nQuick to clo...</td>\n",
              "    </tr>\n",
              "    <tr>\n",
              "      <th>92</th>\n",
              "      <td>1</td>\n",
              "      <td>\\r\\nIn response to previous review, Greg Belle...</td>\n",
              "    </tr>\n",
              "    <tr>\n",
              "      <th>132</th>\n",
              "      <td>5</td>\n",
              "      <td>\\r\\nJason straightforward and extremely attent...</td>\n",
              "    </tr>\n",
              "    <tr>\n",
              "      <th>217</th>\n",
              "      <td>5</td>\n",
              "      <td>\\r\\nVery professional and customer oriented.\\r...</td>\n",
              "    </tr>\n",
              "    <tr>\n",
              "      <th>221</th>\n",
              "      <td>1</td>\n",
              "      <td>\\r\\nOur loan officer was happy to communicate ...</td>\n",
              "    </tr>\n",
              "    <tr>\n",
              "      <th>236</th>\n",
              "      <td>1</td>\n",
              "      <td>\\r\\nThe rate re-lock-in rule was not followed....</td>\n",
              "    </tr>\n",
              "    <tr>\n",
              "      <th>369</th>\n",
              "      <td>5</td>\n",
              "      <td>\\r\\nGregory understood my needs and he was abl...</td>\n",
              "    </tr>\n",
              "    <tr>\n",
              "      <th>390</th>\n",
              "      <td>5</td>\n",
              "      <td>\\r\\nMike was the best....always there  for all...</td>\n",
              "    </tr>\n",
              "  </tbody>\n",
              "</table>\n",
              "</div>"
            ],
            "text/plain": [
              "     Stars                                            Reviews\n",
              "41       1  Our loan officer was happy to communicate befo...\n",
              "45       1  I never write reviews but had to this time to ...\n",
              "57       5  \\r\\nVery receptive\\r\\nThorough\\r\\nQuick to clo...\n",
              "92       1  \\r\\nIn response to previous review, Greg Belle...\n",
              "132      5  \\r\\nJason straightforward and extremely attent...\n",
              "217      5  \\r\\nVery professional and customer oriented.\\r...\n",
              "221      1  \\r\\nOur loan officer was happy to communicate ...\n",
              "236      1  \\r\\nThe rate re-lock-in rule was not followed....\n",
              "369      5  \\r\\nGregory understood my needs and he was abl...\n",
              "390      5  \\r\\nMike was the best....always there  for all..."
            ]
          },
          "metadata": {
            "tags": []
          },
          "execution_count": 49
        }
      ]
    },
    {
      "cell_type": "markdown",
      "metadata": {
        "id": "1btiCSdhDyNR",
        "colab_type": "text"
      },
      "source": [
        "#4. Identify key themes of problems"
      ]
    },
    {
      "cell_type": "markdown",
      "metadata": {
        "id": "0wk5DeWY7PQa",
        "colab_type": "text"
      },
      "source": [
        "### Convert to list"
      ]
    },
    {
      "cell_type": "code",
      "metadata": {
        "id": "kds4ht1Q5VZG",
        "colab_type": "code",
        "colab": {
          "base_uri": "https://localhost:8080/",
          "height": 35
        },
        "outputId": "3ebe194d-9a1c-4a2f-f316-609dff0f050b"
      },
      "source": [
        "reviews_data = reviews_df['Reviews'].values.tolist()\n",
        "print(reviews_data[:1])"
      ],
      "execution_count": 50,
      "outputs": [
        {
          "output_type": "stream",
          "text": [
            "['great job wyndham capital person professional helped u move refinance process smoothly thank']\n"
          ],
          "name": "stdout"
        }
      ]
    },
    {
      "cell_type": "markdown",
      "metadata": {
        "id": "3mYVcDOZ7mYu",
        "colab_type": "text"
      },
      "source": [
        "### Break Sentences into Words"
      ]
    },
    {
      "cell_type": "code",
      "metadata": {
        "id": "2ZIcRJWh5rqy",
        "colab_type": "code",
        "colab": {
          "base_uri": "https://localhost:8080/",
          "height": 35
        },
        "outputId": "de5b6e45-2811-48e8-dca9-cd3ff3614aba"
      },
      "source": [
        "def sent_to_words(sentences):\n",
        "    for sentence in sentences:\n",
        "        yield(gensim.utils.simple_preprocess(str(sentence), deacc=True))\n",
        "\n",
        "\n",
        "reviews_data_words = list(sent_to_words(reviews_data))\n",
        "print(reviews_data_words[:1])"
      ],
      "execution_count": 51,
      "outputs": [
        {
          "output_type": "stream",
          "text": [
            "[['great', 'job', 'wyndham', 'capital', 'person', 'professional', 'helped', 'move', 'refinance', 'process', 'smoothly', 'thank']]\n"
          ],
          "name": "stdout"
        }
      ]
    },
    {
      "cell_type": "code",
      "metadata": {
        "id": "iqgH4piwDxQ3",
        "colab_type": "code",
        "colab": {
          "base_uri": "https://localhost:8080/",
          "height": 35
        },
        "outputId": "822b1c1f-754f-4aed-da0a-d263b07037c3"
      },
      "source": [
        "# Create Dictionary\n",
        "id2word = corpora.Dictionary(reviews_data_words)\n",
        "\n",
        "# Create Corpus\n",
        "corpus = [id2word.doc2bow(text) for text in reviews_data_words]\n",
        "\n",
        "# View\n",
        "print(corpus[:1])"
      ],
      "execution_count": 52,
      "outputs": [
        {
          "output_type": "stream",
          "text": [
            "[[(0, 1), (1, 1), (2, 1), (3, 1), (4, 1), (5, 1), (6, 1), (7, 1), (8, 1), (9, 1), (10, 1), (11, 1)]]\n"
          ],
          "name": "stdout"
        }
      ]
    },
    {
      "cell_type": "code",
      "metadata": {
        "id": "asTk60nSC5wl",
        "colab_type": "code",
        "colab": {
          "base_uri": "https://localhost:8080/",
          "height": 235
        },
        "outputId": "b516c11f-988f-4b2d-cd06-6a7d93e4c454"
      },
      "source": [
        "[[(id2word[id], freq) for id, freq in cp] for cp in corpus[:1]]"
      ],
      "execution_count": 53,
      "outputs": [
        {
          "output_type": "execute_result",
          "data": {
            "text/plain": [
              "[[('capital', 1),\n",
              "  ('great', 1),\n",
              "  ('helped', 1),\n",
              "  ('job', 1),\n",
              "  ('move', 1),\n",
              "  ('person', 1),\n",
              "  ('process', 1),\n",
              "  ('professional', 1),\n",
              "  ('refinance', 1),\n",
              "  ('smoothly', 1),\n",
              "  ('thank', 1),\n",
              "  ('wyndham', 1)]]"
            ]
          },
          "metadata": {
            "tags": []
          },
          "execution_count": 53
        }
      ]
    },
    {
      "cell_type": "markdown",
      "metadata": {
        "id": "zQQHq_NSEW4T",
        "colab_type": "text"
      },
      "source": [
        "### Building LDA model"
      ]
    },
    {
      "cell_type": "markdown",
      "metadata": {
        "id": "DnvHHYp5EhjX",
        "colab_type": "text"
      },
      "source": [
        "#### Finding optimum number of topics using coherence values"
      ]
    },
    {
      "cell_type": "code",
      "metadata": {
        "id": "dFdWHT0w-ojD",
        "colab_type": "code",
        "colab": {}
      },
      "source": [
        "def compute_coherence_values(dictionary, corpus, texts, limit, start, step):\n",
        "    \"\"\"\n",
        "    Compute c_v coherence for various number of topics\n",
        "\n",
        "    Parameters:\n",
        "    ----------\n",
        "    dictionary : Gensim dictionary\n",
        "    corpus : Gensim corpus\n",
        "    texts : List of input texts\n",
        "    limit : Max num of topics\n",
        "\n",
        "    Returns:\n",
        "    -------\n",
        "    model_list : List of LDA topic models\n",
        "    coherence_values : Coherence values corresponding to the LDA model with respective number of topics\n",
        "    \"\"\"\n",
        "    coherence_values = []\n",
        "    model_list = []\n",
        "    for num_topics in range(start, limit, step):\n",
        "        model = gensim.models.ldamodel.LdaModel(corpus=corpus,\n",
        "                                           id2word=dictionary,\n",
        "                                           num_topics=num_topics, \n",
        "                                           random_state=100,\n",
        "                                           update_every=1,\n",
        "                                           chunksize=100,\n",
        "                                           passes=10,\n",
        "                                           alpha='auto',\n",
        "                                           per_word_topics=True)\n",
        "        model_list.append(model)\n",
        "        coherencemodel = CoherenceModel(model=model, texts=texts, dictionary=dictionary, coherence='c_v')\n",
        "        coherence_values.append(coherencemodel.get_coherence())\n",
        "\n",
        "    return model_list, coherence_values"
      ],
      "execution_count": 0,
      "outputs": []
    },
    {
      "cell_type": "code",
      "metadata": {
        "id": "DkmMYx6Y-55A",
        "colab_type": "code",
        "colab": {}
      },
      "source": [
        "# Can take a long time to run.\n",
        "model_list, coherence_values = compute_coherence_values(dictionary=id2word, corpus=corpus, texts=reviews_data_words\n",
        "                                                        , start=2, limit=25, step=1)"
      ],
      "execution_count": 0,
      "outputs": []
    },
    {
      "cell_type": "code",
      "metadata": {
        "id": "1z_vc_Qc_BOt",
        "colab_type": "code",
        "colab": {
          "base_uri": "https://localhost:8080/",
          "height": 279
        },
        "outputId": "c624aac2-eb3a-4646-d33d-0d0aa43978a7"
      },
      "source": [
        "start=2; limit=25; step=1;\n",
        "x = range(start, limit, step)\n",
        "plt.plot(x, coherence_values)\n",
        "plt.xlabel(\"Num Topics\")\n",
        "plt.ylabel(\"Coherence score\")\n",
        "plt.legend((\"coherence_values\"), loc='best')\n",
        "plt.show()\n"
      ],
      "execution_count": 56,
      "outputs": [
        {
          "output_type": "display_data",
          "data": {
            "image/png": "[encoded data removed]",
            "text/plain": [
              "<Figure size 432x288 with 1 Axes>"
            ]
          },
          "metadata": {
            "tags": [],
            "needs_background": "light"
          }
        }
      ]
    },
    {
      "cell_type": "markdown",
      "metadata": {
        "id": "mH87XcVdEwdl",
        "colab_type": "text"
      },
      "source": [
        "#### Build LDA model for number of Topics with best coherence score"
      ]
    },
    {
      "cell_type": "code",
      "metadata": {
        "id": "d42s56Y__GtC",
        "colab_type": "code",
        "colab": {}
      },
      "source": [
        "lda_model = gensim.models.ldamodel.LdaModel(corpus=corpus,\n",
        "                                           id2word=id2word,\n",
        "                                           num_topics=9, \n",
        "                                           random_state=100,\n",
        "                                           update_every=1,\n",
        "                                           chunksize=100,\n",
        "                                           passes=10,\n",
        "                                           alpha='auto',\n",
        "                                           per_word_topics=True)"
      ],
      "execution_count": 0,
      "outputs": []
    },
    {
      "cell_type": "code",
      "metadata": {
        "id": "GQTzomiIA-Sy",
        "colab_type": "code",
        "colab": {
          "base_uri": "https://localhost:8080/",
          "height": 654
        },
        "outputId": "c22a7869-08aa-47d1-f0ff-19aa6787f3fa"
      },
      "source": [
        "# Print the Keyword in the 9 topics\n",
        "pprint(lda_model.print_topics())"
      ],
      "execution_count": 58,
      "outputs": [
        {
          "output_type": "stream",
          "text": [
            "[(0,\n",
            "  '0.067*\"email\" + 0.058*\"call\" + 0.030*\"answered\" + 0.029*\"phone\" + '\n",
            "  '0.026*\"find\" + 0.024*\"decided\" + 0.023*\"able\" + 0.023*\"little\" + '\n",
            "  '0.023*\"anything\" + 0.022*\"calling\"'),\n",
            " (1,\n",
            "  '0.048*\"loan\" + 0.029*\"time\" + 0.028*\"officer\" + 0.028*\"would\" + '\n",
            "  '0.021*\"paying\" + 0.021*\"assessment\" + 0.019*\"refinance\" + 0.018*\"company\" + '\n",
            "  '0.017*\"new\" + 0.017*\"money\"'),\n",
            " (2,\n",
            "  '0.032*\"loan\" + 0.029*\"rate\" + 0.022*\"email\" + 0.020*\"closing\" + '\n",
            "  '0.017*\"nasb\" + 0.017*\"lender\" + 0.017*\"cost\" + 0.016*\"read\" + 0.014*\"total\" '\n",
            "  '+ 0.014*\"tax\"'),\n",
            " (3,\n",
            "  '0.034*\"process\" + 0.024*\"home\" + 0.022*\"great\" + 0.022*\"recommend\" + '\n",
            "  '0.021*\"mortgage\" + 0.019*\"loan\" + 0.017*\"question\" + 0.016*\"team\" + '\n",
            "  '0.016*\"service\" + 0.015*\"time\"'),\n",
            " (4,\n",
            "  '0.035*\"ensure\" + 0.034*\"expected\" + 0.033*\"known\" + 0.032*\"became\" + '\n",
            "  '0.029*\"supposed\" + 0.029*\"knew\" + 0.016*\"came\" + 0.013*\"time\" + '\n",
            "  '0.012*\"read\" + 0.009*\"adam\"'),\n",
            " (5,\n",
            "  '0.019*\"dlj\" + 0.015*\"responsive\" + 0.015*\"customer\" + 0.015*\"kirk\" + '\n",
            "  '0.015*\"rate\" + 0.013*\"guaranteed\" + 0.013*\"helpful\" + 0.012*\"financial\" + '\n",
            "  '0.010*\"pacific\" + 0.009*\"adan\"'),\n",
            " (6,\n",
            "  '0.036*\"closing\" + 0.036*\"check\" + 0.034*\"would\" + 0.033*\"doc\" + 0.032*\"day\" '\n",
            "  '+ 0.027*\"could\" + 0.025*\"sent\" + 0.025*\"send\" + 0.024*\"honest\" + '\n",
            "  '0.023*\"bank\"'),\n",
            " (7,\n",
            "  '0.028*\"lender\" + 0.025*\"closing\" + 0.024*\"sure\" + 0.023*\"week\" + '\n",
            "  '0.022*\"nasb\" + 0.019*\"rep\" + 0.016*\"business\" + 0.016*\"loan\" + 0.016*\"get\" '\n",
            "  '+ 0.015*\"work\"'),\n",
            " (8,\n",
            "  '0.022*\"bob\" + 0.021*\"nasb\" + 0.020*\"home\" + 0.019*\"read\" + 0.017*\"use\" + '\n",
            "  '0.017*\"year\" + 0.016*\"also\" + 0.015*\"house\" + 0.015*\"could\" + 0.014*\"took\"')]\n"
          ],
          "name": "stdout"
        }
      ]
    },
    {
      "cell_type": "markdown",
      "metadata": {
        "id": "QMYT14i3F5mi",
        "colab_type": "text"
      },
      "source": [
        "#5. Predicting star ratings using reviews"
      ]
    },
    {
      "cell_type": "code",
      "metadata": {
        "id": "eGbsBE90F5IO",
        "colab_type": "code",
        "colab": {}
      },
      "source": [
        "from sklearn.model_selection import train_test_split"
      ],
      "execution_count": 0,
      "outputs": []
    },
    {
      "cell_type": "code",
      "metadata": {
        "id": "rsPEKH0OBEMc",
        "colab_type": "code",
        "colab": {}
      },
      "source": [
        "X = reviews_bow\n",
        "Y = reviews_df['Stars']\n",
        "train_X,test_X,train_Y,test_Y = train_test_split(X,Y,random_state = 123, test_size = 0.3)  "
      ],
      "execution_count": 0,
      "outputs": []
    },
    {
      "cell_type": "code",
      "metadata": {
        "id": "951-c0bMGkAZ",
        "colab_type": "code",
        "colab": {
          "base_uri": "https://localhost:8080/",
          "height": 35
        },
        "outputId": "d8abc8d3-d31f-494d-aceb-0bc43a5bf486"
      },
      "source": [
        "# building naive bayes model\n",
        "naive_model = MultinomialNB()\n",
        "naive_model.fit(train_X,train_Y)"
      ],
      "execution_count": 61,
      "outputs": [
        {
          "output_type": "execute_result",
          "data": {
            "text/plain": [
              "MultinomialNB(alpha=1.0, class_prior=None, fit_prior=True)"
            ]
          },
          "metadata": {
            "tags": []
          },
          "execution_count": 61
        }
      ]
    },
    {
      "cell_type": "code",
      "metadata": {
        "id": "EbWsPQ_AGn-g",
        "colab_type": "code",
        "colab": {}
      },
      "source": [
        "predict_train = naive_model.predict(train_X)\n",
        "predict_test = naive_model.predict(test_X)"
      ],
      "execution_count": 0,
      "outputs": []
    },
    {
      "cell_type": "code",
      "metadata": {
        "id": "66AwibgTIf0A",
        "colab_type": "code",
        "colab": {
          "base_uri": "https://localhost:8080/",
          "height": 54
        },
        "outputId": "f86f80dc-b0e5-40ca-efdd-9501f1cc096e"
      },
      "source": [
        "print('Accuracy on train: ',metrics.accuracy_score(train_Y,predict_train))\n",
        "print('Accuracy on test: ',metrics.accuracy_score(test_Y,predict_test))"
      ],
      "execution_count": 63,
      "outputs": [
        {
          "output_type": "stream",
          "text": [
            "Accuracy on train:  0.9801699716713881\n",
            "Accuracy on test:  0.9671052631578947\n"
          ],
          "name": "stdout"
        }
      ]
    },
    {
      "cell_type": "code",
      "metadata": {
        "id": "NYMNfNwrIjmQ",
        "colab_type": "code",
        "colab": {
          "base_uri": "https://localhost:8080/",
          "height": 54
        },
        "outputId": "802c4d13-31ab-4497-c090-521a5b3e4c05"
      },
      "source": [
        "# confusion matrix on test \n",
        "cm_test = metrics.confusion_matrix(test_Y,predict_test,[5,1])\n",
        "cm_test"
      ],
      "execution_count": 64,
      "outputs": [
        {
          "output_type": "execute_result",
          "data": {
            "text/plain": [
              "array([[119,   2],\n",
              "       [  3,  28]])"
            ]
          },
          "metadata": {
            "tags": []
          },
          "execution_count": 64
        }
      ]
    },
    {
      "cell_type": "code",
      "metadata": {
        "id": "LyFW3CPZIo_R",
        "colab_type": "code",
        "colab": {
          "base_uri": "https://localhost:8080/",
          "height": 279
        },
        "outputId": "fab9528a-e1af-43f7-cb2e-69bd1da70c6e"
      },
      "source": [
        "import seaborn as sns\n",
        "sns.heatmap(cm_test,annot=True,fmt='.3g',xticklabels=[5,1],yticklabels=[5,1])\n",
        "plt.xlabel('Predicted')\n",
        "plt.ylabel('Actual')\n",
        "plt.show()"
      ],
      "execution_count": 65,
      "outputs": [
        {
          "output_type": "display_data",
          "data": {
            "image/png": "[encoded data removed]",
            "text/plain": [
              "<Figure size 432x288 with 2 Axes>"
            ]
          },
          "metadata": {
            "tags": [],
            "needs_background": "light"
          }
        }
      ]
    },
    {
      "cell_type": "code",
      "metadata": {
        "id": "XbON5QBJIs6i",
        "colab_type": "code",
        "colab": {}
      },
      "source": [
        "reviews_df_bkp['Predicted_Stars'] = naive_model.predict(reviews_bow)"
      ],
      "execution_count": 0,
      "outputs": []
    },
    {
      "cell_type": "code",
      "metadata": {
        "id": "qB3d_lspKVO7",
        "colab_type": "code",
        "colab": {
          "base_uri": "https://localhost:8080/",
          "height": 407
        },
        "outputId": "bb7203b4-1500-45f4-ad65-f8bc574eca5c"
      },
      "source": [
        "reviews_df_bkp[['Reviews', 'Stars', 'Predicted_Stars']]"
      ],
      "execution_count": 69,
      "outputs": [
        {
          "output_type": "execute_result",
          "data": {
            "text/html": [
              "<div>\n",
              "<style scoped>\n",
              "    .dataframe tbody tr th:only-of-type {\n",
              "        vertical-align: middle;\n",
              "    }\n",
              "\n",
              "    .dataframe tbody tr th {\n",
              "        vertical-align: top;\n",
              "    }\n",
              "\n",
              "    .dataframe thead th {\n",
              "        text-align: right;\n",
              "    }\n",
              "</style>\n",
              "<table border=\"1\" class=\"dataframe\">\n",
              "  <thead>\n",
              "    <tr style=\"text-align: right;\">\n",
              "      <th></th>\n",
              "      <th>Reviews</th>\n",
              "      <th>Stars</th>\n",
              "      <th>Predicted_Stars</th>\n",
              "    </tr>\n",
              "  </thead>\n",
              "  <tbody>\n",
              "    <tr>\n",
              "      <th>0</th>\n",
              "      <td>Great job, Wyndham Capital! Each person was pr...</td>\n",
              "      <td>5</td>\n",
              "      <td>5</td>\n",
              "    </tr>\n",
              "    <tr>\n",
              "      <th>1</th>\n",
              "      <td>Matthew Richardson is professional and helpful...</td>\n",
              "      <td>5</td>\n",
              "      <td>5</td>\n",
              "    </tr>\n",
              "    <tr>\n",
              "      <th>2</th>\n",
              "      <td>We had a past experience with Wyndham Mortgage...</td>\n",
              "      <td>5</td>\n",
              "      <td>5</td>\n",
              "    </tr>\n",
              "    <tr>\n",
              "      <th>3</th>\n",
              "      <td>We have been dealing with Brad Thomka from the...</td>\n",
              "      <td>5</td>\n",
              "      <td>5</td>\n",
              "    </tr>\n",
              "    <tr>\n",
              "      <th>4</th>\n",
              "      <td>I can't express how grateful I am for the supp...</td>\n",
              "      <td>5</td>\n",
              "      <td>5</td>\n",
              "    </tr>\n",
              "    <tr>\n",
              "      <th>...</th>\n",
              "      <td>...</td>\n",
              "      <td>...</td>\n",
              "      <td>...</td>\n",
              "    </tr>\n",
              "    <tr>\n",
              "      <th>500</th>\n",
              "      <td>\\r\\nI never write reviews but had to this time...</td>\n",
              "      <td>1</td>\n",
              "      <td>1</td>\n",
              "    </tr>\n",
              "    <tr>\n",
              "      <th>501</th>\n",
              "      <td>\\r\\nIt all started when Bob G ran a credit che...</td>\n",
              "      <td>1</td>\n",
              "      <td>1</td>\n",
              "    </tr>\n",
              "    <tr>\n",
              "      <th>502</th>\n",
              "      <td>\\r\\nWhat a horrible experience. We have excell...</td>\n",
              "      <td>1</td>\n",
              "      <td>1</td>\n",
              "    </tr>\n",
              "    <tr>\n",
              "      <th>503</th>\n",
              "      <td>\\r\\nRep was extremely professional, friendly, ...</td>\n",
              "      <td>1</td>\n",
              "      <td>1</td>\n",
              "    </tr>\n",
              "    <tr>\n",
              "      <th>504</th>\n",
              "      <td>\\r\\nI was working with a loan consultant from ...</td>\n",
              "      <td>1</td>\n",
              "      <td>1</td>\n",
              "    </tr>\n",
              "  </tbody>\n",
              "</table>\n",
              "<p>505 rows × 3 columns</p>\n",
              "</div>"
            ],
            "text/plain": [
              "                                               Reviews  Stars  Predicted_Stars\n",
              "0    Great job, Wyndham Capital! Each person was pr...      5                5\n",
              "1    Matthew Richardson is professional and helpful...      5                5\n",
              "2    We had a past experience with Wyndham Mortgage...      5                5\n",
              "3    We have been dealing with Brad Thomka from the...      5                5\n",
              "4    I can't express how grateful I am for the supp...      5                5\n",
              "..                                                 ...    ...              ...\n",
              "500  \\r\\nI never write reviews but had to this time...      1                1\n",
              "501  \\r\\nIt all started when Bob G ran a credit che...      1                1\n",
              "502  \\r\\nWhat a horrible experience. We have excell...      1                1\n",
              "503  \\r\\nRep was extremely professional, friendly, ...      1                1\n",
              "504  \\r\\nI was working with a loan consultant from ...      1                1\n",
              "\n",
              "[505 rows x 3 columns]"
            ]
          },
          "metadata": {
            "tags": []
          },
          "execution_count": 69
        }
      ]
    },
    {
      "cell_type": "code",
      "metadata": {
        "id": "3_aKyfUDKfMV",
        "colab_type": "code",
        "colab": {}
      },
      "source": [
        ""
      ],
      "execution_count": 0,
      "outputs": []
    }
  ]
}